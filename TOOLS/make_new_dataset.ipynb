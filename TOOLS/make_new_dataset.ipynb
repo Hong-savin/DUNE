{
 "cells": [
  {
   "cell_type": "code",
   "execution_count": 14,
   "metadata": {},
   "outputs": [],
   "source": [
    "import os\n",
    "import zipfile\n",
    "import pandas as pd\n",
    "import librosa\n",
    "import random\n",
    "import soundfile as sf\n",
    "import shutil"
   ]
  },
  {
   "cell_type": "code",
   "execution_count": 15,
   "metadata": {},
   "outputs": [
    {
     "data": {
      "text/plain": [
       "['children',\n",
       " 'nothing2',\n",
       " 'drilling',\n",
       " 'engine',\n",
       " 'siren',\n",
       " 'gunshot',\n",
       " 'aircon',\n",
       " 'jackhammer',\n",
       " 'carhorn',\n",
       " 'glass',\n",
       " 'nock',\n",
       " 'street_music',\n",
       " 'dog_bark',\n",
       " 'nothing1']"
      ]
     },
     "execution_count": 15,
     "metadata": {},
     "output_type": "execute_result"
    }
   ],
   "source": [
    "inner_folder_path = 'dataset2'\n",
    "audio_files = [f for f in os.listdir(inner_folder_path) if not f.startswith(\"._\") and f.endswith(\".wav\")]\n",
    "audio_labels = [os.path.splitext(f)[0] for f in audio_files]\n",
    "\n",
    "audio_labels"
   ]
  },
  {
   "cell_type": "code",
   "execution_count": 16,
   "metadata": {},
   "outputs": [],
   "source": [
    "# 2. Parameters for audio processing\n",
    "duration = 2\n",
    "sampling_rate = 44100\n",
    "num_clips_per_label = 1000\n",
    "csv_entries = []"
   ]
  },
  {
   "cell_type": "code",
   "execution_count": 17,
   "metadata": {},
   "outputs": [
    {
     "name": "stdout",
     "output_type": "stream",
     "text": [
      "children\n"
     ]
    },
    {
     "ename": "KeyboardInterrupt",
     "evalue": "",
     "output_type": "error",
     "traceback": [
      "\u001b[0;31m---------------------------------------------------------------------------\u001b[0m",
      "\u001b[0;31mKeyboardInterrupt\u001b[0m                         Traceback (most recent call last)",
      "Cell \u001b[0;32mIn[17], line 8\u001b[0m\n\u001b[1;32m      6\u001b[0m \u001b[39mprint\u001b[39m(audio_label)\n\u001b[1;32m      7\u001b[0m file_path \u001b[39m=\u001b[39m os\u001b[39m.\u001b[39mpath\u001b[39m.\u001b[39mjoin(inner_folder_path, audio_file)\n\u001b[0;32m----> 8\u001b[0m y, sr \u001b[39m=\u001b[39m librosa\u001b[39m.\u001b[39mload(file_path, sr\u001b[39m=\u001b[39msampling_rate)\n\u001b[1;32m      9\u001b[0m num_samples \u001b[39m=\u001b[39m \u001b[39mint\u001b[39m(duration \u001b[39m*\u001b[39m sr)\n\u001b[1;32m     10\u001b[0m \u001b[39mif\u001b[39;00m \u001b[39mlen\u001b[39m(y) \u001b[39m<\u001b[39m num_samples:\n",
      "File \u001b[0;32m~/anaconda3/envs/torchenv/lib/python3.11/site-packages/librosa/core/audio.py:190\u001b[0m, in \u001b[0;36mload\u001b[0;34m(path, sr, mono, offset, duration, dtype, res_type)\u001b[0m\n\u001b[1;32m    188\u001b[0m \u001b[39m# Final cleanup for dtype and contiguity\u001b[39;00m\n\u001b[1;32m    189\u001b[0m \u001b[39mif\u001b[39;00m mono:\n\u001b[0;32m--> 190\u001b[0m     y \u001b[39m=\u001b[39m to_mono(y)\n\u001b[1;32m    192\u001b[0m \u001b[39mif\u001b[39;00m sr \u001b[39mis\u001b[39;00m \u001b[39mnot\u001b[39;00m \u001b[39mNone\u001b[39;00m:\n\u001b[1;32m    193\u001b[0m     y \u001b[39m=\u001b[39m resample(y, orig_sr\u001b[39m=\u001b[39msr_native, target_sr\u001b[39m=\u001b[39msr, res_type\u001b[39m=\u001b[39mres_type)\n",
      "File \u001b[0;32m~/anaconda3/envs/torchenv/lib/python3.11/site-packages/librosa/core/audio.py:510\u001b[0m, in \u001b[0;36mto_mono\u001b[0;34m(y)\u001b[0m\n\u001b[1;32m    482\u001b[0m \u001b[39m\u001b[39m\u001b[39m\"\"\"Convert an audio signal to mono by averaging samples across channels.\u001b[39;00m\n\u001b[1;32m    483\u001b[0m \n\u001b[1;32m    484\u001b[0m \u001b[39mParameters\u001b[39;00m\n\u001b[0;32m   (...)\u001b[0m\n\u001b[1;32m    506\u001b[0m \n\u001b[1;32m    507\u001b[0m \u001b[39m\"\"\"\u001b[39;00m\n\u001b[1;32m    509\u001b[0m \u001b[39m# Validate the buffer.  Stereo is ok here.\u001b[39;00m\n\u001b[0;32m--> 510\u001b[0m util\u001b[39m.\u001b[39mvalid_audio(y, mono\u001b[39m=\u001b[39m\u001b[39mFalse\u001b[39;00m)\n\u001b[1;32m    512\u001b[0m \u001b[39mif\u001b[39;00m y\u001b[39m.\u001b[39mndim \u001b[39m>\u001b[39m \u001b[39m1\u001b[39m:\n\u001b[1;32m    513\u001b[0m     y \u001b[39m=\u001b[39m np\u001b[39m.\u001b[39mmean(y, axis\u001b[39m=\u001b[39m\u001b[39mtuple\u001b[39m(\u001b[39mrange\u001b[39m(y\u001b[39m.\u001b[39mndim \u001b[39m-\u001b[39m \u001b[39m1\u001b[39m)))\n",
      "File \u001b[0;32m~/anaconda3/envs/torchenv/lib/python3.11/site-packages/librosa/util/utils.py:315\u001b[0m, in \u001b[0;36mvalid_audio\u001b[0;34m(y, mono)\u001b[0m\n\u001b[1;32m    310\u001b[0m \u001b[39mif\u001b[39;00m mono \u001b[39mand\u001b[39;00m y\u001b[39m.\u001b[39mndim \u001b[39m!=\u001b[39m \u001b[39m1\u001b[39m:\n\u001b[1;32m    311\u001b[0m     \u001b[39mraise\u001b[39;00m ParameterError(\n\u001b[1;32m    312\u001b[0m         \u001b[39mf\u001b[39m\u001b[39m\"\u001b[39m\u001b[39mInvalid shape for monophonic audio: ndim=\u001b[39m\u001b[39m{\u001b[39;00my\u001b[39m.\u001b[39mndim\u001b[39m:\u001b[39;00m\u001b[39md\u001b[39m\u001b[39m}\u001b[39;00m\u001b[39m, shape=\u001b[39m\u001b[39m{\u001b[39;00my\u001b[39m.\u001b[39mshape\u001b[39m}\u001b[39;00m\u001b[39m\"\u001b[39m\n\u001b[1;32m    313\u001b[0m     )\n\u001b[0;32m--> 315\u001b[0m \u001b[39mif\u001b[39;00m \u001b[39mnot\u001b[39;00m np\u001b[39m.\u001b[39misfinite(y)\u001b[39m.\u001b[39mall():\n\u001b[1;32m    316\u001b[0m     \u001b[39mraise\u001b[39;00m ParameterError(\u001b[39m\"\u001b[39m\u001b[39mAudio buffer is not finite everywhere\u001b[39m\u001b[39m\"\u001b[39m)\n\u001b[1;32m    318\u001b[0m \u001b[39mreturn\u001b[39;00m \u001b[39mTrue\u001b[39;00m\n",
      "\u001b[0;31mKeyboardInterrupt\u001b[0m: "
     ]
    }
   ],
   "source": [
    "from tqdm import tqdm\n",
    "\n",
    "# 3. Process each audio file, extract clips, and save details to CSV\n",
    "parent_output_folder = '/Volumes/검은 상자/@CODE'\n",
    "for audio_label, audio_file in (zip(audio_labels, audio_files)):\n",
    "    print(audio_label)\n",
    "    file_path = os.path.join(inner_folder_path, audio_file)\n",
    "    y, sr = librosa.load(file_path, sr=sampling_rate)\n",
    "    num_samples = int(duration * sr)\n",
    "    if len(y) < num_samples:\n",
    "        continue\n",
    "    output_folder = os.path.join(parent_output_folder, audio_label)  # Place in the organized parent folder\n",
    "    os.makedirs(output_folder, exist_ok=True)\n",
    "    for i in tqdm(range(num_clips_per_label)):\n",
    "        start_sample = random.randint(0, len(y) - num_samples)\n",
    "        end_sample = start_sample + num_samples\n",
    "        clip = y[start_sample:end_sample]\n",
    "        clip_filename = f\"{audio_label}_cut_{i:04d}.wav\"\n",
    "        clip_filepath = os.path.join(output_folder, clip_filename)\n",
    "        sf.write(clip_filepath, clip, sr)\n",
    "        entry = {\n",
    "            \"slice_file_name\": clip_filename,\n",
    "            \"fsID\": random.randint(100000, 999999),\n",
    "            \"start\": start_sample / sr,\n",
    "            \"end\": end_sample / sr,\n",
    "            \"salience\": 1,\n",
    "            \"fold\": audio_label,  # Use label name for fold\n",
    "            \"classID\": audio_labels.index(audio_label),\n",
    "            \"class\": audio_label\n",
    "        }\n",
    "        csv_entries.append(entry)"
   ]
  },
  {
   "cell_type": "code",
   "execution_count": null,
   "metadata": {},
   "outputs": [],
   "source": [
    "# 4. Save the CSV entries to a file\n",
    "csv_output_path = parent_output_folder\n",
    "csv_filename = \"data2.csv\"  \n",
    "csv_output_path = os.path.join(parent_output_folder, csv_filename)\n",
    "new_df = pd.DataFrame(csv_entries)\n",
    "new_df.to_csv(csv_output_path, index=False)"
   ]
  }
 ],
 "metadata": {
  "kernelspec": {
   "display_name": "torchenv",
   "language": "python",
   "name": "python3"
  },
  "language_info": {
   "codemirror_mode": {
    "name": "ipython",
    "version": 3
   },
   "file_extension": ".py",
   "mimetype": "text/x-python",
   "name": "python",
   "nbconvert_exporter": "python",
   "pygments_lexer": "ipython3",
   "version": "3.11.4"
  },
  "orig_nbformat": 4
 },
 "nbformat": 4,
 "nbformat_minor": 2
}
