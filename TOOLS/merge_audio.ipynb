{
 "cells": [
  {
   "cell_type": "markdown",
   "metadata": {},
   "source": [
    "# Defult\n"
   ]
  },
  {
   "cell_type": "code",
   "execution_count": 1,
   "metadata": {},
   "outputs": [
    {
     "name": "stderr",
     "output_type": "stream",
     "text": [
      "C:\\Users\\SJ\\AppData\\Roaming\\Python\\Python311\\site-packages\\pydub\\utils.py:174: RuntimeWarning: Couldn't find ffmpeg or avconv - defaulting to ffmpeg, but may not work\n",
      "  warn(\"Couldn't find ffmpeg or avconv - defaulting to ffmpeg, but may not work\", RuntimeWarning)\n"
     ]
    },
    {
     "data": {
      "text/plain": [
       "['jackhammer',\n",
       " 'street_music',\n",
       " 'siren',\n",
       " 'dog_bark',\n",
       " 'children_playing',\n",
       " 'air_conditioner',\n",
       " 'engine_idling',\n",
       " 'car_horn',\n",
       " 'drilling',\n",
       " 'gun_shot']"
      ]
     },
     "execution_count": 1,
     "metadata": {},
     "output_type": "execute_result"
    }
   ],
   "source": [
    "from pydub import AudioSegment\n",
    "import os\n",
    "\n",
    "base_folder_path = \"G:/GARAGE/@DUNE/@AI/AI/archive/new/classified_folders\"\n",
    "save_path = 'merged'\n",
    "\n",
    "# classified_folders 아래의 모든 폴더를 가져옵니다.\n",
    "all_folders = [folder for folder in os.listdir(base_folder_path) if os.path.isdir(os.path.join(base_folder_path, folder))]\n",
    "all_folders.remove('merged')\n",
    "\n",
    "all_folders"
   ]
  },
  {
   "cell_type": "code",
   "execution_count": 2,
   "metadata": {},
   "outputs": [
    {
     "name": "stderr",
     "output_type": "stream",
     "text": [
      "C:\\Users\\SJ\\AppData\\Roaming\\Python\\Python311\\site-packages\\pydub\\utils.py:202: RuntimeWarning: Couldn't find ffprobe or avprobe - defaulting to ffprobe, but may not work\n",
      "  warn(\"Couldn't find ffprobe or avprobe - defaulting to ffprobe, but may not work\", RuntimeWarning)\n"
     ]
    },
    {
     "name": "stdout",
     "output_type": "stream",
     "text": [
      "Error processing 203929-7-1-0.wav: [WinError 2] 지정된 파일을 찾을 수 없습니다\n",
      "Error processing 203929-7-1-1.wav: [WinError 2] 지정된 파일을 찾을 수 없습니다\n",
      "Error processing 203929-7-1-2.wav: [WinError 2] 지정된 파일을 찾을 수 없습니다\n",
      "Error processing 203929-7-1-3.wav: [WinError 2] 지정된 파일을 찾을 수 없습니다\n",
      "Error processing 203929-7-1-6.wav: [WinError 2] 지정된 파일을 찾을 수 없습니다\n",
      "Error processing 203929-7-1-7.wav: [WinError 2] 지정된 파일을 찾을 수 없습니다\n",
      "Error processing 203929-7-1-8.wav: [WinError 2] 지정된 파일을 찾을 수 없습니다\n",
      "Error processing 203929-7-10-0.wav: [WinError 2] 지정된 파일을 찾을 수 없습니다\n",
      "Error processing 203929-7-10-1.wav: [WinError 2] 지정된 파일을 찾을 수 없습니다\n",
      "Error processing 203929-7-10-2.wav: [WinError 2] 지정된 파일을 찾을 수 없습니다\n",
      "Error processing 203929-7-2-0.wav: [WinError 2] 지정된 파일을 찾을 수 없습니다\n",
      "Error processing 203929-7-2-11.wav: [WinError 2] 지정된 파일을 찾을 수 없습니다\n",
      "Error processing 203929-7-2-2.wav: [WinError 2] 지정된 파일을 찾을 수 없습니다\n",
      "Error processing 203929-7-2-3.wav: [WinError 2] 지정된 파일을 찾을 수 없습니다\n",
      "Error processing 203929-7-2-5.wav: [WinError 2] 지정된 파일을 찾을 수 없습니다\n",
      "Error processing 203929-7-2-6.wav: [WinError 2] 지정된 파일을 찾을 수 없습니다\n",
      "Error processing 203929-7-2-8.wav: [WinError 2] 지정된 파일을 찾을 수 없습니다\n",
      "Error processing 203929-7-2-9.wav: [WinError 2] 지정된 파일을 찾을 수 없습니다\n",
      "Error processing 203929-7-3-1.wav: [WinError 2] 지정된 파일을 찾을 수 없습니다\n",
      "Error processing 203929-7-3-10.wav: [WinError 2] 지정된 파일을 찾을 수 없습니다\n",
      "Error processing 203929-7-3-2.wav: [WinError 2] 지정된 파일을 찾을 수 없습니다\n",
      "Error processing 203929-7-3-3.wav: [WinError 2] 지정된 파일을 찾을 수 없습니다\n",
      "Error processing 203929-7-3-5.wav: [WinError 2] 지정된 파일을 찾을 수 없습니다\n",
      "Error processing 203929-7-3-9.wav: [WinError 2] 지정된 파일을 찾을 수 없습니다\n",
      "Error processing 203929-7-4-0.wav: [WinError 2] 지정된 파일을 찾을 수 없습니다\n",
      "Error processing 203929-7-4-1.wav: [WinError 2] 지정된 파일을 찾을 수 없습니다\n",
      "Error processing 203929-7-4-10.wav: [WinError 2] 지정된 파일을 찾을 수 없습니다\n",
      "Error processing 203929-7-4-11.wav: [WinError 2] 지정된 파일을 찾을 수 없습니다\n",
      "Error processing 203929-7-4-12.wav: [WinError 2] 지정된 파일을 찾을 수 없습니다\n",
      "Error processing 203929-7-4-2.wav: [WinError 2] 지정된 파일을 찾을 수 없습니다\n",
      "Error processing 203929-7-4-4.wav: [WinError 2] 지정된 파일을 찾을 수 없습니다\n",
      "Error processing 203929-7-4-6.wav: [WinError 2] 지정된 파일을 찾을 수 없습니다\n",
      "Error processing 203929-7-4-7.wav: [WinError 2] 지정된 파일을 찾을 수 없습니다\n",
      "Error processing 203929-7-4-8.wav: [WinError 2] 지정된 파일을 찾을 수 없습니다\n",
      "Error processing 203929-7-5-0.wav: [WinError 2] 지정된 파일을 찾을 수 없습니다\n",
      "Error processing 203929-7-5-1.wav: [WinError 2] 지정된 파일을 찾을 수 없습니다\n",
      "Error processing 203929-7-5-10.wav: [WinError 2] 지정된 파일을 찾을 수 없습니다\n",
      "Error processing 203929-7-5-11.wav: [WinError 2] 지정된 파일을 찾을 수 없습니다\n",
      "Error processing 203929-7-5-6.wav: [WinError 2] 지정된 파일을 찾을 수 없습니다\n",
      "Error processing 203929-7-5-7.wav: [WinError 2] 지정된 파일을 찾을 수 없습니다\n",
      "Error processing 203929-7-6-1.wav: [WinError 2] 지정된 파일을 찾을 수 없습니다\n",
      "Error processing 203929-7-6-10.wav: [WinError 2] 지정된 파일을 찾을 수 없습니다\n",
      "Error processing 203929-7-6-11.wav: [WinError 2] 지정된 파일을 찾을 수 없습니다\n",
      "Error processing 203929-7-6-2.wav: [WinError 2] 지정된 파일을 찾을 수 없습니다\n",
      "Error processing 203929-7-6-3.wav: [WinError 2] 지정된 파일을 찾을 수 없습니다\n",
      "Error processing 203929-7-6-8.wav: [WinError 2] 지정된 파일을 찾을 수 없습니다\n",
      "Error processing 203929-7-6-9.wav: [WinError 2] 지정된 파일을 찾을 수 없습니다\n",
      "Error processing 203929-7-7-0.wav: [WinError 2] 지정된 파일을 찾을 수 없습니다\n",
      "Error processing 203929-7-7-10.wav: [WinError 2] 지정된 파일을 찾을 수 없습니다\n",
      "Error processing 203929-7-7-12.wav: [WinError 2] 지정된 파일을 찾을 수 없습니다\n",
      "Error processing 203929-7-7-13.wav: [WinError 2] 지정된 파일을 찾을 수 없습니다\n",
      "Error processing 203929-7-7-14.wav: [WinError 2] 지정된 파일을 찾을 수 없습니다\n",
      "Error processing 203929-7-7-15.wav: [WinError 2] 지정된 파일을 찾을 수 없습니다\n",
      "Error processing 203929-7-7-16.wav: [WinError 2] 지정된 파일을 찾을 수 없습니다\n",
      "Error processing 203929-7-7-2.wav: [WinError 2] 지정된 파일을 찾을 수 없습니다\n",
      "Error processing 203929-7-7-3.wav: [WinError 2] 지정된 파일을 찾을 수 없습니다\n",
      "Error processing 203929-7-7-4.wav: [WinError 2] 지정된 파일을 찾을 수 없습니다\n",
      "Error processing 203929-7-7-9.wav: [WinError 2] 지정된 파일을 찾을 수 없습니다\n",
      "Error processing 203929-7-8-0.wav: [WinError 2] 지정된 파일을 찾을 수 없습니다\n",
      "Error processing 203929-7-9-0.wav: [WinError 2] 지정된 파일을 찾을 수 없습니다\n",
      "Error processing 203929-7-9-11.wav: [WinError 2] 지정된 파일을 찾을 수 없습니다\n",
      "Error processing 203929-7-9-12.wav: [WinError 2] 지정된 파일을 찾을 수 없습니다\n",
      "Error processing 203929-7-9-15.wav: [WinError 2] 지정된 파일을 찾을 수 없습니다\n",
      "Error processing 203929-7-9-17.wav: [WinError 2] 지정된 파일을 찾을 수 없습니다\n",
      "Error processing 203929-7-9-18.wav: [WinError 2] 지정된 파일을 찾을 수 없습니다\n",
      "Error processing 203929-7-9-19.wav: [WinError 2] 지정된 파일을 찾을 수 없습니다\n",
      "Error processing 203929-7-9-20.wav: [WinError 2] 지정된 파일을 찾을 수 없습니다\n",
      "Error processing 203929-7-9-24.wav: [WinError 2] 지정된 파일을 찾을 수 없습니다\n",
      "Error processing 203929-7-9-4.wav: [WinError 2] 지정된 파일을 찾을 수 없습니다\n",
      "Error processing 203929-7-9-6.wav: [WinError 2] 지정된 파일을 찾을 수 없습니다\n",
      "Error processing 203929-7-9-8.wav: [WinError 2] 지정된 파일을 찾을 수 없습니다\n",
      "Error processing 203929-7-9-9.wav: [WinError 2] 지정된 파일을 찾을 수 없습니다\n"
     ]
    },
    {
     "ename": "KeyboardInterrupt",
     "evalue": "",
     "output_type": "error",
     "traceback": [
      "\u001b[1;31m---------------------------------------------------------------------------\u001b[0m",
      "\u001b[1;31mKeyboardInterrupt\u001b[0m                         Traceback (most recent call last)",
      "Cell \u001b[1;32mIn[2], line 26\u001b[0m\n\u001b[0;32m     24\u001b[0m \u001b[39mtry\u001b[39;00m:\n\u001b[0;32m     25\u001b[0m     audio \u001b[39m=\u001b[39m AudioSegment\u001b[39m.\u001b[39mfrom_wav(audio_path)\n\u001b[1;32m---> 26\u001b[0m     combined_audio \u001b[39m+\u001b[39m\u001b[39m=\u001b[39m audio\n\u001b[0;32m     27\u001b[0m \u001b[39mexcept\u001b[39;00m \u001b[39mException\u001b[39;00m \u001b[39mas\u001b[39;00m e:\n\u001b[0;32m     28\u001b[0m     \u001b[39mprint\u001b[39m(\u001b[39mf\u001b[39m\u001b[39m\"\u001b[39m\u001b[39mError processing \u001b[39m\u001b[39m{\u001b[39;00mfile\u001b[39m}\u001b[39;00m\u001b[39m: \u001b[39m\u001b[39m{\u001b[39;00me\u001b[39m}\u001b[39;00m\u001b[39m\"\u001b[39m)\n",
      "File \u001b[1;32m~\\AppData\\Roaming\\Python\\Python311\\site-packages\\pydub\\audio_segment.py:364\u001b[0m, in \u001b[0;36mAudioSegment.__add__\u001b[1;34m(self, arg)\u001b[0m\n\u001b[0;32m    362\u001b[0m \u001b[39mdef\u001b[39;00m \u001b[39m__add__\u001b[39m(\u001b[39mself\u001b[39m, arg):\n\u001b[0;32m    363\u001b[0m     \u001b[39mif\u001b[39;00m \u001b[39misinstance\u001b[39m(arg, AudioSegment):\n\u001b[1;32m--> 364\u001b[0m         \u001b[39mreturn\u001b[39;00m \u001b[39mself\u001b[39m\u001b[39m.\u001b[39mappend(arg, crossfade\u001b[39m=\u001b[39m\u001b[39m0\u001b[39m)\n\u001b[0;32m    365\u001b[0m     \u001b[39melse\u001b[39;00m:\n\u001b[0;32m    366\u001b[0m         \u001b[39mreturn\u001b[39;00m \u001b[39mself\u001b[39m\u001b[39m.\u001b[39mapply_gain(arg)\n",
      "File \u001b[1;32m~\\AppData\\Roaming\\Python\\Python311\\site-packages\\pydub\\audio_segment.py:1255\u001b[0m, in \u001b[0;36mAudioSegment.append\u001b[1;34m(self, seg, crossfade)\u001b[0m\n\u001b[0;32m   1252\u001b[0m seg1, seg2 \u001b[39m=\u001b[39m AudioSegment\u001b[39m.\u001b[39m_sync(\u001b[39mself\u001b[39m, seg)\n\u001b[0;32m   1254\u001b[0m \u001b[39mif\u001b[39;00m \u001b[39mnot\u001b[39;00m crossfade:\n\u001b[1;32m-> 1255\u001b[0m     \u001b[39mreturn\u001b[39;00m seg1\u001b[39m.\u001b[39m_spawn(seg1\u001b[39m.\u001b[39m_data \u001b[39m+\u001b[39m seg2\u001b[39m.\u001b[39m_data)\n\u001b[0;32m   1256\u001b[0m \u001b[39melif\u001b[39;00m crossfade \u001b[39m>\u001b[39m \u001b[39mlen\u001b[39m(\u001b[39mself\u001b[39m):\n\u001b[0;32m   1257\u001b[0m     \u001b[39mraise\u001b[39;00m \u001b[39mValueError\u001b[39;00m(\u001b[39m\"\u001b[39m\u001b[39mCrossfade is longer than the original AudioSegment (\u001b[39m\u001b[39m{}\u001b[39;00m\u001b[39mms > \u001b[39m\u001b[39m{}\u001b[39;00m\u001b[39mms)\u001b[39m\u001b[39m\"\u001b[39m\u001b[39m.\u001b[39mformat(\n\u001b[0;32m   1258\u001b[0m         crossfade, \u001b[39mlen\u001b[39m(\u001b[39mself\u001b[39m)\n\u001b[0;32m   1259\u001b[0m     ))\n",
      "File \u001b[1;32m~\\AppData\\Roaming\\Python\\Python311\\site-packages\\pydub\\audio_segment.py:420\u001b[0m, in \u001b[0;36mAudioSegment._spawn\u001b[1;34m(self, data, overrides)\u001b[0m\n\u001b[0;32m    417\u001b[0m         data \u001b[39m=\u001b[39m data\u001b[39m.\u001b[39mtostring()\n\u001b[0;32m    419\u001b[0m \u001b[39m# accept file-like objects\u001b[39;00m\n\u001b[1;32m--> 420\u001b[0m \u001b[39mif\u001b[39;00m \u001b[39mhasattr\u001b[39m(data, \u001b[39m'\u001b[39m\u001b[39mread\u001b[39m\u001b[39m'\u001b[39m):\n\u001b[0;32m    421\u001b[0m     \u001b[39mif\u001b[39;00m \u001b[39mhasattr\u001b[39m(data, \u001b[39m'\u001b[39m\u001b[39mseek\u001b[39m\u001b[39m'\u001b[39m):\n\u001b[0;32m    422\u001b[0m         data\u001b[39m.\u001b[39mseek(\u001b[39m0\u001b[39m)\n",
      "\u001b[1;31mKeyboardInterrupt\u001b[0m: "
     ]
    }
   ],
   "source": [
    "import os\n",
    "\n",
    "\n",
    "for folder in all_folders:\n",
    "    folder_path = os.path.abspath(os.path.join(base_folder_path, folder))  # 절대 경로 사용\n",
    "\n",
    "    audio_files = [f for f in os.listdir(folder_path) if not f.startswith('._') and f.endswith('.wav')]\n",
    "    audio_files.sort()\n",
    "\n",
    "    combined_audio = AudioSegment.empty()\n",
    "    for index, file in enumerate(audio_files):\n",
    "        audio_path = os.path.abspath(os.path.join(folder_path, file))  # 절대 경로 사용\n",
    "\n",
    "        # 파일 존재 여부 확인\n",
    "        if not os.path.exists(audio_path):\n",
    "            print(f\"File {audio_path} does not exist!\")\n",
    "            continue\n",
    "\n",
    "        # 파일 읽기 권한 확인\n",
    "        if not os.access(audio_path, os.R_OK):\n",
    "            print(f\"Cannot read {audio_path} due to permission issues!\")\n",
    "            continue\n",
    "\n",
    "        try:\n",
    "            audio = AudioSegment.from_wav(audio_path)\n",
    "            combined_audio += audio\n",
    "        except Exception as e:\n",
    "            print(f\"Error processing {file}: {e}\")\n",
    "\n",
    "    # 합쳐진 오디오 파일 저장\n",
    "    os.makedirs(save_path, exist_ok=True)\n",
    "    save_file_path = os.path.join(save_path, f\"{folder}.wav\")\n",
    "    combined_audio.export(save_file_path, format=\"wav\")\n",
    "    print(f\"Saved combined audio for '{folder}' to '{save_file_path}'\")\n"
   ]
  }
 ],
 "metadata": {
  "kernelspec": {
   "display_name": "torchenv",
   "language": "python",
   "name": "python3"
  },
  "language_info": {
   "codemirror_mode": {
    "name": "ipython",
    "version": 3
   },
   "file_extension": ".py",
   "mimetype": "text/x-python",
   "name": "python",
   "nbconvert_exporter": "python",
   "pygments_lexer": "ipython3",
   "version": "3.11.3"
  },
  "orig_nbformat": 4
 },
 "nbformat": 4,
 "nbformat_minor": 2
}
