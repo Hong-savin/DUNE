{
 "cells": [
  {
   "cell_type": "markdown",
   "metadata": {},
   "source": [
    "# Defult\n"
   ]
  },
  {
   "cell_type": "code",
   "execution_count": 1,
   "metadata": {},
   "outputs": [
    {
     "data": {
      "text/plain": [
       "['jackhammer',\n",
       " 'street_music',\n",
       " 'siren',\n",
       " 'dog_bark',\n",
       " 'children_playing',\n",
       " 'air_conditioner',\n",
       " 'engine_idling',\n",
       " 'car_horn',\n",
       " 'drilling',\n",
       " 'gun_shot']"
      ]
     },
     "execution_count": 1,
     "metadata": {},
     "output_type": "execute_result"
    }
   ],
   "source": [
    "from pydub import AudioSegment\n",
    "import os\n",
    "\n",
    "base_folder_path = '/Volumes/새 볼륨/GARAGE/@DUNE/@AI/AI/archive/new/classified_folders'\n",
    "save_path = 'merged'\n",
    "\n",
    "# classified_folders 아래의 모든 폴더를 가져옵니다.\n",
    "all_folders = [folder for folder in os.listdir(base_folder_path) if os.path.isdir(os.path.join(base_folder_path, folder))]\n",
    "all_folders.remove('merged')\n",
    "\n",
    "all_folders"
   ]
  },
  {
   "cell_type": "code",
   "execution_count": 3,
   "metadata": {},
   "outputs": [
    {
     "name": "stdout",
     "output_type": "stream",
     "text": [
      "Error processing 88466-7-0-0.wav: Decoding failed. ffmpeg returned error code: 1\n",
      "\n",
      "Output from ffmpeg/avlib:\n",
      "\n",
      "ffmpeg version 5.1.2 Copyright (c) 2000-2022 the FFmpeg developers\n",
      "  built with clang version 14.0.6\n",
      "  configuration: --prefix=/Users/runner/miniforge3/conda-bld/ffmpeg_1674566267822/_h_env_placehold_placehold_placehold_placehold_placehold_placehold_placehold_placehold_placehold_placehold_placehold_placehold_placehold_placehold_placehold_placehold_placehold_placehold_placehold_pl --cc=arm64-apple-darwin20.0.0-clang --cxx=arm64-apple-darwin20.0.0-clang++ --nm=arm64-apple-darwin20.0.0-nm --ar=arm64-apple-darwin20.0.0-ar --disable-doc --disable-openssl --enable-demuxer=dash --enable-hardcoded-tables --enable-libfreetype --enable-libfontconfig --enable-libopenh264 --enable-cross-compile --arch=arm64 --target-os=darwin --cross-prefix=arm64-apple-darwin20.0.0- --host-cc=/Users/runner/miniforge3/conda-bld/ffmpeg_1674566267822/_build_env/bin/x86_64-apple-darwin13.4.0-clang --enable-neon --enable-gnutls --enable-libmp3lame --enable-libvpx --enable-pthreads --enable-gpl --enable-libx264 --enable-libx265 --enable-libaom --enable-libsvtav1 --enable-libxml2 --enable-pic --enable-shared --disable-static --enable-version3 --enable-zlib --enable-libopus --pkg-config=/Users/runner/miniforge3/conda-bld/ffmpeg_1674566267822/_build_env/bin/pkg-config\n",
      "  libavutil      57. 28.100 / 57. 28.100\n",
      "  libavcodec     59. 37.100 / 59. 37.100\n",
      "  libavformat    59. 27.100 / 59. 27.100\n",
      "  libavdevice    59.  7.100 / 59.  7.100\n",
      "  libavfilter     8. 44.100 /  8. 44.100\n",
      "  libswscale      6.  7.100 /  6.  7.100\n",
      "  libswresample   4.  7.100 /  4.  7.100\n",
      "  libpostproc    56.  6.100 / 56.  6.100\n",
      "Guessed Channel Layout for Input Stream #0.0 : mono\n",
      "Input #0, wav, from '/Volumes/새 볼륨/GARAGE/@DUNE/@AI/AI/archive/new/classified_folders/jackhammer/88466-7-0-0.wav':\n",
      "  Duration: 00:00:01.66, bitrate: 178 kb/s\n",
      "  Stream #0:0: Audio: adpcm_ms ([2][0][0][0] / 0x0002), 44100 Hz, mono, s16, 176 kb/s\n",
      "Unknown encoder 'pcm_s4le'\n",
      "\n",
      "Saved combined audio for 'jackhammer' to '/Volumes/새 볼륨/GARAGE/@DUNE/TOOLS/merged/merged/jackhammer/jackhammer.wav'\n"
     ]
    },
    {
     "ename": "KeyboardInterrupt",
     "evalue": "",
     "output_type": "error",
     "traceback": [
      "\u001b[0;31m---------------------------------------------------------------------------\u001b[0m",
      "\u001b[0;31mKeyboardInterrupt\u001b[0m                         Traceback (most recent call last)",
      "Cell \u001b[0;32mIn[3], line 21\u001b[0m\n\u001b[1;32m     19\u001b[0m \u001b[39mtry\u001b[39;00m:\n\u001b[1;32m     20\u001b[0m     audio \u001b[39m=\u001b[39m AudioSegment\u001b[39m.\u001b[39mfrom_wav(audio_path)\n\u001b[0;32m---> 21\u001b[0m     combined_audio \u001b[39m+\u001b[39m\u001b[39m=\u001b[39m audio\n\u001b[1;32m     22\u001b[0m \u001b[39mexcept\u001b[39;00m \u001b[39mException\u001b[39;00m \u001b[39mas\u001b[39;00m e:\n\u001b[1;32m     23\u001b[0m     \u001b[39mprint\u001b[39m(\u001b[39mf\u001b[39m\u001b[39m\"\u001b[39m\u001b[39mError processing \u001b[39m\u001b[39m{\u001b[39;00mfile\u001b[39m}\u001b[39;00m\u001b[39m: \u001b[39m\u001b[39m{\u001b[39;00me\u001b[39m}\u001b[39;00m\u001b[39m\"\u001b[39m)\n",
      "File \u001b[0;32m~/anaconda3/envs/torchenv/lib/python3.11/site-packages/pydub/audio_segment.py:364\u001b[0m, in \u001b[0;36mAudioSegment.__add__\u001b[0;34m(self, arg)\u001b[0m\n\u001b[1;32m    362\u001b[0m \u001b[39mdef\u001b[39;00m \u001b[39m__add__\u001b[39m(\u001b[39mself\u001b[39m, arg):\n\u001b[1;32m    363\u001b[0m     \u001b[39mif\u001b[39;00m \u001b[39misinstance\u001b[39m(arg, AudioSegment):\n\u001b[0;32m--> 364\u001b[0m         \u001b[39mreturn\u001b[39;00m \u001b[39mself\u001b[39m\u001b[39m.\u001b[39mappend(arg, crossfade\u001b[39m=\u001b[39m\u001b[39m0\u001b[39m)\n\u001b[1;32m    365\u001b[0m     \u001b[39melse\u001b[39;00m:\n\u001b[1;32m    366\u001b[0m         \u001b[39mreturn\u001b[39;00m \u001b[39mself\u001b[39m\u001b[39m.\u001b[39mapply_gain(arg)\n",
      "File \u001b[0;32m~/anaconda3/envs/torchenv/lib/python3.11/site-packages/pydub/audio_segment.py:1254\u001b[0m, in \u001b[0;36mAudioSegment.append\u001b[0;34m(self, seg, crossfade)\u001b[0m\n\u001b[1;32m   1251\u001b[0m seg1, seg2 \u001b[39m=\u001b[39m AudioSegment\u001b[39m.\u001b[39m_sync(\u001b[39mself\u001b[39m, seg)\n\u001b[1;32m   1253\u001b[0m \u001b[39mif\u001b[39;00m \u001b[39mnot\u001b[39;00m crossfade:\n\u001b[0;32m-> 1254\u001b[0m     \u001b[39mreturn\u001b[39;00m seg1\u001b[39m.\u001b[39m_spawn(seg1\u001b[39m.\u001b[39m_data \u001b[39m+\u001b[39m seg2\u001b[39m.\u001b[39m_data)\n\u001b[1;32m   1255\u001b[0m \u001b[39melif\u001b[39;00m crossfade \u001b[39m>\u001b[39m \u001b[39mlen\u001b[39m(\u001b[39mself\u001b[39m):\n\u001b[1;32m   1256\u001b[0m     \u001b[39mraise\u001b[39;00m \u001b[39mValueError\u001b[39;00m(\u001b[39m\"\u001b[39m\u001b[39mCrossfade is longer than the original AudioSegment (\u001b[39m\u001b[39m{}\u001b[39;00m\u001b[39mms > \u001b[39m\u001b[39m{}\u001b[39;00m\u001b[39mms)\u001b[39m\u001b[39m\"\u001b[39m\u001b[39m.\u001b[39mformat(\n\u001b[1;32m   1257\u001b[0m         crossfade, \u001b[39mlen\u001b[39m(\u001b[39mself\u001b[39m)\n\u001b[1;32m   1258\u001b[0m     ))\n",
      "File \u001b[0;32m~/anaconda3/envs/torchenv/lib/python3.11/site-packages/pydub/audio_segment.py:402\u001b[0m, in \u001b[0;36mAudioSegment._spawn\u001b[0;34m(self, data, overrides)\u001b[0m\n\u001b[1;32m    399\u001b[0m     \u001b[39melse\u001b[39;00m:\n\u001b[1;32m    400\u001b[0m         \u001b[39mreturn\u001b[39;00m \u001b[39mself\u001b[39m\u001b[39m.\u001b[39m_spawn(data\u001b[39m=\u001b[39m\u001b[39mself\u001b[39m\u001b[39m.\u001b[39m_data \u001b[39m*\u001b[39m arg)\n\u001b[0;32m--> 402\u001b[0m \u001b[39mdef\u001b[39;00m \u001b[39m_spawn\u001b[39m(\u001b[39mself\u001b[39m, data, overrides\u001b[39m=\u001b[39m{}):\n\u001b[1;32m    403\u001b[0m \u001b[39m    \u001b[39m\u001b[39m\"\"\"\u001b[39;00m\n\u001b[1;32m    404\u001b[0m \u001b[39m    Creates a new audio segment using the metadata from the current one\u001b[39;00m\n\u001b[1;32m    405\u001b[0m \u001b[39m    and the data passed in. Should be used whenever an AudioSegment is\u001b[39;00m\n\u001b[1;32m    406\u001b[0m \u001b[39m    being returned by an operation that would alters the current one,\u001b[39;00m\n\u001b[1;32m    407\u001b[0m \u001b[39m    since AudioSegment objects are immutable.\u001b[39;00m\n\u001b[1;32m    408\u001b[0m \u001b[39m    \"\"\"\u001b[39;00m\n\u001b[1;32m    409\u001b[0m     \u001b[39m# accept lists of data chunks\u001b[39;00m\n",
      "\u001b[0;31mKeyboardInterrupt\u001b[0m: "
     ]
    }
   ],
   "source": [
    "from pydub import AudioSegment\n",
    "import os\n",
    "\n",
    "base_folder_path = '/Volumes/새 볼륨/GARAGE/@DUNE/@AI/AI/archive/new/classified_folders'\n",
    "output_base_path = '/Volumes/새 볼륨/GARAGE/@DUNE/TOOLS/merged'\n",
    "\n",
    "all_folders = [folder for folder in os.listdir(base_folder_path) if os.path.isdir(os.path.join(base_folder_path, folder))]\n",
    "all_folders.remove('merged')\n",
    "\n",
    "skipped_files_count = 0  # Initialize a counter to keep track of skipped files\n",
    "\n",
    "for folder in all_folders:\n",
    "    folder_path = os.path.join(base_folder_path, folder)\n",
    "\n",
    "    audio_files = [f for f in os.listdir(folder_path) if not f.startswith('._') and f.endswith('.wav')]\n",
    "    audio_files.sort()\n",
    "\n",
    "    combined_audio = AudioSegment.empty()\n",
    "    for index, file in enumerate(audio_files):\n",
    "        audio_path = os.path.join(folder_path, file)\n",
    "        try:\n",
    "            audio = AudioSegment.from_wav(audio_path)\n",
    "            combined_audio += audio\n",
    "        except Exception as e:\n",
    "            print(f\"Error processing {file}: {e}\")\n",
    "            skipped_files_count += 1  # Increase the count for each skipped file\n",
    "            continue  # Skip processing this file if an error occurs\n",
    "\n",
    "    if not combined_audio:\n",
    "        print(f\"No valid audio found for '{folder}', skipping.\")\n",
    "        continue  # Skip creating the merged audio file if no valid audio is present\n",
    "\n",
    "    save_path = os.path.join(output_base_path, 'merged', folder)\n",
    "    os.makedirs(save_path, exist_ok=True)\n",
    "    save_file_path = os.path.join(save_path, f\"{folder}.wav\")\n",
    "\n",
    "    combined_audio.export(save_file_path, format=\"wav\")\n",
    "    print(f\"Saved combined audio for '{folder}' to '{save_file_path}'\")\n",
    "\n",
    "print(f\"\\nTotal files skipped due to errors: {skipped_files_count}\")\n"
   ]
  },
  {
   "cell_type": "markdown",
   "metadata": {},
   "source": [
    "# Pick one folder"
   ]
  },
  {
   "cell_type": "code",
   "execution_count": 1,
   "metadata": {},
   "outputs": [
    {
     "name": "stdout",
     "output_type": "stream",
     "text": [
      "Available folders:\n",
      "1. jackhammer\n",
      "2. street_music\n",
      "3. siren\n",
      "4. dog_bark\n",
      "5. children_playing\n",
      "6. air_conditioner\n",
      "7. engine_idling\n",
      "8. car_horn\n",
      "9. drilling\n",
      "10. gun_shot\n",
      "Saved combined audio for 'dog_bark' to '/Volumes/새 볼륨/GARAGE/@DUNE/TOOLS/merged/merged/dog_bark/dog_bark.wav'\n"
     ]
    }
   ],
   "source": [
    "from pydub import AudioSegment\n",
    "import os\n",
    "\n",
    "base_folder_path = '/Volumes/새 볼륨/GARAGE/@DUNE/@AI/AI/archive/new/classified_folders'\n",
    "output_base_path = '/Volumes/새 볼륨/GARAGE/@DUNE/TOOLS/merged'\n",
    "\n",
    "all_folders = [folder for folder in os.listdir(base_folder_path) if os.path.isdir(os.path.join(base_folder_path, folder))]\n",
    "all_folders.remove('merged')\n",
    "\n",
    "# Ask user to choose a folder\n",
    "print(\"Available folders:\")\n",
    "for index, folder in enumerate(all_folders, start=1):\n",
    "    print(f\"{index}. {folder}\")\n",
    "choice = input(\"Enter the number of the folder you want to merge from: \")\n",
    "\n",
    "try:\n",
    "    choice_index = int(choice) - 1\n",
    "    selected_folder = all_folders[choice_index]\n",
    "except (ValueError, IndexError):\n",
    "    print(\"Invalid choice. Exiting.\")\n",
    "    exit(1)\n",
    "\n",
    "folder_path = os.path.join(base_folder_path, selected_folder)\n",
    "\n",
    "audio_files = [f for f in os.listdir(folder_path) if not f.startswith('._') and f.endswith('.wav')]\n",
    "audio_files.sort()\n",
    "\n",
    "combined_audio = AudioSegment.empty()\n",
    "for index, file in enumerate(audio_files):\n",
    "    audio_path = os.path.join(folder_path, file)\n",
    "    try:\n",
    "        audio = AudioSegment.from_wav(audio_path)\n",
    "        combined_audio += audio\n",
    "    except Exception as e:\n",
    "        print(f\"Error processing {file}: {e}\")\n",
    "        continue  # Skip processing this file if an error occurs\n",
    "\n",
    "if not combined_audio:\n",
    "    print(f\"No valid audio found for '{selected_folder}', skipping.\")\n",
    "else:\n",
    "    save_path = os.path.join(output_base_path, 'merged', selected_folder)\n",
    "    os.makedirs(save_path, exist_ok=True)\n",
    "    save_file_path = os.path.join(save_path, f\"{selected_folder}.wav\")\n",
    "\n",
    "    combined_audio.export(save_file_path, format=\"wav\")\n",
    "    print(f\"Saved combined audio for '{selected_folder}' to '{save_file_path}'\")\n"
   ]
  }
 ],
 "metadata": {
  "kernelspec": {
   "display_name": "torchenv",
   "language": "python",
   "name": "python3"
  },
  "language_info": {
   "codemirror_mode": {
    "name": "ipython",
    "version": 3
   },
   "file_extension": ".py",
   "mimetype": "text/x-python",
   "name": "python",
   "nbconvert_exporter": "python",
   "pygments_lexer": "ipython3",
   "version": "3.11.4"
  },
  "orig_nbformat": 4
 },
 "nbformat": 4,
 "nbformat_minor": 2
}
