{
 "cells": [
  {
   "cell_type": "code",
   "execution_count": 156,
   "metadata": {},
   "outputs": [],
   "source": [
    "import os\n",
    "import torchaudio\n",
    "import random\n",
    "import numpy as np"
   ]
  },
  {
   "cell_type": "code",
   "execution_count": 157,
   "metadata": {},
   "outputs": [],
   "source": [
    "# Constants\n",
    "AUDIO_PATH = 'record/nothing.wav'\n",
    "OUTPUT_DIR = 'record/cut_audio'\n",
    "CSV_NAME = 'nothing.csv'\n",
    "FILE_NAME = 'nothing'\n",
    "SAMPLE_RATE = 44100\n",
    "SEGMENT_LENGTH = 2 * SAMPLE_RATE  # 2 seconds in samples\n",
    "NUM_SEGMENTS = 100"
   ]
  },
  {
   "cell_type": "code",
   "execution_count": 158,
   "metadata": {},
   "outputs": [],
   "source": [
    "# Create output directory if it doesn't exist\n",
    "if not os.path.exists(OUTPUT_DIR):\n",
    "    os.makedirs(OUTPUT_DIR)"
   ]
  },
  {
   "cell_type": "code",
   "execution_count": 159,
   "metadata": {},
   "outputs": [],
   "source": [
    "# Function to check if a segment is mostly silent\n",
    "def is_silent(segment):\n",
    "    return segment.abs().mean().item() < 0.005  # threshold for silence"
   ]
  },
  {
   "cell_type": "code",
   "execution_count": 160,
   "metadata": {},
   "outputs": [],
   "source": [
    "# Load the audio file\n",
    "waveform, sr = torchaudio.load(AUDIO_PATH, normalize=True)"
   ]
  },
  {
   "cell_type": "code",
   "execution_count": 161,
   "metadata": {},
   "outputs": [],
   "source": [
    "# Extract random 2-second segments\n",
    "segments = []\n",
    "for _ in range(NUM_SEGMENTS):\n",
    "    start_sample = random.randint(0, waveform.shape[1] - SEGMENT_LENGTH)\n",
    "    segment = waveform[:, start_sample:start_sample+SEGMENT_LENGTH]\n",
    "    if not is_silent(segment):\n",
    "        segments.append(segment)"
   ]
  },
  {
   "cell_type": "markdown",
   "metadata": {},
   "source": [
    "\n",
    "| New classID | Original classID | Original class      |\n",
    "|-------------|------------------|---------------------|\n",
    "| 0           | 0                | air_conditioner    |\n",
    "| 1           | 1                | car_horn           |\n",
    "| 2           | 2                | children_playing   |\n",
    "| 3           | 3                | dog_bark           |\n",
    "| 4           | 4                | drilling           |\n",
    "| 5           | 5                | engine_idling      |\n",
    "| 6           | 6                | gun_shot           |\n",
    "| 7           | 7                | jackhammer         |\n",
    "| 8           | 8                | siren              |\n",
    "| 9           | 9                | street_music       |\n",
    "| 10          | 11               | glass_shatter      |\n",
    "| 11          | 12               | door_nock          |\n",
    "| 12          | 13               | nothing            |\n",
    "| 13          | 14               | nothing2           |\n",
    "| 14          | 15               | bicycle_bell       |"
   ]
  },
  {
   "cell_type": "code",
   "execution_count": 162,
   "metadata": {},
   "outputs": [],
   "source": [
    "# Save the segments to disk and populate CSV data\n",
    "csv_data = []\n",
    "for idx, segment in enumerate(segments):\n",
    "    output_path = os.path.join(OUTPUT_DIR, f\"{FILE_NAME}_cut_{idx}.wav\")\n",
    "    torchaudio.save(output_path, segment, SAMPLE_RATE)\n",
    "    csv_data.append({\n",
    "        'slice_file_name': f\"{FILE_NAME}_cut_{idx}.wav\",\n",
    "        'fsID': 123456,\n",
    "        'start': idx * 2,\n",
    "        'end': (idx+1) * 2,\n",
    "        'salience': 1,\n",
    "        'fold': 'foldval',  # Assuming fold 10 for these segments\n",
    "        'classID': 13,\n",
    "        'class': 'nothing'\n",
    "    })"
   ]
  },
  {
   "cell_type": "code",
   "execution_count": 163,
   "metadata": {},
   "outputs": [],
   "source": [
    "# Save CSV data\n",
    "import pandas as pd\n",
    "csv_output_path = os.path.join(OUTPUT_DIR, CSV_NAME)\n",
    "csv_df = pd.DataFrame(csv_data)\n",
    "csv_df.to_csv(csv_output_path, index=False)"
   ]
  },
  {
   "cell_type": "code",
   "execution_count": 164,
   "metadata": {},
   "outputs": [
    {
     "data": {
      "text/plain": [
       "'record/cut_audio/nothing.csv'"
      ]
     },
     "execution_count": 164,
     "metadata": {},
     "output_type": "execute_result"
    }
   ],
   "source": [
    "csv_output_path"
   ]
  }
 ],
 "metadata": {
  "kernelspec": {
   "display_name": "torchenv",
   "language": "python",
   "name": "python3"
  },
  "language_info": {
   "codemirror_mode": {
    "name": "ipython",
    "version": 3
   },
   "file_extension": ".py",
   "mimetype": "text/x-python",
   "name": "python",
   "nbconvert_exporter": "python",
   "pygments_lexer": "ipython3",
   "version": "3.11.4"
  },
  "orig_nbformat": 4
 },
 "nbformat": 4,
 "nbformat_minor": 2
}
