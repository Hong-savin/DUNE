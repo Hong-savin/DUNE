{
 "cells": [
  {
   "cell_type": "code",
   "execution_count": 7,
   "metadata": {},
   "outputs": [],
   "source": [
    "from pydub import AudioSegment\n",
    "import os\n",
    "\n",
    "def detect_glass_breaks(audio_file, output_folder, max_files):\n",
    "    # Load the audio file\n",
    "    audio = AudioSegment.from_mp3(audio_file)\n",
    "\n",
    "    # Define parameters\n",
    "    silence_thresh = audio.dBFS - 2  # threshold for loud sounds\n",
    "    segment_len = 1000  # 1 second in milliseconds\n",
    "    half_segment_len = segment_len // 2\n",
    "\n",
    "    # Create output folder if it doesn't exist\n",
    "    if not os.path.exists(output_folder):\n",
    "        os.makedirs(output_folder)\n",
    "\n",
    "    idx = 1\n",
    "    i = 0\n",
    "    while i < len(audio) - half_segment_len and idx <= max_files:\n",
    "        # If the current frame is louder than the threshold\n",
    "        if audio[i].dBFS > silence_thresh:\n",
    "            start_time = max(0, i - half_segment_len)\n",
    "            end_time = min(len(audio), i + half_segment_len)\n",
    "            \n",
    "            chunk = audio[start_time:end_time]\n",
    "            \n",
    "            # Export the chunk to file\n",
    "            chunk.export(os.path.join(output_folder, f\"glass_break_{idx}.mp3\"), format=\"mp3\")\n",
    "            idx += 1\n",
    "            \n",
    "            i += half_segment_len  # Move ahead by half a second to avoid overlapping segments\n",
    "        else:\n",
    "            i += 1\n",
    "\n",
    "detect_glass_breaks(\"/Users/owo/Movies/4K Video Downloader/1 Hour RELAXING GLASS BREAKING Sounds Soothing Noises   Film & Sound Effects No Copyright.mp3\", \"only_sound\",max_files=20)\n"
   ]
  }
 ],
 "metadata": {
  "kernelspec": {
   "display_name": "torchenv",
   "language": "python",
   "name": "python3"
  },
  "language_info": {
   "codemirror_mode": {
    "name": "ipython",
    "version": 3
   },
   "file_extension": ".py",
   "mimetype": "text/x-python",
   "name": "python",
   "nbconvert_exporter": "python",
   "pygments_lexer": "ipython3",
   "version": "3.11.4"
  },
  "orig_nbformat": 4
 },
 "nbformat": 4,
 "nbformat_minor": 2
}
