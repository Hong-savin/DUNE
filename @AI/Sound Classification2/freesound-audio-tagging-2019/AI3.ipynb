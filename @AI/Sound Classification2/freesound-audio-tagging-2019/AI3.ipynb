{
 "cells": [
  {
   "cell_type": "code",
   "execution_count": 35,
   "metadata": {},
   "outputs": [
    {
     "name": "stdout",
     "output_type": "stream",
     "text": [
      "WINDOWS\n"
     ]
    },
    {
     "data": {
      "text/html": [
       "<div>\n",
       "<style scoped>\n",
       "    .dataframe tbody tr th:only-of-type {\n",
       "        vertical-align: middle;\n",
       "    }\n",
       "\n",
       "    .dataframe tbody tr th {\n",
       "        vertical-align: top;\n",
       "    }\n",
       "\n",
       "    .dataframe thead th {\n",
       "        text-align: right;\n",
       "    }\n",
       "</style>\n",
       "<table border=\"1\" class=\"dataframe\">\n",
       "  <thead>\n",
       "    <tr style=\"text-align: right;\">\n",
       "      <th></th>\n",
       "      <th>fname</th>\n",
       "      <th>labels</th>\n",
       "    </tr>\n",
       "  </thead>\n",
       "  <tbody>\n",
       "    <tr>\n",
       "      <th>0</th>\n",
       "      <td>0006ae4e.wav</td>\n",
       "      <td>Bark</td>\n",
       "    </tr>\n",
       "    <tr>\n",
       "      <th>1</th>\n",
       "      <td>0019ef41.wav</td>\n",
       "      <td>Raindrop</td>\n",
       "    </tr>\n",
       "    <tr>\n",
       "      <th>2</th>\n",
       "      <td>001ec0ad.wav</td>\n",
       "      <td>Finger_snapping</td>\n",
       "    </tr>\n",
       "    <tr>\n",
       "      <th>3</th>\n",
       "      <td>0026c7cb.wav</td>\n",
       "      <td>Run</td>\n",
       "    </tr>\n",
       "    <tr>\n",
       "      <th>4</th>\n",
       "      <td>0026f116.wav</td>\n",
       "      <td>Finger_snapping</td>\n",
       "    </tr>\n",
       "    <tr>\n",
       "      <th>...</th>\n",
       "      <td>...</td>\n",
       "      <td>...</td>\n",
       "    </tr>\n",
       "    <tr>\n",
       "      <th>26138</th>\n",
       "      <td>99812-1-2-0.wav</td>\n",
       "      <td>car_horn</td>\n",
       "    </tr>\n",
       "    <tr>\n",
       "      <th>26139</th>\n",
       "      <td>99812-1-3-0.wav</td>\n",
       "      <td>car_horn</td>\n",
       "    </tr>\n",
       "    <tr>\n",
       "      <th>26140</th>\n",
       "      <td>99812-1-4-0.wav</td>\n",
       "      <td>car_horn</td>\n",
       "    </tr>\n",
       "    <tr>\n",
       "      <th>26141</th>\n",
       "      <td>99812-1-5-0.wav</td>\n",
       "      <td>car_horn</td>\n",
       "    </tr>\n",
       "    <tr>\n",
       "      <th>26142</th>\n",
       "      <td>99812-1-6-0.wav</td>\n",
       "      <td>car_horn</td>\n",
       "    </tr>\n",
       "  </tbody>\n",
       "</table>\n",
       "<p>26143 rows × 2 columns</p>\n",
       "</div>"
      ],
      "text/plain": [
       "                 fname           labels\n",
       "0         0006ae4e.wav             Bark\n",
       "1         0019ef41.wav         Raindrop\n",
       "2         001ec0ad.wav  Finger_snapping\n",
       "3         0026c7cb.wav              Run\n",
       "4         0026f116.wav  Finger_snapping\n",
       "...                ...              ...\n",
       "26138  99812-1-2-0.wav         car_horn\n",
       "26139  99812-1-3-0.wav         car_horn\n",
       "26140  99812-1-4-0.wav         car_horn\n",
       "26141  99812-1-5-0.wav         car_horn\n",
       "26142  99812-1-6-0.wav         car_horn\n",
       "\n",
       "[26143 rows x 2 columns]"
      ]
     },
     "execution_count": 35,
     "metadata": {},
     "output_type": "execute_result"
    }
   ],
   "source": [
    "import pandas as pd\n",
    "from sklearn.preprocessing import MultiLabelBinarizer\n",
    "\n",
    "# Load the CSV files\n",
    "df_curated = pd.read_csv('train_curated.csv')\n",
    "df_noisy = pd.read_csv('train_noisy.csv')\n",
    "df_siren = pd.read_csv('siren.csv')\n",
    "df_carhorn = pd.read_csv('car_horn.csv')\n",
    "# Paths to the audio files\n",
    "try:\n",
    "    audio_path_curated = 'C:/Users/SJ/Documents/GitHub/DUNE/@AI/Sound Classification2/freesound-audio-tagging-2019/train_curated'\n",
    "    audio_path_noisy = 'C:/Users/SJ/Documents/GitHub/DUNE/@AI/Sound Classification2/freesound-audio-tagging-2019/train_noisy'\n",
    "    print(\"WINDOWS\")\n",
    "except:\n",
    "    audio_path_curated = '/Users/owo/HOUSE/@DUNE/@AI/Sound Classification2/freesound-audio-tagging-2019/train_curated'\n",
    "    audio_path_noisy = '/Users/owo/HOUSE/@DUNE/@AI/Sound Classification2/freesound-audio-tagging-2019/train_noisy'\n",
    "    print(\"MAC\")\n",
    "\n",
    "# Concatenate the DataFrames\n",
    "df = pd.concat([df_curated,df_noisy,df_siren,df_carhorn], ignore_index=True)\n",
    "df"
   ]
  },
  {
   "cell_type": "code",
   "execution_count": 36,
   "metadata": {},
   "outputs": [
    {
     "name": "stdout",
     "output_type": "stream",
     "text": [
      "droped :  0\n",
      "droped :  1631\n"
     ]
    },
    {
     "data": {
      "text/html": [
       "<div>\n",
       "<style scoped>\n",
       "    .dataframe tbody tr th:only-of-type {\n",
       "        vertical-align: middle;\n",
       "    }\n",
       "\n",
       "    .dataframe tbody tr th {\n",
       "        vertical-align: top;\n",
       "    }\n",
       "\n",
       "    .dataframe thead th {\n",
       "        text-align: right;\n",
       "    }\n",
       "</style>\n",
       "<table border=\"1\" class=\"dataframe\">\n",
       "  <thead>\n",
       "    <tr style=\"text-align: right;\">\n",
       "      <th></th>\n",
       "      <th>fname</th>\n",
       "      <th>labels</th>\n",
       "    </tr>\n",
       "  </thead>\n",
       "  <tbody>\n",
       "    <tr>\n",
       "      <th>0</th>\n",
       "      <td>0006ae4e.wav</td>\n",
       "      <td>Bark</td>\n",
       "    </tr>\n",
       "    <tr>\n",
       "      <th>1</th>\n",
       "      <td>0019ef41.wav</td>\n",
       "      <td>Raindrop</td>\n",
       "    </tr>\n",
       "    <tr>\n",
       "      <th>2</th>\n",
       "      <td>001ec0ad.wav</td>\n",
       "      <td>Finger_snapping</td>\n",
       "    </tr>\n",
       "    <tr>\n",
       "      <th>3</th>\n",
       "      <td>0026c7cb.wav</td>\n",
       "      <td>Run</td>\n",
       "    </tr>\n",
       "    <tr>\n",
       "      <th>4</th>\n",
       "      <td>0026f116.wav</td>\n",
       "      <td>Finger_snapping</td>\n",
       "    </tr>\n",
       "    <tr>\n",
       "      <th>...</th>\n",
       "      <td>...</td>\n",
       "      <td>...</td>\n",
       "    </tr>\n",
       "    <tr>\n",
       "      <th>24507</th>\n",
       "      <td>99812-1-2-0.wav</td>\n",
       "      <td>car_horn</td>\n",
       "    </tr>\n",
       "    <tr>\n",
       "      <th>24508</th>\n",
       "      <td>99812-1-3-0.wav</td>\n",
       "      <td>car_horn</td>\n",
       "    </tr>\n",
       "    <tr>\n",
       "      <th>24509</th>\n",
       "      <td>99812-1-4-0.wav</td>\n",
       "      <td>car_horn</td>\n",
       "    </tr>\n",
       "    <tr>\n",
       "      <th>24510</th>\n",
       "      <td>99812-1-5-0.wav</td>\n",
       "      <td>car_horn</td>\n",
       "    </tr>\n",
       "    <tr>\n",
       "      <th>24511</th>\n",
       "      <td>99812-1-6-0.wav</td>\n",
       "      <td>car_horn</td>\n",
       "    </tr>\n",
       "  </tbody>\n",
       "</table>\n",
       "<p>24512 rows × 2 columns</p>\n",
       "</div>"
      ],
      "text/plain": [
       "                 fname           labels\n",
       "0         0006ae4e.wav             Bark\n",
       "1         0019ef41.wav         Raindrop\n",
       "2         001ec0ad.wav  Finger_snapping\n",
       "3         0026c7cb.wav              Run\n",
       "4         0026f116.wav  Finger_snapping\n",
       "...                ...              ...\n",
       "24507  99812-1-2-0.wav         car_horn\n",
       "24508  99812-1-3-0.wav         car_horn\n",
       "24509  99812-1-4-0.wav         car_horn\n",
       "24510  99812-1-5-0.wav         car_horn\n",
       "24511  99812-1-6-0.wav         car_horn\n",
       "\n",
       "[24512 rows x 2 columns]"
      ]
     },
     "execution_count": 36,
     "metadata": {},
     "output_type": "execute_result"
    }
   ],
   "source": [
    "import librosa\n",
    "import warnings\n",
    "import os\n",
    "def drop_unloadable_files(df, audio_dir):\n",
    "    count = 0\n",
    "\n",
    "    # Iterate over the DataFrame\n",
    "    for i, row in df.iterrows():\n",
    "        audio_file = os.path.join(audio_dir, row['fname'])\n",
    "        try:\n",
    "            # Try to load the audio file\n",
    "            with warnings.catch_warnings():\n",
    "                warnings.simplefilter('ignore')\n",
    "                librosa.load(audio_file, sr=None)\n",
    "        except Exception:\n",
    "            # If loading fails, drop the row\n",
    "            df = df.drop(i)\n",
    "            count = count + 1\n",
    "    print(\"droped : \",count)\n",
    "    return df\n",
    "\n",
    "# Drop rows with unloadable audio files from the curated and noisy DataFrames\n",
    "df_curated = drop_unloadable_files(df_curated, audio_path_curated)\n",
    "df_noisy = drop_unloadable_files(df_noisy, audio_path_noisy)\n",
    "\n",
    "# Concatenate the curated and noisy DataFrames\n",
    "df_concat = pd.concat([df_curated, df_noisy,df_siren,df_carhorn], ignore_index=True)\n",
    "df_concat.to_csv('csv_train_concat_drop.csv', index=False)\n",
    "df_concat"
   ]
  },
  {
   "cell_type": "code",
   "execution_count": 130,
   "metadata": {},
   "outputs": [
    {
     "name": "stdout",
     "output_type": "stream",
     "text": [
      "                 fname      labels\n",
      "0         0006ae4e.wav        Bark\n",
      "14        00c40a6d.wav       Knock\n",
      "15        00c4e82c.wav  Motorcycle\n",
      "23        015a50b9.wav        Bark\n",
      "31        02286d70.wav         Bus\n",
      "...                ...         ...\n",
      "24507  99812-1-2-0.wav    car_horn\n",
      "24508  99812-1-3-0.wav    car_horn\n",
      "24509  99812-1-4-0.wav    car_horn\n",
      "24510  99812-1-5-0.wav    car_horn\n",
      "24511  99812-1-6-0.wav    car_horn\n",
      "\n",
      "[4417 rows x 2 columns]\n"
     ]
    }
   ],
   "source": [
    "import pandas as pd\n",
    "\n",
    "# Step 1: Read the CSV file\n",
    "file_path = \"csv_train_concat_drop.csv\"\n",
    "df = pd.read_csv(file_path)\n",
    "\n",
    "# Step 2: Define the selected labels list\n",
    "selected_labels = ['Motorcycle', 'Slam', 'Yell', 'Screaming', 'Bus',\n",
    "                   'Traffic_noise_and_roadway_noise', 'Car_passing_by',\n",
    "                   'Bicycle_bell', 'Knock', 'Bark', 'Scream', 'Shatter',\n",
    "                   'siren', 'car_horn']\n",
    "\n",
    "# Step 3: Filter the DataFrame based on selected_labels\n",
    "filtered_df = df[df['labels'].isin(selected_labels)]\n",
    "\n",
    "# Step 4: Print the filtered DataFrame\n",
    "print(filtered_df)\n",
    "filtered_df.to_csv('train_concat2.csv')"
   ]
  },
  {
   "cell_type": "code",
   "execution_count": 131,
   "metadata": {},
   "outputs": [
    {
     "name": "stdout",
     "output_type": "stream",
     "text": [
      "Label Counts:\n",
      "siren                              929\n",
      "car_horn                           429\n",
      "Bus                                317\n",
      "Traffic_noise_and_roadway_noise    308\n",
      "Bark                               307\n",
      "Motorcycle                         297\n",
      "Screaming                          281\n",
      "Yell                               273\n",
      "Bicycle_bell                       266\n",
      "Slam                               264\n",
      "Car_passing_by                     255\n",
      "Shatter                            254\n",
      "Knock                              237\n",
      "Name: labels, dtype: int64\n"
     ]
    },
    {
     "data": {
      "image/png": "[encoded data removed]",
      "text/plain": [
       "<Figure size 1000x600 with 1 Axes>"
      ]
     },
     "metadata": {},
     "output_type": "display_data"
    }
   ],
   "source": [
    "import pandas as pd\n",
    "import matplotlib.pyplot as plt\n",
    "\n",
    "# Step 1: Read the CSV file\n",
    "file_path = \"train_concat2.csv\"\n",
    "df = pd.read_csv(file_path)\n",
    "\n",
    "# Step 2: Define the selected labels list\n",
    "selected_labels = ['Motorcycle', 'Slam', 'Yell', 'Screaming', 'Bus',\n",
    "                   'Traffic_noise_and_roadway_noise', 'Car_passing_by',\n",
    "                   'Bicycle_bell', 'Knock', 'Bark', 'Scream', 'Shatter',\n",
    "                   'siren', 'car_horn']\n",
    "\n",
    "# Step 3: Filter the DataFrame based on selected_labels\n",
    "filtered_df = df[df['labels'].isin(selected_labels)]\n",
    "\n",
    "# Step 4: Count the occurrences of each label\n",
    "label_counts = filtered_df['labels'].value_counts()\n",
    "\n",
    "# Step 5: Print the label counts\n",
    "print(\"Label Counts:\")\n",
    "print(label_counts)\n",
    "\n",
    "# Step 6: Create a bar plot to visualize label counts\n",
    "plt.figure(figsize=(10, 6))\n",
    "label_counts.plot(kind='bar')\n",
    "plt.title(\"Number of Rows for Each Label\")\n",
    "plt.xlabel(\"Labels\")\n",
    "plt.ylabel(\"Count\")\n",
    "plt.xticks(rotation=45, ha='right')\n",
    "plt.tight_layout()\n",
    "plt.show()\n"
   ]
  },
  {
   "cell_type": "code",
   "execution_count": 132,
   "metadata": {},
   "outputs": [
    {
     "data": {
      "text/plain": [
       "{'Bark': 0,\n",
       " 'Knock': 1,\n",
       " 'Motorcycle': 2,\n",
       " 'Bus': 3,\n",
       " 'Car_passing_by': 4,\n",
       " 'Slam': 5,\n",
       " 'Traffic_noise_and_roadway_noise': 6,\n",
       " 'Shatter': 7,\n",
       " 'Bicycle_bell': 8,\n",
       " 'Screaming': 9,\n",
       " 'Yell': 10,\n",
       " 'siren': 11,\n",
       " 'car_horn': 12}"
      ]
     },
     "execution_count": 132,
     "metadata": {},
     "output_type": "execute_result"
    }
   ],
   "source": [
    "# Get the unique labels\n",
    "unique_labels = df.labels.unique()\n",
    "\n",
    "# Create a dictionary mapping labels to indices\n",
    "label_to_index = {label: index for index, label in enumerate(unique_labels)}\n",
    "\n",
    "# Print the mapping\n",
    "label_to_index"
   ]
  },
  {
   "cell_type": "code",
   "execution_count": 136,
   "metadata": {},
   "outputs": [
    {
     "data": {
      "text/plain": [
       "4417"
      ]
     },
     "execution_count": 136,
     "metadata": {},
     "output_type": "execute_result"
    }
   ],
   "source": [
    "labels_dict = dict(zip(df.fname, df.labels))\n",
    "\n",
    "list(labels_dict.items())[:5]\n"
   ]
  },
  {
   "cell_type": "code",
   "execution_count": 134,
   "metadata": {},
   "outputs": [
    {
     "data": {
      "text/plain": [
       "'c:\\\\Users\\\\SJ\\\\Documents\\\\GitHub\\\\DUNE\\\\@AI\\\\Sound Classification2\\\\freesound-audio-tagging-2019\\\\train_curated'"
      ]
     },
     "execution_count": 134,
     "metadata": {},
     "output_type": "execute_result"
    }
   ],
   "source": [
    "import os\n",
    "\n",
    "# Get the current working directory\n",
    "current_directory = os.getcwd()\n",
    "\n",
    "# Relative path to the \"train_noisy\" directory\n",
    "train_noisy_relative_path = \"train_noisy\"\n",
    "train_noisy_path = os.path.join(current_directory, train_noisy_relative_path)\n",
    "\n",
    "# Relative path to the \"train_curated\" directory\n",
    "train_curated_relative_path = \"train_curated\"\n",
    "train_curated_path = os.path.join(current_directory, train_curated_relative_path)\n",
    "train_curated_path"
   ]
  },
  {
   "cell_type": "code",
   "execution_count": 172,
   "metadata": {},
   "outputs": [
    {
     "name": "stderr",
     "output_type": "stream",
     "text": [
      "c:\\ProgramData\\anaconda3\\Lib\\site-packages\\sklearn\\preprocessing\\_encoders.py:868: FutureWarning: `sparse` was renamed to `sparse_output` in version 1.2 and will be removed in 1.4. `sparse_output` is ignored unless you leave `sparse` to its default value.\n",
      "  warnings.warn(\n"
     ]
    }
   ],
   "source": [
    "import librosa\n",
    "import numpy as np\n",
    "import warnings\n",
    "from sklearn.preprocessing import OneHotEncoder\n",
    "\n",
    "count = 0\n",
    "drop = 0 \n",
    "\n",
    "\n",
    "sample_rate = 22050\n",
    "max_length_frames = 44\n",
    "\n",
    "one_hot_encoder = OneHotEncoder(sparse=False)\n",
    "one_hot_encoder.fit(unique_labels.reshape(-1, 1))\n",
    "\n",
    "def process_audio_file(file_name, directories):\n",
    "    global count\n",
    "    global drop\n",
    "    \"\"\"\n",
    "    Load an audio file from one of the given directories, compute its MFCCs, \n",
    "    standardize its length, and assign the correct label.\n",
    "    \n",
    "    Args:\n",
    "    - file_name (str): The name of the audio file.\n",
    "    - directories (list of str): The directories to search for the audio file.\n",
    "\n",
    "    Returns:\n",
    "    - A tuple (mfccs, label), where:\n",
    "      - mfccs is a 2D numpy array of shape (n_mfcc, max_length_frames)\n",
    "      - label is a 1D numpy array of shape (n_classes,)\n",
    "    \"\"\"\n",
    "    # Skip this file if it doesn't have a label\n",
    "    if file_name not in labels_dict:\n",
    "        return None\n",
    "\n",
    "    # Try to load the audio file from each directory\n",
    "    for directory in directories:\n",
    "        try:\n",
    "            with warnings.catch_warnings():\n",
    "                warnings.simplefilter(\"ignore\")  # Suppress warnings\n",
    "                file_path = os.path.join(directory, file_name)\n",
    "                signal, _ = librosa.load(file_path, sr=sample_rate)\n",
    "                count = count + 1\n",
    "                break\n",
    "        except FileNotFoundError:\n",
    "            drop = drop + 1\n",
    "            continue\n",
    "    else:\n",
    "        return None\n",
    "    \n",
    "    # Normalize the audio signal\n",
    "    signal = librosa.util.normalize(signal)\n",
    "\n",
    "    # Compute MFCCs\n",
    "    mfccs = librosa.feature.mfcc(y=signal, sr=sample_rate, n_mfcc=13)\n",
    "\n",
    "    # If the MFCCs are too short, pad them with zeros\n",
    "    if mfccs.shape[1] < max_length_frames:\n",
    "        mfccs = np.pad(mfccs, ((0, 0), (0, max_length_frames - mfccs.shape[1])))\n",
    "\n",
    "    # If the MFCCs are too long, truncate them from a random start index\n",
    "    if mfccs.shape[1] > max_length_frames:\n",
    "        start_index = np.random.randint(0, mfccs.shape[1] - max_length_frames)\n",
    "        mfccs = mfccs[:, start_index:start_index + max_length_frames]\n",
    "\n",
    "    # Get the label for this file\n",
    "    label = labels_dict[file_name]\n",
    "\n",
    "    # One-hot encode the label\n",
    "    label = one_hot_encoder.transform(np.array(label).reshape(-1, 1))\n",
    "\n",
    "    return mfccs, label\n"
   ]
  },
  {
   "cell_type": "code",
   "execution_count": 173,
   "metadata": {},
   "outputs": [
    {
     "name": "stderr",
     "output_type": "stream",
     "text": [
      "Processing audio files:  92%|█████████▏| 4063/4417 [01:13<00:02, 171.71it/s]c:\\ProgramData\\anaconda3\\Lib\\site-packages\\librosa\\core\\spectrum.py:256: UserWarning: n_fft=2048 is too large for input signal of length=1323\n",
      "  warnings.warn(\n",
      "Processing audio files:  99%|█████████▉| 4386/4417 [01:15<00:00, 108.65it/s]c:\\ProgramData\\anaconda3\\Lib\\site-packages\\librosa\\core\\spectrum.py:256: UserWarning: n_fft=2048 is too large for input signal of length=1103\n",
      "  warnings.warn(\n",
      "c:\\ProgramData\\anaconda3\\Lib\\site-packages\\librosa\\core\\spectrum.py:256: UserWarning: n_fft=2048 is too large for input signal of length=1103\n",
      "  warnings.warn(\n",
      "c:\\ProgramData\\anaconda3\\Lib\\site-packages\\librosa\\core\\spectrum.py:256: UserWarning: n_fft=2048 is too large for input signal of length=1323\n",
      "  warnings.warn(\n",
      "c:\\ProgramData\\anaconda3\\Lib\\site-packages\\librosa\\core\\spectrum.py:256: UserWarning: n_fft=2048 is too large for input signal of length=1523\n",
      "  warnings.warn(\n",
      "Processing audio files: 100%|██████████| 4417/4417 [01:16<00:00, 57.97it/s] \n"
     ]
    },
    {
     "data": {
      "text/plain": [
       "(4417, 1997)"
      ]
     },
     "execution_count": 173,
     "metadata": {},
     "output_type": "execute_result"
    }
   ],
   "source": [
    "from tqdm import tqdm\n",
    "\n",
    "directories = [train_noisy_path, train_curated_path]\n",
    "\n",
    "# Get a list of .wav files in the labels_dict\n",
    "wav_files = [file_name for file_name in labels_dict.keys() if file_name.endswith('.wav')]\n",
    "\n",
    "# Limit the number of files to process\n",
    "num_files_to_process = len(labels_dict)\n",
    "wav_files_to_process = wav_files[:num_files_to_process]\n",
    "\n",
    "# Apply the function with tqdm progress bar\n",
    "mfccs_and_labels = []\n",
    "for file_name in tqdm(wav_files_to_process, desc=\"Processing audio files\"):\n",
    "    result = process_audio_file(file_name, directories)\n",
    "    if result is not None:\n",
    "        mfccs_and_labels.append(result)\n",
    "\n",
    "# After processing the files, get the count and drop values\n",
    "count, drop"
   ]
  },
  {
   "cell_type": "code",
   "execution_count": 174,
   "metadata": {},
   "outputs": [
    {
     "data": {
      "text/plain": [
       "(4417, 1997)"
      ]
     },
     "execution_count": 174,
     "metadata": {},
     "output_type": "execute_result"
    }
   ],
   "source": [
    "count, drop"
   ]
  },
  {
   "cell_type": "code",
   "execution_count": 175,
   "metadata": {},
   "outputs": [
    {
     "data": {
      "text/plain": [
       "2"
      ]
     },
     "execution_count": 175,
     "metadata": {},
     "output_type": "execute_result"
    }
   ],
   "source": [
    "len(mfccs_and_labels)\n",
    "len(mfccs_and_labels[0])"
   ]
  },
  {
   "cell_type": "code",
   "execution_count": 176,
   "metadata": {},
   "outputs": [
    {
     "data": {
      "text/plain": [
       "((4417, 13, 44), (4417, 13))"
      ]
     },
     "execution_count": 176,
     "metadata": {},
     "output_type": "execute_result"
    }
   ],
   "source": [
    "# Separate the MFCCs and labels into two lists\n",
    "mfccs_list, labels_list = zip(*mfccs_and_labels)\n",
    "\n",
    "# Convert the lists of MFCCs and labels into 3D and 2D numpy arrays, respectively\n",
    "mfccs_array = np.stack(mfccs_list)\n",
    "labels_array = np.squeeze(np.stack(labels_list))  # Squeeze to remove an extra dimension\n",
    "\n",
    "# Print the shapes of the resulting arrays\n",
    "mfccs_array.shape, labels_array.shape"
   ]
  },
  {
   "cell_type": "code",
   "execution_count": 177,
   "metadata": {},
   "outputs": [
    {
     "data": {
      "text/plain": [
       "AudioClassifier(\n",
       "  (conv1): Conv2d(1, 32, kernel_size=(3, 3), stride=(1, 1), padding=(1, 1))\n",
       "  (conv2): Conv2d(32, 64, kernel_size=(3, 3), stride=(1, 1), padding=(1, 1))\n",
       "  (conv3): Conv2d(64, 128, kernel_size=(3, 3), stride=(1, 1), padding=(1, 1))\n",
       "  (pool): MaxPool2d(kernel_size=2, stride=2, padding=0, dilation=1, ceil_mode=False)\n",
       "  (fc): Linear(in_features=640, out_features=13, bias=True)\n",
       "  (relu): ReLU()\n",
       ")"
      ]
     },
     "execution_count": 177,
     "metadata": {},
     "output_type": "execute_result"
    }
   ],
   "source": [
    "import torch\n",
    "from torch import nn\n",
    "\n",
    "# Define the model architecture\n",
    "class AudioClassifier(nn.Module):\n",
    "    def __init__(self, n_classes):\n",
    "        super(AudioClassifier, self).__init__()\n",
    "        \n",
    "        # Convolutional layers\n",
    "        self.conv1 = nn.Conv2d(1, 32, kernel_size=(3, 3), stride=(1, 1), padding=(1, 1))\n",
    "        self.conv2 = nn.Conv2d(32, 64, kernel_size=(3, 3), stride=(1, 1), padding=(1, 1))\n",
    "        self.conv3 = nn.Conv2d(64, 128, kernel_size=(3, 3), stride=(1, 1), padding=(1, 1))\n",
    "        \n",
    "        # Max pooling\n",
    "        self.pool = nn.MaxPool2d(2, 2)\n",
    "        \n",
    "        # Fully connected layer\n",
    "        # The input size of 128*2*11 is determined by the output size of the last convolutional layer\n",
    "        self.fc = nn.Linear(640, n_classes)\n",
    "        \n",
    "        # Activation function\n",
    "        self.relu = nn.ReLU()\n",
    "        \n",
    "    def forward(self, x):\n",
    "        x = self.conv1(x)\n",
    "        #print(\"After conv1: \", x.shape)\n",
    "        x = self.relu(x)\n",
    "        x = self.pool(x)\n",
    "        #print(\"After pool1: \", x.shape)\n",
    "\n",
    "        x = self.conv2(x)\n",
    "        #print(\"After conv2: \", x.shape)\n",
    "        x = self.relu(x)\n",
    "        x = self.pool(x)\n",
    "        #print(\"After pool2: \", x.shape)\n",
    "\n",
    "        x = self.conv3(x)\n",
    "        #print(\"After conv3: \", x.shape)\n",
    "        x = self.relu(x)\n",
    "        x = self.pool(x)\n",
    "        #print(\"After pool3: \", x.shape)\n",
    "\n",
    "        x = x.view(x.size(0), -1)  # Flatten the tensor\n",
    "        #print(\"After flatten: \", x.shape)\n",
    "        x = self.fc(x)\n",
    "\n",
    "        return x\n",
    "\n",
    "# Instantiate the model\n",
    "model = AudioClassifier(n_classes=labels_array.shape[1])\n",
    "\n",
    "# Print the model architecture\n",
    "model\n"
   ]
  },
  {
   "cell_type": "code",
   "execution_count": 178,
   "metadata": {},
   "outputs": [
    {
     "name": "stdout",
     "output_type": "stream",
     "text": [
      "ResNet(\n",
      "  (conv1): Conv2d(3, 64, kernel_size=(7, 7), stride=(2, 2), padding=(3, 3), bias=False)\n",
      "  (bn1): BatchNorm2d(64, eps=1e-05, momentum=0.1, affine=True, track_running_stats=True)\n",
      "  (relu): ReLU(inplace=True)\n",
      "  (maxpool): MaxPool2d(kernel_size=3, stride=2, padding=1, dilation=1, ceil_mode=False)\n",
      "  (layer1): Sequential(\n",
      "    (0): BasicBlock(\n",
      "      (conv1): Conv2d(64, 64, kernel_size=(3, 3), stride=(1, 1), padding=(1, 1), bias=False)\n",
      "      (bn1): BatchNorm2d(64, eps=1e-05, momentum=0.1, affine=True, track_running_stats=True)\n",
      "      (relu): ReLU(inplace=True)\n",
      "      (conv2): Conv2d(64, 64, kernel_size=(3, 3), stride=(1, 1), padding=(1, 1), bias=False)\n",
      "      (bn2): BatchNorm2d(64, eps=1e-05, momentum=0.1, affine=True, track_running_stats=True)\n",
      "    )\n",
      "    (1): BasicBlock(\n",
      "      (conv1): Conv2d(64, 64, kernel_size=(3, 3), stride=(1, 1), padding=(1, 1), bias=False)\n",
      "      (bn1): BatchNorm2d(64, eps=1e-05, momentum=0.1, affine=True, track_running_stats=True)\n",
      "      (relu): ReLU(inplace=True)\n",
      "      (conv2): Conv2d(64, 64, kernel_size=(3, 3), stride=(1, 1), padding=(1, 1), bias=False)\n",
      "      (bn2): BatchNorm2d(64, eps=1e-05, momentum=0.1, affine=True, track_running_stats=True)\n",
      "    )\n",
      "  )\n",
      "  (layer2): Sequential(\n",
      "    (0): BasicBlock(\n",
      "      (conv1): Conv2d(64, 128, kernel_size=(3, 3), stride=(2, 2), padding=(1, 1), bias=False)\n",
      "      (bn1): BatchNorm2d(128, eps=1e-05, momentum=0.1, affine=True, track_running_stats=True)\n",
      "      (relu): ReLU(inplace=True)\n",
      "      (conv2): Conv2d(128, 128, kernel_size=(3, 3), stride=(1, 1), padding=(1, 1), bias=False)\n",
      "      (bn2): BatchNorm2d(128, eps=1e-05, momentum=0.1, affine=True, track_running_stats=True)\n",
      "      (downsample): Sequential(\n",
      "        (0): Conv2d(64, 128, kernel_size=(1, 1), stride=(2, 2), bias=False)\n",
      "        (1): BatchNorm2d(128, eps=1e-05, momentum=0.1, affine=True, track_running_stats=True)\n",
      "      )\n",
      "    )\n",
      "    (1): BasicBlock(\n",
      "      (conv1): Conv2d(128, 128, kernel_size=(3, 3), stride=(1, 1), padding=(1, 1), bias=False)\n",
      "      (bn1): BatchNorm2d(128, eps=1e-05, momentum=0.1, affine=True, track_running_stats=True)\n",
      "      (relu): ReLU(inplace=True)\n",
      "      (conv2): Conv2d(128, 128, kernel_size=(3, 3), stride=(1, 1), padding=(1, 1), bias=False)\n",
      "      (bn2): BatchNorm2d(128, eps=1e-05, momentum=0.1, affine=True, track_running_stats=True)\n",
      "    )\n",
      "  )\n",
      "  (layer3): Sequential(\n",
      "    (0): BasicBlock(\n",
      "      (conv1): Conv2d(128, 256, kernel_size=(3, 3), stride=(2, 2), padding=(1, 1), bias=False)\n",
      "      (bn1): BatchNorm2d(256, eps=1e-05, momentum=0.1, affine=True, track_running_stats=True)\n",
      "      (relu): ReLU(inplace=True)\n",
      "      (conv2): Conv2d(256, 256, kernel_size=(3, 3), stride=(1, 1), padding=(1, 1), bias=False)\n",
      "      (bn2): BatchNorm2d(256, eps=1e-05, momentum=0.1, affine=True, track_running_stats=True)\n",
      "      (downsample): Sequential(\n",
      "        (0): Conv2d(128, 256, kernel_size=(1, 1), stride=(2, 2), bias=False)\n",
      "        (1): BatchNorm2d(256, eps=1e-05, momentum=0.1, affine=True, track_running_stats=True)\n",
      "      )\n",
      "    )\n",
      "    (1): BasicBlock(\n",
      "      (conv1): Conv2d(256, 256, kernel_size=(3, 3), stride=(1, 1), padding=(1, 1), bias=False)\n",
      "      (bn1): BatchNorm2d(256, eps=1e-05, momentum=0.1, affine=True, track_running_stats=True)\n",
      "      (relu): ReLU(inplace=True)\n",
      "      (conv2): Conv2d(256, 256, kernel_size=(3, 3), stride=(1, 1), padding=(1, 1), bias=False)\n",
      "      (bn2): BatchNorm2d(256, eps=1e-05, momentum=0.1, affine=True, track_running_stats=True)\n",
      "    )\n",
      "  )\n",
      "  (layer4): Sequential(\n",
      "    (0): BasicBlock(\n",
      "      (conv1): Conv2d(256, 512, kernel_size=(3, 3), stride=(2, 2), padding=(1, 1), bias=False)\n",
      "      (bn1): BatchNorm2d(512, eps=1e-05, momentum=0.1, affine=True, track_running_stats=True)\n",
      "      (relu): ReLU(inplace=True)\n",
      "      (conv2): Conv2d(512, 512, kernel_size=(3, 3), stride=(1, 1), padding=(1, 1), bias=False)\n",
      "      (bn2): BatchNorm2d(512, eps=1e-05, momentum=0.1, affine=True, track_running_stats=True)\n",
      "      (downsample): Sequential(\n",
      "        (0): Conv2d(256, 512, kernel_size=(1, 1), stride=(2, 2), bias=False)\n",
      "        (1): BatchNorm2d(512, eps=1e-05, momentum=0.1, affine=True, track_running_stats=True)\n",
      "      )\n",
      "    )\n",
      "    (1): BasicBlock(\n",
      "      (conv1): Conv2d(512, 512, kernel_size=(3, 3), stride=(1, 1), padding=(1, 1), bias=False)\n",
      "      (bn1): BatchNorm2d(512, eps=1e-05, momentum=0.1, affine=True, track_running_stats=True)\n",
      "      (relu): ReLU(inplace=True)\n",
      "      (conv2): Conv2d(512, 512, kernel_size=(3, 3), stride=(1, 1), padding=(1, 1), bias=False)\n",
      "      (bn2): BatchNorm2d(512, eps=1e-05, momentum=0.1, affine=True, track_running_stats=True)\n",
      "    )\n",
      "  )\n",
      "  (avgpool): AdaptiveAvgPool2d(output_size=(1, 1))\n",
      "  (fc): Linear(in_features=512, out_features=13, bias=True)\n",
      ")\n"
     ]
    },
    {
     "name": "stderr",
     "output_type": "stream",
     "text": [
      "c:\\ProgramData\\anaconda3\\Lib\\site-packages\\torchvision\\models\\_utils.py:208: UserWarning: The parameter 'pretrained' is deprecated since 0.13 and may be removed in the future, please use 'weights' instead.\n",
      "  warnings.warn(\n",
      "c:\\ProgramData\\anaconda3\\Lib\\site-packages\\torchvision\\models\\_utils.py:223: UserWarning: Arguments other than a weight enum or `None` for 'weights' are deprecated since 0.13 and may be removed in the future. The current behavior is equivalent to passing `weights=ResNet18_Weights.IMAGENET1K_V1`. You can also use `weights=ResNet18_Weights.DEFAULT` to get the most up-to-date weights.\n",
      "  warnings.warn(msg)\n"
     ]
    }
   ],
   "source": [
    "import torch\n",
    "from torchvision import models\n",
    "\n",
    "n_classes=labels_array.shape[1]\n",
    "\n",
    "# Load the pre-trained model\n",
    "model = models.resnet18(pretrained=True)\n",
    "\n",
    "# Modify the last layer to match the number of classes in your dataset\n",
    "num_ftrs = model.fc.in_features\n",
    "model.fc = nn.Linear(num_ftrs, n_classes)\n",
    "\n",
    "# Print the model architecture\n",
    "print(model)\n"
   ]
  },
  {
   "cell_type": "code",
   "execution_count": 179,
   "metadata": {},
   "outputs": [
    {
     "data": {
      "text/plain": [
       "((3533, 13, 44), (884, 13, 44), (3533, 13), (884, 13))"
      ]
     },
     "execution_count": 179,
     "metadata": {},
     "output_type": "execute_result"
    }
   ],
   "source": [
    "from sklearn.model_selection import train_test_split\n",
    "\n",
    "# Split the data into a training set and a validation set\n",
    "X_train, X_val, y_train, y_val = train_test_split(mfccs_array, labels_array, test_size=0.2, random_state=42)\n",
    "\n",
    "# Print the shapes of the training and validation sets\n",
    "X_train.shape, X_val.shape, y_train.shape, y_val.shape\n"
   ]
  },
  {
   "cell_type": "code",
   "execution_count": 180,
   "metadata": {},
   "outputs": [],
   "source": [
    "import torch\n",
    "from torch.utils.data import DataLoader, TensorDataset\n",
    "BATCH_SIZE = 32\n",
    "# Convert the numpy arrays to PyTorch tensors\n",
    "X_train_tensor = torch.tensor(X_train, dtype=torch.float32).unsqueeze(1)  # Add a channel dimension\n",
    "y_train_tensor = torch.tensor(y_train, dtype=torch.long)\n",
    "X_val_tensor = torch.tensor(X_val, dtype=torch.float32).unsqueeze(1)  # Add a channel dimension\n",
    "y_val_tensor = torch.tensor(y_val, dtype=torch.long)\n",
    "\n",
    "# Create TensorDatasets for the training and validation sets\n",
    "train_dataset = TensorDataset(X_train_tensor, y_train_tensor)\n",
    "val_dataset = TensorDataset(X_val_tensor, y_val_tensor)\n",
    "\n",
    "# Create DataLoaders for the training and validation sets\n",
    "train_loader = DataLoader(train_dataset, batch_size=BATCH_SIZE, shuffle=True)\n",
    "val_loader = DataLoader(val_dataset, batch_size=BATCH_SIZE, shuffle=False)\n",
    "\n",
    "# Define the loss function and optimizer\n",
    "loss_fn = nn.CrossEntropyLoss()\n",
    "optimizer = torch.optim.Adam(model.parameters())\n",
    "\n",
    "\n"
   ]
  },
  {
   "cell_type": "code",
   "execution_count": 181,
   "metadata": {},
   "outputs": [
    {
     "name": "stdout",
     "output_type": "stream",
     "text": [
      "Device set to cuda:0\n"
     ]
    },
    {
     "name": "stderr",
     "output_type": "stream",
     "text": [
      "Epoch 1 Training: 100%|██████████| 111/111 [00:02<00:00, 37.24it/s]\n",
      "Epoch 1 Validation: 100%|██████████| 28/28 [00:00<00:00, 156.86it/s]\n"
     ]
    },
    {
     "name": "stdout",
     "output_type": "stream",
     "text": [
      "Epoch: 0 \tTraining Loss: 1.9598 \tValidation Loss: 1.7920\n"
     ]
    },
    {
     "name": "stderr",
     "output_type": "stream",
     "text": [
      "Epoch 2 Training: 100%|██████████| 111/111 [00:02<00:00, 39.70it/s]\n",
      "Epoch 2 Validation: 100%|██████████| 28/28 [00:00<00:00, 167.25it/s]\n"
     ]
    },
    {
     "name": "stdout",
     "output_type": "stream",
     "text": [
      "Epoch: 1 \tTraining Loss: 1.6868 \tValidation Loss: 1.7776\n"
     ]
    },
    {
     "name": "stderr",
     "output_type": "stream",
     "text": [
      "Epoch 3 Training: 100%|██████████| 111/111 [00:02<00:00, 39.24it/s]\n",
      "Epoch 3 Validation: 100%|██████████| 28/28 [00:00<00:00, 172.58it/s]\n"
     ]
    },
    {
     "name": "stdout",
     "output_type": "stream",
     "text": [
      "Epoch: 2 \tTraining Loss: 1.5920 \tValidation Loss: 1.5602\n"
     ]
    },
    {
     "name": "stderr",
     "output_type": "stream",
     "text": [
      "Epoch 4 Training: 100%|██████████| 111/111 [00:02<00:00, 39.37it/s]\n",
      "Epoch 4 Validation: 100%|██████████| 28/28 [00:00<00:00, 180.07it/s]\n"
     ]
    },
    {
     "name": "stdout",
     "output_type": "stream",
     "text": [
      "Epoch: 3 \tTraining Loss: 1.5145 \tValidation Loss: 1.4860\n"
     ]
    },
    {
     "name": "stderr",
     "output_type": "stream",
     "text": [
      "Epoch 5 Training: 100%|██████████| 111/111 [00:02<00:00, 39.98it/s]\n",
      "Epoch 5 Validation: 100%|██████████| 28/28 [00:00<00:00, 169.44it/s]\n"
     ]
    },
    {
     "name": "stdout",
     "output_type": "stream",
     "text": [
      "Epoch: 4 \tTraining Loss: 1.4635 \tValidation Loss: 1.4637\n"
     ]
    },
    {
     "name": "stderr",
     "output_type": "stream",
     "text": [
      "Epoch 6 Training: 100%|██████████| 111/111 [00:02<00:00, 39.76it/s]\n",
      "Epoch 6 Validation: 100%|██████████| 28/28 [00:00<00:00, 179.43it/s]\n"
     ]
    },
    {
     "name": "stdout",
     "output_type": "stream",
     "text": [
      "Epoch: 5 \tTraining Loss: 1.3828 \tValidation Loss: 1.4989\n"
     ]
    },
    {
     "name": "stderr",
     "output_type": "stream",
     "text": [
      "Epoch 7 Training: 100%|██████████| 111/111 [00:02<00:00, 40.30it/s]\n",
      "Epoch 7 Validation: 100%|██████████| 28/28 [00:00<00:00, 177.10it/s]\n"
     ]
    },
    {
     "name": "stdout",
     "output_type": "stream",
     "text": [
      "Epoch: 6 \tTraining Loss: 1.3324 \tValidation Loss: 1.3611\n"
     ]
    },
    {
     "name": "stderr",
     "output_type": "stream",
     "text": [
      "Epoch 8 Training: 100%|██████████| 111/111 [00:02<00:00, 40.25it/s]\n",
      "Epoch 8 Validation: 100%|██████████| 28/28 [00:00<00:00, 177.63it/s]\n"
     ]
    },
    {
     "name": "stdout",
     "output_type": "stream",
     "text": [
      "Epoch: 7 \tTraining Loss: 1.2817 \tValidation Loss: 1.3526\n"
     ]
    },
    {
     "name": "stderr",
     "output_type": "stream",
     "text": [
      "Epoch 9 Training: 100%|██████████| 111/111 [00:02<00:00, 40.23it/s]\n",
      "Epoch 9 Validation: 100%|██████████| 28/28 [00:00<00:00, 179.42it/s]\n"
     ]
    },
    {
     "name": "stdout",
     "output_type": "stream",
     "text": [
      "Epoch: 8 \tTraining Loss: 1.2528 \tValidation Loss: 1.4505\n"
     ]
    },
    {
     "name": "stderr",
     "output_type": "stream",
     "text": [
      "Epoch 10 Training: 100%|██████████| 111/111 [00:02<00:00, 40.18it/s]\n",
      "Epoch 10 Validation: 100%|██████████| 28/28 [00:00<00:00, 175.95it/s]\n"
     ]
    },
    {
     "name": "stdout",
     "output_type": "stream",
     "text": [
      "Epoch: 9 \tTraining Loss: 1.2002 \tValidation Loss: 1.5074\n"
     ]
    },
    {
     "name": "stderr",
     "output_type": "stream",
     "text": [
      "Epoch 11 Training: 100%|██████████| 111/111 [00:02<00:00, 40.24it/s]\n",
      "Epoch 11 Validation: 100%|██████████| 28/28 [00:00<00:00, 178.34it/s]\n"
     ]
    },
    {
     "name": "stdout",
     "output_type": "stream",
     "text": [
      "Epoch: 10 \tTraining Loss: 1.1155 \tValidation Loss: 1.4958\n"
     ]
    },
    {
     "name": "stderr",
     "output_type": "stream",
     "text": [
      "Epoch 12 Training: 100%|██████████| 111/111 [00:02<00:00, 40.27it/s]\n",
      "Epoch 12 Validation: 100%|██████████| 28/28 [00:00<00:00, 178.54it/s]\n"
     ]
    },
    {
     "name": "stdout",
     "output_type": "stream",
     "text": [
      "Epoch: 11 \tTraining Loss: 1.1168 \tValidation Loss: 1.3816\n"
     ]
    },
    {
     "name": "stderr",
     "output_type": "stream",
     "text": [
      "Epoch 13 Training: 100%|██████████| 111/111 [00:02<00:00, 40.05it/s]\n",
      "Epoch 13 Validation: 100%|██████████| 28/28 [00:00<00:00, 175.92it/s]\n"
     ]
    },
    {
     "name": "stdout",
     "output_type": "stream",
     "text": [
      "Epoch: 12 \tTraining Loss: 0.9988 \tValidation Loss: 1.4663\n"
     ]
    },
    {
     "name": "stderr",
     "output_type": "stream",
     "text": [
      "Epoch 14 Training: 100%|██████████| 111/111 [00:02<00:00, 39.85it/s]\n",
      "Epoch 14 Validation: 100%|██████████| 28/28 [00:00<00:00, 179.49it/s]\n"
     ]
    },
    {
     "name": "stdout",
     "output_type": "stream",
     "text": [
      "Epoch: 13 \tTraining Loss: 0.9625 \tValidation Loss: 1.5368\n"
     ]
    },
    {
     "name": "stderr",
     "output_type": "stream",
     "text": [
      "Epoch 15 Training: 100%|██████████| 111/111 [00:02<00:00, 40.18it/s]\n",
      "Epoch 15 Validation: 100%|██████████| 28/28 [00:00<00:00, 171.72it/s]\n"
     ]
    },
    {
     "name": "stdout",
     "output_type": "stream",
     "text": [
      "Epoch: 14 \tTraining Loss: 0.8553 \tValidation Loss: 1.5679\n"
     ]
    },
    {
     "name": "stderr",
     "output_type": "stream",
     "text": [
      "Epoch 16 Training: 100%|██████████| 111/111 [00:02<00:00, 40.09it/s]\n",
      "Epoch 16 Validation: 100%|██████████| 28/28 [00:00<00:00, 177.64it/s]\n"
     ]
    },
    {
     "name": "stdout",
     "output_type": "stream",
     "text": [
      "Epoch: 15 \tTraining Loss: 0.8355 \tValidation Loss: 1.7971\n"
     ]
    },
    {
     "name": "stderr",
     "output_type": "stream",
     "text": [
      "Epoch 17 Training: 100%|██████████| 111/111 [00:02<00:00, 40.32it/s]\n",
      "Epoch 17 Validation: 100%|██████████| 28/28 [00:00<00:00, 168.29it/s]\n"
     ]
    },
    {
     "name": "stdout",
     "output_type": "stream",
     "text": [
      "Epoch: 16 \tTraining Loss: 0.8716 \tValidation Loss: 1.5668\n"
     ]
    },
    {
     "name": "stderr",
     "output_type": "stream",
     "text": [
      "Epoch 18 Training: 100%|██████████| 111/111 [00:02<00:00, 40.32it/s]\n",
      "Epoch 18 Validation: 100%|██████████| 28/28 [00:00<00:00, 175.90it/s]\n"
     ]
    },
    {
     "name": "stdout",
     "output_type": "stream",
     "text": [
      "Epoch: 17 \tTraining Loss: 0.7178 \tValidation Loss: 1.6561\n"
     ]
    },
    {
     "name": "stderr",
     "output_type": "stream",
     "text": [
      "Epoch 19 Training: 100%|██████████| 111/111 [00:02<00:00, 40.27it/s]\n",
      "Epoch 19 Validation: 100%|██████████| 28/28 [00:00<00:00, 179.28it/s]\n"
     ]
    },
    {
     "name": "stdout",
     "output_type": "stream",
     "text": [
      "Epoch: 18 \tTraining Loss: 0.7130 \tValidation Loss: 1.6472\n"
     ]
    },
    {
     "name": "stderr",
     "output_type": "stream",
     "text": [
      "Epoch 20 Training: 100%|██████████| 111/111 [00:02<00:00, 40.25it/s]\n",
      "Epoch 20 Validation: 100%|██████████| 28/28 [00:00<00:00, 180.78it/s]\n"
     ]
    },
    {
     "name": "stdout",
     "output_type": "stream",
     "text": [
      "Epoch: 19 \tTraining Loss: 0.6260 \tValidation Loss: 1.9866\n"
     ]
    },
    {
     "name": "stderr",
     "output_type": "stream",
     "text": [
      "Epoch 21 Training: 100%|██████████| 111/111 [00:02<00:00, 40.22it/s]\n",
      "Epoch 21 Validation: 100%|██████████| 28/28 [00:00<00:00, 172.84it/s]\n"
     ]
    },
    {
     "name": "stdout",
     "output_type": "stream",
     "text": [
      "Epoch: 20 \tTraining Loss: 0.6939 \tValidation Loss: 1.7908\n"
     ]
    },
    {
     "name": "stderr",
     "output_type": "stream",
     "text": [
      "Epoch 22 Training: 100%|██████████| 111/111 [00:02<00:00, 40.17it/s]\n",
      "Epoch 22 Validation: 100%|██████████| 28/28 [00:00<00:00, 178.73it/s]\n"
     ]
    },
    {
     "name": "stdout",
     "output_type": "stream",
     "text": [
      "Epoch: 21 \tTraining Loss: 0.5050 \tValidation Loss: 2.0178\n"
     ]
    },
    {
     "name": "stderr",
     "output_type": "stream",
     "text": [
      "Epoch 23 Training: 100%|██████████| 111/111 [00:02<00:00, 40.20it/s]\n",
      "Epoch 23 Validation: 100%|██████████| 28/28 [00:00<00:00, 180.65it/s]\n"
     ]
    },
    {
     "name": "stdout",
     "output_type": "stream",
     "text": [
      "Epoch: 22 \tTraining Loss: 0.4391 \tValidation Loss: 1.9417\n"
     ]
    },
    {
     "name": "stderr",
     "output_type": "stream",
     "text": [
      "Epoch 24 Training: 100%|██████████| 111/111 [00:02<00:00, 40.17it/s]\n",
      "Epoch 24 Validation: 100%|██████████| 28/28 [00:00<00:00, 175.00it/s]\n"
     ]
    },
    {
     "name": "stdout",
     "output_type": "stream",
     "text": [
      "Epoch: 23 \tTraining Loss: 0.4031 \tValidation Loss: 1.9261\n"
     ]
    },
    {
     "name": "stderr",
     "output_type": "stream",
     "text": [
      "Epoch 25 Training: 100%|██████████| 111/111 [00:02<00:00, 40.18it/s]\n",
      "Epoch 25 Validation: 100%|██████████| 28/28 [00:00<00:00, 178.07it/s]\n"
     ]
    },
    {
     "name": "stdout",
     "output_type": "stream",
     "text": [
      "Epoch: 24 \tTraining Loss: 0.4500 \tValidation Loss: 2.1057\n"
     ]
    },
    {
     "name": "stderr",
     "output_type": "stream",
     "text": [
      "Epoch 26 Training: 100%|██████████| 111/111 [00:02<00:00, 40.27it/s]\n",
      "Epoch 26 Validation: 100%|██████████| 28/28 [00:00<00:00, 178.34it/s]\n"
     ]
    },
    {
     "name": "stdout",
     "output_type": "stream",
     "text": [
      "Epoch: 25 \tTraining Loss: 0.3419 \tValidation Loss: 2.2166\n"
     ]
    },
    {
     "name": "stderr",
     "output_type": "stream",
     "text": [
      "Epoch 27 Training: 100%|██████████| 111/111 [00:02<00:00, 40.19it/s]\n",
      "Epoch 27 Validation: 100%|██████████| 28/28 [00:00<00:00, 179.48it/s]\n"
     ]
    },
    {
     "name": "stdout",
     "output_type": "stream",
     "text": [
      "Epoch: 26 \tTraining Loss: 0.3164 \tValidation Loss: 2.2680\n"
     ]
    },
    {
     "name": "stderr",
     "output_type": "stream",
     "text": [
      "Epoch 28 Training: 100%|██████████| 111/111 [00:02<00:00, 40.23it/s]\n",
      "Epoch 28 Validation: 100%|██████████| 28/28 [00:00<00:00, 180.21it/s]\n"
     ]
    },
    {
     "name": "stdout",
     "output_type": "stream",
     "text": [
      "Epoch: 27 \tTraining Loss: 0.2693 \tValidation Loss: 2.3944\n"
     ]
    },
    {
     "name": "stderr",
     "output_type": "stream",
     "text": [
      "Epoch 29 Training: 100%|██████████| 111/111 [00:02<00:00, 40.10it/s]\n",
      "Epoch 29 Validation: 100%|██████████| 28/28 [00:00<00:00, 181.92it/s]\n"
     ]
    },
    {
     "name": "stdout",
     "output_type": "stream",
     "text": [
      "Epoch: 28 \tTraining Loss: 0.2801 \tValidation Loss: 2.4360\n"
     ]
    },
    {
     "name": "stderr",
     "output_type": "stream",
     "text": [
      "Epoch 30 Training: 100%|██████████| 111/111 [00:02<00:00, 39.85it/s]\n",
      "Epoch 30 Validation: 100%|██████████| 28/28 [00:00<00:00, 178.93it/s]"
     ]
    },
    {
     "name": "stdout",
     "output_type": "stream",
     "text": [
      "Epoch: 29 \tTraining Loss: 0.2440 \tValidation Loss: 2.6240\n"
     ]
    },
    {
     "name": "stderr",
     "output_type": "stream",
     "text": [
      "\n"
     ]
    }
   ],
   "source": [
    "# Import the necessary library\n",
    "from tqdm import tqdm\n",
    "\n",
    "# Check if CUDA is available and set PyTorch to use GPU or CPU\n",
    "device = torch.device(\"cuda:0\" if torch.cuda.is_available() else \"cpu\")\n",
    "print(\"Device set to\", device)\n",
    "\n",
    "# Move the model to GPU if available\n",
    "model = model.to(device)\n",
    "optimizer = torch.optim.Adam(model.parameters())\n",
    "# Set the number of epochs\n",
    "n_epochs = 30\n",
    "\n",
    "# Create lists to store the losses\n",
    "train_losses = []\n",
    "val_losses = []\n",
    "\n",
    "# Loop over the epochs\n",
    "for epoch in range(n_epochs):\n",
    "    # Training\n",
    "    model.train()\n",
    "    train_loss = 0.0\n",
    "    for inputs, targets in tqdm(train_loader, desc=f\"Epoch {epoch+1} Training\"):\n",
    "        inputs = inputs.repeat(1, 3, 1, 1).to(device)  # for resnet\n",
    "        _, targets = targets.max(dim=1)\n",
    "        targets = targets.to(device)\n",
    "\n",
    "        # Forward pass\n",
    "        output = model(inputs)\n",
    "        loss = loss_fn(output, targets)\n",
    "\n",
    "        # Backward pass and optimization\n",
    "        optimizer.zero_grad()\n",
    "        loss.backward()\n",
    "        optimizer.step()\n",
    "        \n",
    "        train_loss += loss.item() * inputs.size(0)\n",
    "\n",
    "    # Validation\n",
    "    model.eval()\n",
    "    val_loss = 0.0\n",
    "    with torch.no_grad():\n",
    "        for inputs, targets in tqdm(val_loader, desc=f\"Epoch {epoch+1} Validation\"):\n",
    "            inputs = inputs.repeat(1, 3, 1, 1).to(device)  # for resnet\n",
    "            _, targets = targets.max(dim=1)  # convert one-hot encoded targets to class indices\n",
    "            targets = targets.to(device)\n",
    "\n",
    "            # Forward pass\n",
    "            output = model(inputs)\n",
    "            loss = loss_fn(output, targets)\n",
    "            \n",
    "            val_loss += loss.item() * inputs.size(0)\n",
    "\n",
    "    # Calculate average losses\n",
    "    train_loss = train_loss / len(train_loader.dataset)\n",
    "    val_loss = val_loss / len(val_loader.dataset)\n",
    "\n",
    "    # Store the average losses\n",
    "    train_losses.append(train_loss)\n",
    "    val_losses.append(val_loss)\n",
    "\n",
    "    # Print training statistics \n",
    "    print(f'Epoch: {epoch} \\tTraining Loss: {train_loss:.4f} \\tValidation Loss: {val_loss:.4f}')\n"
   ]
  },
  {
   "cell_type": "code",
   "execution_count": 182,
   "metadata": {},
   "outputs": [
    {
     "data": {
      "image/png": "[encoded data removed]",
      "text/plain": [
       "<Figure size 640x480 with 1 Axes>"
      ]
     },
     "metadata": {},
     "output_type": "display_data"
    }
   ],
   "source": [
    "import matplotlib.pyplot as plt\n",
    "# Plot the training and validation losses\n",
    "plt.figure()\n",
    "plt.plot(train_losses, label='Training loss')\n",
    "plt.plot(val_losses, label='Validation loss')\n",
    "plt.title('Training and validation loss')\n",
    "plt.xlabel('Epochs')\n",
    "plt.ylabel('Loss')\n",
    "plt.legend()\n",
    "plt.show()"
   ]
  },
  {
   "cell_type": "code",
   "execution_count": 185,
   "metadata": {},
   "outputs": [
    {
     "name": "stdout",
     "output_type": "stream",
     "text": [
      "Device set to cuda:0\n"
     ]
    },
    {
     "name": "stderr",
     "output_type": "stream",
     "text": [
      "Epoch 1 Training: 100%|██████████| 111/111 [00:03<00:00, 36.40it/s]\n",
      "Epoch 1 Validation: 100%|██████████| 28/28 [00:00<00:00, 176.10it/s]\n"
     ]
    },
    {
     "name": "stdout",
     "output_type": "stream",
     "text": [
      "Epoch: 0 \tTraining Loss: 0.1032 \tValidation Loss: 3.0002\n"
     ]
    },
    {
     "name": "stderr",
     "output_type": "stream",
     "text": [
      "Epoch 2 Training: 100%|██████████| 111/111 [00:02<00:00, 39.93it/s]\n",
      "Epoch 2 Validation: 100%|██████████| 28/28 [00:00<00:00, 176.03it/s]\n"
     ]
    },
    {
     "name": "stdout",
     "output_type": "stream",
     "text": [
      "Epoch: 1 \tTraining Loss: 0.0866 \tValidation Loss: 2.9378\n"
     ]
    },
    {
     "name": "stderr",
     "output_type": "stream",
     "text": [
      "Epoch 3 Training: 100%|██████████| 111/111 [00:02<00:00, 39.90it/s]\n",
      "Epoch 3 Validation: 100%|██████████| 28/28 [00:00<00:00, 180.64it/s]\n"
     ]
    },
    {
     "name": "stdout",
     "output_type": "stream",
     "text": [
      "Epoch: 2 \tTraining Loss: 0.0703 \tValidation Loss: 3.0011\n"
     ]
    },
    {
     "name": "stderr",
     "output_type": "stream",
     "text": [
      "Epoch 4 Training: 100%|██████████| 111/111 [00:02<00:00, 39.96it/s]\n",
      "Epoch 4 Validation: 100%|██████████| 28/28 [00:00<00:00, 178.87it/s]\n"
     ]
    },
    {
     "name": "stdout",
     "output_type": "stream",
     "text": [
      "Epoch: 3 \tTraining Loss: 0.0942 \tValidation Loss: 2.7911\n"
     ]
    },
    {
     "name": "stderr",
     "output_type": "stream",
     "text": [
      "Epoch 5 Training: 100%|██████████| 111/111 [00:02<00:00, 39.79it/s]\n",
      "Epoch 5 Validation: 100%|██████████| 28/28 [00:00<00:00, 173.55it/s]\n"
     ]
    },
    {
     "name": "stdout",
     "output_type": "stream",
     "text": [
      "Epoch: 4 \tTraining Loss: 0.0794 \tValidation Loss: 3.2085\n"
     ]
    },
    {
     "name": "stderr",
     "output_type": "stream",
     "text": [
      "Epoch 6 Training: 100%|██████████| 111/111 [00:02<00:00, 39.86it/s]\n",
      "Epoch 6 Validation: 100%|██████████| 28/28 [00:00<00:00, 174.65it/s]\n"
     ]
    },
    {
     "name": "stdout",
     "output_type": "stream",
     "text": [
      "Epoch: 5 \tTraining Loss: 0.1377 \tValidation Loss: 2.5888\n"
     ]
    },
    {
     "name": "stderr",
     "output_type": "stream",
     "text": [
      "Epoch 7 Training: 100%|██████████| 111/111 [00:02<00:00, 39.93it/s]\n",
      "Epoch 7 Validation: 100%|██████████| 28/28 [00:00<00:00, 175.11it/s]\n"
     ]
    },
    {
     "name": "stdout",
     "output_type": "stream",
     "text": [
      "Epoch: 6 \tTraining Loss: 0.0742 \tValidation Loss: 2.6697\n"
     ]
    },
    {
     "name": "stderr",
     "output_type": "stream",
     "text": [
      "Epoch 8 Training: 100%|██████████| 111/111 [00:02<00:00, 39.80it/s]\n",
      "Epoch 8 Validation: 100%|██████████| 28/28 [00:00<00:00, 175.00it/s]\n"
     ]
    },
    {
     "name": "stdout",
     "output_type": "stream",
     "text": [
      "Epoch: 7 \tTraining Loss: 0.0821 \tValidation Loss: 2.8279\n"
     ]
    },
    {
     "name": "stderr",
     "output_type": "stream",
     "text": [
      "Epoch 9 Training: 100%|██████████| 111/111 [00:02<00:00, 39.52it/s]\n",
      "Epoch 9 Validation: 100%|██████████| 28/28 [00:00<00:00, 176.97it/s]\n"
     ]
    },
    {
     "name": "stdout",
     "output_type": "stream",
     "text": [
      "Epoch: 8 \tTraining Loss: 0.0683 \tValidation Loss: 2.7428\n"
     ]
    },
    {
     "name": "stderr",
     "output_type": "stream",
     "text": [
      "Epoch 10 Training: 100%|██████████| 111/111 [00:02<00:00, 39.71it/s]\n",
      "Epoch 10 Validation: 100%|██████████| 28/28 [00:00<00:00, 177.33it/s]\n"
     ]
    },
    {
     "name": "stdout",
     "output_type": "stream",
     "text": [
      "Epoch: 9 \tTraining Loss: 0.0609 \tValidation Loss: 2.8071\n"
     ]
    },
    {
     "name": "stderr",
     "output_type": "stream",
     "text": [
      "Epoch 11 Training: 100%|██████████| 111/111 [00:02<00:00, 39.89it/s]\n",
      "Epoch 11 Validation: 100%|██████████| 28/28 [00:00<00:00, 175.44it/s]\n"
     ]
    },
    {
     "name": "stdout",
     "output_type": "stream",
     "text": [
      "Epoch: 10 \tTraining Loss: 0.0794 \tValidation Loss: 2.7301\n"
     ]
    },
    {
     "name": "stderr",
     "output_type": "stream",
     "text": [
      "Epoch 12 Training: 100%|██████████| 111/111 [00:02<00:00, 39.86it/s]\n",
      "Epoch 12 Validation: 100%|██████████| 28/28 [00:00<00:00, 177.22it/s]\n"
     ]
    },
    {
     "name": "stdout",
     "output_type": "stream",
     "text": [
      "Epoch: 11 \tTraining Loss: 0.0847 \tValidation Loss: 2.9099\n"
     ]
    },
    {
     "name": "stderr",
     "output_type": "stream",
     "text": [
      "Epoch 13 Training: 100%|██████████| 111/111 [00:02<00:00, 39.86it/s]\n",
      "Epoch 13 Validation: 100%|██████████| 28/28 [00:00<00:00, 177.87it/s]\n"
     ]
    },
    {
     "name": "stdout",
     "output_type": "stream",
     "text": [
      "Epoch: 12 \tTraining Loss: 0.1024 \tValidation Loss: 2.6445\n"
     ]
    },
    {
     "name": "stderr",
     "output_type": "stream",
     "text": [
      "Epoch 14 Training: 100%|██████████| 111/111 [00:02<00:00, 40.02it/s]\n",
      "Epoch 14 Validation: 100%|██████████| 28/28 [00:00<00:00, 177.90it/s]\n"
     ]
    },
    {
     "name": "stdout",
     "output_type": "stream",
     "text": [
      "Epoch: 13 \tTraining Loss: 0.0452 \tValidation Loss: 3.1589\n"
     ]
    },
    {
     "name": "stderr",
     "output_type": "stream",
     "text": [
      "Epoch 15 Training: 100%|██████████| 111/111 [00:02<00:00, 40.14it/s]\n",
      "Epoch 15 Validation: 100%|██████████| 28/28 [00:00<00:00, 176.10it/s]\n"
     ]
    },
    {
     "name": "stdout",
     "output_type": "stream",
     "text": [
      "Epoch: 14 \tTraining Loss: 0.0653 \tValidation Loss: 3.6044\n"
     ]
    },
    {
     "name": "stderr",
     "output_type": "stream",
     "text": [
      "Epoch 16 Training: 100%|██████████| 111/111 [00:02<00:00, 40.23it/s]\n",
      "Epoch 16 Validation: 100%|██████████| 28/28 [00:00<00:00, 179.49it/s]\n"
     ]
    },
    {
     "name": "stdout",
     "output_type": "stream",
     "text": [
      "Epoch: 15 \tTraining Loss: 0.1211 \tValidation Loss: 2.7956\n"
     ]
    },
    {
     "name": "stderr",
     "output_type": "stream",
     "text": [
      "Epoch 17 Training: 100%|██████████| 111/111 [00:02<00:00, 40.12it/s]\n",
      "Epoch 17 Validation: 100%|██████████| 28/28 [00:00<00:00, 179.37it/s]\n"
     ]
    },
    {
     "name": "stdout",
     "output_type": "stream",
     "text": [
      "Epoch: 16 \tTraining Loss: 0.2858 \tValidation Loss: 2.8225\n"
     ]
    },
    {
     "name": "stderr",
     "output_type": "stream",
     "text": [
      "Epoch 18 Training: 100%|██████████| 111/111 [00:02<00:00, 40.18it/s]\n",
      "Epoch 18 Validation: 100%|██████████| 28/28 [00:00<00:00, 176.10it/s]\n"
     ]
    },
    {
     "name": "stdout",
     "output_type": "stream",
     "text": [
      "Epoch: 17 \tTraining Loss: 0.4002 \tValidation Loss: 2.3112\n"
     ]
    },
    {
     "name": "stderr",
     "output_type": "stream",
     "text": [
      "Epoch 19 Training: 100%|██████████| 111/111 [00:02<00:00, 40.09it/s]\n",
      "Epoch 19 Validation: 100%|██████████| 28/28 [00:00<00:00, 177.92it/s]\n"
     ]
    },
    {
     "name": "stdout",
     "output_type": "stream",
     "text": [
      "Epoch: 18 \tTraining Loss: 0.1311 \tValidation Loss: 2.6768\n"
     ]
    },
    {
     "name": "stderr",
     "output_type": "stream",
     "text": [
      "Epoch 20 Training: 100%|██████████| 111/111 [00:02<00:00, 40.11it/s]\n",
      "Epoch 20 Validation: 100%|██████████| 28/28 [00:00<00:00, 180.65it/s]\n"
     ]
    },
    {
     "name": "stdout",
     "output_type": "stream",
     "text": [
      "Epoch: 19 \tTraining Loss: 0.0647 \tValidation Loss: 2.8447\n"
     ]
    },
    {
     "name": "stderr",
     "output_type": "stream",
     "text": [
      "Epoch 21 Training: 100%|██████████| 111/111 [00:02<00:00, 40.09it/s]\n",
      "Epoch 21 Validation: 100%|██████████| 28/28 [00:00<00:00, 177.53it/s]\n"
     ]
    },
    {
     "name": "stdout",
     "output_type": "stream",
     "text": [
      "Epoch: 20 \tTraining Loss: 0.0650 \tValidation Loss: 3.0413\n"
     ]
    },
    {
     "name": "stderr",
     "output_type": "stream",
     "text": [
      "Epoch 22 Training: 100%|██████████| 111/111 [00:02<00:00, 40.02it/s]\n",
      "Epoch 22 Validation: 100%|██████████| 28/28 [00:00<00:00, 172.31it/s]\n"
     ]
    },
    {
     "name": "stdout",
     "output_type": "stream",
     "text": [
      "Epoch: 21 \tTraining Loss: 0.0665 \tValidation Loss: 2.8617\n"
     ]
    },
    {
     "name": "stderr",
     "output_type": "stream",
     "text": [
      "Epoch 23 Training: 100%|██████████| 111/111 [00:02<00:00, 40.18it/s]\n",
      "Epoch 23 Validation: 100%|██████████| 28/28 [00:00<00:00, 177.36it/s]\n"
     ]
    },
    {
     "name": "stdout",
     "output_type": "stream",
     "text": [
      "Epoch: 22 \tTraining Loss: 0.0662 \tValidation Loss: 2.9926\n"
     ]
    },
    {
     "name": "stderr",
     "output_type": "stream",
     "text": [
      "Epoch 24 Training: 100%|██████████| 111/111 [00:02<00:00, 40.04it/s]\n",
      "Epoch 24 Validation: 100%|██████████| 28/28 [00:00<00:00, 176.10it/s]\n"
     ]
    },
    {
     "name": "stdout",
     "output_type": "stream",
     "text": [
      "Epoch: 23 \tTraining Loss: 0.0496 \tValidation Loss: 2.7744\n"
     ]
    },
    {
     "name": "stderr",
     "output_type": "stream",
     "text": [
      "Epoch 25 Training: 100%|██████████| 111/111 [00:02<00:00, 40.10it/s]\n",
      "Epoch 25 Validation: 100%|██████████| 28/28 [00:00<00:00, 180.65it/s]\n"
     ]
    },
    {
     "name": "stdout",
     "output_type": "stream",
     "text": [
      "Epoch: 24 \tTraining Loss: 0.0488 \tValidation Loss: 2.8034\n"
     ]
    },
    {
     "name": "stderr",
     "output_type": "stream",
     "text": [
      "Epoch 26 Training: 100%|██████████| 111/111 [00:02<00:00, 40.05it/s]\n",
      "Epoch 26 Validation: 100%|██████████| 28/28 [00:00<00:00, 177.80it/s]\n"
     ]
    },
    {
     "name": "stdout",
     "output_type": "stream",
     "text": [
      "Epoch: 25 \tTraining Loss: 0.0533 \tValidation Loss: 2.8597\n"
     ]
    },
    {
     "name": "stderr",
     "output_type": "stream",
     "text": [
      "Epoch 27 Training: 100%|██████████| 111/111 [00:02<00:00, 40.09it/s]\n",
      "Epoch 27 Validation: 100%|██████████| 28/28 [00:00<00:00, 178.34it/s]\n"
     ]
    },
    {
     "name": "stdout",
     "output_type": "stream",
     "text": [
      "Epoch: 26 \tTraining Loss: 0.0535 \tValidation Loss: 2.8398\n"
     ]
    },
    {
     "name": "stderr",
     "output_type": "stream",
     "text": [
      "Epoch 28 Training: 100%|██████████| 111/111 [00:02<00:00, 39.83it/s]\n",
      "Epoch 28 Validation: 100%|██████████| 28/28 [00:00<00:00, 177.22it/s]\n"
     ]
    },
    {
     "name": "stdout",
     "output_type": "stream",
     "text": [
      "Epoch: 27 \tTraining Loss: 0.0378 \tValidation Loss: 3.1742\n"
     ]
    },
    {
     "name": "stderr",
     "output_type": "stream",
     "text": [
      "Epoch 29 Training: 100%|██████████| 111/111 [00:02<00:00, 40.18it/s]\n",
      "Epoch 29 Validation: 100%|██████████| 28/28 [00:00<00:00, 180.65it/s]\n"
     ]
    },
    {
     "name": "stdout",
     "output_type": "stream",
     "text": [
      "Epoch: 28 \tTraining Loss: 0.0511 \tValidation Loss: 3.2181\n"
     ]
    },
    {
     "name": "stderr",
     "output_type": "stream",
     "text": [
      "Epoch 30 Training: 100%|██████████| 111/111 [00:02<00:00, 39.93it/s]\n",
      "Epoch 30 Validation: 100%|██████████| 28/28 [00:00<00:00, 178.34it/s]"
     ]
    },
    {
     "name": "stdout",
     "output_type": "stream",
     "text": [
      "Epoch: 29 \tTraining Loss: 0.0403 \tValidation Loss: 3.3282\n"
     ]
    },
    {
     "name": "stderr",
     "output_type": "stream",
     "text": [
      "\n"
     ]
    }
   ],
   "source": [
    "mean = 0.5\n",
    "std = 0.5\n",
    "\n",
    "\n",
    "# Import the necessary library\n",
    "from tqdm import tqdm\n",
    "\n",
    "# Check if CUDA is available and set PyTorch to use GPU or CPU\n",
    "device = torch.device(\"cuda:0\" if torch.cuda.is_available() else \"cpu\")\n",
    "print(\"Device set to\", device)\n",
    "\n",
    "# Move the model to GPU if available\n",
    "model = model.to(device)\n",
    "optimizer = torch.optim.Adam(model.parameters())\n",
    "# Set the number of epochs\n",
    "n_epochs = 30\n",
    "\n",
    "# Create lists to store the losses\n",
    "train_losses = []\n",
    "val_losses = []\n",
    "\n",
    "# Loop over the epochs\n",
    "for epoch in range(n_epochs):\n",
    "    # Training\n",
    "    model.train()\n",
    "    train_loss = 0.0\n",
    "    for inputs, targets in tqdm(train_loader, desc=f\"Epoch {epoch+1} Training\"):\n",
    "        inputs = inputs.repeat(1, 3, 1, 1).to(device)  # for resnet\n",
    "        inputs = (inputs - mean) / std\n",
    "        _, targets = targets.max(dim=1)\n",
    "        targets = targets.to(device)\n",
    "\n",
    "        # Forward pass\n",
    "        output = model(inputs)\n",
    "        loss = loss_fn(output, targets)\n",
    "\n",
    "        # Backward pass and optimization\n",
    "        optimizer.zero_grad()\n",
    "        loss.backward()\n",
    "        optimizer.step()\n",
    "        \n",
    "        train_loss += loss.item() * inputs.size(0)\n",
    "\n",
    "    # Validation\n",
    "    model.eval()\n",
    "    val_loss = 0.0\n",
    "    with torch.no_grad():\n",
    "        for inputs, targets in tqdm(val_loader, desc=f\"Epoch {epoch+1} Validation\"):\n",
    "            inputs = inputs.repeat(1, 3, 1, 1).to(device)  # for resnet\n",
    "            inputs = (inputs - mean) / std\n",
    "            _, targets = targets.max(dim=1)  # convert one-hot encoded targets to class indices\n",
    "            targets = targets.to(device)\n",
    "\n",
    "            # Forward pass\n",
    "            output = model(inputs)\n",
    "            loss = loss_fn(output, targets)\n",
    "            \n",
    "            val_loss += loss.item() * inputs.size(0)\n",
    "\n",
    "    # Calculate average losses\n",
    "    train_loss = train_loss / len(train_loader.dataset)\n",
    "    val_loss = val_loss / len(val_loader.dataset)\n",
    "\n",
    "    # Store the average losses\n",
    "    train_losses.append(train_loss)\n",
    "    val_losses.append(val_loss)\n",
    "\n",
    "    # Print training statistics \n",
    "    print(f'Epoch: {epoch} \\tTraining Loss: {train_loss:.4f} \\tValidation Loss: {val_loss:.4f}')\n"
   ]
  },
  {
   "cell_type": "code",
   "execution_count": 186,
   "metadata": {},
   "outputs": [
    {
     "data": {
      "image/png": "[encoded data removed]",
      "text/plain": [
       "<Figure size 640x480 with 1 Axes>"
      ]
     },
     "metadata": {},
     "output_type": "display_data"
    }
   ],
   "source": [
    "import matplotlib.pyplot as plt\n",
    "# Plot the training and validation losses\n",
    "plt.figure()\n",
    "plt.plot(train_losses, label='Training loss')\n",
    "plt.plot(val_losses, label='Validation loss')\n",
    "plt.title('Training and validation loss')\n",
    "plt.xlabel('Epochs')\n",
    "plt.ylabel('Loss')\n",
    "plt.legend()\n",
    "plt.show()"
   ]
  },
  {
   "cell_type": "code",
   "execution_count": 70,
   "metadata": {},
   "outputs": [],
   "source": [
    "#Cut audio\n",
    "import os\n",
    "import numpy as np\n",
    "import librosa\n",
    "\n",
    "def load_audio(fname, sr=22050):\n",
    "    # Paths to the audio files\n",
    "    audio_path_curated = 'train_curated'  # Adjust these paths according to your directory structure\n",
    "    audio_path_noisy = 'train_noisy'  # Adjust these paths according to your directory structure\n",
    "\n",
    "    # Check if the file exists in the curated directory\n",
    "    if os.path.exists(os.path.join(audio_path_curated, fname)):\n",
    "        filename = os.path.join(audio_path_curated, fname)\n",
    "    # Otherwise, check the noisy directory\n",
    "    elif os.path.exists(os.path.join(audio_path_noisy, fname)):\n",
    "        filename = os.path.join(audio_path_noisy, fname)\n",
    "    else:\n",
    "        raise FileNotFoundError(f\"{fname} not found in both directories.\")\n",
    "    \n",
    "    # Load the audio file\n",
    "    y, _ = librosa.load(filename, sr=sr)\n",
    "    \n",
    "    return y\n"
   ]
  },
  {
   "cell_type": "code",
   "execution_count": 71,
   "metadata": {},
   "outputs": [],
   "source": [
    "#  Augment audio\n",
    "# 1. random streach\n",
    "# 2. cut in 2 'durcation' seconds (in random position)\n",
    "# 3. random pich shift\n",
    "# 4. random noise \n",
    "\n",
    "import random\n",
    "\n",
    "def augment_audio(y, duration=2, sr=22050): #ducation = 2seconds\n",
    "    # Apply time stretching\n",
    "    rate = random.uniform(0.9, 1.1)  # Randomly vary the speed between 80% and 120%\n",
    "    y = librosa.effects.time_stretch(y, rate = rate)\n",
    "\n",
    "    ## Cut audio\n",
    "    # If the audio is too short, pad it with zeros\n",
    "    if len(y) < sr * duration:\n",
    "        y = np.pad(y, (0, int(sr * duration) - len(y)))\n",
    "    \n",
    "    # If the audio is too long, randomly select a segment\n",
    "    if len(y) > sr * duration:\n",
    "        max_start_index = len(y) - int(sr * duration) #audio lengh - 2 seconds\n",
    "        start_index = np.random.randint(0, max_start_index) # start anywhere except the last 2 seconds\n",
    "        y = y[start_index:start_index + int(sr * duration)] # cut anywhere 2 seconds\n",
    "\n",
    "    # Apply pitch shifting\n",
    "    steps = random.randint(-1, 1)  # Randomly vary the pitch by up to n semitones\n",
    "    y = librosa.effects.pitch_shift(y, sr = sr , n_steps= steps)\n",
    "\n",
    "    # Apply additive noise\n",
    "    noise = np.random.normal(0, 0.01, len(y))  # White noise with a standard deviation of 0.1\n",
    "    y += noise\n",
    "    \n",
    "    return y"
   ]
  },
  {
   "cell_type": "code",
   "execution_count": 72,
   "metadata": {},
   "outputs": [],
   "source": [
    "def get_mel_spectrogram(y, sr=22050, n_fft=2048, hop_length=512, n_mels=128):\n",
    "    # Compute the spectrogram\n",
    "    D = librosa.stft(y, n_fft=n_fft, hop_length=hop_length)\n",
    "    D_abs = np.abs(D)\n",
    "    # Convert to Mel scale\n",
    "    mel_spec = librosa.feature.melspectrogram(S=librosa.amplitude_to_db(D_abs), sr=sr, n_mels=n_mels)\n",
    "    # Normalize\n",
    "    mel_spec = (mel_spec - np.mean(mel_spec)) / np.std(mel_spec)\n",
    "    return mel_spec"
   ]
  },
  {
   "cell_type": "code",
   "execution_count": 51,
   "metadata": {},
   "outputs": [
    {
     "name": "stdout",
     "output_type": "stream",
     "text": [
      "if the number doesnt increase ,stop the code and run the vscode with admin\n"
     ]
    },
    {
     "name": "stderr",
     "output_type": "stream",
     "text": [
      " 93%|█████████▎| 4711/5061 [21:07<00:33, 10.50it/s]c:\\ProgramData\\anaconda3\\Lib\\site-packages\\librosa\\core\\spectrum.py:256: UserWarning: n_fft=2048 is too large for input signal of length=1323\n",
      "  warnings.warn(\n",
      "100%|█████████▉| 5038/5061 [21:56<00:02,  8.55it/s]c:\\ProgramData\\anaconda3\\Lib\\site-packages\\librosa\\core\\spectrum.py:256: UserWarning: n_fft=2048 is too large for input signal of length=1103\n",
      "  warnings.warn(\n",
      "c:\\ProgramData\\anaconda3\\Lib\\site-packages\\librosa\\core\\spectrum.py:256: UserWarning: n_fft=2048 is too large for input signal of length=1103\n",
      "  warnings.warn(\n",
      "100%|█████████▉| 5040/5061 [21:56<00:02,  9.54it/s]c:\\ProgramData\\anaconda3\\Lib\\site-packages\\librosa\\core\\spectrum.py:256: UserWarning: n_fft=2048 is too large for input signal of length=1323\n",
      "  warnings.warn(\n",
      "c:\\ProgramData\\anaconda3\\Lib\\site-packages\\librosa\\core\\spectrum.py:256: UserWarning: n_fft=2048 is too large for input signal of length=1523\n",
      "  warnings.warn(\n",
      "100%|██████████| 5061/5061 [21:59<00:00,  3.84it/s]\n"
     ]
    }
   ],
   "source": [
    "from tqdm import tqdm\n",
    "# 1. load audio\n",
    "# 2. augment audio\n",
    "# 3. get mel spectrogram\n",
    "# 4. extend a new labels (since it got bigger)\n",
    "\n",
    "spectrograms = []\n",
    "labels = []\n",
    "print(\"if the number doesnt increase ,stop the code and run the vscode with admin\")\n",
    "# Load, cut, augment, and get the spectrogram of each audio file 10 times\n",
    "for i in tqdm(range(len(df))):\n",
    "    filename = df.iloc[i]['fname']\n",
    "    label = df.iloc[i].drop('fname').values  # Get the label of the audio file\n",
    "    # Load and cut the audio\n",
    "    y = load_audio(filename)\n",
    "    \n",
    "    for _ in range(3):    \n",
    "        # Augment the audio\n",
    "        y_aug = augment_audio(y,duration=2)\n",
    "        \n",
    "        # Get the spectrogram of the augmented audio\n",
    "        mel_spec = get_mel_spectrogram(y_aug)\n",
    "        \n",
    "        # Add the spectrogram to the list\n",
    "        spectrograms.append(mel_spec)\n",
    "        \n",
    "        # Add the label to the list\n",
    "        labels.append(label)\n"
   ]
  },
  {
   "cell_type": "code",
   "execution_count": 53,
   "metadata": {},
   "outputs": [
    {
     "data": {
      "text/plain": [
       "array([[ 2.79442   ,  1.7331772 ,  2.2051938 , ...,  2.279593  ,\n",
       "        -0.36564645, -2.2140405 ],\n",
       "       [ 4.0046115 ,  4.9025083 ,  4.6059484 , ...,  0.45981637,\n",
       "        -2.7780347 , -3.433365  ],\n",
       "       [ 2.0856059 ,  3.1232657 ,  3.2347822 , ..., -0.25546935,\n",
       "        -1.2753102 , -0.62225807],\n",
       "       ...,\n",
       "       [-0.65993476, -0.385116  , -0.12038442, ...,  0.35345322,\n",
       "        -0.00870939, -0.22241879],\n",
       "       [-0.546549  , -0.05254431, -0.4851783 , ...,  0.12559652,\n",
       "        -0.44097492, -0.75552255],\n",
       "       [-0.86536986, -0.2098081 , -0.19708656, ..., -0.22394435,\n",
       "        -0.33812565, -0.76979554]], dtype=float32)"
      ]
     },
     "execution_count": 53,
     "metadata": {},
     "output_type": "execute_result"
    }
   ],
   "source": [
    "# Convert the list of spectrograms and labels to numpy arrays\n",
    "spectrograms = np.array(spectrograms)\n",
    "spectrograms[0]"
   ]
  },
  {
   "cell_type": "code",
   "execution_count": 54,
   "metadata": {},
   "outputs": [],
   "source": [
    "# Save both npy (since it takes too long to make)\n",
    "np.save('np_spectrograms.npy', spectrograms)\n",
    "np.save('np_labels_aug.npy',labels)"
   ]
  },
  {
   "cell_type": "code",
   "execution_count": 73,
   "metadata": {},
   "outputs": [],
   "source": [
    "# Load the spectrograms array from the .npy file\n",
    "spectrograms_loaded = np.load('np_spectrograms.npy')\n",
    "labels = np.load('np_labels_aug.npy', allow_pickle=True)"
   ]
  },
  {
   "cell_type": "code",
   "execution_count": 74,
   "metadata": {},
   "outputs": [
    {
     "name": "stdout",
     "output_type": "stream",
     "text": [
      "15183,128,87\n",
      "15183,13,"
     ]
    }
   ],
   "source": [
    "# Check length\n",
    "print(len(spectrograms_loaded),end=',')\n",
    "print(len(spectrograms_loaded[0]),end=',')\n",
    "print(len(spectrograms_loaded[0][0]))\n",
    "print(len(labels),end=',')\n",
    "print(len(labels[0]),end=',')"
   ]
  },
  {
   "cell_type": "code",
   "execution_count": 87,
   "metadata": {},
   "outputs": [],
   "source": [
    "#if use CNN type 1, if use resnet 18 type 2 , resnet 34 is type 3\n",
    "def ModelSelect(select):\n",
    "\n",
    "    if select == 1:\n",
    "        import torch\n",
    "        import torch.nn as nn\n",
    "\n",
    "        class AudioClassifier(nn.Module):\n",
    "            def __init__(self):\n",
    "                super(AudioClassifier, self).__init__()\n",
    "                self.conv1 = nn.Conv2d(1, 64, 3, padding=1)\n",
    "                self.bn1 = nn.BatchNorm2d(64)  # Add batch normalization\n",
    "                self.dropout1 = nn.Dropout(0.2)  # Add dropout layer\n",
    "\n",
    "                self.conv2 = nn.Conv2d(64, 128, 3, padding=1)\n",
    "                self.bn2 = nn.BatchNorm2d(128)  # Add batch normalization\n",
    "                self.dropout2 = nn.Dropout(0.2)  # Add dropout layer\n",
    "\n",
    "                self.fc1 = nn.Linear(128*32*21, 1024)\n",
    "                self.dropout3 = nn.Dropout(0.5)  # Add dropout layer\n",
    "\n",
    "                self.fc2 = nn.Linear(1024, len(mlb.classes_))\n",
    "\n",
    "            def forward(self, x):\n",
    "                x = x.unsqueeze(1)  # Add an extra dimension for the single channel\n",
    "                x = self.dropout1(torch.relu(self.bn1(self.conv1(x))))\n",
    "                x = torch.max_pool2d(x, 2)\n",
    "                x = self.dropout2(torch.relu(self.bn2(self.conv2(x))))\n",
    "                x = torch.max_pool2d(x, 2)\n",
    "                x = x.view(x.size(0), -1)  # Flatten the tensor\n",
    "                x = self.dropout3(torch.relu(self.fc1(x)))\n",
    "                x = self.fc2(x)\n",
    "                return x\n",
    "\n",
    "        model = AudioClassifier()\n",
    "\n",
    "        print(\"CNN\")\n",
    "    if select == 2:\n",
    "        import torch\n",
    "        import torch.nn as nn\n",
    "        from torchvision import models\n",
    "\n",
    "        class AudioClassifier(nn.Module):\n",
    "            def __init__(self, num_classes):\n",
    "                super(AudioClassifier, self).__init__()\n",
    "                self.resnet = models.resnet18(pretrained=True)\n",
    "                \n",
    "                # Modify first layer to take 1-channel input\n",
    "                self.resnet.conv1 = nn.Conv2d(1, 64, kernel_size=(7, 7), stride=(2, 2), padding=(3, 3), bias=False)\n",
    "                \n",
    "                # Modify last layer to have the correct number of output classes\n",
    "                num_features = self.resnet.fc.in_features\n",
    "                self.resnet.fc = nn.Linear(num_features, num_classes)\n",
    "\n",
    "            def forward(self, x):\n",
    "                x = x.unsqueeze(1)  # Add an extra dimension for the single channel\n",
    "                x = self.resnet(x)\n",
    "                return x\n",
    "\n",
    "        model = AudioClassifier(num_classes=len(mlb.classes_))\n",
    "        print(\"Resnet18\")\n",
    "    if select == 3:\n",
    "        import torch\n",
    "        import torch.nn as nn\n",
    "        from torchvision import models\n",
    "\n",
    "        class AudioClassifier(nn.Module):\n",
    "            def __init__(self, num_classes):\n",
    "                super(AudioClassifier, self).__init__()\n",
    "                self.resnet = models.resnet34(pretrained=True)\n",
    "                \n",
    "                # Modify first layer to take 1-channel input\n",
    "                self.resnet.conv1 = nn.Conv2d(1, 64, kernel_size=(7, 7), stride=(2, 2), padding=(3, 3), bias=False)\n",
    "                \n",
    "                # Modify last layer to have the correct number of output classes\n",
    "                num_features = self.resnet.fc.in_features\n",
    "                self.resnet.fc = nn.Linear(num_features, num_classes)\n",
    "\n",
    "            def forward(self, x):\n",
    "                x = x.unsqueeze(1)  # Add an extra dimension for the single channel\n",
    "                x = self.resnet(x)\n",
    "                return x\n",
    "\n",
    "        model = AudioClassifier(num_classes=len(mlb.classes_))\n",
    "        print(\"Resnet34\")\n",
    "    return model"
   ]
  },
  {
   "cell_type": "code",
   "execution_count": 77,
   "metadata": {},
   "outputs": [
    {
     "name": "stdout",
     "output_type": "stream",
     "text": [
      "1\n",
      "CNN\n",
      "2\n",
      "Resnet18\n",
      "3\n"
     ]
    },
    {
     "name": "stderr",
     "output_type": "stream",
     "text": [
      "c:\\ProgramData\\anaconda3\\Lib\\site-packages\\torchvision\\models\\_utils.py:208: UserWarning: The parameter 'pretrained' is deprecated since 0.13 and may be removed in the future, please use 'weights' instead.\n",
      "  warnings.warn(\n",
      "c:\\ProgramData\\anaconda3\\Lib\\site-packages\\torchvision\\models\\_utils.py:223: UserWarning: Arguments other than a weight enum or `None` for 'weights' are deprecated since 0.13 and may be removed in the future. The current behavior is equivalent to passing `weights=ResNet18_Weights.IMAGENET1K_V1`. You can also use `weights=ResNet18_Weights.DEFAULT` to get the most up-to-date weights.\n",
      "  warnings.warn(msg)\n",
      "c:\\ProgramData\\anaconda3\\Lib\\site-packages\\torchvision\\models\\_utils.py:223: UserWarning: Arguments other than a weight enum or `None` for 'weights' are deprecated since 0.13 and may be removed in the future. The current behavior is equivalent to passing `weights=ResNet34_Weights.IMAGENET1K_V1`. You can also use `weights=ResNet34_Weights.DEFAULT` to get the most up-to-date weights.\n",
      "  warnings.warn(msg)\n"
     ]
    },
    {
     "name": "stdout",
     "output_type": "stream",
     "text": [
      "Resnet34\n"
     ]
    }
   ],
   "source": [
    "# Check if the model is loading successfully\n",
    "for i in range(1,4):\n",
    "    print(i)\n",
    "    model = ModelSelect(i)"
   ]
  },
  {
   "cell_type": "code",
   "execution_count": 78,
   "metadata": {},
   "outputs": [
    {
     "data": {
      "text/plain": [
       "array([[1, 0, 0, ..., 0, 0, 0],\n",
       "       [1, 0, 0, ..., 0, 0, 0],\n",
       "       [1, 0, 0, ..., 0, 0, 0],\n",
       "       ...,\n",
       "       [0, 0, 0, ..., 0, 1, 0],\n",
       "       [0, 0, 0, ..., 0, 1, 0],\n",
       "       [0, 0, 0, ..., 0, 1, 0]])"
      ]
     },
     "execution_count": 78,
     "metadata": {},
     "output_type": "execute_result"
    }
   ],
   "source": [
    "from sklearn.model_selection import train_test_split\n",
    "import numpy as np\n",
    "\n",
    "\n",
    "# Convert the spectrograms and labels to numpy arrays\n",
    "X = np.array(spectrograms)\n",
    "y = np.array(labels)\n",
    "\n",
    "# Change dtype of y to int\n",
    "y = y.astype(int)\n",
    "\n",
    "\n",
    "# Split the data into training and validation sets\n",
    "X_train, X_val, y_train, y_val = train_test_split(X, y, test_size=0.2)\n",
    "y"
   ]
  },
  {
   "cell_type": "code",
   "execution_count": 79,
   "metadata": {},
   "outputs": [],
   "source": [
    "import torch\n",
    "from torch.utils.data import TensorDataset, DataLoader\n",
    "\n",
    "BATCH_SIZE = 32 # If error, reduce this number\n",
    "\n",
    "\n",
    "# Split the data into training and validation sets\n",
    "X_train, X_val, y_train, y_val = train_test_split(X, y, test_size=0.2)\n",
    "\n",
    "# Convert the training and validation sets to PyTorch tensors\n",
    "X_train_tensor = torch.from_numpy(X_train).float()\n",
    "y_train_tensor = torch.from_numpy(y_train).float()\n",
    "X_val_tensor = torch.from_numpy(X_val).float()\n",
    "y_val_tensor = torch.from_numpy(y_val).float()\n",
    "\n",
    "# Create PyTorch datasets from the tensors\n",
    "train_dataset = TensorDataset(X_train_tensor, y_train_tensor)\n",
    "val_dataset = TensorDataset(X_val_tensor, y_val_tensor)\n",
    "\n",
    "# Create PyTorch dataloaders from the datasets\n",
    "train_loader = DataLoader(train_dataset, batch_size=BATCH_SIZE, shuffle=True)\n",
    "val_loader = DataLoader(val_dataset, batch_size=BATCH_SIZE, shuffle=False)\n"
   ]
  },
  {
   "cell_type": "code",
   "execution_count": 80,
   "metadata": {},
   "outputs": [
    {
     "name": "stdout",
     "output_type": "stream",
     "text": [
      "1\n",
      "CNN\n",
      "device :  cuda\n"
     ]
    },
    {
     "name": "stderr",
     "output_type": "stream",
     "text": [
      "100%|██████████| 380/380 [01:57<00:00,  3.23it/s]\n"
     ]
    },
    {
     "name": "stdout",
     "output_type": "stream",
     "text": [
      "Save model 1\n",
      "Epoch 1/20, Train Loss: 0.60275, Val Loss: 0.28220, Elapsed Time: 120.16s, Estimated Time Left: 2282.99s\n"
     ]
    },
    {
     "name": "stderr",
     "output_type": "stream",
     "text": [
      "100%|██████████| 380/380 [01:57<00:00,  3.24it/s]\n"
     ]
    },
    {
     "name": "stdout",
     "output_type": "stream",
     "text": [
      "Save model 1\n",
      "Epoch 2/20, Train Loss: 0.28237, Val Loss: 0.25026, Elapsed Time: 119.90s, Estimated Time Left: 2158.12s\n"
     ]
    },
    {
     "name": "stderr",
     "output_type": "stream",
     "text": [
      "100%|██████████| 380/380 [01:57<00:00,  3.23it/s]\n"
     ]
    },
    {
     "name": "stdout",
     "output_type": "stream",
     "text": [
      "Save model 1\n",
      "Epoch 3/20, Train Loss: 0.24761, Val Loss: 0.23937, Elapsed Time: 120.10s, Estimated Time Left: 2041.72s\n"
     ]
    },
    {
     "name": "stderr",
     "output_type": "stream",
     "text": [
      "100%|██████████| 380/380 [01:55<00:00,  3.30it/s]\n"
     ]
    },
    {
     "name": "stdout",
     "output_type": "stream",
     "text": [
      "Epoch 4/20, Train Loss: 0.23284, Val Loss: 0.24043, Elapsed Time: 117.35s, Estimated Time Left: 1877.65s\n"
     ]
    },
    {
     "name": "stderr",
     "output_type": "stream",
     "text": [
      "100%|██████████| 380/380 [01:57<00:00,  3.24it/s]\n"
     ]
    },
    {
     "name": "stdout",
     "output_type": "stream",
     "text": [
      "Epoch 5/20, Train Loss: 0.22739, Val Loss: 0.24917, Elapsed Time: 119.43s, Estimated Time Left: 1791.41s\n"
     ]
    },
    {
     "name": "stderr",
     "output_type": "stream",
     "text": [
      "100%|██████████| 380/380 [01:56<00:00,  3.26it/s]\n"
     ]
    },
    {
     "name": "stdout",
     "output_type": "stream",
     "text": [
      "Epoch 6/20, Train Loss: 0.22881, Val Loss: 0.25285, Elapsed Time: 118.53s, Estimated Time Left: 1659.43s\n"
     ]
    },
    {
     "name": "stderr",
     "output_type": "stream",
     "text": [
      "100%|██████████| 380/380 [01:56<00:00,  3.26it/s]\n"
     ]
    },
    {
     "name": "stdout",
     "output_type": "stream",
     "text": [
      "Epoch 7/20, Train Loss: 0.22935, Val Loss: 0.28130, Elapsed Time: 118.63s, Estimated Time Left: 1542.23s\n"
     ]
    },
    {
     "name": "stderr",
     "output_type": "stream",
     "text": [
      "100%|██████████| 380/380 [01:56<00:00,  3.26it/s]\n"
     ]
    },
    {
     "name": "stdout",
     "output_type": "stream",
     "text": [
      "Epoch 8/20, Train Loss: 0.22966, Val Loss: 0.25921, Elapsed Time: 118.70s, Estimated Time Left: 1424.39s\n"
     ]
    },
    {
     "name": "stderr",
     "output_type": "stream",
     "text": [
      "100%|██████████| 380/380 [01:56<00:00,  3.27it/s]\n"
     ]
    },
    {
     "name": "stdout",
     "output_type": "stream",
     "text": [
      "Epoch 9/20, Train Loss: 0.22814, Val Loss: 0.24480, Elapsed Time: 118.44s, Estimated Time Left: 1302.87s\n"
     ]
    },
    {
     "name": "stderr",
     "output_type": "stream",
     "text": [
      "100%|██████████| 380/380 [01:56<00:00,  3.27it/s]\n"
     ]
    },
    {
     "name": "stdout",
     "output_type": "stream",
     "text": [
      "Epoch 10/20, Train Loss: 0.22471, Val Loss: 0.25613, Elapsed Time: 118.40s, Estimated Time Left: 1183.98s\n"
     ]
    },
    {
     "name": "stderr",
     "output_type": "stream",
     "text": [
      "100%|██████████| 380/380 [01:56<00:00,  3.26it/s]\n"
     ]
    },
    {
     "name": "stdout",
     "output_type": "stream",
     "text": [
      "Save model 1\n",
      "Epoch 11/20, Train Loss: 0.22135, Val Loss: 0.22966, Elapsed Time: 119.11s, Estimated Time Left: 1072.03s\n"
     ]
    },
    {
     "name": "stderr",
     "output_type": "stream",
     "text": [
      "100%|██████████| 380/380 [01:56<00:00,  3.27it/s]\n"
     ]
    },
    {
     "name": "stdout",
     "output_type": "stream",
     "text": [
      "Epoch 12/20, Train Loss: 0.21912, Val Loss: 0.24558, Elapsed Time: 118.40s, Estimated Time Left: 947.21s\n"
     ]
    },
    {
     "name": "stderr",
     "output_type": "stream",
     "text": [
      "100%|██████████| 380/380 [01:56<00:00,  3.26it/s]\n"
     ]
    },
    {
     "name": "stdout",
     "output_type": "stream",
     "text": [
      "Epoch 13/20, Train Loss: 0.21789, Val Loss: 0.22974, Elapsed Time: 118.48s, Estimated Time Left: 829.33s\n"
     ]
    },
    {
     "name": "stderr",
     "output_type": "stream",
     "text": [
      "100%|██████████| 380/380 [01:56<00:00,  3.26it/s]\n"
     ]
    },
    {
     "name": "stdout",
     "output_type": "stream",
     "text": [
      "Save model 1\n",
      "Epoch 14/20, Train Loss: 0.21652, Val Loss: 0.22721, Elapsed Time: 119.02s, Estimated Time Left: 714.12s\n"
     ]
    },
    {
     "name": "stderr",
     "output_type": "stream",
     "text": [
      "100%|██████████| 380/380 [01:56<00:00,  3.27it/s]\n"
     ]
    },
    {
     "name": "stdout",
     "output_type": "stream",
     "text": [
      "Epoch 15/20, Train Loss: 0.21692, Val Loss: 0.23632, Elapsed Time: 118.43s, Estimated Time Left: 592.14s\n"
     ]
    },
    {
     "name": "stderr",
     "output_type": "stream",
     "text": [
      "100%|██████████| 380/380 [01:56<00:00,  3.27it/s]\n"
     ]
    },
    {
     "name": "stdout",
     "output_type": "stream",
     "text": [
      "Epoch 16/20, Train Loss: 0.21590, Val Loss: 0.22758, Elapsed Time: 118.43s, Estimated Time Left: 473.73s\n"
     ]
    },
    {
     "name": "stderr",
     "output_type": "stream",
     "text": [
      "100%|██████████| 380/380 [01:56<00:00,  3.26it/s]\n"
     ]
    },
    {
     "name": "stdout",
     "output_type": "stream",
     "text": [
      "Save model 1\n",
      "Epoch 17/20, Train Loss: 0.21533, Val Loss: 0.21567, Elapsed Time: 118.96s, Estimated Time Left: 356.89s\n"
     ]
    },
    {
     "name": "stderr",
     "output_type": "stream",
     "text": [
      "100%|██████████| 380/380 [01:56<00:00,  3.27it/s]\n"
     ]
    },
    {
     "name": "stdout",
     "output_type": "stream",
     "text": [
      "Epoch 18/20, Train Loss: 0.21437, Val Loss: 0.23053, Elapsed Time: 118.43s, Estimated Time Left: 236.86s\n"
     ]
    },
    {
     "name": "stderr",
     "output_type": "stream",
     "text": [
      "100%|██████████| 380/380 [01:56<00:00,  3.27it/s]\n"
     ]
    },
    {
     "name": "stdout",
     "output_type": "stream",
     "text": [
      "Epoch 19/20, Train Loss: 0.21490, Val Loss: 0.23616, Elapsed Time: 118.39s, Estimated Time Left: 118.39s\n"
     ]
    },
    {
     "name": "stderr",
     "output_type": "stream",
     "text": [
      "100%|██████████| 380/380 [01:56<00:00,  3.25it/s]\n"
     ]
    },
    {
     "name": "stdout",
     "output_type": "stream",
     "text": [
      "Epoch 20/20, Train Loss: 0.21493, Val Loss: 0.23216, Elapsed Time: 118.98s, Estimated Time Left: 0.00s\n",
      "Finished Training\n"
     ]
    },
    {
     "data": {
      "image/png": "[encoded data removed]",
      "text/plain": [
       "<Figure size 640x480 with 1 Axes>"
      ]
     },
     "metadata": {},
     "output_type": "display_data"
    },
    {
     "name": "stdout",
     "output_type": "stream",
     "text": [
      "2\n",
      "Resnet18\n",
      "device :  cuda\n"
     ]
    },
    {
     "name": "stderr",
     "output_type": "stream",
     "text": [
      "100%|██████████| 380/380 [00:24<00:00, 15.74it/s]\n"
     ]
    },
    {
     "name": "stdout",
     "output_type": "stream",
     "text": [
      "Save model 2\n",
      "Epoch 1/20, Train Loss: 0.23826, Val Loss: 0.27183, Elapsed Time: 25.81s, Estimated Time Left: 490.31s\n"
     ]
    },
    {
     "name": "stderr",
     "output_type": "stream",
     "text": [
      "100%|██████████| 380/380 [00:24<00:00, 15.64it/s]\n"
     ]
    },
    {
     "name": "stdout",
     "output_type": "stream",
     "text": [
      "Save model 2\n",
      "Epoch 2/20, Train Loss: 0.22184, Val Loss: 0.23028, Elapsed Time: 25.92s, Estimated Time Left: 466.58s\n"
     ]
    },
    {
     "name": "stderr",
     "output_type": "stream",
     "text": [
      "100%|██████████| 380/380 [00:24<00:00, 15.75it/s]\n"
     ]
    },
    {
     "name": "stdout",
     "output_type": "stream",
     "text": [
      "Save model 2\n",
      "Epoch 3/20, Train Loss: 0.20796, Val Loss: 0.21612, Elapsed Time: 25.76s, Estimated Time Left: 438.00s\n"
     ]
    },
    {
     "name": "stderr",
     "output_type": "stream",
     "text": [
      "100%|██████████| 380/380 [00:24<00:00, 15.77it/s]\n"
     ]
    },
    {
     "name": "stdout",
     "output_type": "stream",
     "text": [
      "Epoch 4/20, Train Loss: 0.20473, Val Loss: 0.22208, Elapsed Time: 25.68s, Estimated Time Left: 410.83s\n"
     ]
    },
    {
     "name": "stderr",
     "output_type": "stream",
     "text": [
      "100%|██████████| 380/380 [00:24<00:00, 15.76it/s]\n"
     ]
    },
    {
     "name": "stdout",
     "output_type": "stream",
     "text": [
      "Epoch 5/20, Train Loss: 0.20639, Val Loss: 0.22024, Elapsed Time: 25.70s, Estimated Time Left: 385.48s\n"
     ]
    },
    {
     "name": "stderr",
     "output_type": "stream",
     "text": [
      "100%|██████████| 380/380 [00:24<00:00, 15.68it/s]\n"
     ]
    },
    {
     "name": "stdout",
     "output_type": "stream",
     "text": [
      "Save model 2\n",
      "Epoch 6/20, Train Loss: 0.21129, Val Loss: 0.21414, Elapsed Time: 25.89s, Estimated Time Left: 362.50s\n"
     ]
    },
    {
     "name": "stderr",
     "output_type": "stream",
     "text": [
      "100%|██████████| 380/380 [00:24<00:00, 15.38it/s]\n"
     ]
    },
    {
     "name": "stdout",
     "output_type": "stream",
     "text": [
      "Epoch 7/20, Train Loss: 0.22064, Val Loss: 0.27249, Elapsed Time: 26.30s, Estimated Time Left: 341.94s\n"
     ]
    },
    {
     "name": "stderr",
     "output_type": "stream",
     "text": [
      "100%|██████████| 380/380 [00:56<00:00,  6.67it/s]\n"
     ]
    },
    {
     "name": "stdout",
     "output_type": "stream",
     "text": [
      "Epoch 8/20, Train Loss: 0.22681, Val Loss: 0.23718, Elapsed Time: 69.86s, Estimated Time Left: 838.33s\n"
     ]
    },
    {
     "name": "stderr",
     "output_type": "stream",
     "text": [
      "100%|██████████| 380/380 [02:13<00:00,  2.85it/s]\n"
     ]
    },
    {
     "name": "stdout",
     "output_type": "stream",
     "text": [
      "Epoch 9/20, Train Loss: 0.23090, Val Loss: 0.24160, Elapsed Time: 139.00s, Estimated Time Left: 1529.05s\n"
     ]
    },
    {
     "name": "stderr",
     "output_type": "stream",
     "text": [
      "100%|██████████| 380/380 [01:01<00:00,  6.13it/s]\n"
     ]
    },
    {
     "name": "stdout",
     "output_type": "stream",
     "text": [
      "Epoch 10/20, Train Loss: 0.23676, Val Loss: 0.24259, Elapsed Time: 66.14s, Estimated Time Left: 661.41s\n"
     ]
    },
    {
     "name": "stderr",
     "output_type": "stream",
     "text": [
      "100%|██████████| 380/380 [01:00<00:00,  6.24it/s]\n"
     ]
    },
    {
     "name": "stdout",
     "output_type": "stream",
     "text": [
      "Epoch 11/20, Train Loss: 0.23674, Val Loss: 0.23979, Elapsed Time: 64.12s, Estimated Time Left: 577.08s\n"
     ]
    },
    {
     "name": "stderr",
     "output_type": "stream",
     "text": [
      "100%|██████████| 380/380 [00:59<00:00,  6.35it/s]\n"
     ]
    },
    {
     "name": "stdout",
     "output_type": "stream",
     "text": [
      "Epoch 12/20, Train Loss: 0.23391, Val Loss: 0.23702, Elapsed Time: 61.46s, Estimated Time Left: 491.70s\n"
     ]
    },
    {
     "name": "stderr",
     "output_type": "stream",
     "text": [
      "100%|██████████| 380/380 [00:24<00:00, 15.57it/s]\n"
     ]
    },
    {
     "name": "stdout",
     "output_type": "stream",
     "text": [
      "Epoch 13/20, Train Loss: 0.23217, Val Loss: 0.23345, Elapsed Time: 26.01s, Estimated Time Left: 182.10s\n"
     ]
    },
    {
     "name": "stderr",
     "output_type": "stream",
     "text": [
      "100%|██████████| 380/380 [00:24<00:00, 15.76it/s]\n"
     ]
    },
    {
     "name": "stdout",
     "output_type": "stream",
     "text": [
      "Epoch 14/20, Train Loss: 0.23112, Val Loss: 0.22970, Elapsed Time: 25.71s, Estimated Time Left: 154.24s\n"
     ]
    },
    {
     "name": "stderr",
     "output_type": "stream",
     "text": [
      "100%|██████████| 380/380 [00:24<00:00, 15.74it/s]\n"
     ]
    },
    {
     "name": "stdout",
     "output_type": "stream",
     "text": [
      "Epoch 15/20, Train Loss: 0.23049, Val Loss: 0.24959, Elapsed Time: 25.73s, Estimated Time Left: 128.63s\n"
     ]
    },
    {
     "name": "stderr",
     "output_type": "stream",
     "text": [
      "100%|██████████| 380/380 [00:24<00:00, 15.43it/s]\n"
     ]
    },
    {
     "name": "stdout",
     "output_type": "stream",
     "text": [
      "Epoch 16/20, Train Loss: 0.23046, Val Loss: 0.23002, Elapsed Time: 26.21s, Estimated Time Left: 104.85s\n"
     ]
    },
    {
     "name": "stderr",
     "output_type": "stream",
     "text": [
      "100%|██████████| 380/380 [00:59<00:00,  6.42it/s]\n"
     ]
    },
    {
     "name": "stdout",
     "output_type": "stream",
     "text": [
      "Epoch 17/20, Train Loss: 0.23005, Val Loss: 0.27759, Elapsed Time: 64.57s, Estimated Time Left: 193.72s\n"
     ]
    },
    {
     "name": "stderr",
     "output_type": "stream",
     "text": [
      "100%|██████████| 380/380 [01:04<00:00,  5.91it/s]\n"
     ]
    },
    {
     "name": "stdout",
     "output_type": "stream",
     "text": [
      "Epoch 18/20, Train Loss: 0.22975, Val Loss: 0.24227, Elapsed Time: 69.29s, Estimated Time Left: 138.58s\n"
     ]
    },
    {
     "name": "stderr",
     "output_type": "stream",
     "text": [
      "100%|██████████| 380/380 [01:13<00:00,  5.16it/s]\n"
     ]
    },
    {
     "name": "stdout",
     "output_type": "stream",
     "text": [
      "Epoch 19/20, Train Loss: 0.22987, Val Loss: 0.22759, Elapsed Time: 77.09s, Estimated Time Left: 77.09s\n"
     ]
    },
    {
     "name": "stderr",
     "output_type": "stream",
     "text": [
      "100%|██████████| 380/380 [01:56<00:00,  3.27it/s]\n"
     ]
    },
    {
     "name": "stdout",
     "output_type": "stream",
     "text": [
      "Epoch 20/20, Train Loss: 0.22926, Val Loss: 0.23511, Elapsed Time: 121.73s, Estimated Time Left: 0.00s\n",
      "Finished Training\n"
     ]
    },
    {
     "data": {
      "image/png": "[encoded data removed]",
      "text/plain": [
       "<Figure size 640x480 with 1 Axes>"
      ]
     },
     "metadata": {},
     "output_type": "display_data"
    },
    {
     "name": "stdout",
     "output_type": "stream",
     "text": [
      "3\n",
      "Resnet34\n",
      "device :  cuda\n"
     ]
    },
    {
     "name": "stderr",
     "output_type": "stream",
     "text": [
      "100%|██████████| 380/380 [09:02<00:00,  1.43s/it]\n"
     ]
    },
    {
     "name": "stdout",
     "output_type": "stream",
     "text": [
      "Save model 3\n",
      "Epoch 1/20, Train Loss: 0.25151, Val Loss: 0.25427, Elapsed Time: 994.52s, Estimated Time Left: 18895.95s\n"
     ]
    },
    {
     "name": "stderr",
     "output_type": "stream",
     "text": [
      "100%|██████████| 380/380 [06:25<00:00,  1.01s/it] \n"
     ]
    },
    {
     "name": "stdout",
     "output_type": "stream",
     "text": [
      "Epoch 2/20, Train Loss: 0.23213, Val Loss: 0.26467, Elapsed Time: 400.53s, Estimated Time Left: 7209.60s\n"
     ]
    },
    {
     "name": "stderr",
     "output_type": "stream",
     "text": [
      "100%|██████████| 380/380 [02:05<00:00,  3.03it/s]\n"
     ]
    },
    {
     "name": "stdout",
     "output_type": "stream",
     "text": [
      "Save model 3\n",
      "Epoch 3/20, Train Loss: 0.22002, Val Loss: 0.22735, Elapsed Time: 140.26s, Estimated Time Left: 2384.50s\n"
     ]
    },
    {
     "name": "stderr",
     "output_type": "stream",
     "text": [
      "100%|██████████| 380/380 [02:05<00:00,  3.03it/s]\n"
     ]
    },
    {
     "name": "stdout",
     "output_type": "stream",
     "text": [
      "Epoch 4/20, Train Loss: 0.21853, Val Loss: 0.23385, Elapsed Time: 140.12s, Estimated Time Left: 2241.98s\n"
     ]
    },
    {
     "name": "stderr",
     "output_type": "stream",
     "text": [
      "100%|██████████| 380/380 [02:05<00:00,  3.03it/s]\n"
     ]
    },
    {
     "name": "stdout",
     "output_type": "stream",
     "text": [
      "Epoch 5/20, Train Loss: 0.21947, Val Loss: 0.23323, Elapsed Time: 140.15s, Estimated Time Left: 2102.21s\n"
     ]
    },
    {
     "name": "stderr",
     "output_type": "stream",
     "text": [
      "100%|██████████| 380/380 [02:07<00:00,  2.98it/s]\n"
     ]
    },
    {
     "name": "stdout",
     "output_type": "stream",
     "text": [
      "Epoch 6/20, Train Loss: 0.22245, Val Loss: 0.23869, Elapsed Time: 142.03s, Estimated Time Left: 1988.46s\n"
     ]
    },
    {
     "name": "stderr",
     "output_type": "stream",
     "text": [
      "100%|██████████| 380/380 [02:05<00:00,  3.03it/s]\n"
     ]
    },
    {
     "name": "stdout",
     "output_type": "stream",
     "text": [
      "Epoch 7/20, Train Loss: 0.22873, Val Loss: 0.24345, Elapsed Time: 139.78s, Estimated Time Left: 1817.14s\n"
     ]
    },
    {
     "name": "stderr",
     "output_type": "stream",
     "text": [
      "100%|██████████| 380/380 [02:05<00:00,  3.04it/s]\n"
     ]
    },
    {
     "name": "stdout",
     "output_type": "stream",
     "text": [
      "Epoch 8/20, Train Loss: 0.23173, Val Loss: 0.25643, Elapsed Time: 139.73s, Estimated Time Left: 1676.75s\n"
     ]
    },
    {
     "name": "stderr",
     "output_type": "stream",
     "text": [
      "100%|██████████| 380/380 [02:08<00:00,  2.96it/s]\n"
     ]
    },
    {
     "name": "stdout",
     "output_type": "stream",
     "text": [
      "Epoch 9/20, Train Loss: 0.23365, Val Loss: 0.23644, Elapsed Time: 143.47s, Estimated Time Left: 1578.22s\n"
     ]
    },
    {
     "name": "stderr",
     "output_type": "stream",
     "text": [
      "100%|██████████| 380/380 [02:08<00:00,  2.96it/s]\n"
     ]
    },
    {
     "name": "stdout",
     "output_type": "stream",
     "text": [
      "Epoch 10/20, Train Loss: 0.23314, Val Loss: 0.24407, Elapsed Time: 142.90s, Estimated Time Left: 1428.98s\n"
     ]
    },
    {
     "name": "stderr",
     "output_type": "stream",
     "text": [
      "100%|██████████| 380/380 [02:06<00:00,  3.00it/s]\n"
     ]
    },
    {
     "name": "stdout",
     "output_type": "stream",
     "text": [
      "Save model 3\n",
      "Epoch 11/20, Train Loss: 0.23188, Val Loss: 0.22720, Elapsed Time: 142.09s, Estimated Time Left: 1278.85s\n"
     ]
    },
    {
     "name": "stderr",
     "output_type": "stream",
     "text": [
      "100%|██████████| 380/380 [02:07<00:00,  2.97it/s]\n"
     ]
    },
    {
     "name": "stdout",
     "output_type": "stream",
     "text": [
      "Epoch 12/20, Train Loss: 0.23157, Val Loss: 0.24085, Elapsed Time: 142.32s, Estimated Time Left: 1138.52s\n"
     ]
    },
    {
     "name": "stderr",
     "output_type": "stream",
     "text": [
      "100%|██████████| 380/380 [02:05<00:00,  3.02it/s]\n"
     ]
    },
    {
     "name": "stdout",
     "output_type": "stream",
     "text": [
      "Epoch 13/20, Train Loss: 0.23068, Val Loss: 0.24069, Elapsed Time: 140.35s, Estimated Time Left: 982.42s\n"
     ]
    },
    {
     "name": "stderr",
     "output_type": "stream",
     "text": [
      "100%|██████████| 380/380 [02:08<00:00,  2.96it/s]\n"
     ]
    },
    {
     "name": "stdout",
     "output_type": "stream",
     "text": [
      "Epoch 14/20, Train Loss: 0.23021, Val Loss: 0.24048, Elapsed Time: 133.58s, Estimated Time Left: 801.47s\n"
     ]
    },
    {
     "name": "stderr",
     "output_type": "stream",
     "text": [
      "100%|██████████| 380/380 [01:50<00:00,  3.43it/s]\n"
     ]
    },
    {
     "name": "stdout",
     "output_type": "stream",
     "text": [
      "Epoch 15/20, Train Loss: 0.22994, Val Loss: 0.25032, Elapsed Time: 116.15s, Estimated Time Left: 580.75s\n"
     ]
    },
    {
     "name": "stderr",
     "output_type": "stream",
     "text": [
      "100%|██████████| 380/380 [01:51<00:00,  3.41it/s]\n"
     ]
    },
    {
     "name": "stdout",
     "output_type": "stream",
     "text": [
      "Epoch 16/20, Train Loss: 0.22921, Val Loss: 0.23760, Elapsed Time: 116.67s, Estimated Time Left: 466.68s\n"
     ]
    },
    {
     "name": "stderr",
     "output_type": "stream",
     "text": [
      "100%|██████████| 380/380 [01:50<00:00,  3.44it/s]\n"
     ]
    },
    {
     "name": "stdout",
     "output_type": "stream",
     "text": [
      "Epoch 17/20, Train Loss: 0.22900, Val Loss: 0.23872, Elapsed Time: 115.74s, Estimated Time Left: 347.22s\n"
     ]
    },
    {
     "name": "stderr",
     "output_type": "stream",
     "text": [
      "100%|██████████| 380/380 [01:50<00:00,  3.44it/s]\n"
     ]
    },
    {
     "name": "stdout",
     "output_type": "stream",
     "text": [
      "Epoch 18/20, Train Loss: 0.22882, Val Loss: 0.23447, Elapsed Time: 115.80s, Estimated Time Left: 231.60s\n"
     ]
    },
    {
     "name": "stderr",
     "output_type": "stream",
     "text": [
      "100%|██████████| 380/380 [01:50<00:00,  3.44it/s]\n"
     ]
    },
    {
     "name": "stdout",
     "output_type": "stream",
     "text": [
      "Epoch 19/20, Train Loss: 0.22918, Val Loss: 0.22979, Elapsed Time: 115.75s, Estimated Time Left: 115.75s\n"
     ]
    },
    {
     "name": "stderr",
     "output_type": "stream",
     "text": [
      "100%|██████████| 380/380 [01:50<00:00,  3.43it/s]\n"
     ]
    },
    {
     "name": "stdout",
     "output_type": "stream",
     "text": [
      "Epoch 20/20, Train Loss: 0.22832, Val Loss: 0.23112, Elapsed Time: 115.87s, Estimated Time Left: 0.00s\n",
      "Finished Training\n"
     ]
    },
    {
     "data": {
      "image/png": "[encoded data removed]",
      "text/plain": [
       "<Figure size 640x480 with 1 Axes>"
      ]
     },
     "metadata": {},
     "output_type": "display_data"
    }
   ],
   "source": [
    "for i in range(1,4):\n",
    "    print(i)\n",
    "    model = ModelSelect(i)\n",
    "    import torch\n",
    "    import time\n",
    "    import torch.nn as nn\n",
    "    from torch.optim import Adam\n",
    "    import matplotlib.pyplot as plt\n",
    "    from torch.nn import DataParallel\n",
    "    import platform\n",
    "    device = 'mps' if platform.system() == 'Darwin' else torch.device('cuda' if torch.cuda.is_available() else 'cpu')\n",
    "    print(\"device : \",device)\n",
    "    # Create the model, loss function and optimizer\n",
    "    model.to(device)\n",
    "    if torch.cuda.device_count() > 1:  # Check if multiple GPUs are available\n",
    "        print(\"Let's use\", torch.cuda.device_count(), \"GPUs!\")\n",
    "        model = DataParallel(model)\n",
    "        \n",
    "    criterion = nn.BCEWithLogitsLoss()\n",
    "    optimizer = Adam(model.parameters(), weight_decay=0.01)  # Add weight decay for L2 regularization\n",
    "\n",
    "    # For storing losses\n",
    "    train_losses = []\n",
    "    val_losses = []\n",
    "\n",
    "    # Training loop\n",
    "    num_epochs = 20\n",
    "    best_loss = float('inf')\n",
    "    for epoch in range(num_epochs):\n",
    "        model.train()\n",
    "        running_loss = 0.0\n",
    "        start_time = time.time()\n",
    "\n",
    "        for inputs, labels in tqdm(train_loader):\n",
    "            #print(inputs.shape)\n",
    "            inputs, labels = inputs.to(device), labels.to(device)\n",
    "\n",
    "            optimizer.zero_grad()\n",
    "            outputs = model(inputs)\n",
    "            loss = criterion(outputs, labels)\n",
    "            loss.backward()\n",
    "            optimizer.step()\n",
    "\n",
    "            running_loss += loss.item()\n",
    "\n",
    "        train_loss = running_loss / len(train_loader)\n",
    "        train_losses.append(train_loss)\n",
    "\n",
    "        # Validation\n",
    "        model.eval()\n",
    "        running_loss = 0.0\n",
    "        with torch.no_grad():\n",
    "            for inputs, labels in val_loader:\n",
    "                inputs, labels = inputs.to(device), labels.to(device)\n",
    "                outputs = model(inputs)\n",
    "                loss = criterion(outputs, labels)\n",
    "                running_loss += loss.item()\n",
    "\n",
    "        val_loss = running_loss / len(val_loader)\n",
    "        val_losses.append(val_loss)\n",
    "\n",
    "        # Save the model if it's the best so far\n",
    "        if val_loss < best_loss:\n",
    "            model_name = f'AI2_model{i}.pth'  # Unique name for each model\n",
    "            torch.save(model.state_dict(), model_name)\n",
    "            best_loss = val_loss\n",
    "            print(f\"Save model {i}\")\n",
    "\n",
    "        end_time = time.time()\n",
    "        elapsed_time = end_time - start_time\n",
    "        estimated_time = elapsed_time * (num_epochs - epoch - 1)\n",
    "        print(f\"Epoch {epoch + 1}/{num_epochs}, Train Loss: {train_loss:.5f}, Val Loss: {val_loss:.5f}, Elapsed Time: {elapsed_time:.2f}s, Estimated Time Left: {estimated_time:.2f}s\")\n",
    "\n",
    "    print(\"Finished Training\")\n",
    "\n",
    "    # Plot the losses\n",
    "    plt.figure()\n",
    "    plt.plot(train_losses, label='Train Loss')\n",
    "    plt.plot(val_losses, label='Val Loss')\n",
    "    plt.title(f'Model {i}')  # label the plot with the model number\n",
    "    plt.legend()\n",
    "    plt.savefig(f'model_{i}_losses.png')  # save the figure as a png\n",
    "    plt.show()"
   ]
  },
  {
   "cell_type": "code",
   "execution_count": null,
   "metadata": {},
   "outputs": [
    {
     "data": {
      "image/png": "[encoded data removed]",
      "text/plain": [
       "<Figure size 640x480 with 1 Axes>"
      ]
     },
     "metadata": {},
     "output_type": "display_data"
    }
   ],
   "source": [
    "# Plot the losses\n",
    "plt.plot(train_losses, label='Train Loss')\n",
    "plt.plot(val_losses, label='Val Loss')\n",
    "plt.legend()\n",
    "plt.show()"
   ]
  },
  {
   "cell_type": "code",
   "execution_count": 98,
   "metadata": {},
   "outputs": [
    {
     "name": "stderr",
     "output_type": "stream",
     "text": [
      "c:\\ProgramData\\anaconda3\\Lib\\site-packages\\torchvision\\models\\_utils.py:223: UserWarning: Arguments other than a weight enum or `None` for 'weights' are deprecated since 0.13 and may be removed in the future. The current behavior is equivalent to passing `weights=ResNet34_Weights.IMAGENET1K_V1`. You can also use `weights=ResNet34_Weights.DEFAULT` to get the most up-to-date weights.\n",
      "  warnings.warn(msg)\n"
     ]
    },
    {
     "name": "stdout",
     "output_type": "stream",
     "text": [
      "Resnet34\n",
      "0.5256705757199666\n"
     ]
    }
   ],
   "source": [
    "from sklearn.metrics import accuracy_score\n",
    "\n",
    "def compute_accuracy(model, dataloader, device):\n",
    "    model.eval()  # Set the model to evaluation mode\n",
    "    model.to(device)\n",
    "    correct_predictions = 0\n",
    "    total_predictions = 0\n",
    "\n",
    "    with torch.no_grad():  # Disable gradient calculations\n",
    "        for inputs, labels in dataloader:\n",
    "            inputs, labels = inputs.to(device), labels.to(device)\n",
    "            \n",
    "            # Get model outputs\n",
    "            outputs = model(inputs)\n",
    "            \n",
    "            # Convert model outputs to probabilities\n",
    "            probs = torch.sigmoid(outputs)\n",
    "            \n",
    "            # Convert probabilities to binary outputs\n",
    "            preds = (probs > 0.5).float()\n",
    "            \n",
    "            # Compute the number of correct predictions\n",
    "            correct_predictions += (preds == labels).sum().item()\n",
    "            total_predictions += labels.numel()\n",
    "            \n",
    "    accuracy = correct_predictions / total_predictions\n",
    "    return accuracy\n",
    "print(compute_accuracy(ModelSelect(3),val_loader,'cuda'))"
   ]
  },
  {
   "cell_type": "code",
   "execution_count": null,
   "metadata": {},
   "outputs": [
    {
     "name": "stdout",
     "output_type": "stream",
     "text": [
      "Predicted label: siren, Probability: 100.00%\n",
      "Predicted labels: ('siren',)\n"
     ]
    }
   ],
   "source": [
    "# DEVICE\n",
    "\n",
    "import sounddevice as sd\n",
    "import librosa\n",
    "import numpy as np\n",
    "import torch\n",
    "\n",
    "def get_mel_spectrogram(y, sr=22050, n_fft=2048, hop_length=512, n_mels=128):\n",
    "    # Compute the spectrogram\n",
    "    D = librosa.stft(y, n_fft=n_fft, hop_length=hop_length)\n",
    "    D_abs = np.abs(D)\n",
    "    # Convert to Mel scale\n",
    "    mel_spec = librosa.feature.melspectrogram(S=librosa.amplitude_to_db(D_abs), sr=sr, n_mels=n_mels)\n",
    "    return mel_spec\n",
    "\n",
    "# Load the trained model\n",
    "model = AudioClassifier()\n",
    "\n",
    "try:\n",
    "    model.load_state_dict(torch.load('AI2.pth'))\n",
    "except:\n",
    "    try:\n",
    "        model.load_state_dict(torch.load('AI2.pth', map_location=torch.device('cpu')))\n",
    "    except:\n",
    "        state_dict = torch.load('AI2.pth', map_location=torch.device('cpu'))\n",
    "        new_state_dict = {k.replace(\"module.\", \"\"): v for k, v in state_dict.items()}\n",
    "model.eval()\n",
    "\n",
    "# Record audio\n",
    "duration = 2  # seconds\n",
    "fs = 44100  # Sample rate\n",
    "recording = sd.rec(int(duration * fs), samplerate=fs, channels=1)\n",
    "sd.wait()  # Wait until recording is finished\n",
    "\n",
    "# Preprocess audio\n",
    "recording = np.squeeze(recording)  # Remove the singleton dimension\n",
    "recording = librosa.resample(recording, orig_sr=fs, target_sr=22050)  # Resample the recording\n",
    "mel_spec = get_mel_spectrogram(recording)  # Compute the Mel spectrogram\n",
    "\n",
    "# Make prediction\n",
    "mel_spec = torch.from_numpy(mel_spec).unsqueeze(0).float()  # Add two singleton dimensions at the beginning\n",
    "outputs = model(mel_spec)\n",
    "probs = torch.nn.functional.softmax(outputs, dim=1)\n",
    "top_prob, top_label = torch.max(probs, dim=1)\n",
    "\n",
    "#print(f\"Predicted label: {le.inverse_transform([top_label.item()])[0]}\")\n",
    "#print(f\"Probability: {top_prob.item() * 100:.2f}%\")\n",
    "# Define the threshold\n",
    "threshold = 0.0\n",
    "\n",
    "# Apply threshold to probabilities\n",
    "high_prob_mask = probs > threshold\n",
    "\n",
    "\n",
    "# Convert probabilities tensor to numpy array\n",
    "probs_array = probs.detach().numpy()\n",
    "\n",
    "# Iterate over all labels and their corresponding probabilities\n",
    "for label, prob in zip(mlb.classes_, probs_array[0]):\n",
    "    print(f\"Label: {label}, Probability: {prob * 100:.2f}%\")\n",
    "\n",
    "# Get labels for high-probability predictions\n",
    "\n",
    "#high_prob_labels = le.inverse_transform(torch.where(high_prob_mask)[1])\n",
    "# Get probabilities for high-confidence predictions\n",
    "high_prob_probs = probs[high_prob_mask]\n",
    "\n",
    "# Get labels for high-confidence predictions\n",
    "high_prob_labels = mlb.inverse_transform(high_prob_mask.numpy())\n",
    "\n",
    "# Convert high_prob_labels and high_prob_probs to lists\n",
    "high_prob_labels = high_prob_labels[0]\n",
    "high_prob_probs = high_prob_probs.tolist()\n",
    "\n",
    "# Print labels and corresponding probabilities\n",
    "for label, prob in zip(high_prob_labels, high_prob_probs):\n",
    "    print(f\"Predicted label: {label}, Probability: {prob * 100:.2f}%\")\n",
    "\n",
    "\n",
    "print(f\"Predicted labels: {high_prob_labels}\")\n"
   ]
  },
  {
   "cell_type": "markdown",
   "metadata": {},
   "source": [
    "# Diary\n",
    "2023.07.24 0109i\n",
    "\n",
    "I honestly spent like 15 hours to make this today. It took a lot of time but since I did 'urban 8 sound' before. It was slightly OK but still frustrating. I was almost done finishing this project then I noticed that some of the label has MORE than one label at a time. Then I have to do this whole thing over again . That was my first drag, and the second drag was at the fact I accidentally deleted the whole thing pressing undo in GitHub. Thankfully I had all the things in chat GPT, so that from there I was easily recovered.  \n",
    "I still have a problem with real time analizer but I can sort it out later  \n",
    "I have to go to work tommorrow, I have to go to sleep.  \n",
    "\n",
    "\n",
    "2023.07.25 1555i\n"
   ]
  }
 ],
 "metadata": {
  "kernelspec": {
   "display_name": "torchenv",
   "language": "python",
   "name": "python3"
  },
  "language_info": {
   "codemirror_mode": {
    "name": "ipython",
    "version": 3
   },
   "file_extension": ".py",
   "mimetype": "text/x-python",
   "name": "python",
   "nbconvert_exporter": "python",
   "pygments_lexer": "ipython3",
   "version": "3.11.3"
  },
  "orig_nbformat": 4
 },
 "nbformat": 4,
 "nbformat_minor": 2
}
