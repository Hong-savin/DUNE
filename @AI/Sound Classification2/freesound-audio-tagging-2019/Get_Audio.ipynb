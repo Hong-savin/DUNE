{
 "cells": [
  {
   "cell_type": "code",
   "execution_count": 6,
   "metadata": {},
   "outputs": [
    {
     "data": {
      "text/plain": [
       "'Files have been processed and saved successfully!'"
      ]
     },
     "execution_count": 6,
     "metadata": {},
     "output_type": "execute_result"
    }
   ],
   "source": [
    "import shutil\n",
    "import os\n",
    "import pandas as pd\n",
    "import librosa\n",
    "import numpy as np\n",
    "import soundfile as sf\n",
    "\n",
    "# Load the CSV file\n",
    "train_curated_df = pd.read_csv(\"train_curated.csv\")\n",
    "\n",
    "# Filter the dataframe to get rows with the label \"Bicycle_bell\"\n",
    "bicycle_bell_files = train_curated_df[train_curated_df['labels'] == \"Bicycle_bell\"]\n",
    "\n",
    "def extract_active_part(y, sr, duration=2.0, threshold=-40.0):\n",
    "    \"\"\"\n",
    "    Extract the active part of an audio signal.\n",
    "    \n",
    "    Parameters:\n",
    "    - y: Audio signal\n",
    "    - sr: Sample rate\n",
    "    - duration: Duration of the extracted segment in seconds\n",
    "    - threshold: Threshold in dB to consider as active\n",
    "    \n",
    "    Returns:\n",
    "    - y_out: Extracted audio segment\n",
    "    \"\"\"\n",
    "    # Compute the short-time energy\n",
    "    ste = librosa.feature.rms(y=y)[0]\n",
    "    ste_db = librosa.amplitude_to_db(ste, ref=np.max)\n",
    "    \n",
    "    # Find the first frame where energy exceeds the threshold\n",
    "    active_frames = np.where(ste_db > threshold)[0]\n",
    "    \n",
    "    if len(active_frames) == 0:\n",
    "        # No active part found\n",
    "        return y[:int(sr * duration)]\n",
    "    \n",
    "    start_frame = active_frames[0]\n",
    "    start_sample = librosa.frames_to_samples(start_frame)\n",
    "    end_sample = start_sample + int(sr * duration)\n",
    "    \n",
    "    # Extract the segment\n",
    "    y_out = y[start_sample:end_sample]\n",
    "    \n",
    "    return y_out\n",
    "\n",
    "# Source and destination directories\n",
    "src_dir = \"train_curated/\"\n",
    "dest_dir = \"Bicycle_bell_sounds/\"\n",
    "\n",
    "# Create the destination directory if it doesn't exist\n",
    "if not os.path.exists(dest_dir):\n",
    "    os.makedirs(dest_dir)\n",
    "\n",
    "for file_name in bicycle_bell_files['fname']:\n",
    "    # Load the audio file\n",
    "    file_path = os.path.join(src_dir, file_name)\n",
    "    y, sr = librosa.load(file_path, sr=None)\n",
    "    \n",
    "    # Extract the active part\n",
    "    y_extracted = extract_active_part(y, sr)\n",
    "    \n",
    "    # Save the extracted part to the destination directory\n",
    "    output_path = os.path.join(dest_dir, file_name)\n",
    "    sf.write(output_path, y_extracted, sr)\n",
    "\n",
    "\"Files have been processed and saved successfully!\"\n"
   ]
  },
  {
   "cell_type": "code",
   "execution_count": 2,
   "metadata": {},
   "outputs": [
    {
     "name": "stdout",
     "output_type": "stream",
     "text": [
      "Requirement already satisfied: numpy==1.24.0 in /Users/owo/anaconda3/envs/torchenv/lib/python3.11/site-packages (1.24.0)\n",
      "1.24.0\n"
     ]
    }
   ],
   "source": [
    "! pip install numpy==1.24.0\n",
    "import numpy as np\n",
    "\n",
    "print(np.__version__)"
   ]
  }
 ],
 "metadata": {
  "kernelspec": {
   "display_name": "torchenv",
   "language": "python",
   "name": "python3"
  },
  "language_info": {
   "codemirror_mode": {
    "name": "ipython",
    "version": 3
   },
   "file_extension": ".py",
   "mimetype": "text/x-python",
   "name": "python",
   "nbconvert_exporter": "python",
   "pygments_lexer": "ipython3",
   "version": "3.11.4"
  },
  "orig_nbformat": 4
 },
 "nbformat": 4,
 "nbformat_minor": 2
}
