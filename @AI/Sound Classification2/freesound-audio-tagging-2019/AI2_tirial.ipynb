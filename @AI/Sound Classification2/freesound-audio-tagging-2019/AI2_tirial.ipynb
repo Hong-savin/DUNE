{
 "cells": [
  {
   "cell_type": "code",
   "execution_count": null,
   "metadata": {},
   "outputs": [],
   "source": [
    "import pandas as pd\n",
    "from sklearn.preprocessing import LabelEncoder\n",
    "\n",
    "# Get Labels\n",
    "df = pd.read_csv('train_noisy.csv')\n",
    "\n",
    "# Split the labels on the commas to create a list of labels for each sample\n",
    "df['labels'] = df['labels'].str.split(',')\n",
    "\n",
    "# Get unique labels\n",
    "labels = pd.unique(df['labels'].explode())\n",
    "\n",
    "# Create and fit the LabelEncoder\n",
    "le = LabelEncoder()\n",
    "le.fit(labels)\n",
    "labels"
   ]
  },
  {
   "cell_type": "code",
   "execution_count": null,
   "metadata": {},
   "outputs": [],
   "source": [
    "from nbconvert import PythonExporter\n",
    "import codecs\n",
    "import nbformat\n",
    "\n",
    "def convert_notebook_to_script(notebook_file, script_file):\n",
    "    with open(notebook_file) as f:\n",
    "        nb = nbformat.read(f, as_version=4)\n",
    "    exporter = PythonExporter()\n",
    "\n",
    "    # source is a tuple of python script and meta\n",
    "    source, _ = exporter.from_notebook_node(nb)\n",
    "\n",
    "    # write python script\n",
    "    with codecs.open(script_file, 'w', encoding='utf-8') as f:\n",
    "        f.write(source)\n",
    "\n",
    "# Usage\n",
    "convert_notebook_to_script('AI2.ipynb', 'AI2.py')\n"
   ]
  }
 ],
 "metadata": {
  "language_info": {
   "name": "python"
  },
  "orig_nbformat": 4
 },
 "nbformat": 4,
 "nbformat_minor": 2
}
