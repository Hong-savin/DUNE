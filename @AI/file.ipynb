{
 "cells": [
  {
   "cell_type": "code",
   "execution_count": 1,
   "metadata": {},
   "outputs": [
    {
     "data": {
      "text/html": [
       "<div>\n",
       "<style scoped>\n",
       "    .dataframe tbody tr th:only-of-type {\n",
       "        vertical-align: middle;\n",
       "    }\n",
       "\n",
       "    .dataframe tbody tr th {\n",
       "        vertical-align: top;\n",
       "    }\n",
       "\n",
       "    .dataframe thead th {\n",
       "        text-align: right;\n",
       "    }\n",
       "</style>\n",
       "<table border=\"1\" class=\"dataframe\">\n",
       "  <thead>\n",
       "    <tr style=\"text-align: right;\">\n",
       "      <th></th>\n",
       "      <th>slice_file_name</th>\n",
       "      <th>fsID</th>\n",
       "      <th>start</th>\n",
       "      <th>end</th>\n",
       "      <th>salience</th>\n",
       "      <th>fold</th>\n",
       "      <th>classID</th>\n",
       "      <th>class</th>\n",
       "    </tr>\n",
       "  </thead>\n",
       "  <tbody>\n",
       "    <tr>\n",
       "      <th>0</th>\n",
       "      <td>100032-3-0-0.wav</td>\n",
       "      <td>100032</td>\n",
       "      <td>0.0</td>\n",
       "      <td>0.317551</td>\n",
       "      <td>1</td>\n",
       "      <td>5</td>\n",
       "      <td>3</td>\n",
       "      <td>dog_bark</td>\n",
       "    </tr>\n",
       "    <tr>\n",
       "      <th>1</th>\n",
       "      <td>100263-2-0-117.wav</td>\n",
       "      <td>100263</td>\n",
       "      <td>58.5</td>\n",
       "      <td>62.500000</td>\n",
       "      <td>1</td>\n",
       "      <td>5</td>\n",
       "      <td>2</td>\n",
       "      <td>children_playing</td>\n",
       "    </tr>\n",
       "    <tr>\n",
       "      <th>2</th>\n",
       "      <td>100263-2-0-121.wav</td>\n",
       "      <td>100263</td>\n",
       "      <td>60.5</td>\n",
       "      <td>64.500000</td>\n",
       "      <td>1</td>\n",
       "      <td>5</td>\n",
       "      <td>2</td>\n",
       "      <td>children_playing</td>\n",
       "    </tr>\n",
       "    <tr>\n",
       "      <th>3</th>\n",
       "      <td>100263-2-0-126.wav</td>\n",
       "      <td>100263</td>\n",
       "      <td>63.0</td>\n",
       "      <td>67.000000</td>\n",
       "      <td>1</td>\n",
       "      <td>5</td>\n",
       "      <td>2</td>\n",
       "      <td>children_playing</td>\n",
       "    </tr>\n",
       "    <tr>\n",
       "      <th>4</th>\n",
       "      <td>100263-2-0-137.wav</td>\n",
       "      <td>100263</td>\n",
       "      <td>68.5</td>\n",
       "      <td>72.500000</td>\n",
       "      <td>1</td>\n",
       "      <td>5</td>\n",
       "      <td>2</td>\n",
       "      <td>children_playing</td>\n",
       "    </tr>\n",
       "  </tbody>\n",
       "</table>\n",
       "</div>"
      ],
      "text/plain": [
       "      slice_file_name    fsID  start        end  salience  fold  classID  \\\n",
       "0    100032-3-0-0.wav  100032    0.0   0.317551         1     5        3   \n",
       "1  100263-2-0-117.wav  100263   58.5  62.500000         1     5        2   \n",
       "2  100263-2-0-121.wav  100263   60.5  64.500000         1     5        2   \n",
       "3  100263-2-0-126.wav  100263   63.0  67.000000         1     5        2   \n",
       "4  100263-2-0-137.wav  100263   68.5  72.500000         1     5        2   \n",
       "\n",
       "              class  \n",
       "0          dog_bark  \n",
       "1  children_playing  \n",
       "2  children_playing  \n",
       "3  children_playing  \n",
       "4  children_playing  "
      ]
     },
     "execution_count": 1,
     "metadata": {},
     "output_type": "execute_result"
    }
   ],
   "source": [
    "import pandas as pd\n",
    "\n",
    "# CSV 파일 읽기\n",
    "data = pd.read_csv('G:/GARAGE/@DUNE/@AI/Sound Classification/archive/UrbanSound8K.csv')\n",
    "\n",
    "# 데이터의 첫 5행을 보여주기\n",
    "data.head()"
   ]
  },
  {
   "cell_type": "code",
   "execution_count": 10,
   "metadata": {},
   "outputs": [
    {
     "data": {
      "text/plain": [
       "['8kval.csv',\n",
       " 'UrbanSound8K.csv',\n",
       " 'UrbanSound8K_val (2).csv',\n",
       " 'all1000_UrbanSound8K.csv',\n",
       " 'fold2',\n",
       " 'fold5',\n",
       " 'fold4',\n",
       " 'fold3',\n",
       " 'fold8',\n",
       " 'fold6',\n",
       " 'fold1',\n",
       " 'fold7',\n",
       " 'fold9',\n",
       " 'fold_aug',\n",
       " 'fold11',\n",
       " 'fold10',\n",
       " 'fold12',\n",
       " 'foldval',\n",
       " '폴더1',\n",
       " 'new',\n",
       " 'classified_folders']"
      ]
     },
     "execution_count": 10,
     "metadata": {},
     "output_type": "execute_result"
    }
   ],
   "source": [
    "# 압축 해제된 폴더의 내부 구조 확인\n",
    "import os\n",
    "main_folder = os.path.join('G:/GARAGE/@DUNE/@AI/Sound Classification/archive')\n",
    "os.listdir(main_folder)"
   ]
  },
  {
   "cell_type": "code",
   "execution_count": 13,
   "metadata": {},
   "outputs": [
    {
     "data": {
      "text/plain": [
       "['jackhammer',\n",
       " 'street_music',\n",
       " 'siren',\n",
       " 'dog_bark',\n",
       " 'children_playing',\n",
       " 'air_conditioner',\n",
       " 'engine_idling',\n",
       " 'car_horn',\n",
       " 'drilling',\n",
       " 'gun_shot']"
      ]
     },
     "execution_count": 13,
     "metadata": {},
     "output_type": "execute_result"
    }
   ],
   "source": [
    "import os\n",
    "import shutil\n",
    "unzip_dir = 'G:/GARAGE/@DUNE/@AI/Sound Classification/archive/new'\n",
    "# 클래스별 폴더를 생성할 위치\n",
    "class_folder_path = os.path.join(unzip_dir, 'classified_folders')\n",
    "os.makedirs(class_folder_path, exist_ok=True)\n",
    "\n",
    "# fold 폴더만 순회하도록 수정\n",
    "for fold in [f for f in os.listdir(main_folder) if f.startswith('fold')]:\n",
    "    fold_path = os.path.join(main_folder, fold)\n",
    "    \n",
    "    # fold 폴더 내의 파일들을 순회\n",
    "    for file in os.listdir(fold_path):\n",
    "        # 해당 파일의 클래스를 찾기\n",
    "        file_classes = data[data['slice_file_name'] == file]['class'].values\n",
    "        \n",
    "        # 파일 클래스가 존재하는 경우에만 처리\n",
    "        if len(file_classes) > 0:\n",
    "            file_class = file_classes[0]\n",
    "            \n",
    "            # 클래스 폴더 생성 (이미 존재하지 않는 경우)\n",
    "            class_dir = os.path.join(class_folder_path, file_class)\n",
    "            os.makedirs(class_dir, exist_ok=True)\n",
    "            \n",
    "            # 파일 복사\n",
    "            source_path = os.path.join(fold_path, file)\n",
    "            dest_path = os.path.join(class_dir, file)\n",
    "            shutil.copy2(source_path, dest_path)\n",
    "\n",
    "# 분류된 폴더의 내용 확인\n",
    "os.listdir(class_folder_path)\n"
   ]
  }
 ],
 "metadata": {
  "kernelspec": {
   "display_name": "Python 3",
   "language": "python",
   "name": "python3"
  },
  "language_info": {
   "codemirror_mode": {
    "name": "ipython",
    "version": 3
   },
   "file_extension": ".py",
   "mimetype": "text/x-python",
   "name": "python",
   "nbconvert_exporter": "python",
   "pygments_lexer": "ipython3",
   "version": "3.11.3"
  },
  "orig_nbformat": 4
 },
 "nbformat": 4,
 "nbformat_minor": 2
}
