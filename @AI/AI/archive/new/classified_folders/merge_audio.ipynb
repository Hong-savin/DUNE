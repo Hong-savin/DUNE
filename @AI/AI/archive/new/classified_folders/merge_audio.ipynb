{
 "cells": [
  {
   "cell_type": "markdown",
   "metadata": {},
   "source": [
    "# Defult\n"
   ]
  },
  {
   "cell_type": "code",
   "execution_count": null,
   "metadata": {},
   "outputs": [],
   "source": [
    "from pydub import AudioSegment\n",
    "import os\n",
    "\n",
    "base_folder_path = '/Volumes/새 볼륨/GARAGE/@DUNE/@AI/Sound Classification/archive/new/classified_folders'\n",
    "save_path = 'merged'\n",
    "\n",
    "# classified_folders 아래의 모든 폴더를 가져옵니다.\n",
    "all_folders = [folder for folder in os.listdir(base_folder_path) if os.path.isdir(os.path.join(base_folder_path, folder))]\n",
    "\n",
    "for folder in all_folders:\n",
    "    folder_path = os.path.join(base_folder_path, folder)\n",
    "\n",
    "    # AppleDouble 파일과 .wav 확장자만 찾습니다.\n",
    "    audio_files = [f for f in os.listdir(folder_path) if not f.startswith('._') and f.endswith('.wav')]\n",
    "    audio_files.sort()  # 파일 이름 순으로 정렬\n",
    "\n",
    "    combined_audio = AudioSegment.empty()\n",
    "    for file in audio_files:\n",
    "        audio_path = os.path.join(folder_path, file)\n",
    "        try:\n",
    "            audio = AudioSegment.from_wav(audio_path)  # .wav 파일을 읽습니다.\n",
    "            combined_audio += audio\n",
    "        except Exception as e:\n",
    "            print(f\"Error processing {file}: {e}\")\n",
    "\n",
    "    # 합쳐진 오디오 파일 저장\n",
    "    os.makedirs(save_path, exist_ok=True)  # 저장 폴더가 없으면 생성합니다.\n",
    "    combined_audio.export(os.path.join(save_path, f\"{folder}.wav\"), format=\"wav\")"
   ]
  }
 ],
 "metadata": {
  "kernelspec": {
   "display_name": "torchenv",
   "language": "python",
   "name": "python3"
  },
  "language_info": {
   "codemirror_mode": {
    "name": "ipython",
    "version": 3
   },
   "file_extension": ".py",
   "mimetype": "text/x-python",
   "name": "python",
   "nbconvert_exporter": "python",
   "pygments_lexer": "ipython3",
   "version": "3.11.4"
  },
  "orig_nbformat": 4
 },
 "nbformat": 4,
 "nbformat_minor": 2
}
