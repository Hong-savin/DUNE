{
 "cells": [
  {
   "cell_type": "markdown",
   "metadata": {},
   "source": [
    "# Mic check"
   ]
  },
  {
   "cell_type": "code",
   "execution_count": 32,
   "metadata": {},
   "outputs": [
    {
     "name": "stdout",
     "output_type": "stream",
     "text": [
      "{'name': 'MacBook Air 마이크', 'index': 2, 'hostapi': 0, 'max_input_channels': 1, 'max_output_channels': 0, 'default_low_input_latency': 0.0336875, 'default_low_output_latency': 0.01, 'default_high_input_latency': 0.043020833333333335, 'default_high_output_latency': 0.1, 'default_samplerate': 48000.0}\n"
     ]
    }
   ],
   "source": [
    "import sounddevice as sd\n",
    "\n",
    "\n",
    "def get_default_input_device_info():\n",
    "    default_input_device = sd.default.device[0]  # get the ID of the default input device\n",
    "    device_info = sd.query_devices(default_input_device)\n",
    "    print(device_info)\n",
    "\n",
    "# Get the info of the default input device\n",
    "get_default_input_device_info()\n"
   ]
  },
  {
   "cell_type": "code",
   "execution_count": 33,
   "metadata": {},
   "outputs": [
    {
     "name": "stdout",
     "output_type": "stream",
     "text": [
      "Device #1 name: 갤럭시 S2 마이크\n",
      "Device #2 name: MacBook Air 마이크\n"
     ]
    }
   ],
   "source": [
    "import sounddevice as sd\n",
    "\n",
    "def list_input_devices():\n",
    "    devices = sd.query_devices()\n",
    "    for i, device in enumerate(devices):\n",
    "        if device['max_input_channels'] > 0:  # this is an input device\n",
    "            print(f\"Device #{i} name: {device['name']}\")\n",
    "\n",
    "# List available input devices (including microphones)\n",
    "list_input_devices()"
   ]
  },
  {
   "cell_type": "code",
   "execution_count": 34,
   "metadata": {},
   "outputs": [
    {
     "name": "stdout",
     "output_type": "stream",
     "text": [
      "|||||||||||||||||||"
     ]
    }
   ],
   "source": [
    "import numpy as np\n",
    "\n",
    "# Choose the device to use for recording\n",
    "device_id = 2  # replace with the ID of the device you want to use\n",
    "duration = 3  # seconds\n",
    "\n",
    "# Create a buffer to store the audio data\n",
    "buffer = np.zeros((duration * 44100,))\n",
    "buffer_index = 0\n",
    "\n",
    "# Define a callback function to process the audio input\n",
    "def audio_callback(indata, frames, time, status):\n",
    "    global buffer_index\n",
    "    volume_norm = np.linalg.norm(indata) * 10\n",
    "    print(f'\\r{\"|\" * int(volume_norm)}', end='')  # print a simple \"volume bar\"\n",
    "\n",
    "    # Store the incoming data in the buffer\n",
    "    buffer[buffer_index:buffer_index+frames] = indata[:, 0]\n",
    "    buffer_index += frames\n",
    "\n",
    "# Create a stream object\n",
    "stream = sd.InputStream(callback=audio_callback, device=device_id, channels=1, samplerate=44100)\n",
    "\n",
    "# Start the stream\n",
    "with stream:\n",
    "    # Record for 3 seconds\n",
    "    sd.sleep(duration * 1000)\n",
    "\n",
    "# Play back the recorded sound\n",
    "sd.play(buffer, samplerate=44100)"
   ]
  },
  {
   "attachments": {},
   "cell_type": "markdown",
   "metadata": {},
   "source": [
    "### Import models\n"
   ]
  },
  {
   "cell_type": "code",
   "execution_count": 35,
   "metadata": {},
   "outputs": [
    {
     "name": "stderr",
     "output_type": "stream",
     "text": [
      "/Users/owo/anaconda3/envs/torchenv/lib/python3.11/site-packages/torchvision/models/_utils.py:208: UserWarning: The parameter 'pretrained' is deprecated since 0.13 and may be removed in the future, please use 'weights' instead.\n",
      "  warnings.warn(\n",
      "/Users/owo/anaconda3/envs/torchenv/lib/python3.11/site-packages/torchvision/models/_utils.py:223: UserWarning: Arguments other than a weight enum or `None` for 'weights' are deprecated since 0.13 and may be removed in the future. The current behavior is equivalent to passing `weights=None`.\n",
      "  warnings.warn(msg)\n"
     ]
    },
    {
     "name": "stdout",
     "output_type": "stream",
     "text": [
      "Model successfully loaded.+CPU\n"
     ]
    }
   ],
   "source": [
    "import torch\n",
    "import torch.nn as nn\n",
    "import torchaudio\n",
    "import sounddevice as sd\n",
    "import torchvision.transforms as transforms\n",
    "from torchvision.models import resnet18\n",
    "from torch.autograd import Variable\n",
    "from IPython.display import Audio\n",
    "\n",
    "selected_labels = [\"air_conditioner\",\"children_playing\", \"street_music\",\"door_nock\",\"glass_shatter\",\"car_horn\",\"dog_bark\",\"drilling\",\"nothing\",\"siren\",\"nothing2\",\"Bicycle_bell\"]\n",
    "\n",
    "try:\n",
    "    # MULTI GPU\n",
    "    device = torch.device(\"cuda\" if torch.cuda.is_available() else \"cpu\")\n",
    "    model = resnet18(pretrained=False)\n",
    "    num_ftrs = model.fc.in_features\n",
    "    model.fc = nn.Linear(512,len(selected_labels))\n",
    "    model = nn.DataParallel(model)  # Add this line\n",
    "    model.load_state_dict(torch.load('ResNet18_02.pth', map_location=device))\n",
    "    model = model.to(device)\n",
    "    model = model.eval()\n",
    "\n",
    "    state_dict = torch.load('ResNet18_02.pth', map_location=device)\n",
    "    new_state_dict = {k.replace(\"module.\", \"\"): v for k, v in state_dict.items()}\n",
    "    model.load_state_dict(new_state_dict)\n",
    "\n",
    "    print(\"Model successfully loaded. + GPU\")\n",
    "except:\n",
    "    #One GPU or CPU\n",
    "    device = torch.device(\"cuda\" if torch.cuda.is_available() else \"cpu\")\n",
    "    model = resnet18(pretrained=False)\n",
    "    num_ftrs = model.fc.in_features\n",
    "    model.fc = nn.Linear(512,len(selected_labels))\n",
    "    try:\n",
    "        state_dict = torch.load('ResNet18_02.pth', map_location=device)\n",
    "        new_state_dict = {k.replace(\"module.\", \"\"): v for k, v in state_dict.items()}\n",
    "        model.load_state_dict(new_state_dict)\n",
    "        model = model.to(device)\n",
    "        model = model.eval()\n",
    "        print(\"Model successfully loaded.+CPU\")\n",
    "    except:\n",
    "        print(\"Failed to load the model. Please check the model file.\")\n",
    "\n"
   ]
  },
  {
   "cell_type": "code",
   "execution_count": 36,
   "metadata": {},
   "outputs": [
    {
     "name": "stderr",
     "output_type": "stream",
     "text": [
      "/Users/owo/anaconda3/envs/torchenv/lib/python3.11/site-packages/torchaudio/functional/functional.py:576: UserWarning: At least one mel filterbank has all zero values. The value for `n_mels` (128) may be set too high. Or, the value for `n_freqs` (201) may be set too low.\n",
      "  warnings.warn(\n"
     ]
    }
   ],
   "source": [
    "SAMPLE_RATE = 22050\n",
    "\n",
    "class MonoToColor(nn.Module):\n",
    "    def __init__(self, num_channels=3):\n",
    "        super(MonoToColor, self).__init__()\n",
    "        self.num_channels = num_channels\n",
    "\n",
    "    def forward(self, tensor):\n",
    "        return tensor.repeat(self.num_channels, 1, 1)\n",
    "\n",
    "# Apply the same transformation as used during training\n",
    "transformation = transforms.Compose([\n",
    "    torchaudio.transforms.MelSpectrogram(sample_rate=SAMPLE_RATE, n_mels=128),\n",
    "    torchaudio.transforms.AmplitudeToDB(stype='power', top_db=80),\n",
    "    MonoToColor()\n",
    "])"
   ]
  },
  {
   "attachments": {},
   "cell_type": "markdown",
   "metadata": {},
   "source": [
    "## 2seconds / 80% upper guess"
   ]
  },
  {
   "cell_type": "code",
   "execution_count": 41,
   "metadata": {},
   "outputs": [],
   "source": [
    "import torch.nn.functional as F\n",
    "\n",
    "\n",
    "## print every labels\n",
    "def continuous_sound_prediction(model, device, transformation, sample_rate, target_sample_rate):\n",
    "    # Define class labels\n",
    "\n",
    "    count = 0\n",
    "    while True:\n",
    "        if count > 100:\n",
    "            break\n",
    "        # Record a 2 seconds mono audio at the specified sample rate\n",
    "        duration = 2.0  # seconds\n",
    "        recording = sd.rec(int(duration * sample_rate), samplerate=sample_rate, channels=1) \n",
    "        sd.wait()\n",
    "\n",
    "        # Convert to PyTorch tensor and switch channels and frames\n",
    "        recording = torch.from_numpy(recording).float()\n",
    "        recording = torch.transpose(recording, 0, 1)\n",
    "\n",
    "        # Resample if necessary\n",
    "        if sample_rate != target_sample_rate:\n",
    "            resampler = torchaudio.transforms.Resample(sample_rate, target_sample_rate)\n",
    "            recording = resampler(recording)\n",
    "\n",
    "        # Mix down if necessary\n",
    "        if recording.shape[0] > 1:\n",
    "            recording = torch.mean(recording, dim=0, keepdim=True)\n",
    "\n",
    "        # Cut or pad if necessary\n",
    "        if recording.shape[1] > target_sample_rate:\n",
    "            recording = recording[:, :target_sample_rate]\n",
    "        elif recording.shape[1] < target_sample_rate:\n",
    "            num_missing_samples = target_sample_rate - recording.shape[1]\n",
    "            last_dim_padding = (0, num_missing_samples)\n",
    "            recording = nn.functional.pad(recording, last_dim_padding)\n",
    "\n",
    "        # Apply transformation\n",
    "        recording = transformation(recording)\n",
    "\n",
    "        # Make the prediction\n",
    "        model.eval()  # set model to evaluation mode\n",
    "        with torch.no_grad():  # deactivate autograd engine to reduce memory usage and speed up computations\n",
    "            recording = recording.to(device)\n",
    "            outputs = model(recording[None, ...])\n",
    "            #probabilities = F.softmax(outputs, dim=1)  # apply softmax to output\n",
    "            #_, predicted = torch.max(outputs, 1)\n",
    "            probabilities = torch.sigmoid(outputs)  # apply sigmoid to output\n",
    "            _, predicted = torch.max(outputs, 1)\n",
    "        # Get predicted label and its corresponding probability\n",
    "        predicted_label = selected_labels[predicted.item()]\n",
    "        predicted_confidence = probabilities[0, predicted.item()].item()  # get the probability of the predicted class\n",
    "\n",
    "        ######## Adjust 'x' probability   #########\n",
    "        #change_label = \"drilling\"\n",
    "        change_probability = 0.5\n",
    "        try:\n",
    "            x_index = selected_labels.index(change_label)\n",
    "            probabilities[0, x_index] = max(0.0, probabilities[0, x_index].item() - change_probability)\n",
    "            #print(f\"reduce {change_label} by {change_probability}\")\n",
    "        except:\n",
    "            #print(\"no tune\")\n",
    "            pass\n",
    "        # Print the probabilities of all labels in one line\n",
    "        prob_strs = [f\"{label} {probabilities[0, idx].item():.2%}\" for idx, label in enumerate(selected_labels)]\n",
    "        #print(f\"\\r{count} / \" + \" / \".join(prob_strs), end=\"\")\n",
    "        print(f\"{count} / \" + \" / \".join(prob_strs))\n",
    "\n",
    "        count = count + 1\n"
   ]
  },
  {
   "cell_type": "code",
   "execution_count": 43,
   "metadata": {},
   "outputs": [
    {
     "name": "stdout",
     "output_type": "stream",
     "text": [
      "device :  cpu\n",
      "0 / door_nock 0.43% / glass_shatter 15.13% / car_horn 0.02% / dog_bark 98.94% / drilling 8.43% / nothing 12.00% / siren 15.63% / nothing2 14.77%\n",
      "1 / door_nock 0.07% / glass_shatter 42.81% / car_horn 0.00% / dog_bark 98.41% / drilling 52.49% / nothing 0.95% / siren 22.18% / nothing2 27.88%\n",
      "2 / door_nock 14.23% / glass_shatter 73.48% / car_horn 0.05% / dog_bark 56.12% / drilling 2.92% / nothing 15.90% / siren 0.72% / nothing2 77.02%\n",
      "3 / door_nock 3.21% / glass_shatter 65.95% / car_horn 0.01% / dog_bark 74.46% / drilling 0.39% / nothing 23.93% / siren 2.00% / nothing2 72.87%\n",
      "4 / door_nock 68.15% / glass_shatter 58.19% / car_horn 0.00% / dog_bark 5.37% / drilling 2.01% / nothing 25.25% / siren 0.68% / nothing2 96.93%\n",
      "5 / door_nock 12.25% / glass_shatter 56.14% / car_horn 0.01% / dog_bark 78.13% / drilling 2.41% / nothing 11.26% / siren 0.75% / nothing2 75.61%\n",
      "6 / door_nock 52.63% / glass_shatter 28.99% / car_horn 0.03% / dog_bark 50.64% / drilling 7.28% / nothing 10.16% / siren 1.16% / nothing2 88.26%\n",
      "7 / door_nock 4.41% / glass_shatter 39.92% / car_horn 0.02% / dog_bark 75.97% / drilling 10.97% / nothing 14.05% / siren 4.14% / nothing2 43.77%\n",
      "8 / door_nock 14.61% / glass_shatter 7.50% / car_horn 0.00% / dog_bark 65.85% / drilling 32.73% / nothing 30.67% / siren 1.26% / nothing2 83.93%\n",
      "9 / door_nock 0.38% / glass_shatter 12.13% / car_horn 0.00% / dog_bark 98.45% / drilling 1.97% / nothing 4.62% / siren 26.59% / nothing2 77.25%\n",
      "10 / door_nock 1.61% / glass_shatter 99.06% / car_horn 0.16% / dog_bark 1.15% / drilling 0.16% / nothing 9.71% / siren 17.16% / nothing2 51.58%\n",
      "11 / door_nock 4.40% / glass_shatter 95.57% / car_horn 2.61% / dog_bark 0.21% / drilling 0.80% / nothing 18.88% / siren 12.86% / nothing2 70.52%\n",
      "12 / door_nock 2.48% / glass_shatter 98.51% / car_horn 1.73% / dog_bark 0.24% / drilling 0.77% / nothing 11.10% / siren 13.95% / nothing2 58.41%\n",
      "13 / door_nock 2.38% / glass_shatter 98.11% / car_horn 1.59% / dog_bark 0.11% / drilling 0.61% / nothing 21.73% / siren 14.91% / nothing2 61.03%\n",
      "14 / door_nock 0.03% / glass_shatter 79.66% / car_horn 0.01% / dog_bark 98.98% / drilling 2.57% / nothing 15.83% / siren 5.29% / nothing2 4.49%\n",
      "15 / door_nock 1.71% / glass_shatter 67.70% / car_horn 0.00% / dog_bark 83.83% / drilling 9.56% / nothing 1.94% / siren 27.38% / nothing2 26.38%\n",
      "16 / door_nock 89.92% / glass_shatter 61.28% / car_horn 0.02% / dog_bark 2.21% / drilling 0.38% / nothing 37.81% / siren 3.79% / nothing2 91.52%\n",
      "17 / door_nock 66.24% / glass_shatter 21.82% / car_horn 0.09% / dog_bark 23.37% / drilling 84.97% / nothing 27.05% / siren 0.86% / nothing2 31.94%\n",
      "18 / door_nock 6.88% / glass_shatter 94.17% / car_horn 0.04% / dog_bark 1.01% / drilling 0.05% / nothing 1.66% / siren 0.61% / nothing2 99.99%\n",
      "19 / door_nock 25.08% / glass_shatter 98.44% / car_horn 0.04% / dog_bark 3.58% / drilling 0.17% / nothing 1.45% / siren 1.20% / nothing2 98.75%\n",
      "20 / door_nock 55.97% / glass_shatter 96.60% / car_horn 0.14% / dog_bark 18.07% / drilling 9.50% / nothing 0.29% / siren 5.53% / nothing2 35.03%\n",
      "21 / door_nock 15.05% / glass_shatter 64.98% / car_horn 0.04% / dog_bark 8.11% / drilling 10.53% / nothing 22.60% / siren 0.97% / nothing2 93.18%\n",
      "22 / door_nock 97.90% / glass_shatter 38.48% / car_horn 0.00% / dog_bark 0.71% / drilling 1.54% / nothing 38.78% / siren 0.77% / nothing2 96.29%\n",
      "23 / door_nock 0.48% / glass_shatter 27.39% / car_horn 0.02% / dog_bark 64.67% / drilling 38.33% / nothing 6.58% / siren 16.99% / nothing2 70.85%\n",
      "24 / door_nock 0.99% / glass_shatter 28.23% / car_horn 0.01% / dog_bark 50.72% / drilling 3.55% / nothing 19.18% / siren 1.65% / nothing2 98.56%\n",
      "25 / door_nock 6.75% / glass_shatter 81.31% / car_horn 0.00% / dog_bark 3.26% / drilling 1.05% / nothing 47.85% / siren 0.61% / nothing2 98.77%\n",
      "26 / door_nock 3.92% / glass_shatter 92.27% / car_horn 0.00% / dog_bark 12.47% / drilling 0.48% / nothing 34.23% / siren 0.60% / nothing2 94.16%\n",
      "27 / door_nock 0.17% / glass_shatter 97.64% / car_horn 0.00% / dog_bark 0.67% / drilling 0.20% / nothing 81.27% / siren 0.55% / nothing2 97.97%\n",
      "28 / door_nock 2.74% / glass_shatter 97.43% / car_horn 0.01% / dog_bark 1.97% / drilling 0.31% / nothing 45.17% / siren 0.55% / nothing2 94.26%\n",
      "29 / door_nock 0.63% / glass_shatter 97.37% / car_horn 0.00% / dog_bark 2.24% / drilling 0.11% / nothing 60.43% / siren 0.87% / nothing2 97.42%\n",
      "30 / door_nock 0.58% / glass_shatter 22.30% / car_horn 0.00% / dog_bark 86.90% / drilling 94.08% / nothing 6.61% / siren 3.92% / nothing2 10.65%\n",
      "31 / door_nock 0.96% / glass_shatter 1.84% / car_horn 0.00% / dog_bark 92.97% / drilling 95.78% / nothing 15.03% / siren 5.51% / nothing2 30.97%\n",
      "32 / door_nock 61.03% / glass_shatter 96.94% / car_horn 0.02% / dog_bark 0.67% / drilling 98.52% / nothing 2.24% / siren 0.47% / nothing2 8.52%\n",
      "33 / door_nock 3.69% / glass_shatter 47.56% / car_horn 0.07% / dog_bark 8.72% / drilling 68.82% / nothing 36.61% / siren 3.56% / nothing2 17.99%\n",
      "34 / door_nock 0.42% / glass_shatter 61.59% / car_horn 0.00% / dog_bark 98.07% / drilling 35.38% / nothing 17.69% / siren 2.37% / nothing2 1.19%\n",
      "35 / door_nock 1.03% / glass_shatter 77.08% / car_horn 0.12% / dog_bark 3.25% / drilling 0.07% / nothing 33.22% / siren 21.03% / nothing2 93.38%\n",
      "36 / door_nock 5.97% / glass_shatter 95.77% / car_horn 0.01% / dog_bark 5.64% / drilling 1.95% / nothing 14.76% / siren 1.46% / nothing2 79.85%\n",
      "37 / door_nock 42.02% / glass_shatter 77.95% / car_horn 0.01% / dog_bark 3.22% / drilling 0.37% / nothing 54.66% / siren 1.72% / nothing2 87.13%\n",
      "38 / door_nock 27.73% / glass_shatter 65.03% / car_horn 0.03% / dog_bark 0.99% / drilling 61.01% / nothing 28.22% / siren 1.17% / nothing2 84.17%\n",
      "39 / door_nock 2.39% / glass_shatter 93.86% / car_horn 0.34% / dog_bark 0.09% / drilling 3.91% / nothing 45.27% / siren 3.51% / nothing2 90.30%\n",
      "40 / door_nock 78.28% / glass_shatter 34.79% / car_horn 0.00% / dog_bark 11.07% / drilling 44.36% / nothing 29.17% / siren 0.65% / nothing2 72.30%\n",
      "41 / door_nock 0.05% / glass_shatter 96.92% / car_horn 0.12% / dog_bark 54.52% / drilling 7.03% / nothing 0.24% / siren 27.21% / nothing2 70.54%\n",
      "42 / door_nock 4.34% / glass_shatter 95.01% / car_horn 2.76% / dog_bark 0.19% / drilling 0.11% / nothing 35.38% / siren 22.89% / nothing2 74.96%\n",
      "43 / door_nock 0.48% / glass_shatter 97.95% / car_horn 0.06% / dog_bark 90.92% / drilling 0.06% / nothing 0.13% / siren 9.40% / nothing2 92.19%\n",
      "44 / door_nock 2.02% / glass_shatter 93.05% / car_horn 0.01% / dog_bark 26.42% / drilling 0.65% / nothing 0.60% / siren 9.20% / nothing2 99.19%\n",
      "45 / door_nock 7.61% / glass_shatter 96.05% / car_horn 0.59% / dog_bark 0.17% / drilling 0.79% / nothing 14.16% / siren 2.98% / nothing2 97.64%\n",
      "46 / door_nock 0.14% / glass_shatter 99.05% / car_horn 0.09% / dog_bark 94.46% / drilling 0.34% / nothing 0.29% / siren 2.99% / nothing2 54.69%\n",
      "47 / door_nock 0.91% / glass_shatter 79.59% / car_horn 0.01% / dog_bark 37.73% / drilling 0.64% / nothing 4.03% / siren 15.52% / nothing2 96.70%\n",
      "48 / door_nock 0.56% / glass_shatter 93.76% / car_horn 0.00% / dog_bark 29.94% / drilling 2.73% / nothing 0.56% / siren 32.43% / nothing2 95.57%\n",
      "49 / door_nock 3.20% / glass_shatter 97.48% / car_horn 2.06% / dog_bark 0.26% / drilling 0.50% / nothing 23.30% / siren 4.69% / nothing2 82.94%\n",
      "50 / door_nock 4.00% / glass_shatter 63.48% / car_horn 0.06% / dog_bark 32.81% / drilling 1.15% / nothing 9.29% / siren 24.94% / nothing2 79.22%\n",
      "51 / door_nock 8.41% / glass_shatter 69.64% / car_horn 0.09% / dog_bark 74.54% / drilling 0.34% / nothing 4.20% / siren 4.45% / nothing2 88.48%\n",
      "52 / door_nock 70.59% / glass_shatter 45.17% / car_horn 0.02% / dog_bark 14.55% / drilling 1.22% / nothing 11.33% / siren 5.18% / nothing2 85.79%\n",
      "53 / door_nock 28.46% / glass_shatter 52.00% / car_horn 0.17% / dog_bark 2.94% / drilling 2.05% / nothing 11.60% / siren 13.01% / nothing2 89.90%\n",
      "54 / door_nock 3.38% / glass_shatter 87.06% / car_horn 0.20% / dog_bark 2.77% / drilling 1.93% / nothing 58.54% / siren 1.55% / nothing2 86.30%\n",
      "55 / door_nock 4.26% / glass_shatter 60.74% / car_horn 5.26% / dog_bark 5.57% / drilling 4.71% / nothing 42.75% / siren 15.43% / nothing2 17.01%\n",
      "56 / door_nock 4.06% / glass_shatter 90.03% / car_horn 5.24% / dog_bark 0.51% / drilling 0.62% / nothing 30.61% / siren 14.01% / nothing2 64.14%\n",
      "57 / door_nock 51.79% / glass_shatter 59.71% / car_horn 0.18% / dog_bark 90.90% / drilling 0.62% / nothing 4.14% / siren 5.75% / nothing2 44.03%\n",
      "58 / door_nock 17.42% / glass_shatter 37.41% / car_horn 0.02% / dog_bark 70.65% / drilling 0.72% / nothing 8.60% / siren 4.71% / nothing2 90.64%\n",
      "59 / door_nock 1.19% / glass_shatter 72.46% / car_horn 0.03% / dog_bark 93.02% / drilling 0.24% / nothing 5.21% / siren 2.51% / nothing2 80.34%\n",
      "60 / door_nock 0.50% / glass_shatter 75.32% / car_horn 0.01% / dog_bark 54.44% / drilling 0.17% / nothing 16.64% / siren 8.91% / nothing2 89.23%\n",
      "61 / door_nock 74.79% / glass_shatter 45.01% / car_horn 0.32% / dog_bark 4.31% / drilling 0.92% / nothing 21.80% / siren 3.49% / nothing2 94.15%\n",
      "62 / door_nock 3.18% / glass_shatter 60.61% / car_horn 0.09% / dog_bark 82.64% / drilling 0.19% / nothing 4.65% / siren 4.98% / nothing2 93.29%\n",
      "63 / door_nock 2.81% / glass_shatter 43.71% / car_horn 0.10% / dog_bark 63.30% / drilling 2.05% / nothing 1.85% / siren 67.83% / nothing2 52.04%\n",
      "64 / door_nock 14.28% / glass_shatter 52.70% / car_horn 0.03% / dog_bark 91.75% / drilling 0.07% / nothing 2.32% / siren 3.47% / nothing2 95.00%\n",
      "65 / door_nock 4.69% / glass_shatter 24.33% / car_horn 0.01% / dog_bark 43.74% / drilling 0.38% / nothing 21.77% / siren 17.17% / nothing2 88.87%\n",
      "66 / door_nock 3.52% / glass_shatter 84.05% / car_horn 0.07% / dog_bark 50.73% / drilling 0.06% / nothing 19.07% / siren 2.84% / nothing2 77.12%\n",
      "67 / door_nock 9.47% / glass_shatter 72.74% / car_horn 0.15% / dog_bark 14.82% / drilling 0.12% / nothing 12.19% / siren 7.08% / nothing2 94.69%\n",
      "68 / door_nock 83.92% / glass_shatter 81.41% / car_horn 0.33% / dog_bark 21.10% / drilling 0.07% / nothing 2.01% / siren 8.69% / nothing2 89.58%\n",
      "69 / door_nock 3.61% / glass_shatter 61.61% / car_horn 0.01% / dog_bark 5.71% / drilling 1.69% / nothing 39.49% / siren 0.78% / nothing2 98.93%\n",
      "70 / door_nock 28.52% / glass_shatter 24.38% / car_horn 0.07% / dog_bark 14.66% / drilling 1.25% / nothing 6.87% / siren 7.27% / nothing2 98.83%\n",
      "71 / door_nock 11.83% / glass_shatter 81.34% / car_horn 0.00% / dog_bark 24.53% / drilling 0.01% / nothing 3.58% / siren 1.16% / nothing2 99.92%\n",
      "72 / door_nock 49.93% / glass_shatter 67.51% / car_horn 0.03% / dog_bark 26.18% / drilling 0.01% / nothing 6.13% / siren 0.61% / nothing2 99.79%\n",
      "73 / door_nock 57.26% / glass_shatter 52.46% / car_horn 0.01% / dog_bark 1.67% / drilling 0.04% / nothing 8.69% / siren 0.41% / nothing2 99.98%\n",
      "74 / door_nock 10.84% / glass_shatter 95.89% / car_horn 0.12% / dog_bark 84.03% / drilling 0.10% / nothing 0.09% / siren 3.89% / nothing2 90.96%\n",
      "75 / door_nock 10.63% / glass_shatter 74.68% / car_horn 0.13% / dog_bark 96.92% / drilling 0.02% / nothing 0.75% / siren 3.03% / nothing2 94.31%\n",
      "76 / door_nock 7.65% / glass_shatter 94.55% / car_horn 0.28% / dog_bark 89.02% / drilling 0.69% / nothing 0.50% / siren 5.46% / nothing2 45.50%\n",
      "77 / door_nock 20.32% / glass_shatter 88.97% / car_horn 0.04% / dog_bark 86.76% / drilling 0.15% / nothing 0.40% / siren 4.79% / nothing2 87.35%\n",
      "78 / door_nock 17.27% / glass_shatter 88.42% / car_horn 0.07% / dog_bark 36.60% / drilling 0.30% / nothing 0.86% / siren 1.64% / nothing2 97.41%\n",
      "79 / door_nock 2.82% / glass_shatter 92.60% / car_horn 0.12% / dog_bark 67.44% / drilling 5.50% / nothing 0.95% / siren 32.66% / nothing2 15.10%\n",
      "80 / door_nock 0.92% / glass_shatter 69.88% / car_horn 0.00% / dog_bark 3.68% / drilling 27.02% / nothing 23.51% / siren 9.39% / nothing2 86.67%\n",
      "81 / door_nock 5.45% / glass_shatter 55.82% / car_horn 0.00% / dog_bark 18.68% / drilling 11.37% / nothing 4.22% / siren 44.17% / nothing2 80.73%\n",
      "82 / door_nock 16.96% / glass_shatter 77.63% / car_horn 0.00% / dog_bark 1.26% / drilling 0.46% / nothing 33.22% / siren 6.42% / nothing2 97.18%\n",
      "83 / door_nock 71.37% / glass_shatter 59.87% / car_horn 0.01% / dog_bark 0.55% / drilling 0.61% / nothing 16.79% / siren 25.04% / nothing2 96.66%\n",
      "84 / door_nock 14.73% / glass_shatter 28.61% / car_horn 0.00% / dog_bark 2.45% / drilling 19.84% / nothing 42.87% / siren 9.31% / nothing2 88.74%\n",
      "85 / door_nock 34.95% / glass_shatter 82.75% / car_horn 0.03% / dog_bark 82.89% / drilling 0.02% / nothing 0.61% / siren 53.86% / nothing2 67.29%\n",
      "86 / door_nock 48.57% / glass_shatter 93.14% / car_horn 0.05% / dog_bark 18.24% / drilling 0.01% / nothing 0.83% / siren 21.65% / nothing2 95.89%\n",
      "87 / door_nock 80.47% / glass_shatter 63.06% / car_horn 0.09% / dog_bark 6.56% / drilling 1.05% / nothing 6.72% / siren 29.27% / nothing2 65.72%\n",
      "88 / door_nock 34.11% / glass_shatter 63.55% / car_horn 0.01% / dog_bark 7.61% / drilling 0.86% / nothing 11.81% / siren 81.94% / nothing2 32.66%\n",
      "89 / door_nock 8.37% / glass_shatter 86.87% / car_horn 0.05% / dog_bark 88.63% / drilling 0.01% / nothing 2.02% / siren 4.26% / nothing2 93.10%\n",
      "90 / door_nock 0.46% / glass_shatter 96.97% / car_horn 0.01% / dog_bark 16.35% / drilling 0.01% / nothing 38.17% / siren 6.52% / nothing2 81.01%\n",
      "91 / door_nock 0.24% / glass_shatter 38.44% / car_horn 0.00% / dog_bark 56.74% / drilling 0.54% / nothing 17.94% / siren 29.19% / nothing2 91.78%\n",
      "92 / door_nock 0.94% / glass_shatter 28.32% / car_horn 0.00% / dog_bark 97.18% / drilling 0.84% / nothing 2.86% / siren 26.13% / nothing2 61.58%\n",
      "93 / door_nock 51.45% / glass_shatter 75.38% / car_horn 0.00% / dog_bark 24.70% / drilling 0.14% / nothing 7.79% / siren 3.27% / nothing2 90.67%\n",
      "94 / door_nock 0.17% / glass_shatter 23.63% / car_horn 0.00% / dog_bark 99.89% / drilling 7.25% / nothing 0.72% / siren 30.33% / nothing2 8.92%\n",
      "95 / door_nock 3.96% / glass_shatter 54.83% / car_horn 0.00% / dog_bark 70.80% / drilling 0.32% / nothing 6.83% / siren 5.05% / nothing2 94.96%\n",
      "96 / door_nock 0.57% / glass_shatter 75.43% / car_horn 0.02% / dog_bark 8.16% / drilling 0.54% / nothing 70.97% / siren 6.59% / nothing2 78.52%\n",
      "97 / door_nock 1.54% / glass_shatter 94.93% / car_horn 0.17% / dog_bark 1.02% / drilling 0.63% / nothing 58.13% / siren 2.29% / nothing2 91.98%\n",
      "98 / door_nock 0.22% / glass_shatter 98.99% / car_horn 0.00% / dog_bark 89.03% / drilling 0.04% / nothing 0.08% / siren 86.64% / nothing2 47.34%\n",
      "99 / door_nock 0.87% / glass_shatter 97.34% / car_horn 0.00% / dog_bark 85.88% / drilling 0.06% / nothing 0.22% / siren 72.22% / nothing2 69.07%\n",
      "100 / door_nock 3.39% / glass_shatter 97.46% / car_horn 0.01% / dog_bark 73.14% / drilling 0.27% / nothing 0.27% / siren 36.77% / nothing2 71.92%\n"
     ]
    }
   ],
   "source": [
    "# Call the continuous sound prediction function\n",
    "#print(\"model : \",model)\n",
    "print(\"device : \",device)\n",
    "\n",
    "continuous_sound_prediction(model, device, transformation, SAMPLE_RATE, SAMPLE_RATE)"
   ]
  }
 ],
 "metadata": {
  "kernelspec": {
   "display_name": "torchenv",
   "language": "python",
   "name": "python3"
  },
  "language_info": {
   "codemirror_mode": {
    "name": "ipython",
    "version": 3
   },
   "file_extension": ".py",
   "mimetype": "text/x-python",
   "name": "python",
   "nbconvert_exporter": "python",
   "pygments_lexer": "ipython3",
   "version": "3.11.4"
  },
  "orig_nbformat": 4
 },
 "nbformat": 4,
 "nbformat_minor": 2
}
