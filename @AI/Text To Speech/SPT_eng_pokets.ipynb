{
 "cells": [
  {
   "cell_type": "markdown",
   "metadata": {},
   "source": [
    "# Not ready"
   ]
  },
  {
   "cell_type": "code",
   "execution_count": null,
   "metadata": {},
   "outputs": [
    {
     "name": "stdout",
     "output_type": "stream",
     "text": [
      "Requirement already satisfied: pocketsphinx in /Users/owo/anaconda3/envs/torchenv/lib/python3.11/site-packages (5.0.1)\n",
      "Requirement already satisfied: sounddevice in /Users/owo/anaconda3/envs/torchenv/lib/python3.11/site-packages (from pocketsphinx) (0.4.6)\n",
      "Requirement already satisfied: CFFI>=1.0 in /Users/owo/anaconda3/envs/torchenv/lib/python3.11/site-packages (from sounddevice->pocketsphinx) (1.15.1)\n",
      "Requirement already satisfied: pycparser in /Users/owo/anaconda3/envs/torchenv/lib/python3.11/site-packages (from CFFI>=1.0->sounddevice->pocketsphinx) (2.21)\n",
      "Note: you may need to restart the kernel to use updated packages.\n"
     ]
    }
   ],
   "source": [
    "pip install pocketsphinx"
   ]
  },
  {
   "cell_type": "code",
   "execution_count": null,
   "metadata": {},
   "outputs": [
    {
     "name": "stderr",
     "output_type": "stream",
     "text": [
      "ERROR: \"acmod.c\", line 73: Folder '/Users/owo/anaconda3/envs/torchenv/lib/python3.11/site-packages/pocketsphinx/model/en-us' does not contain acoustic model definition 'mdef'\n"
     ]
    },
    {
     "ename": "RuntimeError",
     "evalue": "Failed to initialize PocketSphinx",
     "output_type": "error",
     "traceback": [
      "\u001b[0;31m---------------------------------------------------------------------------\u001b[0m",
      "\u001b[0;31mRuntimeError\u001b[0m                              Traceback (most recent call last)",
      "Cell \u001b[0;32mIn[2], line 13\u001b[0m\n\u001b[1;32m      6\u001b[0m config \u001b[39m=\u001b[39m {\n\u001b[1;32m      7\u001b[0m     \u001b[39m'\u001b[39m\u001b[39mhmm\u001b[39m\u001b[39m'\u001b[39m: os\u001b[39m.\u001b[39mpath\u001b[39m.\u001b[39mjoin(model_path, \u001b[39m'\u001b[39m\u001b[39men-us\u001b[39m\u001b[39m'\u001b[39m),\n\u001b[1;32m      8\u001b[0m     \u001b[39m'\u001b[39m\u001b[39mlm\u001b[39m\u001b[39m'\u001b[39m: os\u001b[39m.\u001b[39mpath\u001b[39m.\u001b[39mjoin(model_path, \u001b[39m'\u001b[39m\u001b[39men-us.lm.bin\u001b[39m\u001b[39m'\u001b[39m),\n\u001b[1;32m      9\u001b[0m     \u001b[39m'\u001b[39m\u001b[39mdict\u001b[39m\u001b[39m'\u001b[39m: os\u001b[39m.\u001b[39mpath\u001b[39m.\u001b[39mjoin(model_path, \u001b[39m'\u001b[39m\u001b[39mcmudict-en-us.dict\u001b[39m\u001b[39m'\u001b[39m)\n\u001b[1;32m     10\u001b[0m }\n\u001b[1;32m     12\u001b[0m \u001b[39m# Start speech recognition\u001b[39;00m\n\u001b[0;32m---> 13\u001b[0m speech \u001b[39m=\u001b[39m LiveSpeech(\u001b[39m*\u001b[39;49m\u001b[39m*\u001b[39;49mconfig)\n\u001b[1;32m     14\u001b[0m \u001b[39mfor\u001b[39;00m phrase \u001b[39min\u001b[39;00m speech:\n\u001b[1;32m     15\u001b[0m     \u001b[39mprint\u001b[39m(phrase)\n",
      "File \u001b[0;32m~/anaconda3/envs/torchenv/lib/python3.11/site-packages/pocketsphinx/__init__.py:254\u001b[0m, in \u001b[0;36mLiveSpeech.__init__\u001b[0;34m(self, **kwargs)\u001b[0m\n\u001b[1;32m    245\u001b[0m     \u001b[39mraise\u001b[39;00m \u001b[39mRuntimeError\u001b[39;00m(\u001b[39m\"\u001b[39m\u001b[39mLiveSpeech not supported: \u001b[39m\u001b[39m%s\u001b[39;00m\u001b[39m\"\u001b[39m \u001b[39m%\u001b[39m e)\n\u001b[1;32m    246\u001b[0m \u001b[39mself\u001b[39m\u001b[39m.\u001b[39mad \u001b[39m=\u001b[39m sounddevice\u001b[39m.\u001b[39mRawInputStream(\n\u001b[1;32m    247\u001b[0m     samplerate\u001b[39m=\u001b[39m\u001b[39mself\u001b[39m\u001b[39m.\u001b[39msampling_rate,\n\u001b[1;32m    248\u001b[0m     \u001b[39m# WE DO NOT CARE ABOUT LATENCY!\u001b[39;00m\n\u001b[0;32m   (...)\u001b[0m\n\u001b[1;32m    252\u001b[0m     device\u001b[39m=\u001b[39m\u001b[39mself\u001b[39m\u001b[39m.\u001b[39maudio_device,\n\u001b[1;32m    253\u001b[0m )\n\u001b[0;32m--> 254\u001b[0m \u001b[39msuper\u001b[39;49m(LiveSpeech, \u001b[39mself\u001b[39;49m)\u001b[39m.\u001b[39;49m\u001b[39m__init__\u001b[39;49m(\u001b[39m*\u001b[39;49m\u001b[39m*\u001b[39;49mkwargs)\n",
      "File \u001b[0;32m~/anaconda3/envs/torchenv/lib/python3.11/site-packages/pocketsphinx/__init__.py:105\u001b[0m, in \u001b[0;36mPocketsphinx.__init__\u001b[0;34m(self, **kwargs)\u001b[0m\n\u001b[1;32m    103\u001b[0m     kwargs[\u001b[39m\"\u001b[39m\u001b[39mloglevel\u001b[39m\u001b[39m\"\u001b[39m] \u001b[39m=\u001b[39m \u001b[39m\"\u001b[39m\u001b[39mINFO\u001b[39m\u001b[39m\"\u001b[39m\n\u001b[1;32m    104\u001b[0m \u001b[39mself\u001b[39m\u001b[39m.\u001b[39mstart_frame \u001b[39m=\u001b[39m \u001b[39m0\u001b[39m\n\u001b[0;32m--> 105\u001b[0m \u001b[39msuper\u001b[39;49m(Pocketsphinx, \u001b[39mself\u001b[39;49m)\u001b[39m.\u001b[39;49m\u001b[39m__init__\u001b[39;49m(\u001b[39m*\u001b[39;49m\u001b[39m*\u001b[39;49mkwargs)\n",
      "File \u001b[0;32m_pocketsphinx.pyx:852\u001b[0m, in \u001b[0;36m_pocketsphinx.Decoder.__init__\u001b[0;34m()\u001b[0m\n",
      "\u001b[0;31mRuntimeError\u001b[0m: Failed to initialize PocketSphinx"
     ]
    }
   ],
   "source": [
    "from pocketsphinx import LiveSpeech, get_model_path\n",
    "import os\n",
    "\n",
    "# Configure PocketSphinx\n",
    "model_path = get_model_path()\n",
    "config = {\n",
    "    'hmm': os.path.join(model_path, 'en-us'),\n",
    "    'lm': os.path.join(model_path, 'en-us.lm.bin'),\n",
    "    'dict': os.path.join(model_path, 'cmudict-en-us.dict')\n",
    "}\n",
    "\n",
    "# Start speech recognition\n",
    "speech = LiveSpeech(**config)\n",
    "for phrase in speech:\n",
    "    print(phrase)"
   ]
  }
 ],
 "metadata": {
  "kernelspec": {
   "display_name": "torchenv",
   "language": "python",
   "name": "python3"
  },
  "language_info": {
   "codemirror_mode": {
    "name": "ipython",
    "version": 3
   },
   "file_extension": ".py",
   "mimetype": "text/x-python",
   "name": "python",
   "nbconvert_exporter": "python",
   "pygments_lexer": "ipython3",
   "version": "3.11.4"
  },
  "orig_nbformat": 4
 },
 "nbformat": 4,
 "nbformat_minor": 2
}
