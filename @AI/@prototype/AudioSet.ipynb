{
 "cells": [
  {
   "cell_type": "code",
   "execution_count": 1,
   "metadata": {},
   "outputs": [
    {
     "name": "stdout",
     "output_type": "stream",
     "text": [
      "Downloading 2041789 files...\n"
     ]
    },
    {
     "name": "stderr",
     "output_type": "stream",
     "text": [
      "[Parallel(n_jobs=1)]: Using backend SequentialBackend with 1 concurrent workers.\n",
      "WARNING: Post-Processor arguments given without specifying name. The arguments will be given to all post-processors\n"
     ]
    },
    {
     "name": "stdout",
     "output_type": "stream",
     "text": [
      "[youtube] Extracting URL: https://www.youtube.com/watch?v=---1_cCGK4M\n",
      "[youtube] ---1_cCGK4M: Downloading webpage\n",
      "[youtube] ---1_cCGK4M: Downloading android player API JSON\n"
     ]
    },
    {
     "name": "stderr",
     "output_type": "stream",
     "text": [
      "WARNING: [youtube] Invalid start time (385.0 < 0) for chapter \"Departure: Sai Gon (SGO\"\n",
      "WARNING: [youtube] Invalid start time (907.0 < 0) for chapter \"Arrival: Hanoi (HNO\"\n"
     ]
    },
    {
     "name": "stdout",
     "output_type": "stream",
     "text": [
      "[info] ---1_cCGK4M: Downloading 1 format(s): 140\n",
      "[download] /Users/cafalena/HOUSE/@Code/Practice/ai_0014_CNN_Urbansound/AudioSet/Railroad car, train wagon/---1_cCGK4M_0.0-10.0.m4a has already been downloaded\n",
      "[download] 100% of  158.92KiB\n",
      "[ExtractAudio] Destination: /Users/cafalena/HOUSE/@Code/Practice/ai_0014_CNN_Urbansound/AudioSet/Railroad car, train wagon/---1_cCGK4M_0.0-10.0.ogg\n"
     ]
    },
    {
     "name": "stderr",
     "output_type": "stream",
     "text": [
      "ERROR: Postprocessing: audio conversion failed: Unknown encoder 'libvorbis'\n",
      "cp: /Users/cafalena/HOUSE/@Code/Practice/ai_0014_CNN_Urbansound/AudioSet/Train horn/---1_cCGK4M_0.0-10.0.wav: No such file or directory\n",
      "cp: /Users/cafalena/HOUSE/@Code/Practice/ai_0014_CNN_Urbansound/AudioSet/Rail transport/---1_cCGK4M_0.0-10.0.wav: No such file or directory\n",
      "cp: /Users/cafalena/HOUSE/@Code/Practice/ai_0014_CNN_Urbansound/AudioSet/Train/---1_cCGK4M_0.0-10.0.wav: No such file or directory\n",
      "cp: /Users/cafalena/HOUSE/@Code/Practice/ai_0014_CNN_Urbansound/AudioSet/Clickety-clack/---1_cCGK4M_0.0-10.0.wav: No such file or directory\n",
      "[Parallel(n_jobs=1)]: Done   1 out of   1 | elapsed:    3.3s remaining:    0.0s\n",
      "WARNING: Post-Processor arguments given without specifying name. The arguments will be given to all post-processors\n"
     ]
    },
    {
     "name": "stdout",
     "output_type": "stream",
     "text": [
      "[youtube] Extracting URL: https://www.youtube.com/watch?v=---2_BBVHAA\n",
      "[youtube] ---2_BBVHAA: Downloading webpage\n",
      "[youtube] ---2_BBVHAA: Downloading android player API JSON\n",
      "[info] ---2_BBVHAA: Downloading 1 format(s): 251\n",
      "[download] /Users/cafalena/HOUSE/@Code/Practice/ai_0014_CNN_Urbansound/AudioSet/Speech/---2_BBVHAA_30.0-40.0.webm has already been downloaded\n",
      "[download] 100% of    6.61MiB\n",
      "[ExtractAudio] Destination: /Users/cafalena/HOUSE/@Code/Practice/ai_0014_CNN_Urbansound/AudioSet/Speech/---2_BBVHAA_30.0-40.0.ogg\n"
     ]
    },
    {
     "name": "stderr",
     "output_type": "stream",
     "text": [
      "ERROR: Postprocessing: audio conversion failed: Unknown encoder 'libvorbis'\n",
      "[Parallel(n_jobs=1)]: Done   2 out of   2 | elapsed:    4.8s remaining:    0.0s\n",
      "WARNING: Post-Processor arguments given without specifying name. The arguments will be given to all post-processors\n"
     ]
    },
    {
     "name": "stdout",
     "output_type": "stream",
     "text": [
      "[youtube] Extracting URL: https://www.youtube.com/watch?v=---B_v8ZoBY\n",
      "[youtube] ---B_v8ZoBY: Downloading webpage\n",
      "[youtube] ---B_v8ZoBY: Downloading android player API JSON\n",
      "[info] ---B_v8ZoBY: Downloading 1 format(s): 251\n",
      "[download] /Users/cafalena/HOUSE/@Code/Practice/ai_0014_CNN_Urbansound/AudioSet/Music/---B_v8ZoBY_30.0-40.0.webm has already been downloaded\n",
      "[download] 100% of    3.07MiB\n",
      "[ExtractAudio] Destination: /Users/cafalena/HOUSE/@Code/Practice/ai_0014_CNN_Urbansound/AudioSet/Music/---B_v8ZoBY_30.0-40.0.ogg\n"
     ]
    },
    {
     "name": "stderr",
     "output_type": "stream",
     "text": [
      "ERROR: Postprocessing: audio conversion failed: Unknown encoder 'libvorbis'\n",
      "[Parallel(n_jobs=1)]: Done   3 out of   3 | elapsed:    6.3s remaining:    0.0s\n",
      "WARNING: Post-Processor arguments given without specifying name. The arguments will be given to all post-processors\n"
     ]
    },
    {
     "name": "stdout",
     "output_type": "stream",
     "text": [
      "[youtube] Extracting URL: https://www.youtube.com/watch?v=---EDNidJUA\n",
      "[youtube] ---EDNidJUA: Downloading webpage\n",
      "[youtube] ---EDNidJUA: Downloading android player API JSON\n"
     ]
    },
    {
     "name": "stderr",
     "output_type": "stream",
     "text": [
      "ERROR: [youtube] ---EDNidJUA: Video unavailable. This video is no longer available because the YouTube account associated with this video has been terminated.\n",
      "cp: /Users/cafalena/HOUSE/@Code/Practice/ai_0014_CNN_Urbansound/AudioSet/Female speech, woman speaking/---EDNidJUA_30.0-40.0.wav: No such file or directory\n",
      "cp: /Users/cafalena/HOUSE/@Code/Practice/ai_0014_CNN_Urbansound/AudioSet/Male speech, man speaking/---EDNidJUA_30.0-40.0.wav: No such file or directory\n",
      "cp: /Users/cafalena/HOUSE/@Code/Practice/ai_0014_CNN_Urbansound/AudioSet/Speech/---EDNidJUA_30.0-40.0.wav: No such file or directory\n",
      "[Parallel(n_jobs=1)]: Done   4 out of   4 | elapsed:    7.4s remaining:    0.0s\n",
      "WARNING: Post-Processor arguments given without specifying name. The arguments will be given to all post-processors\n"
     ]
    },
    {
     "name": "stdout",
     "output_type": "stream",
     "text": [
      "[youtube] Extracting URL: https://www.youtube.com/watch?v=---N4cFAE1A\n",
      "[youtube] ---N4cFAE1A: Downloading webpage\n",
      "[youtube] ---N4cFAE1A: Downloading android player API JSON\n"
     ]
    },
    {
     "name": "stderr",
     "output_type": "stream",
     "text": [
      "ERROR: [youtube] ---N4cFAE1A: Private video. Sign in if you've been granted access to this video\n",
      "cp: /Users/cafalena/HOUSE/@Code/Practice/ai_0014_CNN_Urbansound/AudioSet/Speech/---N4cFAE1A_21.0-31.0.wav: No such file or directory\n",
      "[Parallel(n_jobs=1)]: Done   5 out of   5 | elapsed:    8.5s remaining:    0.0s\n",
      "WARNING: Post-Processor arguments given without specifying name. The arguments will be given to all post-processors\n"
     ]
    },
    {
     "name": "stdout",
     "output_type": "stream",
     "text": [
      "[youtube] Extracting URL: https://www.youtube.com/watch?v=---fcVQUf3E\n",
      "[youtube] ---fcVQUf3E: Downloading webpage\n",
      "[youtube] ---fcVQUf3E: Downloading android player API JSON\n",
      "[info] ---fcVQUf3E: Downloading 1 format(s): 251\n",
      "[download] /Users/cafalena/HOUSE/@Code/Practice/ai_0014_CNN_Urbansound/AudioSet/Boat, Water vehicle/---fcVQUf3E_30.0-40.0.webm has already been downloaded\n",
      "[download] 100% of    1.95MiB\n",
      "[ExtractAudio] Destination: /Users/cafalena/HOUSE/@Code/Practice/ai_0014_CNN_Urbansound/AudioSet/Boat, Water vehicle/---fcVQUf3E_30.0-40.0.ogg\n"
     ]
    },
    {
     "name": "stderr",
     "output_type": "stream",
     "text": [
      "ERROR: Postprocessing: audio conversion failed: Unknown encoder 'libvorbis'\n",
      "cp: /Users/cafalena/HOUSE/@Code/Practice/ai_0014_CNN_Urbansound/AudioSet/Vehicle/---fcVQUf3E_30.0-40.0.wav: No such file or directory\n",
      "[Parallel(n_jobs=1)]: Done   6 out of   6 | elapsed:   10.0s remaining:    0.0s\n",
      "WARNING: Post-Processor arguments given without specifying name. The arguments will be given to all post-processors\n"
     ]
    },
    {
     "name": "stdout",
     "output_type": "stream",
     "text": [
      "[youtube] Extracting URL: https://www.youtube.com/watch?v=---g9OGAhwc\n",
      "[youtube] ---g9OGAhwc: Downloading webpage\n",
      "[youtube] ---g9OGAhwc: Downloading android player API JSON\n",
      "[info] ---g9OGAhwc: Downloading 1 format(s): 251\n",
      "[download] /Users/cafalena/HOUSE/@Code/Practice/ai_0014_CNN_Urbansound/AudioSet/Music/---g9OGAhwc_30.0-40.0.webm has already been downloaded\n",
      "[download] 100% of    2.53MiB\n",
      "[ExtractAudio] Destination: /Users/cafalena/HOUSE/@Code/Practice/ai_0014_CNN_Urbansound/AudioSet/Music/---g9OGAhwc_30.0-40.0.ogg\n"
     ]
    },
    {
     "name": "stderr",
     "output_type": "stream",
     "text": [
      "ERROR: Postprocessing: audio conversion failed: Unknown encoder 'libvorbis'\n",
      "cp: /Users/cafalena/HOUSE/@Code/Practice/ai_0014_CNN_Urbansound/AudioSet/Sound effect/---g9OGAhwc_30.0-40.0.wav: No such file or directory\n",
      "[Parallel(n_jobs=1)]: Done   7 out of   7 | elapsed:   11.5s remaining:    0.0s\n",
      "WARNING: Post-Processor arguments given without specifying name. The arguments will be given to all post-processors\n"
     ]
    },
    {
     "name": "stdout",
     "output_type": "stream",
     "text": [
      "[youtube] Extracting URL: https://www.youtube.com/watch?v=---lTs1dxhU\n",
      "[youtube] ---lTs1dxhU: Downloading webpage\n",
      "[youtube] ---lTs1dxhU: Downloading android player API JSON\n",
      "[info] ---lTs1dxhU: Downloading 1 format(s): 251\n",
      "[download] /Users/cafalena/HOUSE/@Code/Practice/ai_0014_CNN_Urbansound/AudioSet/Motor vehicle (road)/---lTs1dxhU_30.0-40.0.webm has already been downloaded\n",
      "[download] 100% of  538.57KiB\n",
      "[ExtractAudio] Destination: /Users/cafalena/HOUSE/@Code/Practice/ai_0014_CNN_Urbansound/AudioSet/Motor vehicle (road)/---lTs1dxhU_30.0-40.0.ogg\n"
     ]
    },
    {
     "name": "stderr",
     "output_type": "stream",
     "text": [
      "ERROR: Postprocessing: audio conversion failed: Unknown encoder 'libvorbis'\n",
      "cp: /Users/cafalena/HOUSE/@Code/Practice/ai_0014_CNN_Urbansound/AudioSet/Vehicle/---lTs1dxhU_30.0-40.0.wav: No such file or directory\n",
      "cp: /Users/cafalena/HOUSE/@Code/Practice/ai_0014_CNN_Urbansound/AudioSet/Car/---lTs1dxhU_30.0-40.0.wav: No such file or directory\n",
      "cp: /Users/cafalena/HOUSE/@Code/Practice/ai_0014_CNN_Urbansound/AudioSet/Car passing by/---lTs1dxhU_30.0-40.0.wav: No such file or directory\n",
      "[Parallel(n_jobs=1)]: Done   8 out of   8 | elapsed:   13.6s remaining:    0.0s\n",
      "WARNING: Post-Processor arguments given without specifying name. The arguments will be given to all post-processors\n"
     ]
    },
    {
     "name": "stdout",
     "output_type": "stream",
     "text": [
      "[youtube] Extracting URL: https://www.youtube.com/watch?v=---mO--kRQk\n",
      "[youtube] ---mO--kRQk: Downloading webpage\n",
      "[youtube] ---mO--kRQk: Downloading android player API JSON\n"
     ]
    },
    {
     "name": "stderr",
     "output_type": "stream",
     "text": [
      "ERROR: [youtube] ---mO--kRQk: Video unavailable\n",
      "[Parallel(n_jobs=1)]: Done   9 out of   9 | elapsed:   14.7s remaining:    0.0s\n",
      "WARNING: Post-Processor arguments given without specifying name. The arguments will be given to all post-processors\n"
     ]
    },
    {
     "name": "stdout",
     "output_type": "stream",
     "text": [
      "[youtube] Extracting URL: https://www.youtube.com/watch?v=---qub7uxgs\n",
      "[youtube] ---qub7uxgs: Downloading webpage\n",
      "[youtube] ---qub7uxgs: Downloading android player API JSON\n",
      "[info] ---qub7uxgs: Downloading 1 format(s): 251\n",
      "[download] /Users/cafalena/HOUSE/@Code/Practice/ai_0014_CNN_Urbansound/AudioSet/Speech/---qub7uxgs_30.0-40.0.webm has already been downloaded\n",
      "[download] 100% of    3.28MiB\n",
      "[ExtractAudio] Destination: /Users/cafalena/HOUSE/@Code/Practice/ai_0014_CNN_Urbansound/AudioSet/Speech/---qub7uxgs_30.0-40.0.ogg\n"
     ]
    },
    {
     "name": "stderr",
     "output_type": "stream",
     "text": [
      "ERROR: Postprocessing: audio conversion failed: Unknown encoder 'libvorbis'\n",
      "WARNING: Post-Processor arguments given without specifying name. The arguments will be given to all post-processors\n"
     ]
    },
    {
     "name": "stdout",
     "output_type": "stream",
     "text": [
      "[youtube] Extracting URL: https://www.youtube.com/watch?v=---yQzzLcFU\n",
      "[youtube] ---yQzzLcFU: Downloading webpage\n",
      "[youtube] ---yQzzLcFU: Downloading android player API JSON\n",
      "[info] ---yQzzLcFU: Downloading 1 format(s): 251\n",
      "[download] /Users/cafalena/HOUSE/@Code/Practice/ai_0014_CNN_Urbansound/AudioSet/Heavy engine (low frequency)/---yQzzLcFU_30.0-40.0.webm has already been downloaded\n",
      "[download] 100% of    6.67MiB\n",
      "[ExtractAudio] Destination: /Users/cafalena/HOUSE/@Code/Practice/ai_0014_CNN_Urbansound/AudioSet/Heavy engine (low frequency)/---yQzzLcFU_30.0-40.0.ogg\n"
     ]
    },
    {
     "name": "stderr",
     "output_type": "stream",
     "text": [
      "ERROR: Postprocessing: audio conversion failed: Unknown encoder 'libvorbis'\n",
      "WARNING: Post-Processor arguments given without specifying name. The arguments will be given to all post-processors\n"
     ]
    },
    {
     "name": "stdout",
     "output_type": "stream",
     "text": [
      "[youtube] Extracting URL: https://www.youtube.com/watch?v=--04kMEQOAs\n",
      "[youtube] --04kMEQOAs: Downloading webpage\n",
      "[youtube] --04kMEQOAs: Downloading android player API JSON\n",
      "[youtube] --04kMEQOAs: Downloading MPD manifest\n",
      "[info] --04kMEQOAs: Downloading 1 format(s): 251\n",
      "[download] /Users/cafalena/HOUSE/@Code/Practice/ai_0014_CNN_Urbansound/AudioSet/Run/--04kMEQOAs_0.0-10.0.webm has already been downloaded\n",
      "[download] 100% of  129.68KiB\n",
      "[ExtractAudio] Destination: /Users/cafalena/HOUSE/@Code/Practice/ai_0014_CNN_Urbansound/AudioSet/Run/--04kMEQOAs_0.0-10.0.ogg\n"
     ]
    },
    {
     "name": "stderr",
     "output_type": "stream",
     "text": [
      "ERROR: Postprocessing: audio conversion failed: Unknown encoder 'libvorbis'\n",
      "cp: /Users/cafalena/HOUSE/@Code/Practice/ai_0014_CNN_Urbansound/AudioSet/Speech/--04kMEQOAs_0.0-10.0.wav: No such file or directory\n",
      "WARNING: Post-Processor arguments given without specifying name. The arguments will be given to all post-processors\n"
     ]
    },
    {
     "name": "stdout",
     "output_type": "stream",
     "text": [
      "[youtube] Extracting URL: https://www.youtube.com/watch?v=--0AzKXCHj8\n",
      "[youtube] --0AzKXCHj8: Downloading webpage\n",
      "[youtube] --0AzKXCHj8: Downloading android player API JSON\n",
      "[info] --0AzKXCHj8: Downloading 1 format(s): 251\n",
      "[download] /Users/cafalena/HOUSE/@Code/Practice/ai_0014_CNN_Urbansound/AudioSet/Music/--0AzKXCHj8_22.0-32.0.webm has already been downloaded\n",
      "[download] 100% of  491.10KiB\n",
      "[ExtractAudio] Destination: /Users/cafalena/HOUSE/@Code/Practice/ai_0014_CNN_Urbansound/AudioSet/Music/--0AzKXCHj8_22.0-32.0.ogg\n"
     ]
    },
    {
     "name": "stderr",
     "output_type": "stream",
     "text": [
      "ERROR: Postprocessing: audio conversion failed: Unknown encoder 'libvorbis'\n",
      "WARNING: Post-Processor arguments given without specifying name. The arguments will be given to all post-processors\n"
     ]
    },
    {
     "name": "stdout",
     "output_type": "stream",
     "text": [
      "[youtube] Extracting URL: https://www.youtube.com/watch?v=--0B3G_C3qc\n",
      "[youtube] --0B3G_C3qc: Downloading webpage\n",
      "[youtube] --0B3G_C3qc: Downloading android player API JSON\n",
      "[info] --0B3G_C3qc: Downloading 1 format(s): 251\n",
      "[download] /Users/cafalena/HOUSE/@Code/Practice/ai_0014_CNN_Urbansound/AudioSet/Speech/--0B3G_C3qc_10.0-20.0.webm has already been downloaded\n",
      "[download] 100% of    3.63MiB\n",
      "[ExtractAudio] Destination: /Users/cafalena/HOUSE/@Code/Practice/ai_0014_CNN_Urbansound/AudioSet/Speech/--0B3G_C3qc_10.0-20.0.ogg\n"
     ]
    },
    {
     "name": "stderr",
     "output_type": "stream",
     "text": [
      "ERROR: Postprocessing: audio conversion failed: Unknown encoder 'libvorbis'\n",
      "WARNING: Post-Processor arguments given without specifying name. The arguments will be given to all post-processors\n"
     ]
    },
    {
     "name": "stdout",
     "output_type": "stream",
     "text": [
      "[youtube] Extracting URL: https://www.youtube.com/watch?v=--0CNhurbZE\n",
      "[youtube] --0CNhurbZE: Downloading webpage\n",
      "[youtube] --0CNhurbZE: Downloading android player API JSON\n",
      "[info] --0CNhurbZE: Downloading 1 format(s): 140\n",
      "[download] /Users/cafalena/HOUSE/@Code/Practice/ai_0014_CNN_Urbansound/AudioSet/Speech/--0CNhurbZE_30.0-40.0.m4a has already been downloaded\n",
      "[download] 100% of  158.89KiB\n",
      "[ExtractAudio] Destination: /Users/cafalena/HOUSE/@Code/Practice/ai_0014_CNN_Urbansound/AudioSet/Speech/--0CNhurbZE_30.0-40.0.ogg\n"
     ]
    },
    {
     "name": "stderr",
     "output_type": "stream",
     "text": [
      "ERROR: Postprocessing: audio conversion failed: Unknown encoder 'libvorbis'\n",
      "WARNING: Post-Processor arguments given without specifying name. The arguments will be given to all post-processors\n"
     ]
    },
    {
     "name": "stdout",
     "output_type": "stream",
     "text": [
      "[youtube] Extracting URL: https://www.youtube.com/watch?v=--0F7kbzAMA\n",
      "[youtube] --0F7kbzAMA: Downloading webpage\n",
      "[youtube] --0F7kbzAMA: Downloading android player API JSON\n",
      "[info] --0F7kbzAMA: Downloading 1 format(s): 251\n",
      "[download] /Users/cafalena/HOUSE/@Code/Practice/ai_0014_CNN_Urbansound/AudioSet/Speech/--0F7kbzAMA_30.0-40.0.webm has already been downloaded\n",
      "[download] 100% of    1.32MiB\n",
      "[ExtractAudio] Destination: /Users/cafalena/HOUSE/@Code/Practice/ai_0014_CNN_Urbansound/AudioSet/Speech/--0F7kbzAMA_30.0-40.0.ogg\n"
     ]
    },
    {
     "name": "stderr",
     "output_type": "stream",
     "text": [
      "ERROR: Postprocessing: audio conversion failed: Unknown encoder 'libvorbis'\n",
      "WARNING: Post-Processor arguments given without specifying name. The arguments will be given to all post-processors\n"
     ]
    },
    {
     "name": "stdout",
     "output_type": "stream",
     "text": [
      "[youtube] Extracting URL: https://www.youtube.com/watch?v=--0FMNFsVeg\n",
      "[youtube] --0FMNFsVeg: Downloading webpage\n",
      "[youtube] --0FMNFsVeg: Downloading android player API JSON\n",
      "[info] --0FMNFsVeg: Downloading 1 format(s): 251\n",
      "[download] /Users/cafalena/HOUSE/@Code/Practice/ai_0014_CNN_Urbansound/AudioSet/Bass guitar/--0FMNFsVeg_30.0-40.0.webm has already been downloaded\n",
      "[download] 100% of    4.53MiB\n",
      "[ExtractAudio] Destination: /Users/cafalena/HOUSE/@Code/Practice/ai_0014_CNN_Urbansound/AudioSet/Bass guitar/--0FMNFsVeg_30.0-40.0.ogg\n"
     ]
    },
    {
     "name": "stderr",
     "output_type": "stream",
     "text": [
      "ERROR: Postprocessing: audio conversion failed: Unknown encoder 'libvorbis'\n",
      "cp: /Users/cafalena/HOUSE/@Code/Practice/ai_0014_CNN_Urbansound/AudioSet/Guitar/--0FMNFsVeg_30.0-40.0.wav: No such file or directory\n",
      "cp: /Users/cafalena/HOUSE/@Code/Practice/ai_0014_CNN_Urbansound/AudioSet/Music/--0FMNFsVeg_30.0-40.0.wav: No such file or directory\n",
      "cp: /Users/cafalena/HOUSE/@Code/Practice/ai_0014_CNN_Urbansound/AudioSet/Musical instrument/--0FMNFsVeg_30.0-40.0.wav: No such file or directory\n",
      "WARNING: Post-Processor arguments given without specifying name. The arguments will be given to all post-processors\n"
     ]
    },
    {
     "name": "stdout",
     "output_type": "stream",
     "text": [
      "[youtube] Extracting URL: https://www.youtube.com/watch?v=--0MF9K5N30\n",
      "[youtube] --0MF9K5N30: Downloading webpage\n",
      "[youtube] --0MF9K5N30: Downloading android player API JSON\n",
      "[info] --0MF9K5N30: Downloading 1 format(s): 251\n",
      "[download] /Users/cafalena/HOUSE/@Code/Practice/ai_0014_CNN_Urbansound/AudioSet/Speech/--0MF9K5N30_30.0-40.0.webm has already been downloaded\n",
      "[download] 100% of    1.22MiB\n",
      "[ExtractAudio] Destination: /Users/cafalena/HOUSE/@Code/Practice/ai_0014_CNN_Urbansound/AudioSet/Speech/--0MF9K5N30_30.0-40.0.ogg\n"
     ]
    },
    {
     "name": "stderr",
     "output_type": "stream",
     "text": [
      "ERROR: Postprocessing: audio conversion failed: Unknown encoder 'libvorbis'\n",
      "WARNING: Post-Processor arguments given without specifying name. The arguments will be given to all post-processors\n"
     ]
    },
    {
     "name": "stdout",
     "output_type": "stream",
     "text": [
      "[youtube] Extracting URL: https://www.youtube.com/watch?v=--0Oh0JxzjQ\n",
      "[youtube] --0Oh0JxzjQ: Downloading webpage\n",
      "[youtube] --0Oh0JxzjQ: Downloading android player API JSON\n",
      "[info] --0Oh0JxzjQ: Downloading 1 format(s): 251\n",
      "[download] /Users/cafalena/HOUSE/@Code/Practice/ai_0014_CNN_Urbansound/AudioSet/Guitar/--0Oh0JxzjQ_30.0-40.0.webm has already been downloaded\n",
      "[download] 100% of    3.76MiB\n",
      "[ExtractAudio] Destination: /Users/cafalena/HOUSE/@Code/Practice/ai_0014_CNN_Urbansound/AudioSet/Guitar/--0Oh0JxzjQ_30.0-40.0.ogg\n"
     ]
    },
    {
     "name": "stderr",
     "output_type": "stream",
     "text": [
      "ERROR: Postprocessing: audio conversion failed: Unknown encoder 'libvorbis'\n",
      "cp: /Users/cafalena/HOUSE/@Code/Practice/ai_0014_CNN_Urbansound/AudioSet/Music/--0Oh0JxzjQ_30.0-40.0.wav: No such file or directory\n",
      "cp: /Users/cafalena/HOUSE/@Code/Practice/ai_0014_CNN_Urbansound/AudioSet/Musical instrument/--0Oh0JxzjQ_30.0-40.0.wav: No such file or directory\n",
      "cp: /Users/cafalena/HOUSE/@Code/Practice/ai_0014_CNN_Urbansound/AudioSet/Plucked string instrument/--0Oh0JxzjQ_30.0-40.0.wav: No such file or directory\n",
      "WARNING: Post-Processor arguments given without specifying name. The arguments will be given to all post-processors\n"
     ]
    },
    {
     "name": "stdout",
     "output_type": "stream",
     "text": [
      "[youtube] Extracting URL: https://www.youtube.com/watch?v=--0PQM4-hqg\n",
      "[youtube] --0PQM4-hqg: Downloading webpage\n",
      "[youtube] --0PQM4-hqg: Downloading android player API JSON\n",
      "[info] --0PQM4-hqg: Downloading 1 format(s): 251\n",
      "[download] /Users/cafalena/HOUSE/@Code/Practice/ai_0014_CNN_Urbansound/AudioSet/Gurgling/--0PQM4-hqg_30.0-40.0.webm has already been downloaded\n",
      "[download] 100% of  819.71KiB\n",
      "[ExtractAudio] Destination: /Users/cafalena/HOUSE/@Code/Practice/ai_0014_CNN_Urbansound/AudioSet/Gurgling/--0PQM4-hqg_30.0-40.0.ogg\n"
     ]
    },
    {
     "name": "stderr",
     "output_type": "stream",
     "text": [
      "ERROR: Postprocessing: audio conversion failed: Unknown encoder 'libvorbis'\n",
      "cp: /Users/cafalena/HOUSE/@Code/Practice/ai_0014_CNN_Urbansound/AudioSet/Waterfall/--0PQM4-hqg_30.0-40.0.wav: No such file or directory\n",
      "cp: /Users/cafalena/HOUSE/@Code/Practice/ai_0014_CNN_Urbansound/AudioSet/Stream/--0PQM4-hqg_30.0-40.0.wav: No such file or directory\n",
      "WARNING: Post-Processor arguments given without specifying name. The arguments will be given to all post-processors\n"
     ]
    },
    {
     "name": "stdout",
     "output_type": "stream",
     "text": [
      "[youtube] Extracting URL: https://www.youtube.com/watch?v=--0XKTm28ts\n",
      "[youtube] --0XKTm28ts: Downloading webpage\n",
      "[youtube] --0XKTm28ts: Downloading android player API JSON\n",
      "[youtube] --0XKTm28ts: Downloading MPD manifest\n",
      "[info] --0XKTm28ts: Downloading 1 format(s): 251\n",
      "[download] /Users/cafalena/HOUSE/@Code/Practice/ai_0014_CNN_Urbansound/AudioSet/Vehicle/--0XKTm28ts_50.0-60.0.webm has already been downloaded\n",
      "[download] 100% of    1.05MiB\n",
      "[ExtractAudio] Destination: /Users/cafalena/HOUSE/@Code/Practice/ai_0014_CNN_Urbansound/AudioSet/Vehicle/--0XKTm28ts_50.0-60.0.ogg\n"
     ]
    },
    {
     "name": "stderr",
     "output_type": "stream",
     "text": [
      "ERROR: Postprocessing: audio conversion failed: Unknown encoder 'libvorbis'\n",
      "WARNING: Post-Processor arguments given without specifying name. The arguments will be given to all post-processors\n"
     ]
    },
    {
     "name": "stdout",
     "output_type": "stream",
     "text": [
      "[youtube] Extracting URL: https://www.youtube.com/watch?v=--0_x3T5DQI\n",
      "[youtube] --0_x3T5DQI: Downloading webpage\n",
      "[youtube] --0_x3T5DQI: Downloading android player API JSON\n"
     ]
    },
    {
     "name": "stderr",
     "output_type": "stream",
     "text": [
      "ERROR: [youtube] --0_x3T5DQI: Video unavailable. This video is no longer available because the YouTube account associated with this video has been terminated.\n",
      "WARNING: Post-Processor arguments given without specifying name. The arguments will be given to all post-processors\n"
     ]
    },
    {
     "name": "stdout",
     "output_type": "stream",
     "text": [
      "[youtube] Extracting URL: https://www.youtube.com/watch?v=--0aJtOMp2M\n",
      "[youtube] --0aJtOMp2M: Downloading webpage\n",
      "[youtube] --0aJtOMp2M: Downloading android player API JSON\n",
      "[youtube] --0aJtOMp2M: Downloading MPD manifest\n",
      "[info] --0aJtOMp2M: Downloading 1 format(s): 251\n",
      "[download] /Users/cafalena/HOUSE/@Code/Practice/ai_0014_CNN_Urbansound/AudioSet/Music/--0aJtOMp2M_30.0-40.0.webm has already been downloaded\n",
      "[download] 100% of    3.00MiB\n",
      "[ExtractAudio] Destination: /Users/cafalena/HOUSE/@Code/Practice/ai_0014_CNN_Urbansound/AudioSet/Music/--0aJtOMp2M_30.0-40.0.ogg\n"
     ]
    },
    {
     "name": "stderr",
     "output_type": "stream",
     "text": [
      "ERROR: Postprocessing: audio conversion failed: Unknown encoder 'libvorbis'\n",
      "cp: /Users/cafalena/HOUSE/@Code/Practice/ai_0014_CNN_Urbansound/AudioSet/Speech/--0aJtOMp2M_30.0-40.0.wav: No such file or directory\n",
      "WARNING: Post-Processor arguments given without specifying name. The arguments will be given to all post-processors\n"
     ]
    },
    {
     "name": "stdout",
     "output_type": "stream",
     "text": [
      "[youtube] Extracting URL: https://www.youtube.com/watch?v=--0bntG9i7E\n",
      "[youtube] --0bntG9i7E: Downloading webpage\n",
      "[youtube] --0bntG9i7E: Downloading android player API JSON\n",
      "[youtube] --0bntG9i7E: Downloading MPD manifest\n",
      "[info] --0bntG9i7E: Downloading 1 format(s): 251\n",
      "[download] /Users/cafalena/HOUSE/@Code/Practice/ai_0014_CNN_Urbansound/AudioSet/Female singing/--0bntG9i7E_30.0-40.0.webm has already been downloaded\n",
      "[download] 100% of  906.20KiB\n",
      "[ExtractAudio] Destination: /Users/cafalena/HOUSE/@Code/Practice/ai_0014_CNN_Urbansound/AudioSet/Female singing/--0bntG9i7E_30.0-40.0.ogg\n"
     ]
    },
    {
     "name": "stderr",
     "output_type": "stream",
     "text": [
      "ERROR: Postprocessing: audio conversion failed: Unknown encoder 'libvorbis'\n",
      "WARNING: Post-Processor arguments given without specifying name. The arguments will be given to all post-processors\n"
     ]
    },
    {
     "name": "stdout",
     "output_type": "stream",
     "text": [
      "[youtube] Extracting URL: https://www.youtube.com/watch?v=--0fYwELbpk\n",
      "[youtube] --0fYwELbpk: Downloading webpage\n",
      "[youtube] --0fYwELbpk: Downloading android player API JSON\n",
      "[info] --0fYwELbpk: Downloading 1 format(s): 251\n",
      "[download] /Users/cafalena/HOUSE/@Code/Practice/ai_0014_CNN_Urbansound/AudioSet/Music/--0fYwELbpk_30.0-40.0.webm has already been downloaded\n",
      "[download] 100% of    7.01MiB\n",
      "[ExtractAudio] Destination: /Users/cafalena/HOUSE/@Code/Practice/ai_0014_CNN_Urbansound/AudioSet/Music/--0fYwELbpk_30.0-40.0.ogg\n"
     ]
    },
    {
     "name": "stderr",
     "output_type": "stream",
     "text": [
      "ERROR: Postprocessing: audio conversion failed: Unknown encoder 'libvorbis'\n",
      "cp: /Users/cafalena/HOUSE/@Code/Practice/ai_0014_CNN_Urbansound/AudioSet/Dance music/--0fYwELbpk_30.0-40.0.wav: No such file or directory\n",
      "WARNING: Post-Processor arguments given without specifying name. The arguments will be given to all post-processors\n"
     ]
    },
    {
     "name": "stdout",
     "output_type": "stream",
     "text": [
      "[youtube] Extracting URL: https://www.youtube.com/watch?v=--0fim4-6Ig\n",
      "[youtube] --0fim4-6Ig: Downloading webpage\n",
      "[youtube] --0fim4-6Ig: Downloading android player API JSON\n",
      "[youtube] --0fim4-6Ig: Downloading MPD manifest\n",
      "[info] --0fim4-6Ig: Downloading 1 format(s): 251\n",
      "[download] /Users/cafalena/HOUSE/@Code/Practice/ai_0014_CNN_Urbansound/AudioSet/Guitar/--0fim4-6Ig_30.0-40.0.webm has already been downloaded\n",
      "[download] 100% of    9.18MiB\n",
      "[ExtractAudio] Destination: /Users/cafalena/HOUSE/@Code/Practice/ai_0014_CNN_Urbansound/AudioSet/Guitar/--0fim4-6Ig_30.0-40.0.ogg\n"
     ]
    },
    {
     "name": "stderr",
     "output_type": "stream",
     "text": [
      "ERROR: Postprocessing: audio conversion failed: Unknown encoder 'libvorbis'\n",
      "cp: /Users/cafalena/HOUSE/@Code/Practice/ai_0014_CNN_Urbansound/AudioSet/Music/--0fim4-6Ig_30.0-40.0.wav: No such file or directory\n",
      "cp: /Users/cafalena/HOUSE/@Code/Practice/ai_0014_CNN_Urbansound/AudioSet/Musical instrument/--0fim4-6Ig_30.0-40.0.wav: No such file or directory\n",
      "cp: /Users/cafalena/HOUSE/@Code/Practice/ai_0014_CNN_Urbansound/AudioSet/Plucked string instrument/--0fim4-6Ig_30.0-40.0.wav: No such file or directory\n",
      "WARNING: Post-Processor arguments given without specifying name. The arguments will be given to all post-processors\n"
     ]
    },
    {
     "name": "stdout",
     "output_type": "stream",
     "text": [
      "[youtube] Extracting URL: https://www.youtube.com/watch?v=--0pVlB7mQ8\n",
      "[youtube] --0pVlB7mQ8: Downloading webpage\n",
      "[youtube] --0pVlB7mQ8: Downloading android player API JSON\n",
      "[info] --0pVlB7mQ8: Downloading 1 format(s): 251\n",
      "[download] /Users/cafalena/HOUSE/@Code/Practice/ai_0014_CNN_Urbansound/AudioSet/Speech/--0pVlB7mQ8_30.0-40.0.webm has already been downloaded\n",
      "[download] 100% of    4.50MiB\n",
      "[ExtractAudio] Destination: /Users/cafalena/HOUSE/@Code/Practice/ai_0014_CNN_Urbansound/AudioSet/Speech/--0pVlB7mQ8_30.0-40.0.ogg\n"
     ]
    },
    {
     "name": "stderr",
     "output_type": "stream",
     "text": [
      "ERROR: Postprocessing: audio conversion failed: Unknown encoder 'libvorbis'\n",
      "WARNING: Post-Processor arguments given without specifying name. The arguments will be given to all post-processors\n"
     ]
    },
    {
     "name": "stdout",
     "output_type": "stream",
     "text": [
      "[youtube] Extracting URL: https://www.youtube.com/watch?v=--0ukMG7yH4\n",
      "[youtube] --0ukMG7yH4: Downloading webpage\n",
      "[youtube] --0ukMG7yH4: Downloading android player API JSON\n",
      "[info] --0ukMG7yH4: Downloading 1 format(s): 251\n",
      "[download] /Users/cafalena/HOUSE/@Code/Practice/ai_0014_CNN_Urbansound/AudioSet/Speech/--0ukMG7yH4_30.0-40.0.webm has already been downloaded\n",
      "[download] 100% of   10.36MiB\n",
      "[ExtractAudio] Destination: /Users/cafalena/HOUSE/@Code/Practice/ai_0014_CNN_Urbansound/AudioSet/Speech/--0ukMG7yH4_30.0-40.0.ogg\n"
     ]
    },
    {
     "name": "stderr",
     "output_type": "stream",
     "text": [
      "ERROR: Postprocessing: audio conversion failed: Unknown encoder 'libvorbis'\n",
      "WARNING: Post-Processor arguments given without specifying name. The arguments will be given to all post-processors\n"
     ]
    },
    {
     "name": "stdout",
     "output_type": "stream",
     "text": [
      "[youtube] Extracting URL: https://www.youtube.com/watch?v=--0vTxLiRuQ\n",
      "[youtube] --0vTxLiRuQ: Downloading webpage\n",
      "[youtube] --0vTxLiRuQ: Downloading android player API JSON\n",
      "[info] --0vTxLiRuQ: Downloading 1 format(s): 140\n",
      "[download] /Users/cafalena/HOUSE/@Code/Practice/ai_0014_CNN_Urbansound/AudioSet/Music/--0vTxLiRuQ_4.0-14.0.m4a has already been downloaded\n",
      "[download] 100% of  158.34KiB\n",
      "[ExtractAudio] Destination: /Users/cafalena/HOUSE/@Code/Practice/ai_0014_CNN_Urbansound/AudioSet/Music/--0vTxLiRuQ_4.0-14.0.ogg\n"
     ]
    },
    {
     "name": "stderr",
     "output_type": "stream",
     "text": [
      "ERROR: Postprocessing: audio conversion failed: Unknown encoder 'libvorbis'\n",
      "cp: /Users/cafalena/HOUSE/@Code/Practice/ai_0014_CNN_Urbansound/AudioSet/Roll/--0vTxLiRuQ_4.0-14.0.wav: No such file or directory\n",
      "WARNING: Post-Processor arguments given without specifying name. The arguments will be given to all post-processors\n"
     ]
    },
    {
     "name": "stdout",
     "output_type": "stream",
     "text": [
      "[youtube] Extracting URL: https://www.youtube.com/watch?v=--0w1YA1Hm4\n",
      "[youtube] --0w1YA1Hm4: Downloading webpage\n",
      "[youtube] --0w1YA1Hm4: Downloading android player API JSON\n",
      "[info] --0w1YA1Hm4: Downloading 1 format(s): 251\n",
      "[download] /Users/cafalena/HOUSE/@Code/Practice/ai_0014_CNN_Urbansound/AudioSet/Bus/--0w1YA1Hm4_30.0-40.0.webm has already been downloaded\n",
      "[download] 100% of    3.78MiB\n",
      "[ExtractAudio] Destination: /Users/cafalena/HOUSE/@Code/Practice/ai_0014_CNN_Urbansound/AudioSet/Bus/--0w1YA1Hm4_30.0-40.0.ogg\n"
     ]
    },
    {
     "name": "stderr",
     "output_type": "stream",
     "text": [
      "ERROR: Postprocessing: audio conversion failed: Unknown encoder 'libvorbis'\n",
      "cp: /Users/cafalena/HOUSE/@Code/Practice/ai_0014_CNN_Urbansound/AudioSet/Vehicle/--0w1YA1Hm4_30.0-40.0.wav: No such file or directory\n",
      "cp: /Users/cafalena/HOUSE/@Code/Practice/ai_0014_CNN_Urbansound/AudioSet/Speech/--0w1YA1Hm4_30.0-40.0.wav: No such file or directory\n",
      "WARNING: Post-Processor arguments given without specifying name. The arguments will be given to all post-processors\n"
     ]
    },
    {
     "name": "stdout",
     "output_type": "stream",
     "text": [
      "[youtube] Extracting URL: https://www.youtube.com/watch?v=--11PIhoFjg\n",
      "[youtube] --11PIhoFjg: Downloading webpage\n",
      "[youtube] --11PIhoFjg: Downloading android player API JSON\n",
      "[info] --11PIhoFjg: Downloading 1 format(s): 251\n",
      "[download] /Users/cafalena/HOUSE/@Code/Practice/ai_0014_CNN_Urbansound/AudioSet/Clatter/--11PIhoFjg_30.0-40.0.webm has already been downloaded\n",
      "[download] 100% of    1.65MiB\n",
      "[ExtractAudio] Destination: /Users/cafalena/HOUSE/@Code/Practice/ai_0014_CNN_Urbansound/AudioSet/Clatter/--11PIhoFjg_30.0-40.0.ogg\n"
     ]
    },
    {
     "name": "stderr",
     "output_type": "stream",
     "text": [
      "ERROR: Postprocessing: audio conversion failed: Unknown encoder 'libvorbis'\n",
      "WARNING: Post-Processor arguments given without specifying name. The arguments will be given to all post-processors\n"
     ]
    },
    {
     "name": "stdout",
     "output_type": "stream",
     "text": [
      "[youtube] Extracting URL: https://www.youtube.com/watch?v=--12UOziMF0\n",
      "[youtube] --12UOziMF0: Downloading webpage\n",
      "[youtube] --12UOziMF0: Downloading android player API JSON\n",
      "[info] --12UOziMF0: Downloading 1 format(s): 251\n",
      "[download] /Users/cafalena/HOUSE/@Code/Practice/ai_0014_CNN_Urbansound/AudioSet/Truck/--12UOziMF0_30.0-40.0.webm has already been downloaded\n",
      "[download] 100% of    1.70MiB\n",
      "[ExtractAudio] Destination: /Users/cafalena/HOUSE/@Code/Practice/ai_0014_CNN_Urbansound/AudioSet/Truck/--12UOziMF0_30.0-40.0.ogg\n"
     ]
    },
    {
     "name": "stderr",
     "output_type": "stream",
     "text": [
      "ERROR: Postprocessing: audio conversion failed: Unknown encoder 'libvorbis'\n",
      "cp: /Users/cafalena/HOUSE/@Code/Practice/ai_0014_CNN_Urbansound/AudioSet/Vehicle/--12UOziMF0_30.0-40.0.wav: No such file or directory\n",
      "WARNING: Post-Processor arguments given without specifying name. The arguments will be given to all post-processors\n"
     ]
    },
    {
     "name": "stdout",
     "output_type": "stream",
     "text": [
      "[youtube] Extracting URL: https://www.youtube.com/watch?v=--18xICqMoU\n",
      "[youtube] --18xICqMoU: Downloading webpage\n",
      "[youtube] --18xICqMoU: Downloading android player API JSON\n",
      "[youtube] --18xICqMoU: Downloading MPD manifest\n",
      "[info] --18xICqMoU: Downloading 1 format(s): 251\n",
      "[download] /Users/cafalena/HOUSE/@Code/Practice/ai_0014_CNN_Urbansound/AudioSet/Music/--18xICqMoU_30.0-40.0.webm has already been downloaded\n",
      "[download] 100% of    1.70MiB\n",
      "[ExtractAudio] Destination: /Users/cafalena/HOUSE/@Code/Practice/ai_0014_CNN_Urbansound/AudioSet/Music/--18xICqMoU_30.0-40.0.ogg\n"
     ]
    },
    {
     "name": "stderr",
     "output_type": "stream",
     "text": [
      "ERROR: Postprocessing: audio conversion failed: Unknown encoder 'libvorbis'\n",
      "cp: /Users/cafalena/HOUSE/@Code/Practice/ai_0014_CNN_Urbansound/AudioSet/Speech/--18xICqMoU_30.0-40.0.wav: No such file or directory\n",
      "WARNING: Post-Processor arguments given without specifying name. The arguments will be given to all post-processors\n"
     ]
    },
    {
     "name": "stdout",
     "output_type": "stream",
     "text": [
      "[youtube] Extracting URL: https://www.youtube.com/watch?v=--1Bi_4aXyU\n",
      "[youtube] --1Bi_4aXyU: Downloading webpage\n",
      "[youtube] --1Bi_4aXyU: Downloading android player API JSON\n",
      "[info] --1Bi_4aXyU: Downloading 1 format(s): 251\n",
      "[download] /Users/cafalena/HOUSE/@Code/Practice/ai_0014_CNN_Urbansound/AudioSet/Speech/--1Bi_4aXyU_30.0-40.0.webm has already been downloaded\n",
      "[download] 100% of    5.20MiB\n",
      "[ExtractAudio] Destination: /Users/cafalena/HOUSE/@Code/Practice/ai_0014_CNN_Urbansound/AudioSet/Speech/--1Bi_4aXyU_30.0-40.0.ogg\n"
     ]
    },
    {
     "name": "stderr",
     "output_type": "stream",
     "text": [
      "ERROR: Postprocessing: audio conversion failed: Unknown encoder 'libvorbis'\n",
      "WARNING: Post-Processor arguments given without specifying name. The arguments will be given to all post-processors\n"
     ]
    },
    {
     "name": "stdout",
     "output_type": "stream",
     "text": [
      "[youtube] Extracting URL: https://www.youtube.com/watch?v=--1NzL0juik\n",
      "[youtube] --1NzL0juik: Downloading webpage\n",
      "[youtube] --1NzL0juik: Downloading android player API JSON\n",
      "[info] --1NzL0juik: Downloading 1 format(s): 251\n",
      "[download] /Users/cafalena/HOUSE/@Code/Practice/ai_0014_CNN_Urbansound/AudioSet/Drum/--1NzL0juik_30.0-40.0.webm has already been downloaded\n",
      "[download] 100% of    5.22MiB\n",
      "[ExtractAudio] Destination: /Users/cafalena/HOUSE/@Code/Practice/ai_0014_CNN_Urbansound/AudioSet/Drum/--1NzL0juik_30.0-40.0.ogg\n"
     ]
    },
    {
     "name": "stderr",
     "output_type": "stream",
     "text": [
      "ERROR: Postprocessing: audio conversion failed: Unknown encoder 'libvorbis'\n",
      "cp: /Users/cafalena/HOUSE/@Code/Practice/ai_0014_CNN_Urbansound/AudioSet/Drum kit/--1NzL0juik_30.0-40.0.wav: No such file or directory\n",
      "cp: /Users/cafalena/HOUSE/@Code/Practice/ai_0014_CNN_Urbansound/AudioSet/Music/--1NzL0juik_30.0-40.0.wav: No such file or directory\n",
      "cp: /Users/cafalena/HOUSE/@Code/Practice/ai_0014_CNN_Urbansound/AudioSet/Musical instrument/--1NzL0juik_30.0-40.0.wav: No such file or directory\n",
      "cp: /Users/cafalena/HOUSE/@Code/Practice/ai_0014_CNN_Urbansound/AudioSet/Bass drum/--1NzL0juik_30.0-40.0.wav: No such file or directory\n",
      "WARNING: Post-Processor arguments given without specifying name. The arguments will be given to all post-processors\n"
     ]
    },
    {
     "name": "stdout",
     "output_type": "stream",
     "text": [
      "[youtube] Extracting URL: https://www.youtube.com/watch?v=--1QYEYcVBs\n",
      "[youtube] --1QYEYcVBs: Downloading webpage\n",
      "[youtube] --1QYEYcVBs: Downloading android player API JSON\n",
      "[info] --1QYEYcVBs: Downloading 1 format(s): 140\n",
      "[download] /Users/cafalena/HOUSE/@Code/Practice/ai_0014_CNN_Urbansound/AudioSet/Music/--1QYEYcVBs_30.0-40.0.m4a has already been downloaded\n",
      "[download] 100% of  158.61KiB\n",
      "[ExtractAudio] Destination: /Users/cafalena/HOUSE/@Code/Practice/ai_0014_CNN_Urbansound/AudioSet/Music/--1QYEYcVBs_30.0-40.0.ogg\n"
     ]
    },
    {
     "name": "stderr",
     "output_type": "stream",
     "text": [
      "ERROR: Postprocessing: audio conversion failed: Unknown encoder 'libvorbis'\n",
      "cp: /Users/cafalena/HOUSE/@Code/Practice/ai_0014_CNN_Urbansound/AudioSet/Speech/--1QYEYcVBs_30.0-40.0.wav: No such file or directory\n",
      "WARNING: Post-Processor arguments given without specifying name. The arguments will be given to all post-processors\n"
     ]
    },
    {
     "name": "stdout",
     "output_type": "stream",
     "text": [
      "[youtube] Extracting URL: https://www.youtube.com/watch?v=--1UKJ18WMQ\n",
      "[youtube] --1UKJ18WMQ: Downloading webpage\n",
      "[youtube] --1UKJ18WMQ: Downloading android player API JSON\n",
      "[info] --1UKJ18WMQ: Downloading 1 format(s): 251\n",
      "[download] /Users/cafalena/HOUSE/@Code/Practice/ai_0014_CNN_Urbansound/AudioSet/Guitar/--1UKJ18WMQ_30.0-40.0.webm has already been downloaded\n",
      "[download] 100% of    2.78MiB\n",
      "[ExtractAudio] Destination: /Users/cafalena/HOUSE/@Code/Practice/ai_0014_CNN_Urbansound/AudioSet/Guitar/--1UKJ18WMQ_30.0-40.0.ogg\n"
     ]
    },
    {
     "name": "stderr",
     "output_type": "stream",
     "text": [
      "ERROR: Postprocessing: audio conversion failed: Unknown encoder 'libvorbis'\n",
      "cp: /Users/cafalena/HOUSE/@Code/Practice/ai_0014_CNN_Urbansound/AudioSet/Acoustic guitar/--1UKJ18WMQ_30.0-40.0.wav: No such file or directory\n",
      "cp: /Users/cafalena/HOUSE/@Code/Practice/ai_0014_CNN_Urbansound/AudioSet/Music/--1UKJ18WMQ_30.0-40.0.wav: No such file or directory\n",
      "cp: /Users/cafalena/HOUSE/@Code/Practice/ai_0014_CNN_Urbansound/AudioSet/Musical instrument/--1UKJ18WMQ_30.0-40.0.wav: No such file or directory\n",
      "cp: /Users/cafalena/HOUSE/@Code/Practice/ai_0014_CNN_Urbansound/AudioSet/Plucked string instrument/--1UKJ18WMQ_30.0-40.0.wav: No such file or directory\n",
      "WARNING: Post-Processor arguments given without specifying name. The arguments will be given to all post-processors\n"
     ]
    },
    {
     "name": "stdout",
     "output_type": "stream",
     "text": [
      "[youtube] Extracting URL: https://www.youtube.com/watch?v=--1XHaNcX2Y\n",
      "[youtube] --1XHaNcX2Y: Downloading webpage\n",
      "[youtube] --1XHaNcX2Y: Downloading android player API JSON\n",
      "[info] --1XHaNcX2Y: Downloading 1 format(s): 251\n",
      "[download] /Users/cafalena/HOUSE/@Code/Practice/ai_0014_CNN_Urbansound/AudioSet/Singing/--1XHaNcX2Y_50.0-60.0.webm has already been downloaded\n",
      "[download] 100% of    3.50MiB\n",
      "[ExtractAudio] Destination: /Users/cafalena/HOUSE/@Code/Practice/ai_0014_CNN_Urbansound/AudioSet/Singing/--1XHaNcX2Y_50.0-60.0.ogg\n"
     ]
    },
    {
     "name": "stderr",
     "output_type": "stream",
     "text": [
      "ERROR: Postprocessing: audio conversion failed: Unknown encoder 'libvorbis'\n",
      "cp: /Users/cafalena/HOUSE/@Code/Practice/ai_0014_CNN_Urbansound/AudioSet/Music of Africa/--1XHaNcX2Y_50.0-60.0.wav: No such file or directory\n",
      "cp: /Users/cafalena/HOUSE/@Code/Practice/ai_0014_CNN_Urbansound/AudioSet/Music/--1XHaNcX2Y_50.0-60.0.wav: No such file or directory\n",
      "WARNING: Post-Processor arguments given without specifying name. The arguments will be given to all post-processors\n"
     ]
    },
    {
     "name": "stdout",
     "output_type": "stream",
     "text": [
      "[youtube] Extracting URL: https://www.youtube.com/watch?v=--1l6WGE7AU\n",
      "[youtube] --1l6WGE7AU: Downloading webpage\n",
      "[youtube] --1l6WGE7AU: Downloading android player API JSON\n",
      "[info] --1l6WGE7AU: Downloading 1 format(s): 140\n",
      "[download] /Users/cafalena/HOUSE/@Code/Practice/ai_0014_CNN_Urbansound/AudioSet/Narration, monologue/--1l6WGE7AU_30.0-40.0.m4a has already been downloaded\n",
      "[download] 100% of  158.80KiB\n",
      "[ExtractAudio] Destination: /Users/cafalena/HOUSE/@Code/Practice/ai_0014_CNN_Urbansound/AudioSet/Narration, monologue/--1l6WGE7AU_30.0-40.0.ogg\n"
     ]
    },
    {
     "name": "stderr",
     "output_type": "stream",
     "text": [
      "ERROR: Postprocessing: audio conversion failed: Unknown encoder 'libvorbis'\n",
      "cp: /Users/cafalena/HOUSE/@Code/Practice/ai_0014_CNN_Urbansound/AudioSet/Male speech, man speaking/--1l6WGE7AU_30.0-40.0.wav: No such file or directory\n",
      "cp: /Users/cafalena/HOUSE/@Code/Practice/ai_0014_CNN_Urbansound/AudioSet/Speech/--1l6WGE7AU_30.0-40.0.wav: No such file or directory\n",
      "WARNING: Post-Processor arguments given without specifying name. The arguments will be given to all post-processors\n"
     ]
    },
    {
     "name": "stdout",
     "output_type": "stream",
     "text": [
      "[youtube] Extracting URL: https://www.youtube.com/watch?v=--1lWqRXR_Q\n",
      "[youtube] --1lWqRXR_Q: Downloading webpage\n",
      "[youtube] --1lWqRXR_Q: Downloading android player API JSON\n"
     ]
    },
    {
     "name": "stderr",
     "output_type": "stream",
     "text": [
      "ERROR: [youtube] --1lWqRXR_Q: Private video. Sign in if you've been granted access to this video\n",
      "cp: /Users/cafalena/HOUSE/@Code/Practice/ai_0014_CNN_Urbansound/AudioSet/Speech/--1lWqRXR_Q_30.0-40.0.wav: No such file or directory\n",
      "WARNING: Post-Processor arguments given without specifying name. The arguments will be given to all post-processors\n"
     ]
    },
    {
     "name": "stdout",
     "output_type": "stream",
     "text": [
      "[youtube] Extracting URL: https://www.youtube.com/watch?v=--1nnAww5MY\n",
      "[youtube] --1nnAww5MY: Downloading webpage\n",
      "[youtube] --1nnAww5MY: Downloading android player API JSON\n",
      "[youtube] --1nnAww5MY: Downloading MPD manifest\n",
      "[info] --1nnAww5MY: Downloading 1 format(s): 140\n",
      "[download] /Users/cafalena/HOUSE/@Code/Practice/ai_0014_CNN_Urbansound/AudioSet/Speech/--1nnAww5MY_170.0-180.0.m4a has already been downloaded\n",
      "[download] 100% of  155.49KiB\n",
      "[ExtractAudio] Destination: /Users/cafalena/HOUSE/@Code/Practice/ai_0014_CNN_Urbansound/AudioSet/Speech/--1nnAww5MY_170.0-180.0.ogg\n"
     ]
    },
    {
     "name": "stderr",
     "output_type": "stream",
     "text": [
      "ERROR: Postprocessing: audio conversion failed: Unknown encoder 'libvorbis'\n",
      "WARNING: Post-Processor arguments given without specifying name. The arguments will be given to all post-processors\n"
     ]
    },
    {
     "name": "stdout",
     "output_type": "stream",
     "text": [
      "[youtube] Extracting URL: https://www.youtube.com/watch?v=--1rvyPa8UM\n",
      "[youtube] --1rvyPa8UM: Downloading webpage\n",
      "[youtube] --1rvyPa8UM: Downloading android player API JSON\n",
      "[info] --1rvyPa8UM: Downloading 1 format(s): 140\n",
      "[download] /Users/cafalena/HOUSE/@Code/Practice/ai_0014_CNN_Urbansound/AudioSet/Music/--1rvyPa8UM_40.0-50.0.m4a has already been downloaded\n",
      "[download] 100% of  159.00KiB\n",
      "[ExtractAudio] Destination: /Users/cafalena/HOUSE/@Code/Practice/ai_0014_CNN_Urbansound/AudioSet/Music/--1rvyPa8UM_40.0-50.0.ogg\n"
     ]
    },
    {
     "name": "stderr",
     "output_type": "stream",
     "text": [
      "ERROR: Postprocessing: audio conversion failed: Unknown encoder 'libvorbis'\n",
      "cp: /Users/cafalena/HOUSE/@Code/Practice/ai_0014_CNN_Urbansound/AudioSet/Hip hop music/--1rvyPa8UM_40.0-50.0.wav: No such file or directory\n",
      "WARNING: Post-Processor arguments given without specifying name. The arguments will be given to all post-processors\n"
     ]
    },
    {
     "name": "stdout",
     "output_type": "stream",
     "text": [
      "[youtube] Extracting URL: https://www.youtube.com/watch?v=--1yd6dcNOQ\n",
      "[youtube] --1yd6dcNOQ: Downloading webpage\n",
      "[youtube] --1yd6dcNOQ: Downloading android player API JSON\n",
      "[info] --1yd6dcNOQ: Downloading 1 format(s): 251\n",
      "[download] /Users/cafalena/HOUSE/@Code/Practice/ai_0014_CNN_Urbansound/AudioSet/Music/--1yd6dcNOQ_30.0-40.0.webm has already been downloaded\n",
      "[download] 100% of    2.59MiB\n",
      "[ExtractAudio] Destination: /Users/cafalena/HOUSE/@Code/Practice/ai_0014_CNN_Urbansound/AudioSet/Music/--1yd6dcNOQ_30.0-40.0.ogg\n"
     ]
    },
    {
     "name": "stderr",
     "output_type": "stream",
     "text": [
      "ERROR: Postprocessing: audio conversion failed: Unknown encoder 'libvorbis'\n",
      "cp: /Users/cafalena/HOUSE/@Code/Practice/ai_0014_CNN_Urbansound/AudioSet/Speech/--1yd6dcNOQ_30.0-40.0.wav: No such file or directory\n",
      "WARNING: Post-Processor arguments given without specifying name. The arguments will be given to all post-processors\n"
     ]
    },
    {
     "name": "stdout",
     "output_type": "stream",
     "text": [
      "[youtube] Extracting URL: https://www.youtube.com/watch?v=--23nKOwPzs\n",
      "[youtube] --23nKOwPzs: Downloading webpage\n",
      "[youtube] --23nKOwPzs: Downloading android player API JSON\n",
      "[youtube] --23nKOwPzs: Downloading MPD manifest\n",
      "[info] --23nKOwPzs: Downloading 1 format(s): 251\n",
      "[download] /Users/cafalena/HOUSE/@Code/Practice/ai_0014_CNN_Urbansound/AudioSet/Music/--23nKOwPzs_30.0-40.0.webm has already been downloaded\n",
      "[download] 100% of    3.52MiB\n",
      "[ExtractAudio] Destination: /Users/cafalena/HOUSE/@Code/Practice/ai_0014_CNN_Urbansound/AudioSet/Music/--23nKOwPzs_30.0-40.0.ogg\n"
     ]
    },
    {
     "name": "stderr",
     "output_type": "stream",
     "text": [
      "ERROR: Postprocessing: audio conversion failed: Unknown encoder 'libvorbis'\n",
      "cp: /Users/cafalena/HOUSE/@Code/Practice/ai_0014_CNN_Urbansound/AudioSet/Male singing/--23nKOwPzs_30.0-40.0.wav: No such file or directory\n",
      "WARNING: Post-Processor arguments given without specifying name. The arguments will be given to all post-processors\n"
     ]
    },
    {
     "name": "stdout",
     "output_type": "stream",
     "text": [
      "[youtube] Extracting URL: https://www.youtube.com/watch?v=--24LG2mr-Y\n",
      "[youtube] --24LG2mr-Y: Downloading webpage\n",
      "[youtube] --24LG2mr-Y: Downloading android player API JSON\n",
      "[youtube] --24LG2mr-Y: Downloading MPD manifest\n",
      "[info] --24LG2mr-Y: Downloading 1 format(s): 251\n",
      "[download] /Users/cafalena/HOUSE/@Code/Practice/ai_0014_CNN_Urbansound/AudioSet/Music/--24LG2mr-Y_8.0-18.0.webm has already been downloaded\n",
      "[download] 100% of  232.23KiB\n",
      "[ExtractAudio] Destination: /Users/cafalena/HOUSE/@Code/Practice/ai_0014_CNN_Urbansound/AudioSet/Music/--24LG2mr-Y_8.0-18.0.ogg\n"
     ]
    },
    {
     "name": "stderr",
     "output_type": "stream",
     "text": [
      "ERROR: Postprocessing: audio conversion failed: Unknown encoder 'libvorbis'\n",
      "cp: /Users/cafalena/HOUSE/@Code/Practice/ai_0014_CNN_Urbansound/AudioSet/Female singing/--24LG2mr-Y_8.0-18.0.wav: No such file or directory\n",
      "WARNING: Post-Processor arguments given without specifying name. The arguments will be given to all post-processors\n"
     ]
    },
    {
     "name": "stdout",
     "output_type": "stream",
     "text": [
      "[youtube] Extracting URL: https://www.youtube.com/watch?v=--26Q_d1ooU\n",
      "[youtube] --26Q_d1ooU: Downloading webpage\n",
      "[youtube] --26Q_d1ooU: Downloading android player API JSON\n",
      "[youtube] --26Q_d1ooU: Downloading MPD manifest\n",
      "[info] --26Q_d1ooU: Downloading 1 format(s): 140\n",
      "[download] /Users/cafalena/HOUSE/@Code/Practice/ai_0014_CNN_Urbansound/AudioSet/Music/--26Q_d1ooU_30.0-40.0.m4a has already been downloaded\n",
      "[download] 100% of  159.09KiB\n",
      "[ExtractAudio] Destination: /Users/cafalena/HOUSE/@Code/Practice/ai_0014_CNN_Urbansound/AudioSet/Music/--26Q_d1ooU_30.0-40.0.ogg\n"
     ]
    },
    {
     "name": "stderr",
     "output_type": "stream",
     "text": [
      "ERROR: Postprocessing: audio conversion failed: Unknown encoder 'libvorbis'\n",
      "cp: /Users/cafalena/HOUSE/@Code/Practice/ai_0014_CNN_Urbansound/AudioSet/Speech/--26Q_d1ooU_30.0-40.0.wav: No such file or directory\n",
      "WARNING: Post-Processor arguments given without specifying name. The arguments will be given to all post-processors\n"
     ]
    },
    {
     "name": "stdout",
     "output_type": "stream",
     "text": [
      "[youtube] Extracting URL: https://www.youtube.com/watch?v=--27rbu__kM\n",
      "[youtube] --27rbu__kM: Downloading webpage\n",
      "[youtube] --27rbu__kM: Downloading android player API JSON\n",
      "[info] --27rbu__kM: Downloading 1 format(s): 251\n",
      "[download] /Users/cafalena/HOUSE/@Code/Practice/ai_0014_CNN_Urbansound/AudioSet/Speech/--27rbu__kM_30.0-40.0.webm has already been downloaded\n",
      "[download] 100% of    1.32MiB\n",
      "[ExtractAudio] Destination: /Users/cafalena/HOUSE/@Code/Practice/ai_0014_CNN_Urbansound/AudioSet/Speech/--27rbu__kM_30.0-40.0.ogg\n"
     ]
    },
    {
     "name": "stderr",
     "output_type": "stream",
     "text": [
      "ERROR: Postprocessing: audio conversion failed: Unknown encoder 'libvorbis'\n",
      "WARNING: Post-Processor arguments given without specifying name. The arguments will be given to all post-processors\n"
     ]
    },
    {
     "name": "stdout",
     "output_type": "stream",
     "text": [
      "[youtube] Extracting URL: https://www.youtube.com/watch?v=--296-zXH3I\n",
      "[youtube] --296-zXH3I: Downloading webpage\n",
      "[youtube] --296-zXH3I: Downloading android player API JSON\n",
      "[info] --296-zXH3I: Downloading 1 format(s): 140\n",
      "[download] /Users/cafalena/HOUSE/@Code/Practice/ai_0014_CNN_Urbansound/AudioSet/Speech/--296-zXH3I_30.0-40.0.m4a has already been downloaded\n",
      "[download] 100% of  158.85KiB\n",
      "[ExtractAudio] Destination: /Users/cafalena/HOUSE/@Code/Practice/ai_0014_CNN_Urbansound/AudioSet/Speech/--296-zXH3I_30.0-40.0.ogg\n"
     ]
    },
    {
     "name": "stderr",
     "output_type": "stream",
     "text": [
      "ERROR: Postprocessing: audio conversion failed: Unknown encoder 'libvorbis'\n",
      "WARNING: Post-Processor arguments given without specifying name. The arguments will be given to all post-processors\n"
     ]
    },
    {
     "name": "stdout",
     "output_type": "stream",
     "text": [
      "[youtube] Extracting URL: https://www.youtube.com/watch?v=--299m5_DdE\n",
      "[youtube] --299m5_DdE: Downloading webpage\n",
      "[youtube] --299m5_DdE: Downloading android player API JSON\n",
      "[youtube] --299m5_DdE: Downloading MPD manifest\n",
      "[info] --299m5_DdE: Downloading 1 format(s): 251\n",
      "[download] /Users/cafalena/HOUSE/@Code/Practice/ai_0014_CNN_Urbansound/AudioSet/Gurgling/--299m5_DdE_0.0-5.0.webm has already been downloaded\n",
      "[download] 100% of   52.75KiB\n",
      "[ExtractAudio] Destination: /Users/cafalena/HOUSE/@Code/Practice/ai_0014_CNN_Urbansound/AudioSet/Gurgling/--299m5_DdE_0.0-5.0.ogg\n"
     ]
    },
    {
     "name": "stderr",
     "output_type": "stream",
     "text": [
      "ERROR: Postprocessing: audio conversion failed: Unknown encoder 'libvorbis'\n",
      "cp: /Users/cafalena/HOUSE/@Code/Practice/ai_0014_CNN_Urbansound/AudioSet/Waterfall/--299m5_DdE_0.0-5.0.wav: No such file or directory\n",
      "WARNING: Post-Processor arguments given without specifying name. The arguments will be given to all post-processors\n"
     ]
    },
    {
     "name": "stdout",
     "output_type": "stream",
     "text": [
      "[youtube] Extracting URL: https://www.youtube.com/watch?v=--2AZr9PIH8\n",
      "[youtube] --2AZr9PIH8: Downloading webpage\n",
      "[youtube] --2AZr9PIH8: Downloading android player API JSON\n",
      "[youtube] --2AZr9PIH8: Downloading MPD manifest\n",
      "[info] --2AZr9PIH8: Downloading 1 format(s): 251\n",
      "[download] /Users/cafalena/HOUSE/@Code/Practice/ai_0014_CNN_Urbansound/AudioSet/Music/--2AZr9PIH8_27.0-37.0.webm has already been downloaded\n",
      "[download] 100% of  552.66KiB\n",
      "[ExtractAudio] Destination: /Users/cafalena/HOUSE/@Code/Practice/ai_0014_CNN_Urbansound/AudioSet/Music/--2AZr9PIH8_27.0-37.0.ogg\n"
     ]
    },
    {
     "name": "stderr",
     "output_type": "stream",
     "text": [
      "ERROR: Postprocessing: audio conversion failed: Unknown encoder 'libvorbis'\n",
      "cp: /Users/cafalena/HOUSE/@Code/Practice/ai_0014_CNN_Urbansound/AudioSet/Speech/--2AZr9PIH8_27.0-37.0.wav: No such file or directory\n",
      "WARNING: Post-Processor arguments given without specifying name. The arguments will be given to all post-processors\n"
     ]
    },
    {
     "name": "stdout",
     "output_type": "stream",
     "text": [
      "[youtube] Extracting URL: https://www.youtube.com/watch?v=--2ENPwFQLY\n",
      "[youtube] --2ENPwFQLY: Downloading webpage\n",
      "[youtube] --2ENPwFQLY: Downloading android player API JSON\n",
      "[info] --2ENPwFQLY: Downloading 1 format(s): 140\n",
      "[dashsegments] Total fragments: 1\n",
      "[download] Destination: /Users/cafalena/HOUSE/@Code/Practice/ai_0014_CNN_Urbansound/AudioSet/Speech/--2ENPwFQLY_30.0-40.0.m4a\n",
      "[download] 100% of    2.87MiB in 00:00:01 at 2.43MiB/s               \n",
      "[FixupM4a] Correcting container of \"/Users/cafalena/HOUSE/@Code/Practice/ai_0014_CNN_Urbansound/AudioSet/Speech/--2ENPwFQLY_30.0-40.0.m4a\"\n",
      "[ExtractAudio] Destination: /Users/cafalena/HOUSE/@Code/Practice/ai_0014_CNN_Urbansound/AudioSet/Speech/--2ENPwFQLY_30.0-40.0.ogg\n"
     ]
    },
    {
     "name": "stderr",
     "output_type": "stream",
     "text": [
      "ERROR: Postprocessing: audio conversion failed: Unknown encoder 'libvorbis'\n",
      "WARNING: Post-Processor arguments given without specifying name. The arguments will be given to all post-processors\n"
     ]
    },
    {
     "name": "stdout",
     "output_type": "stream",
     "text": [
      "[youtube] Extracting URL: https://www.youtube.com/watch?v=--2H9Dj9eMY\n",
      "[youtube] --2H9Dj9eMY: Downloading webpage\n",
      "[youtube] --2H9Dj9eMY: Downloading android player API JSON\n",
      "[info] --2H9Dj9eMY: Downloading 1 format(s): 251\n",
      "[dashsegments] Total fragments: 2\n",
      "[download] Destination: /Users/cafalena/HOUSE/@Code/Practice/ai_0014_CNN_Urbansound/AudioSet/Vehicle/--2H9Dj9eMY_30.0-40.0.webm\n",
      "[download] 100% of   12.49MiB in 00:00:02 at 6.22MiB/s                  \n",
      "[ExtractAudio] Destination: /Users/cafalena/HOUSE/@Code/Practice/ai_0014_CNN_Urbansound/AudioSet/Vehicle/--2H9Dj9eMY_30.0-40.0.ogg\n"
     ]
    },
    {
     "name": "stderr",
     "output_type": "stream",
     "text": [
      "ERROR: Postprocessing: audio conversion failed: Unknown encoder 'libvorbis'\n",
      "cp: /Users/cafalena/HOUSE/@Code/Practice/ai_0014_CNN_Urbansound/AudioSet/Aircraft/--2H9Dj9eMY_30.0-40.0.wav: No such file or directory\n",
      "WARNING: Post-Processor arguments given without specifying name. The arguments will be given to all post-processors\n"
     ]
    },
    {
     "name": "stdout",
     "output_type": "stream",
     "text": [
      "[youtube] Extracting URL: https://www.youtube.com/watch?v=--2U9LPjlpk\n",
      "[youtube] --2U9LPjlpk: Downloading webpage\n",
      "[youtube] --2U9LPjlpk: Downloading android player API JSON\n"
     ]
    },
    {
     "name": "stderr",
     "output_type": "stream",
     "text": [
      "ERROR: [youtube] --2U9LPjlpk: Private video. Sign in if you've been granted access to this video\n",
      "cp: /Users/cafalena/HOUSE/@Code/Practice/ai_0014_CNN_Urbansound/AudioSet/Child speech, kid speaking/--2U9LPjlpk_10.0-20.0.wav: No such file or directory\n",
      "cp: /Users/cafalena/HOUSE/@Code/Practice/ai_0014_CNN_Urbansound/AudioSet/Inside, small room/--2U9LPjlpk_10.0-20.0.wav: No such file or directory\n",
      "WARNING: Post-Processor arguments given without specifying name. The arguments will be given to all post-processors\n"
     ]
    },
    {
     "name": "stdout",
     "output_type": "stream",
     "text": [
      "[youtube] Extracting URL: https://www.youtube.com/watch?v=--2URMA4_Gw\n",
      "[youtube] --2URMA4_Gw: Downloading webpage\n",
      "[youtube] --2URMA4_Gw: Downloading android player API JSON\n",
      "[info] --2URMA4_Gw: Downloading 1 format(s): 251\n",
      "[dashsegments] Total fragments: 1\n",
      "[download] Destination: /Users/cafalena/HOUSE/@Code/Practice/ai_0014_CNN_Urbansound/AudioSet/Music/--2URMA4_Gw_30.0-40.0.webm\n",
      "[download] 100% of    2.84MiB in 00:00:00 at 3.93MiB/s               \n",
      "[ExtractAudio] Destination: /Users/cafalena/HOUSE/@Code/Practice/ai_0014_CNN_Urbansound/AudioSet/Music/--2URMA4_Gw_30.0-40.0.ogg\n"
     ]
    },
    {
     "name": "stderr",
     "output_type": "stream",
     "text": [
      "ERROR: Postprocessing: audio conversion failed: Unknown encoder 'libvorbis'\n",
      "WARNING: Post-Processor arguments given without specifying name. The arguments will be given to all post-processors\n"
     ]
    },
    {
     "name": "stdout",
     "output_type": "stream",
     "text": [
      "[youtube] Extracting URL: https://www.youtube.com/watch?v=--2V5hlNctI\n",
      "[youtube] --2V5hlNctI: Downloading webpage\n",
      "[youtube] --2V5hlNctI: Downloading android player API JSON\n",
      "[info] --2V5hlNctI: Downloading 1 format(s): 251\n",
      "[dashsegments] Total fragments: 3\n",
      "[download] Destination: /Users/cafalena/HOUSE/@Code/Practice/ai_0014_CNN_Urbansound/AudioSet/Music/--2V5hlNctI_30.0-40.0.webm\n",
      "[download] 100% of   22.99MiB in 00:00:03 at 5.81MiB/s                  \n",
      "[ExtractAudio] Destination: /Users/cafalena/HOUSE/@Code/Practice/ai_0014_CNN_Urbansound/AudioSet/Music/--2V5hlNctI_30.0-40.0.ogg\n"
     ]
    },
    {
     "name": "stderr",
     "output_type": "stream",
     "text": [
      "ERROR: Postprocessing: audio conversion failed: Unknown encoder 'libvorbis'\n",
      "cp: /Users/cafalena/HOUSE/@Code/Practice/ai_0014_CNN_Urbansound/AudioSet/Speech/--2V5hlNctI_30.0-40.0.wav: No such file or directory\n",
      "WARNING: Post-Processor arguments given without specifying name. The arguments will be given to all post-processors\n"
     ]
    },
    {
     "name": "stdout",
     "output_type": "stream",
     "text": [
      "[youtube] Extracting URL: https://www.youtube.com/watch?v=--2XRMjyizo\n",
      "[youtube] --2XRMjyizo: Downloading webpage\n",
      "[youtube] --2XRMjyizo: Downloading android player API JSON\n",
      "[youtube] --2XRMjyizo: Downloading MPD manifest\n",
      "[info] --2XRMjyizo: Downloading 1 format(s): 251\n",
      "[dashsegments] Total fragments: 1\n",
      "[download] Destination: /Users/cafalena/HOUSE/@Code/Practice/ai_0014_CNN_Urbansound/AudioSet/Bird/--2XRMjyizo_0.0-10.0.webm\n",
      "[download] 100% of    5.02MiB in 00:00:01 at 4.75MiB/s               \n",
      "[ExtractAudio] Destination: /Users/cafalena/HOUSE/@Code/Practice/ai_0014_CNN_Urbansound/AudioSet/Bird/--2XRMjyizo_0.0-10.0.ogg\n"
     ]
    },
    {
     "name": "stderr",
     "output_type": "stream",
     "text": [
      "ERROR: Postprocessing: audio conversion failed: Unknown encoder 'libvorbis'\n",
      "cp: /Users/cafalena/HOUSE/@Code/Practice/ai_0014_CNN_Urbansound/AudioSet/Bird vocalization, bird call, bird song/--2XRMjyizo_0.0-10.0.wav: No such file or directory\n",
      "cp: /Users/cafalena/HOUSE/@Code/Practice/ai_0014_CNN_Urbansound/AudioSet/Chirp, tweet/--2XRMjyizo_0.0-10.0.wav: No such file or directory\n",
      "WARNING: Post-Processor arguments given without specifying name. The arguments will be given to all post-processors\n"
     ]
    },
    {
     "name": "stdout",
     "output_type": "stream",
     "text": [
      "[youtube] Extracting URL: https://www.youtube.com/watch?v=--2iIT25cNE\n",
      "[youtube] --2iIT25cNE: Downloading webpage\n",
      "[youtube] --2iIT25cNE: Downloading android player API JSON\n",
      "[info] --2iIT25cNE: Downloading 1 format(s): 251\n",
      "[dashsegments] Total fragments: 1\n",
      "[download] Destination: /Users/cafalena/HOUSE/@Code/Practice/ai_0014_CNN_Urbansound/AudioSet/Music/--2iIT25cNE_30.0-40.0.webm\n",
      "[download] 100% of  844.44KiB in 00:00:00 at 1.64MiB/s               \n",
      "[ExtractAudio] Destination: /Users/cafalena/HOUSE/@Code/Practice/ai_0014_CNN_Urbansound/AudioSet/Music/--2iIT25cNE_30.0-40.0.ogg\n"
     ]
    },
    {
     "name": "stderr",
     "output_type": "stream",
     "text": [
      "ERROR: Postprocessing: audio conversion failed: Unknown encoder 'libvorbis'\n",
      "cp: /Users/cafalena/HOUSE/@Code/Practice/ai_0014_CNN_Urbansound/AudioSet/Musical instrument/--2iIT25cNE_30.0-40.0.wav: No such file or directory\n",
      "cp: /Users/cafalena/HOUSE/@Code/Practice/ai_0014_CNN_Urbansound/AudioSet/Drum machine/--2iIT25cNE_30.0-40.0.wav: No such file or directory\n",
      "WARNING: Post-Processor arguments given without specifying name. The arguments will be given to all post-processors\n"
     ]
    },
    {
     "name": "stdout",
     "output_type": "stream",
     "text": [
      "[youtube] Extracting URL: https://www.youtube.com/watch?v=--2shonBZTc\n",
      "[youtube] --2shonBZTc: Downloading webpage\n",
      "[youtube] --2shonBZTc: Downloading android player API JSON\n"
     ]
    },
    {
     "name": "stderr",
     "output_type": "stream",
     "text": [
      "ERROR: [youtube] --2shonBZTc: Private video. Sign in if you've been granted access to this video\n",
      "WARNING: Post-Processor arguments given without specifying name. The arguments will be given to all post-processors\n"
     ]
    },
    {
     "name": "stdout",
     "output_type": "stream",
     "text": [
      "[youtube] Extracting URL: https://www.youtube.com/watch?v=--2u0ZyO3x0\n",
      "[youtube] --2u0ZyO3x0: Downloading webpage\n",
      "[youtube] --2u0ZyO3x0: Downloading android player API JSON\n",
      "[info] --2u0ZyO3x0: Downloading 1 format(s): 251\n",
      "[dashsegments] Total fragments: 1\n",
      "[download] Destination: /Users/cafalena/HOUSE/@Code/Practice/ai_0014_CNN_Urbansound/AudioSet/Wind/--2u0ZyO3x0_30.0-40.0.webm\n",
      "[download] 100% of    3.00MiB in 00:00:00 at 4.12MiB/s               \n",
      "[ExtractAudio] Destination: /Users/cafalena/HOUSE/@Code/Practice/ai_0014_CNN_Urbansound/AudioSet/Wind/--2u0ZyO3x0_30.0-40.0.ogg\n"
     ]
    },
    {
     "name": "stderr",
     "output_type": "stream",
     "text": [
      "ERROR: Postprocessing: audio conversion failed: Unknown encoder 'libvorbis'\n",
      "cp: /Users/cafalena/HOUSE/@Code/Practice/ai_0014_CNN_Urbansound/AudioSet/Wind noise (microphone)/--2u0ZyO3x0_30.0-40.0.wav: No such file or directory\n",
      "WARNING: Post-Processor arguments given without specifying name. The arguments will be given to all post-processors\n"
     ]
    },
    {
     "name": "stdout",
     "output_type": "stream",
     "text": [
      "[youtube] Extracting URL: https://www.youtube.com/watch?v=--2zH6Gmu0Q\n",
      "[youtube] --2zH6Gmu0Q: Downloading webpage\n",
      "[youtube] --2zH6Gmu0Q: Downloading android player API JSON\n",
      "[info] --2zH6Gmu0Q: Downloading 1 format(s): 251\n",
      "[dashsegments] Total fragments: 1\n",
      "[download] Destination: /Users/cafalena/HOUSE/@Code/Practice/ai_0014_CNN_Urbansound/AudioSet/Sliding door/--2zH6Gmu0Q_30.0-40.0.webm\n",
      "[download] 100% of  613.75KiB in 00:00:00 at 1.34MiB/s               \n",
      "[ExtractAudio] Destination: /Users/cafalena/HOUSE/@Code/Practice/ai_0014_CNN_Urbansound/AudioSet/Sliding door/--2zH6Gmu0Q_30.0-40.0.ogg\n"
     ]
    },
    {
     "name": "stderr",
     "output_type": "stream",
     "text": [
      "ERROR: Postprocessing: audio conversion failed: Unknown encoder 'libvorbis'\n",
      "WARNING: Post-Processor arguments given without specifying name. The arguments will be given to all post-processors\n"
     ]
    },
    {
     "name": "stdout",
     "output_type": "stream",
     "text": [
      "[youtube] Extracting URL: https://www.youtube.com/watch?v=--30J4RIDXs\n",
      "[youtube] --30J4RIDXs: Downloading webpage\n",
      "[youtube] --30J4RIDXs: Downloading android player API JSON\n",
      "[info] --30J4RIDXs: Downloading 1 format(s): 251\n",
      "[dashsegments] Total fragments: 1\n",
      "[download] Destination: /Users/cafalena/HOUSE/@Code/Practice/ai_0014_CNN_Urbansound/AudioSet/Speech/--30J4RIDXs_30.0-40.0.webm\n",
      "[download] 100% of    2.87MiB in 00:00:00 at 3.36MiB/s               \n",
      "[ExtractAudio] Destination: /Users/cafalena/HOUSE/@Code/Practice/ai_0014_CNN_Urbansound/AudioSet/Speech/--30J4RIDXs_30.0-40.0.ogg\n"
     ]
    },
    {
     "name": "stderr",
     "output_type": "stream",
     "text": [
      "ERROR: Postprocessing: audio conversion failed: Unknown encoder 'libvorbis'\n",
      "WARNING: Post-Processor arguments given without specifying name. The arguments will be given to all post-processors\n"
     ]
    },
    {
     "name": "stdout",
     "output_type": "stream",
     "text": [
      "[youtube] Extracting URL: https://www.youtube.com/watch?v=--32cTwWz9M\n",
      "[youtube] --32cTwWz9M: Downloading webpage\n",
      "[youtube] --32cTwWz9M: Downloading android player API JSON\n"
     ]
    },
    {
     "name": "stderr",
     "output_type": "stream",
     "text": [
      "ERROR: [youtube] --32cTwWz9M: Video unavailable. This video is no longer available because the YouTube account associated with this video has been terminated.\n",
      "WARNING: Post-Processor arguments given without specifying name. The arguments will be given to all post-processors\n"
     ]
    },
    {
     "name": "stdout",
     "output_type": "stream",
     "text": [
      "[youtube] Extracting URL: https://www.youtube.com/watch?v=--330hg-Ocw\n",
      "[youtube] --330hg-Ocw: Downloading webpage\n",
      "[youtube] --330hg-Ocw: Downloading android player API JSON\n",
      "[youtube] --330hg-Ocw: Downloading MPD manifest\n",
      "[info] --330hg-Ocw: Downloading 1 format(s): 251\n",
      "[dashsegments] Total fragments: 1\n",
      "[download] Destination: /Users/cafalena/HOUSE/@Code/Practice/ai_0014_CNN_Urbansound/AudioSet/Engine/--330hg-Ocw_30.0-40.0.webm\n",
      "[download] 100% of  749.22KiB in 00:00:00 at 2.49MiB/s               \n",
      "[ExtractAudio] Destination: /Users/cafalena/HOUSE/@Code/Practice/ai_0014_CNN_Urbansound/AudioSet/Engine/--330hg-Ocw_30.0-40.0.ogg\n"
     ]
    },
    {
     "name": "stderr",
     "output_type": "stream",
     "text": [
      "ERROR: Postprocessing: audio conversion failed: Unknown encoder 'libvorbis'\n",
      "cp: /Users/cafalena/HOUSE/@Code/Practice/ai_0014_CNN_Urbansound/AudioSet/Vehicle/--330hg-Ocw_30.0-40.0.wav: No such file or directory\n",
      "cp: /Users/cafalena/HOUSE/@Code/Practice/ai_0014_CNN_Urbansound/AudioSet/Car/--330hg-Ocw_30.0-40.0.wav: No such file or directory\n",
      "cp: /Users/cafalena/HOUSE/@Code/Practice/ai_0014_CNN_Urbansound/AudioSet/Medium engine (mid frequency)/--330hg-Ocw_30.0-40.0.wav: No such file or directory\n",
      "cp: /Users/cafalena/HOUSE/@Code/Practice/ai_0014_CNN_Urbansound/AudioSet/Engine starting/--330hg-Ocw_30.0-40.0.wav: No such file or directory\n",
      "WARNING: Post-Processor arguments given without specifying name. The arguments will be given to all post-processors\n"
     ]
    },
    {
     "name": "stdout",
     "output_type": "stream",
     "text": [
      "[youtube] Extracting URL: https://www.youtube.com/watch?v=--34LejG4cE\n",
      "[youtube] --34LejG4cE: Downloading webpage\n",
      "[youtube] --34LejG4cE: Downloading android player API JSON\n",
      "[info] --34LejG4cE: Downloading 1 format(s): 140\n",
      "[dashsegments] Total fragments: 1\n",
      "[download] Destination: /Users/cafalena/HOUSE/@Code/Practice/ai_0014_CNN_Urbansound/AudioSet/Brass instrument/--34LejG4cE_20.0-30.0.m4a\n",
      "[download] 100% of    1.12MiB in 00:00:00 at 2.11MiB/s               \n",
      "[FixupM4a] Correcting container of \"/Users/cafalena/HOUSE/@Code/Practice/ai_0014_CNN_Urbansound/AudioSet/Brass instrument/--34LejG4cE_20.0-30.0.m4a\"\n",
      "[ExtractAudio] Destination: /Users/cafalena/HOUSE/@Code/Practice/ai_0014_CNN_Urbansound/AudioSet/Brass instrument/--34LejG4cE_20.0-30.0.ogg\n"
     ]
    },
    {
     "name": "stderr",
     "output_type": "stream",
     "text": [
      "ERROR: Postprocessing: audio conversion failed: Unknown encoder 'libvorbis'\n",
      "cp: /Users/cafalena/HOUSE/@Code/Practice/ai_0014_CNN_Urbansound/AudioSet/Trombone/--34LejG4cE_20.0-30.0.wav: No such file or directory\n",
      "WARNING: Post-Processor arguments given without specifying name. The arguments will be given to all post-processors\n"
     ]
    },
    {
     "name": "stdout",
     "output_type": "stream",
     "text": [
      "[youtube] Extracting URL: https://www.youtube.com/watch?v=--385LpykT0\n",
      "[youtube] --385LpykT0: Downloading webpage\n",
      "[youtube] --385LpykT0: Downloading android player API JSON\n",
      "[info] --385LpykT0: Downloading 1 format(s): 251\n",
      "[dashsegments] Total fragments: 1\n",
      "[download] Destination: /Users/cafalena/HOUSE/@Code/Practice/ai_0014_CNN_Urbansound/AudioSet/Electronic music/--385LpykT0_40.0-50.0.webm\n",
      "[download] 100% of    2.99MiB in 00:00:00 at 4.47MiB/s               \n",
      "[ExtractAudio] Destination: /Users/cafalena/HOUSE/@Code/Practice/ai_0014_CNN_Urbansound/AudioSet/Electronic music/--385LpykT0_40.0-50.0.ogg\n"
     ]
    },
    {
     "name": "stderr",
     "output_type": "stream",
     "text": [
      "ERROR: Postprocessing: audio conversion failed: Unknown encoder 'libvorbis'\n",
      "cp: /Users/cafalena/HOUSE/@Code/Practice/ai_0014_CNN_Urbansound/AudioSet/Music/--385LpykT0_40.0-50.0.wav: No such file or directory\n",
      "cp: /Users/cafalena/HOUSE/@Code/Practice/ai_0014_CNN_Urbansound/AudioSet/Ambient music/--385LpykT0_40.0-50.0.wav: No such file or directory\n",
      "cp: /Users/cafalena/HOUSE/@Code/Practice/ai_0014_CNN_Urbansound/AudioSet/Synthesizer/--385LpykT0_40.0-50.0.wav: No such file or directory\n",
      "WARNING: Post-Processor arguments given without specifying name. The arguments will be given to all post-processors\n"
     ]
    },
    {
     "name": "stdout",
     "output_type": "stream",
     "text": [
      "[youtube] Extracting URL: https://www.youtube.com/watch?v=--3FNDQ-EfE\n",
      "[youtube] --3FNDQ-EfE: Downloading webpage\n",
      "[youtube] --3FNDQ-EfE: Downloading android player API JSON\n",
      "[info] --3FNDQ-EfE: Downloading 1 format(s): 251\n",
      "[dashsegments] Total fragments: 1\n",
      "[download] Destination: /Users/cafalena/HOUSE/@Code/Practice/ai_0014_CNN_Urbansound/AudioSet/Music/--3FNDQ-EfE_30.0-40.0.webm\n",
      "[download] 100% of    1.23MiB in 00:00:00 at 2.62MiB/s               \n",
      "[ExtractAudio] Destination: /Users/cafalena/HOUSE/@Code/Practice/ai_0014_CNN_Urbansound/AudioSet/Music/--3FNDQ-EfE_30.0-40.0.ogg\n"
     ]
    },
    {
     "name": "stderr",
     "output_type": "stream",
     "text": [
      "ERROR: Postprocessing: audio conversion failed: Unknown encoder 'libvorbis'\n",
      "WARNING: Post-Processor arguments given without specifying name. The arguments will be given to all post-processors\n"
     ]
    },
    {
     "name": "stdout",
     "output_type": "stream",
     "text": [
      "[youtube] Extracting URL: https://www.youtube.com/watch?v=--3HEtfRe4I\n",
      "[youtube] --3HEtfRe4I: Downloading webpage\n",
      "[youtube] --3HEtfRe4I: Downloading android player API JSON\n",
      "[info] --3HEtfRe4I: Downloading 1 format(s): 251\n",
      "[dashsegments] Total fragments: 1\n",
      "[download] Destination: /Users/cafalena/HOUSE/@Code/Practice/ai_0014_CNN_Urbansound/AudioSet/Singing/--3HEtfRe4I_220.0-230.0.webm\n",
      "[download] 100% of    4.60MiB in 00:00:00 at 4.85MiB/s               \n",
      "[ExtractAudio] Destination: /Users/cafalena/HOUSE/@Code/Practice/ai_0014_CNN_Urbansound/AudioSet/Singing/--3HEtfRe4I_220.0-230.0.ogg\n"
     ]
    },
    {
     "name": "stderr",
     "output_type": "stream",
     "text": [
      "ERROR: Postprocessing: audio conversion failed: Unknown encoder 'libvorbis'\n",
      "cp: /Users/cafalena/HOUSE/@Code/Practice/ai_0014_CNN_Urbansound/AudioSet/Music/--3HEtfRe4I_220.0-230.0.wav: No such file or directory\n",
      "cp: /Users/cafalena/HOUSE/@Code/Practice/ai_0014_CNN_Urbansound/AudioSet/Inside, large room or hall/--3HEtfRe4I_220.0-230.0.wav: No such file or directory\n",
      "WARNING: Post-Processor arguments given without specifying name. The arguments will be given to all post-processors\n"
     ]
    },
    {
     "name": "stdout",
     "output_type": "stream",
     "text": [
      "[youtube] Extracting URL: https://www.youtube.com/watch?v=--3IH5T6S0E\n",
      "[youtube] --3IH5T6S0E: Downloading webpage\n",
      "[youtube] --3IH5T6S0E: Downloading android player API JSON\n",
      "[info] --3IH5T6S0E: Downloading 1 format(s): 251\n",
      "[dashsegments] Total fragments: 1\n",
      "[download] Destination: /Users/cafalena/HOUSE/@Code/Practice/ai_0014_CNN_Urbansound/AudioSet/Music/--3IH5T6S0E_30.0-40.0.webm\n",
      "[download] 100% of  950.05KiB in 00:00:00 at 2.05MiB/s               \n",
      "[ExtractAudio] Destination: /Users/cafalena/HOUSE/@Code/Practice/ai_0014_CNN_Urbansound/AudioSet/Music/--3IH5T6S0E_30.0-40.0.ogg\n"
     ]
    },
    {
     "name": "stderr",
     "output_type": "stream",
     "text": [
      "ERROR: Postprocessing: audio conversion failed: Unknown encoder 'libvorbis'\n",
      "cp: /Users/cafalena/HOUSE/@Code/Practice/ai_0014_CNN_Urbansound/AudioSet/Speech/--3IH5T6S0E_30.0-40.0.wav: No such file or directory\n",
      "WARNING: Post-Processor arguments given without specifying name. The arguments will be given to all post-processors\n"
     ]
    },
    {
     "name": "stdout",
     "output_type": "stream",
     "text": [
      "[youtube] Extracting URL: https://www.youtube.com/watch?v=--3ObPi3Ygc\n",
      "[youtube] --3ObPi3Ygc: Downloading webpage\n",
      "[youtube] --3ObPi3Ygc: Downloading android player API JSON\n",
      "[info] --3ObPi3Ygc: Downloading 1 format(s): 140\n",
      "[dashsegments] Total fragments: 1\n",
      "[download] Destination: /Users/cafalena/HOUSE/@Code/Practice/ai_0014_CNN_Urbansound/AudioSet/Music/--3ObPi3Ygc_30.0-40.0.m4a\n",
      "[download] 100% of    2.15MiB in 00:00:00 at 3.94MiB/s               \n",
      "[FixupM4a] Correcting container of \"/Users/cafalena/HOUSE/@Code/Practice/ai_0014_CNN_Urbansound/AudioSet/Music/--3ObPi3Ygc_30.0-40.0.m4a\"\n",
      "[ExtractAudio] Destination: /Users/cafalena/HOUSE/@Code/Practice/ai_0014_CNN_Urbansound/AudioSet/Music/--3ObPi3Ygc_30.0-40.0.ogg\n"
     ]
    },
    {
     "name": "stderr",
     "output_type": "stream",
     "text": [
      "ERROR: Postprocessing: audio conversion failed: Unknown encoder 'libvorbis'\n",
      "cp: /Users/cafalena/HOUSE/@Code/Practice/ai_0014_CNN_Urbansound/AudioSet/Speech/--3ObPi3Ygc_30.0-40.0.wav: No such file or directory\n",
      "WARNING: Post-Processor arguments given without specifying name. The arguments will be given to all post-processors\n"
     ]
    },
    {
     "name": "stdout",
     "output_type": "stream",
     "text": [
      "[youtube] Extracting URL: https://www.youtube.com/watch?v=--3Po5mqhJg\n",
      "[youtube] --3Po5mqhJg: Downloading webpage\n",
      "[youtube] --3Po5mqhJg: Downloading android player API JSON\n"
     ]
    },
    {
     "name": "stderr",
     "output_type": "stream",
     "text": [
      "ERROR: [youtube] --3Po5mqhJg: Video unavailable\n",
      "cp: /Users/cafalena/HOUSE/@Code/Practice/ai_0014_CNN_Urbansound/AudioSet/Orchestra/--3Po5mqhJg_30.0-40.0.wav: No such file or directory\n",
      "WARNING: Post-Processor arguments given without specifying name. The arguments will be given to all post-processors\n"
     ]
    },
    {
     "name": "stdout",
     "output_type": "stream",
     "text": [
      "[youtube] Extracting URL: https://www.youtube.com/watch?v=--3SH5_r-BU\n",
      "[youtube] --3SH5_r-BU: Downloading webpage\n",
      "[youtube] --3SH5_r-BU: Downloading android player API JSON\n",
      "[youtube] --3SH5_r-BU: Downloading MPD manifest\n",
      "[info] --3SH5_r-BU: Downloading 1 format(s): 251\n",
      "[dashsegments] Total fragments: 1\n",
      "[download] Destination: /Users/cafalena/HOUSE/@Code/Practice/ai_0014_CNN_Urbansound/AudioSet/Speech/--3SH5_r-BU_30.0-40.0.webm\n",
      "[download] 100% of  625.84KiB in 00:00:00 at 1.58MiB/s               \n",
      "[ExtractAudio] Destination: /Users/cafalena/HOUSE/@Code/Practice/ai_0014_CNN_Urbansound/AudioSet/Speech/--3SH5_r-BU_30.0-40.0.ogg\n"
     ]
    },
    {
     "name": "stderr",
     "output_type": "stream",
     "text": [
      "ERROR: Postprocessing: audio conversion failed: Unknown encoder 'libvorbis'\n",
      "WARNING: Post-Processor arguments given without specifying name. The arguments will be given to all post-processors\n"
     ]
    },
    {
     "name": "stdout",
     "output_type": "stream",
     "text": [
      "[youtube] Extracting URL: https://www.youtube.com/watch?v=--3SMQlk4Y8\n",
      "[youtube] --3SMQlk4Y8: Downloading webpage\n",
      "[youtube] --3SMQlk4Y8: Downloading android player API JSON\n",
      "[info] --3SMQlk4Y8: Downloading 1 format(s): 251\n",
      "[dashsegments] Total fragments: 2\n",
      "[download] Destination: /Users/cafalena/HOUSE/@Code/Practice/ai_0014_CNN_Urbansound/AudioSet/Speech/--3SMQlk4Y8_520.0-530.0.webm\n",
      "[download] 100% of   11.53MiB in 00:00:01 at 6.35MiB/s                  \n",
      "[ExtractAudio] Destination: /Users/cafalena/HOUSE/@Code/Practice/ai_0014_CNN_Urbansound/AudioSet/Speech/--3SMQlk4Y8_520.0-530.0.ogg\n"
     ]
    },
    {
     "name": "stderr",
     "output_type": "stream",
     "text": [
      "ERROR: Postprocessing: audio conversion failed: Unknown encoder 'libvorbis'\n",
      "cp: /Users/cafalena/HOUSE/@Code/Practice/ai_0014_CNN_Urbansound/AudioSet/Inside, small room/--3SMQlk4Y8_520.0-530.0.wav: No such file or directory\n",
      "WARNING: Post-Processor arguments given without specifying name. The arguments will be given to all post-processors\n"
     ]
    },
    {
     "name": "stdout",
     "output_type": "stream",
     "text": [
      "[youtube] Extracting URL: https://www.youtube.com/watch?v=--3T7dwFLjU\n",
      "[youtube] --3T7dwFLjU: Downloading webpage\n",
      "[youtube] --3T7dwFLjU: Downloading android player API JSON\n",
      "[youtube] --3T7dwFLjU: Downloading MPD manifest\n",
      "[info] --3T7dwFLjU: Downloading 1 format(s): 251\n",
      "[dashsegments] Total fragments: 1\n",
      "[download] Destination: /Users/cafalena/HOUSE/@Code/Practice/ai_0014_CNN_Urbansound/AudioSet/Speech/--3T7dwFLjU_30.0-40.0.webm\n",
      "[download] 100% of    1.29MiB in 00:00:00 at 2.30MiB/s               \n",
      "[ExtractAudio] Destination: /Users/cafalena/HOUSE/@Code/Practice/ai_0014_CNN_Urbansound/AudioSet/Speech/--3T7dwFLjU_30.0-40.0.ogg\n"
     ]
    },
    {
     "name": "stderr",
     "output_type": "stream",
     "text": [
      "ERROR: Postprocessing: audio conversion failed: Unknown encoder 'libvorbis'\n",
      "WARNING: Post-Processor arguments given without specifying name. The arguments will be given to all post-processors\n"
     ]
    },
    {
     "name": "stdout",
     "output_type": "stream",
     "text": [
      "[youtube] Extracting URL: https://www.youtube.com/watch?v=--3flh9REUI\n",
      "[youtube] --3flh9REUI: Downloading webpage\n",
      "[youtube] --3flh9REUI: Downloading android player API JSON\n",
      "[info] --3flh9REUI: Downloading 1 format(s): 251\n",
      "[dashsegments] Total fragments: 1\n",
      "[download] Destination: /Users/cafalena/HOUSE/@Code/Practice/ai_0014_CNN_Urbansound/AudioSet/Music/--3flh9REUI_30.0-40.0.webm\n",
      "[download] 100% of    2.36MiB in 00:00:00 at 3.47MiB/s               \n",
      "[ExtractAudio] Destination: /Users/cafalena/HOUSE/@Code/Practice/ai_0014_CNN_Urbansound/AudioSet/Music/--3flh9REUI_30.0-40.0.ogg\n"
     ]
    },
    {
     "name": "stderr",
     "output_type": "stream",
     "text": [
      "ERROR: Postprocessing: audio conversion failed: Unknown encoder 'libvorbis'\n",
      "cp: /Users/cafalena/HOUSE/@Code/Practice/ai_0014_CNN_Urbansound/AudioSet/Tender music/--3flh9REUI_30.0-40.0.wav: No such file or directory\n",
      "WARNING: Post-Processor arguments given without specifying name. The arguments will be given to all post-processors\n"
     ]
    },
    {
     "name": "stdout",
     "output_type": "stream",
     "text": [
      "[youtube] Extracting URL: https://www.youtube.com/watch?v=--3hodJyWWM\n",
      "[youtube] --3hodJyWWM: Downloading webpage\n",
      "[youtube] --3hodJyWWM: Downloading android player API JSON\n",
      "[info] --3hodJyWWM: Downloading 1 format(s): 251\n",
      "[dashsegments] Total fragments: 1\n",
      "[download] Destination: /Users/cafalena/HOUSE/@Code/Practice/ai_0014_CNN_Urbansound/AudioSet/Music/--3hodJyWWM_20.0-30.0.webm\n",
      "[download] 100% of    2.78MiB in 00:00:00 at 7.25MiB/s               \n",
      "[ExtractAudio] Destination: /Users/cafalena/HOUSE/@Code/Practice/ai_0014_CNN_Urbansound/AudioSet/Music/--3hodJyWWM_20.0-30.0.ogg\n"
     ]
    },
    {
     "name": "stderr",
     "output_type": "stream",
     "text": [
      "ERROR: Postprocessing: audio conversion failed: Unknown encoder 'libvorbis'\n",
      "WARNING: Post-Processor arguments given without specifying name. The arguments will be given to all post-processors\n"
     ]
    },
    {
     "name": "stdout",
     "output_type": "stream",
     "text": [
      "[youtube] Extracting URL: https://www.youtube.com/watch?v=--3jW_uh2Pk\n",
      "[youtube] --3jW_uh2Pk: Downloading webpage\n",
      "[youtube] --3jW_uh2Pk: Downloading android player API JSON\n",
      "[info] --3jW_uh2Pk: Downloading 1 format(s): 251\n",
      "[dashsegments] Total fragments: 1\n",
      "[download] Destination: /Users/cafalena/HOUSE/@Code/Practice/ai_0014_CNN_Urbansound/AudioSet/Music/--3jW_uh2Pk_340.0-350.0.webm\n",
      "[download] 100% of    6.14MiB in 00:00:01 at 5.62MiB/s               \n",
      "[ExtractAudio] Destination: /Users/cafalena/HOUSE/@Code/Practice/ai_0014_CNN_Urbansound/AudioSet/Music/--3jW_uh2Pk_340.0-350.0.ogg\n"
     ]
    },
    {
     "name": "stderr",
     "output_type": "stream",
     "text": [
      "ERROR: Postprocessing: audio conversion failed: Unknown encoder 'libvorbis'\n",
      "cp: /Users/cafalena/HOUSE/@Code/Practice/ai_0014_CNN_Urbansound/AudioSet/Ambient music/--3jW_uh2Pk_340.0-350.0.wav: No such file or directory\n",
      "WARNING: Post-Processor arguments given without specifying name. The arguments will be given to all post-processors\n"
     ]
    },
    {
     "name": "stdout",
     "output_type": "stream",
     "text": [
      "[youtube] Extracting URL: https://www.youtube.com/watch?v=--3lOAqWlwI\n",
      "[youtube] --3lOAqWlwI: Downloading webpage\n",
      "[youtube] --3lOAqWlwI: Downloading android player API JSON\n",
      "[info] --3lOAqWlwI: Downloading 1 format(s): 251\n",
      "[dashsegments] Total fragments: 1\n",
      "[download] Destination: /Users/cafalena/HOUSE/@Code/Practice/ai_0014_CNN_Urbansound/AudioSet/Music/--3lOAqWlwI_30.0-40.0.webm\n",
      "[download] 100% of    3.30MiB in 00:00:00 at 7.19MiB/s               \n",
      "[ExtractAudio] Destination: /Users/cafalena/HOUSE/@Code/Practice/ai_0014_CNN_Urbansound/AudioSet/Music/--3lOAqWlwI_30.0-40.0.ogg\n"
     ]
    },
    {
     "name": "stderr",
     "output_type": "stream",
     "text": [
      "ERROR: Postprocessing: audio conversion failed: Unknown encoder 'libvorbis'\n",
      "WARNING: Post-Processor arguments given without specifying name. The arguments will be given to all post-processors\n"
     ]
    },
    {
     "name": "stdout",
     "output_type": "stream",
     "text": [
      "[youtube] Extracting URL: https://www.youtube.com/watch?v=--3mqI-rLFQ\n",
      "[youtube] --3mqI-rLFQ: Downloading webpage\n",
      "[youtube] --3mqI-rLFQ: Downloading android player API JSON\n",
      "[info] --3mqI-rLFQ: Downloading 1 format(s): 140\n",
      "[dashsegments] Total fragments: 3\n",
      "[download] Destination: /Users/cafalena/HOUSE/@Code/Practice/ai_0014_CNN_Urbansound/AudioSet/Speech/--3mqI-rLFQ_30.0-40.0.m4a\n",
      "[download] 100% of   20.30MiB in 00:00:03 at 5.98MiB/s                  \n",
      "[FixupM4a] Correcting container of \"/Users/cafalena/HOUSE/@Code/Practice/ai_0014_CNN_Urbansound/AudioSet/Speech/--3mqI-rLFQ_30.0-40.0.m4a\"\n",
      "[ExtractAudio] Destination: /Users/cafalena/HOUSE/@Code/Practice/ai_0014_CNN_Urbansound/AudioSet/Speech/--3mqI-rLFQ_30.0-40.0.ogg\n"
     ]
    },
    {
     "name": "stderr",
     "output_type": "stream",
     "text": [
      "ERROR: Postprocessing: audio conversion failed: Unknown encoder 'libvorbis'\n",
      "WARNING: Post-Processor arguments given without specifying name. The arguments will be given to all post-processors\n"
     ]
    },
    {
     "name": "stdout",
     "output_type": "stream",
     "text": [
      "[youtube] Extracting URL: https://www.youtube.com/watch?v=--4-JKDyLGg\n",
      "[youtube] --4-JKDyLGg: Downloading webpage\n",
      "[youtube] --4-JKDyLGg: Downloading android player API JSON\n",
      "[youtube] --4-JKDyLGg: Downloading MPD manifest\n",
      "[info] --4-JKDyLGg: Downloading 1 format(s): 251\n",
      "[dashsegments] Total fragments: 1\n",
      "[download] Destination: /Users/cafalena/HOUSE/@Code/Practice/ai_0014_CNN_Urbansound/AudioSet/Guitar/--4-JKDyLGg_80.0-90.0.webm\n",
      "[download] 100% of    4.15MiB in 00:00:00 at 4.39MiB/s               \n",
      "[ExtractAudio] Destination: /Users/cafalena/HOUSE/@Code/Practice/ai_0014_CNN_Urbansound/AudioSet/Guitar/--4-JKDyLGg_80.0-90.0.ogg\n"
     ]
    },
    {
     "name": "stderr",
     "output_type": "stream",
     "text": [
      "ERROR: Postprocessing: audio conversion failed: Unknown encoder 'libvorbis'\n",
      "cp: /Users/cafalena/HOUSE/@Code/Practice/ai_0014_CNN_Urbansound/AudioSet/Music/--4-JKDyLGg_80.0-90.0.wav: No such file or directory\n",
      "cp: /Users/cafalena/HOUSE/@Code/Practice/ai_0014_CNN_Urbansound/AudioSet/Musical instrument/--4-JKDyLGg_80.0-90.0.wav: No such file or directory\n",
      "cp: /Users/cafalena/HOUSE/@Code/Practice/ai_0014_CNN_Urbansound/AudioSet/Plucked string instrument/--4-JKDyLGg_80.0-90.0.wav: No such file or directory\n",
      "cp: /Users/cafalena/HOUSE/@Code/Practice/ai_0014_CNN_Urbansound/AudioSet/Inside, small room/--4-JKDyLGg_80.0-90.0.wav: No such file or directory\n",
      "WARNING: Post-Processor arguments given without specifying name. The arguments will be given to all post-processors\n"
     ]
    },
    {
     "name": "stdout",
     "output_type": "stream",
     "text": [
      "[youtube] Extracting URL: https://www.youtube.com/watch?v=--42a6bv16w\n",
      "[youtube] --42a6bv16w: Downloading webpage\n",
      "[youtube] --42a6bv16w: Downloading android player API JSON\n",
      "[info] --42a6bv16w: Downloading 1 format(s): 140\n",
      "[dashsegments] Total fragments: 1\n",
      "[download] Destination: /Users/cafalena/HOUSE/@Code/Practice/ai_0014_CNN_Urbansound/AudioSet/Narration, monologue/--42a6bv16w_30.0-40.0.m4a\n",
      "[download] 100% of    7.86MiB in 00:00:01 at 4.91MiB/s               \n",
      "[FixupM4a] Correcting container of \"/Users/cafalena/HOUSE/@Code/Practice/ai_0014_CNN_Urbansound/AudioSet/Narration, monologue/--42a6bv16w_30.0-40.0.m4a\"\n",
      "[ExtractAudio] Destination: /Users/cafalena/HOUSE/@Code/Practice/ai_0014_CNN_Urbansound/AudioSet/Narration, monologue/--42a6bv16w_30.0-40.0.ogg\n"
     ]
    },
    {
     "name": "stderr",
     "output_type": "stream",
     "text": [
      "ERROR: Postprocessing: audio conversion failed: Unknown encoder 'libvorbis'\n",
      "cp: /Users/cafalena/HOUSE/@Code/Practice/ai_0014_CNN_Urbansound/AudioSet/Music/--42a6bv16w_30.0-40.0.wav: No such file or directory\n",
      "cp: /Users/cafalena/HOUSE/@Code/Practice/ai_0014_CNN_Urbansound/AudioSet/Male speech, man speaking/--42a6bv16w_30.0-40.0.wav: No such file or directory\n",
      "cp: /Users/cafalena/HOUSE/@Code/Practice/ai_0014_CNN_Urbansound/AudioSet/Speech/--42a6bv16w_30.0-40.0.wav: No such file or directory\n",
      "WARNING: Post-Processor arguments given without specifying name. The arguments will be given to all post-processors\n"
     ]
    },
    {
     "name": "stdout",
     "output_type": "stream",
     "text": [
      "[youtube] Extracting URL: https://www.youtube.com/watch?v=--44ksVCX4g\n",
      "[youtube] --44ksVCX4g: Downloading webpage\n",
      "[youtube] --44ksVCX4g: Downloading android player API JSON\n",
      "[info] --44ksVCX4g: Downloading 1 format(s): 251\n",
      "[dashsegments] Total fragments: 1\n",
      "[download] Destination: /Users/cafalena/HOUSE/@Code/Practice/ai_0014_CNN_Urbansound/AudioSet/Speech/--44ksVCX4g_130.0-140.0.webm\n",
      "[download] 100% of    3.10MiB in 00:00:00 at 4.94MiB/s               \n",
      "[ExtractAudio] Destination: /Users/cafalena/HOUSE/@Code/Practice/ai_0014_CNN_Urbansound/AudioSet/Speech/--44ksVCX4g_130.0-140.0.ogg\n"
     ]
    },
    {
     "name": "stderr",
     "output_type": "stream",
     "text": [
      "ERROR: Postprocessing: audio conversion failed: Unknown encoder 'libvorbis'\n",
      "WARNING: Post-Processor arguments given without specifying name. The arguments will be given to all post-processors\n"
     ]
    },
    {
     "name": "stdout",
     "output_type": "stream",
     "text": [
      "[youtube] Extracting URL: https://www.youtube.com/watch?v=--46xGNV1H0\n",
      "[youtube] --46xGNV1H0: Downloading webpage\n",
      "[youtube] --46xGNV1H0: Downloading android player API JSON\n",
      "[youtube] --46xGNV1H0: Downloading MPD manifest\n",
      "[info] --46xGNV1H0: Downloading 1 format(s): 251\n",
      "[dashsegments] Total fragments: 1\n",
      "[download] Destination: /Users/cafalena/HOUSE/@Code/Practice/ai_0014_CNN_Urbansound/AudioSet/Heavy engine (low frequency)/--46xGNV1H0_30.0-40.0.webm\n",
      "[download] 100% of  673.40KiB in 00:00:00 at 3.49MiB/s               \n",
      "[ExtractAudio] Destination: /Users/cafalena/HOUSE/@Code/Practice/ai_0014_CNN_Urbansound/AudioSet/Heavy engine (low frequency)/--46xGNV1H0_30.0-40.0.ogg\n"
     ]
    },
    {
     "name": "stderr",
     "output_type": "stream",
     "text": [
      "ERROR: Postprocessing: audio conversion failed: Unknown encoder 'libvorbis'\n",
      "WARNING: Post-Processor arguments given without specifying name. The arguments will be given to all post-processors\n"
     ]
    },
    {
     "name": "stdout",
     "output_type": "stream",
     "text": [
      "[youtube] Extracting URL: https://www.youtube.com/watch?v=--4AZakCudI\n",
      "[youtube] --4AZakCudI: Downloading webpage\n",
      "[youtube] --4AZakCudI: Downloading android player API JSON\n",
      "[info] --4AZakCudI: Downloading 1 format(s): 251\n",
      "[dashsegments] Total fragments: 1\n",
      "[download] Destination: /Users/cafalena/HOUSE/@Code/Practice/ai_0014_CNN_Urbansound/AudioSet/Speech/--4AZakCudI_30.0-40.0.webm\n",
      "[download] 100% of    3.30MiB in 00:00:00 at 3.76MiB/s               \n",
      "[ExtractAudio] Destination: /Users/cafalena/HOUSE/@Code/Practice/ai_0014_CNN_Urbansound/AudioSet/Speech/--4AZakCudI_30.0-40.0.ogg\n"
     ]
    },
    {
     "name": "stderr",
     "output_type": "stream",
     "text": [
      "ERROR: Postprocessing: audio conversion failed: Unknown encoder 'libvorbis'\n",
      "WARNING: Post-Processor arguments given without specifying name. The arguments will be given to all post-processors\n"
     ]
    },
    {
     "name": "stdout",
     "output_type": "stream",
     "text": [
      "[youtube] Extracting URL: https://www.youtube.com/watch?v=--4CM0LIKBA\n",
      "[youtube] --4CM0LIKBA: Downloading webpage\n",
      "[youtube] --4CM0LIKBA: Downloading android player API JSON\n",
      "[youtube] --4CM0LIKBA: Downloading MPD manifest\n",
      "[info] --4CM0LIKBA: Downloading 1 format(s): 251\n",
      "[dashsegments] Total fragments: 1\n",
      "[download] Destination: /Users/cafalena/HOUSE/@Code/Practice/ai_0014_CNN_Urbansound/AudioSet/Speech/--4CM0LIKBA_30.0-40.0.webm\n",
      "[download] 100% of    3.08MiB in 00:00:00 at 3.70MiB/s               \n",
      "[ExtractAudio] Destination: /Users/cafalena/HOUSE/@Code/Practice/ai_0014_CNN_Urbansound/AudioSet/Speech/--4CM0LIKBA_30.0-40.0.ogg\n"
     ]
    },
    {
     "name": "stderr",
     "output_type": "stream",
     "text": [
      "ERROR: Postprocessing: audio conversion failed: Unknown encoder 'libvorbis'\n",
      "WARNING: Post-Processor arguments given without specifying name. The arguments will be given to all post-processors\n"
     ]
    },
    {
     "name": "stdout",
     "output_type": "stream",
     "text": [
      "[youtube] Extracting URL: https://www.youtube.com/watch?v=--4G-oot8ww\n",
      "[youtube] --4G-oot8ww: Downloading webpage\n",
      "[youtube] --4G-oot8ww: Downloading android player API JSON\n",
      "[info] --4G-oot8ww: Downloading 1 format(s): 251\n",
      "[dashsegments] Total fragments: 1\n",
      "[download] Destination: /Users/cafalena/HOUSE/@Code/Practice/ai_0014_CNN_Urbansound/AudioSet/Speech/--4G-oot8ww_30.0-40.0.webm\n",
      "[download] 100% of    8.24MiB in 00:00:01 at 6.79MiB/s               \n",
      "[ExtractAudio] Destination: /Users/cafalena/HOUSE/@Code/Practice/ai_0014_CNN_Urbansound/AudioSet/Speech/--4G-oot8ww_30.0-40.0.ogg\n"
     ]
    },
    {
     "name": "stderr",
     "output_type": "stream",
     "text": [
      "ERROR: Postprocessing: audio conversion failed: Unknown encoder 'libvorbis'\n",
      "WARNING: Post-Processor arguments given without specifying name. The arguments will be given to all post-processors\n"
     ]
    },
    {
     "name": "stdout",
     "output_type": "stream",
     "text": [
      "[youtube] Extracting URL: https://www.youtube.com/watch?v=--4L-eLH27c\n",
      "[youtube] --4L-eLH27c: Downloading webpage\n",
      "[youtube] --4L-eLH27c: Downloading android player API JSON\n",
      "[info] --4L-eLH27c: Downloading 1 format(s): 251\n",
      "[dashsegments] Total fragments: 1\n",
      "[download] Destination: /Users/cafalena/HOUSE/@Code/Practice/ai_0014_CNN_Urbansound/AudioSet/Speech/--4L-eLH27c_30.0-40.0.webm\n",
      "[download] 100% of    1.69MiB in 00:00:00 at 2.90MiB/s               \n",
      "[ExtractAudio] Destination: /Users/cafalena/HOUSE/@Code/Practice/ai_0014_CNN_Urbansound/AudioSet/Speech/--4L-eLH27c_30.0-40.0.ogg\n"
     ]
    },
    {
     "name": "stderr",
     "output_type": "stream",
     "text": [
      "ERROR: Postprocessing: audio conversion failed: Unknown encoder 'libvorbis'\n",
      "WARNING: Post-Processor arguments given without specifying name. The arguments will be given to all post-processors\n"
     ]
    },
    {
     "name": "stdout",
     "output_type": "stream",
     "text": [
      "[youtube] Extracting URL: https://www.youtube.com/watch?v=--4QdQLdWuQ\n",
      "[youtube] --4QdQLdWuQ: Downloading webpage\n",
      "[youtube] --4QdQLdWuQ: Downloading android player API JSON\n",
      "[info] --4QdQLdWuQ: Downloading 1 format(s): 251\n",
      "[dashsegments] Total fragments: 1\n",
      "[download] Destination: /Users/cafalena/HOUSE/@Code/Practice/ai_0014_CNN_Urbansound/AudioSet/Speech/--4QdQLdWuQ_19.0-29.0.webm\n",
      "[download] 100% of  369.74KiB in 00:00:00 at 849.95KiB/s             \n",
      "[ExtractAudio] Destination: /Users/cafalena/HOUSE/@Code/Practice/ai_0014_CNN_Urbansound/AudioSet/Speech/--4QdQLdWuQ_19.0-29.0.ogg\n"
     ]
    },
    {
     "name": "stderr",
     "output_type": "stream",
     "text": [
      "ERROR: Postprocessing: audio conversion failed: Unknown encoder 'libvorbis'\n",
      "WARNING: Post-Processor arguments given without specifying name. The arguments will be given to all post-processors\n"
     ]
    },
    {
     "name": "stdout",
     "output_type": "stream",
     "text": [
      "[youtube] Extracting URL: https://www.youtube.com/watch?v=--4WSmaPiiM\n",
      "[youtube] --4WSmaPiiM: Downloading webpage\n",
      "[youtube] --4WSmaPiiM: Downloading android player API JSON\n",
      "[info] --4WSmaPiiM: Downloading 1 format(s): 251\n",
      "[dashsegments] Total fragments: 1\n",
      "[download] Destination: /Users/cafalena/HOUSE/@Code/Practice/ai_0014_CNN_Urbansound/AudioSet/Music/--4WSmaPiiM_30.0-40.0.webm\n",
      "[download] 100% of  777.48KiB in 00:00:00 at 1.62MiB/s               \n",
      "[ExtractAudio] Destination: /Users/cafalena/HOUSE/@Code/Practice/ai_0014_CNN_Urbansound/AudioSet/Music/--4WSmaPiiM_30.0-40.0.ogg\n"
     ]
    },
    {
     "name": "stderr",
     "output_type": "stream",
     "text": [
      "ERROR: Postprocessing: audio conversion failed: Unknown encoder 'libvorbis'\n",
      "cp: /Users/cafalena/HOUSE/@Code/Practice/ai_0014_CNN_Urbansound/AudioSet/Choir/--4WSmaPiiM_30.0-40.0.wav: No such file or directory\n",
      "WARNING: Post-Processor arguments given without specifying name. The arguments will be given to all post-processors\n"
     ]
    },
    {
     "name": "stdout",
     "output_type": "stream",
     "text": [
      "[youtube] Extracting URL: https://www.youtube.com/watch?v=--4XCYPABls\n",
      "[youtube] --4XCYPABls: Downloading webpage\n",
      "[youtube] --4XCYPABls: Downloading android player API JSON\n",
      "[info] --4XCYPABls: Downloading 1 format(s): 251\n",
      "[dashsegments] Total fragments: 1\n",
      "[download] Destination: /Users/cafalena/HOUSE/@Code/Practice/ai_0014_CNN_Urbansound/AudioSet/Speech/--4XCYPABls_30.0-40.0.webm\n",
      "[download] 100% of    1.00MiB in 00:00:00 at 2.12MiB/s               \n",
      "[ExtractAudio] Destination: /Users/cafalena/HOUSE/@Code/Practice/ai_0014_CNN_Urbansound/AudioSet/Speech/--4XCYPABls_30.0-40.0.ogg\n"
     ]
    },
    {
     "name": "stderr",
     "output_type": "stream",
     "text": [
      "ERROR: Postprocessing: audio conversion failed: Unknown encoder 'libvorbis'\n",
      "WARNING: Post-Processor arguments given without specifying name. The arguments will be given to all post-processors\n"
     ]
    },
    {
     "name": "stdout",
     "output_type": "stream",
     "text": [
      "[youtube] Extracting URL: https://www.youtube.com/watch?v=--4Zxt4o1L4\n",
      "[youtube] --4Zxt4o1L4: Downloading webpage\n",
      "[youtube] --4Zxt4o1L4: Downloading android player API JSON\n",
      "[info] --4Zxt4o1L4: Downloading 1 format(s): 140\n",
      "[dashsegments] Total fragments: 1\n",
      "[download] Destination: /Users/cafalena/HOUSE/@Code/Practice/ai_0014_CNN_Urbansound/AudioSet/Speech/--4Zxt4o1L4_20.0-30.0.m4a\n",
      "[download] 100% of  463.05KiB in 00:00:00 at 1.82MiB/s               \n",
      "[FixupM4a] Correcting container of \"/Users/cafalena/HOUSE/@Code/Practice/ai_0014_CNN_Urbansound/AudioSet/Speech/--4Zxt4o1L4_20.0-30.0.m4a\"\n",
      "[ExtractAudio] Destination: /Users/cafalena/HOUSE/@Code/Practice/ai_0014_CNN_Urbansound/AudioSet/Speech/--4Zxt4o1L4_20.0-30.0.ogg\n"
     ]
    },
    {
     "name": "stderr",
     "output_type": "stream",
     "text": [
      "ERROR: Postprocessing: audio conversion failed: Unknown encoder 'libvorbis'\n",
      "WARNING: Post-Processor arguments given without specifying name. The arguments will be given to all post-processors\n"
     ]
    },
    {
     "name": "stdout",
     "output_type": "stream",
     "text": [
      "[youtube] Extracting URL: https://www.youtube.com/watch?v=--4cSNijC4I\n",
      "[youtube] --4cSNijC4I: Downloading webpage\n",
      "[youtube] --4cSNijC4I: Downloading android player API JSON\n",
      "[info] --4cSNijC4I: Downloading 1 format(s): 251\n",
      "[dashsegments] Total fragments: 1\n",
      "[download] Destination: /Users/cafalena/HOUSE/@Code/Practice/ai_0014_CNN_Urbansound/AudioSet/Speech/--4cSNijC4I_30.0-40.0.webm\n",
      "[download] 100% of    7.70MiB in 00:00:01 at 5.30MiB/s               \n",
      "[ExtractAudio] Destination: /Users/cafalena/HOUSE/@Code/Practice/ai_0014_CNN_Urbansound/AudioSet/Speech/--4cSNijC4I_30.0-40.0.ogg\n"
     ]
    },
    {
     "name": "stderr",
     "output_type": "stream",
     "text": [
      "ERROR: Postprocessing: audio conversion failed: Unknown encoder 'libvorbis'\n",
      "WARNING: Post-Processor arguments given without specifying name. The arguments will be given to all post-processors\n"
     ]
    },
    {
     "name": "stdout",
     "output_type": "stream",
     "text": [
      "[youtube] Extracting URL: https://www.youtube.com/watch?v=--4iCrbXlas\n",
      "[youtube] --4iCrbXlas: Downloading webpage\n",
      "[youtube] --4iCrbXlas: Downloading android player API JSON\n",
      "[info] --4iCrbXlas: Downloading 1 format(s): 251\n",
      "[dashsegments] Total fragments: 1\n",
      "[download] Destination: /Users/cafalena/HOUSE/@Code/Practice/ai_0014_CNN_Urbansound/AudioSet/Music/--4iCrbXlas_30.0-40.0.webm\n",
      "[download] 100% of    3.54MiB in 00:00:00 at 3.97MiB/s               \n",
      "[ExtractAudio] Destination: /Users/cafalena/HOUSE/@Code/Practice/ai_0014_CNN_Urbansound/AudioSet/Music/--4iCrbXlas_30.0-40.0.ogg\n"
     ]
    },
    {
     "name": "stderr",
     "output_type": "stream",
     "text": [
      "ERROR: Postprocessing: audio conversion failed: Unknown encoder 'libvorbis'\n",
      "cp: /Users/cafalena/HOUSE/@Code/Practice/ai_0014_CNN_Urbansound/AudioSet/Speech/--4iCrbXlas_30.0-40.0.wav: No such file or directory\n",
      "WARNING: Post-Processor arguments given without specifying name. The arguments will be given to all post-processors\n"
     ]
    },
    {
     "name": "stdout",
     "output_type": "stream",
     "text": [
      "[youtube] Extracting URL: https://www.youtube.com/watch?v=--4kp9W7cNY\n",
      "[youtube] --4kp9W7cNY: Downloading webpage\n",
      "[youtube] --4kp9W7cNY: Downloading android player API JSON\n",
      "[youtube] --4kp9W7cNY: Downloading MPD manifest\n",
      "[info] --4kp9W7cNY: Downloading 1 format(s): 140\n",
      "[dashsegments] Total fragments: 1\n",
      "[download] Destination: /Users/cafalena/HOUSE/@Code/Practice/ai_0014_CNN_Urbansound/AudioSet/Singing/--4kp9W7cNY_160.0-170.0.m4a\n",
      "[download] 100% of    5.47MiB in 00:00:00 at 5.90MiB/s               \n",
      "[FixupM4a] Correcting container of \"/Users/cafalena/HOUSE/@Code/Practice/ai_0014_CNN_Urbansound/AudioSet/Singing/--4kp9W7cNY_160.0-170.0.m4a\"\n",
      "[ExtractAudio] Destination: /Users/cafalena/HOUSE/@Code/Practice/ai_0014_CNN_Urbansound/AudioSet/Singing/--4kp9W7cNY_160.0-170.0.ogg\n"
     ]
    },
    {
     "name": "stderr",
     "output_type": "stream",
     "text": [
      "ERROR: Postprocessing: audio conversion failed: Unknown encoder 'libvorbis'\n",
      "cp: /Users/cafalena/HOUSE/@Code/Practice/ai_0014_CNN_Urbansound/AudioSet/Reggae/--4kp9W7cNY_160.0-170.0.wav: No such file or directory\n",
      "WARNING: Post-Processor arguments given without specifying name. The arguments will be given to all post-processors\n"
     ]
    },
    {
     "name": "stdout",
     "output_type": "stream",
     "text": [
      "[youtube] Extracting URL: https://www.youtube.com/watch?v=--4nvAAXWZw\n",
      "[youtube] --4nvAAXWZw: Downloading webpage\n",
      "[youtube] --4nvAAXWZw: Downloading android player API JSON\n",
      "[info] --4nvAAXWZw: Downloading 1 format(s): 251\n",
      "[dashsegments] Total fragments: 1\n",
      "[download] Destination: /Users/cafalena/HOUSE/@Code/Practice/ai_0014_CNN_Urbansound/AudioSet/Speech/--4nvAAXWZw_450.0-460.0.webm\n",
      "[download] 100% of    8.71MiB in 00:00:01 at 6.23MiB/s               \n",
      "[ExtractAudio] Destination: /Users/cafalena/HOUSE/@Code/Practice/ai_0014_CNN_Urbansound/AudioSet/Speech/--4nvAAXWZw_450.0-460.0.ogg\n"
     ]
    },
    {
     "name": "stderr",
     "output_type": "stream",
     "text": [
      "ERROR: Postprocessing: audio conversion failed: Unknown encoder 'libvorbis'\n",
      "WARNING: Post-Processor arguments given without specifying name. The arguments will be given to all post-processors\n"
     ]
    },
    {
     "name": "stdout",
     "output_type": "stream",
     "text": [
      "[youtube] Extracting URL: https://www.youtube.com/watch?v=--4qMR9M6tQ\n",
      "[youtube] --4qMR9M6tQ: Downloading webpage\n",
      "[youtube] --4qMR9M6tQ: Downloading android player API JSON\n",
      "[youtube] --4qMR9M6tQ: Downloading MPD manifest\n",
      "[info] --4qMR9M6tQ: Downloading 1 format(s): 251\n",
      "[dashsegments] Total fragments: 1\n",
      "[download] Destination: /Users/cafalena/HOUSE/@Code/Practice/ai_0014_CNN_Urbansound/AudioSet/Music/--4qMR9M6tQ_30.0-40.0.webm\n",
      "[download] 100% of    2.69MiB in 00:00:00 at 3.80MiB/s               \n",
      "[ExtractAudio] Destination: /Users/cafalena/HOUSE/@Code/Practice/ai_0014_CNN_Urbansound/AudioSet/Music/--4qMR9M6tQ_30.0-40.0.ogg\n"
     ]
    },
    {
     "name": "stderr",
     "output_type": "stream",
     "text": [
      "ERROR: Postprocessing: audio conversion failed: Unknown encoder 'libvorbis'\n",
      "cp: /Users/cafalena/HOUSE/@Code/Practice/ai_0014_CNN_Urbansound/AudioSet/Female singing/--4qMR9M6tQ_30.0-40.0.wav: No such file or directory\n",
      "WARNING: Post-Processor arguments given without specifying name. The arguments will be given to all post-processors\n"
     ]
    },
    {
     "name": "stdout",
     "output_type": "stream",
     "text": [
      "[youtube] Extracting URL: https://www.youtube.com/watch?v=--4r-bP8sfE\n",
      "[youtube] --4r-bP8sfE: Downloading webpage\n",
      "[youtube] --4r-bP8sfE: Downloading android player API JSON\n",
      "[info] --4r-bP8sfE: Downloading 1 format(s): 251\n",
      "[dashsegments] Total fragments: 1\n",
      "[download] Destination: /Users/cafalena/HOUSE/@Code/Practice/ai_0014_CNN_Urbansound/AudioSet/Music/--4r-bP8sfE_30.0-40.0.webm\n",
      "[download] 100% of    2.22MiB in 00:00:01 at 2.20MiB/s               \n",
      "[ExtractAudio] Destination: /Users/cafalena/HOUSE/@Code/Practice/ai_0014_CNN_Urbansound/AudioSet/Music/--4r-bP8sfE_30.0-40.0.ogg\n"
     ]
    },
    {
     "name": "stderr",
     "output_type": "stream",
     "text": [
      "ERROR: Postprocessing: audio conversion failed: Unknown encoder 'libvorbis'\n",
      "WARNING: Post-Processor arguments given without specifying name. The arguments will be given to all post-processors\n"
     ]
    },
    {
     "name": "stdout",
     "output_type": "stream",
     "text": [
      "[youtube] Extracting URL: https://www.youtube.com/watch?v=--4rtcXPH0c\n",
      "[youtube] --4rtcXPH0c: Downloading webpage\n",
      "[youtube] --4rtcXPH0c: Downloading android player API JSON\n",
      "[youtube] --4rtcXPH0c: Downloading MPD manifest\n",
      "[info] --4rtcXPH0c: Downloading 1 format(s): 140\n",
      "[dashsegments] Total fragments: 1\n",
      "[download] Destination: /Users/cafalena/HOUSE/@Code/Practice/ai_0014_CNN_Urbansound/AudioSet/Music/--4rtcXPH0c_30.0-40.0.m4a\n",
      "[download] 100% of    3.60MiB in 00:00:00 at 4.87MiB/s               \n",
      "[FixupM4a] Correcting container of \"/Users/cafalena/HOUSE/@Code/Practice/ai_0014_CNN_Urbansound/AudioSet/Music/--4rtcXPH0c_30.0-40.0.m4a\"\n",
      "[ExtractAudio] Destination: /Users/cafalena/HOUSE/@Code/Practice/ai_0014_CNN_Urbansound/AudioSet/Music/--4rtcXPH0c_30.0-40.0.ogg\n"
     ]
    },
    {
     "name": "stderr",
     "output_type": "stream",
     "text": [
      "ERROR: Postprocessing: audio conversion failed: Unknown encoder 'libvorbis'\n",
      "WARNING: Post-Processor arguments given without specifying name. The arguments will be given to all post-processors\n"
     ]
    },
    {
     "name": "stdout",
     "output_type": "stream",
     "text": [
      "[youtube] Extracting URL: https://www.youtube.com/watch?v=--4uJNO9DXM\n",
      "[youtube] --4uJNO9DXM: Downloading webpage\n",
      "[youtube] --4uJNO9DXM: Downloading android player API JSON\n",
      "[info] --4uJNO9DXM: Downloading 1 format(s): 140\n",
      "[dashsegments] Total fragments: 1\n",
      "[download] Destination: /Users/cafalena/HOUSE/@Code/Practice/ai_0014_CNN_Urbansound/AudioSet/Speech/--4uJNO9DXM_30.0-40.0.m4a\n",
      "[download] 100% of  884.75KiB in 00:00:00 at 1.36MiB/s               \n",
      "[FixupM4a] Correcting container of \"/Users/cafalena/HOUSE/@Code/Practice/ai_0014_CNN_Urbansound/AudioSet/Speech/--4uJNO9DXM_30.0-40.0.m4a\"\n",
      "[ExtractAudio] Destination: /Users/cafalena/HOUSE/@Code/Practice/ai_0014_CNN_Urbansound/AudioSet/Speech/--4uJNO9DXM_30.0-40.0.ogg\n"
     ]
    },
    {
     "name": "stderr",
     "output_type": "stream",
     "text": [
      "ERROR: Postprocessing: audio conversion failed: Unknown encoder 'libvorbis'\n",
      "WARNING: Post-Processor arguments given without specifying name. The arguments will be given to all post-processors\n"
     ]
    },
    {
     "name": "stdout",
     "output_type": "stream",
     "text": [
      "[youtube] Extracting URL: https://www.youtube.com/watch?v=--51d28O-tM\n",
      "[youtube] --51d28O-tM: Downloading webpage\n",
      "[youtube] --51d28O-tM: Downloading android player API JSON\n",
      "[info] --51d28O-tM: Downloading 1 format(s): 140\n",
      "[dashsegments] Total fragments: 1\n",
      "[download] Destination: /Users/cafalena/HOUSE/@Code/Practice/ai_0014_CNN_Urbansound/AudioSet/Speech/--51d28O-tM_30.0-40.0.m4a\n",
      "[download] 100% of    1.25MiB in 00:00:00 at 2.56MiB/s               \n",
      "[FixupM4a] Correcting container of \"/Users/cafalena/HOUSE/@Code/Practice/ai_0014_CNN_Urbansound/AudioSet/Speech/--51d28O-tM_30.0-40.0.m4a\"\n",
      "[ExtractAudio] Destination: /Users/cafalena/HOUSE/@Code/Practice/ai_0014_CNN_Urbansound/AudioSet/Speech/--51d28O-tM_30.0-40.0.ogg\n"
     ]
    },
    {
     "name": "stderr",
     "output_type": "stream",
     "text": [
      "ERROR: Postprocessing: audio conversion failed: Unknown encoder 'libvorbis'\n",
      "cp: /Users/cafalena/HOUSE/@Code/Practice/ai_0014_CNN_Urbansound/AudioSet/Male singing/--51d28O-tM_30.0-40.0.wav: No such file or directory\n",
      "WARNING: Post-Processor arguments given without specifying name. The arguments will be given to all post-processors\n"
     ]
    },
    {
     "name": "stdout",
     "output_type": "stream",
     "text": [
      "[youtube] Extracting URL: https://www.youtube.com/watch?v=--54f03jfPc\n",
      "[youtube] --54f03jfPc: Downloading webpage\n",
      "[youtube] --54f03jfPc: Downloading android player API JSON\n",
      "[youtube] --54f03jfPc: Downloading MPD manifest\n",
      "[info] --54f03jfPc: Downloading 1 format(s): 251\n",
      "[dashsegments] Total fragments: 1\n",
      "[download] Destination: /Users/cafalena/HOUSE/@Code/Practice/ai_0014_CNN_Urbansound/AudioSet/Music/--54f03jfPc_30.0-40.0.webm\n",
      "[download] 100% of    1.21MiB in 00:00:00 at 2.03MiB/s               \n",
      "[ExtractAudio] Destination: /Users/cafalena/HOUSE/@Code/Practice/ai_0014_CNN_Urbansound/AudioSet/Music/--54f03jfPc_30.0-40.0.ogg\n"
     ]
    },
    {
     "name": "stderr",
     "output_type": "stream",
     "text": [
      "ERROR: Postprocessing: audio conversion failed: Unknown encoder 'libvorbis'\n",
      "cp: /Users/cafalena/HOUSE/@Code/Practice/ai_0014_CNN_Urbansound/AudioSet/Speech/--54f03jfPc_30.0-40.0.wav: No such file or directory\n",
      "WARNING: Post-Processor arguments given without specifying name. The arguments will be given to all post-processors\n"
     ]
    },
    {
     "name": "stdout",
     "output_type": "stream",
     "text": [
      "[youtube] Extracting URL: https://www.youtube.com/watch?v=--577VosoSQ\n",
      "[youtube] --577VosoSQ: Downloading webpage\n",
      "[youtube] --577VosoSQ: Downloading android player API JSON\n"
     ]
    },
    {
     "name": "stderr",
     "output_type": "stream",
     "text": [
      "ERROR: [youtube] --577VosoSQ: Video unavailable. This video is no longer available because the YouTube account associated with this video has been terminated.\n",
      "WARNING: Post-Processor arguments given without specifying name. The arguments will be given to all post-processors\n"
     ]
    },
    {
     "name": "stdout",
     "output_type": "stream",
     "text": [
      "[youtube] Extracting URL: https://www.youtube.com/watch?v=--59h67y8BI\n",
      "[youtube] --59h67y8BI: Downloading webpage\n",
      "[youtube] --59h67y8BI: Downloading android player API JSON\n"
     ]
    },
    {
     "name": "stderr",
     "output_type": "stream",
     "text": [
      "ERROR: [youtube] --59h67y8BI: Private video. Sign in if you've been granted access to this video\n",
      "WARNING: Post-Processor arguments given without specifying name. The arguments will be given to all post-processors\n"
     ]
    },
    {
     "name": "stdout",
     "output_type": "stream",
     "text": [
      "[youtube] Extracting URL: https://www.youtube.com/watch?v=--5A5ZCa1dE\n",
      "[youtube] --5A5ZCa1dE: Downloading webpage\n",
      "[youtube] --5A5ZCa1dE: Downloading android player API JSON\n",
      "[info] --5A5ZCa1dE: Downloading 1 format(s): 251\n",
      "[dashsegments] Total fragments: 1\n",
      "[download] Destination: /Users/cafalena/HOUSE/@Code/Practice/ai_0014_CNN_Urbansound/AudioSet/Vehicle/--5A5ZCa1dE_80.0-90.0.webm\n",
      "[download] 100% of    2.73MiB in 00:00:00 at 4.22MiB/s               \n",
      "[ExtractAudio] Destination: /Users/cafalena/HOUSE/@Code/Practice/ai_0014_CNN_Urbansound/AudioSet/Vehicle/--5A5ZCa1dE_80.0-90.0.ogg\n"
     ]
    },
    {
     "name": "stderr",
     "output_type": "stream",
     "text": [
      "ERROR: Postprocessing: audio conversion failed: Unknown encoder 'libvorbis'\n",
      "cp: /Users/cafalena/HOUSE/@Code/Practice/ai_0014_CNN_Urbansound/AudioSet/Fixed-wing aircraft, airplane/--5A5ZCa1dE_80.0-90.0.wav: No such file or directory\n",
      "cp: /Users/cafalena/HOUSE/@Code/Practice/ai_0014_CNN_Urbansound/AudioSet/Aircraft/--5A5ZCa1dE_80.0-90.0.wav: No such file or directory\n",
      "WARNING: Post-Processor arguments given without specifying name. The arguments will be given to all post-processors\n"
     ]
    },
    {
     "name": "stdout",
     "output_type": "stream",
     "text": [
      "[youtube] Extracting URL: https://www.youtube.com/watch?v=--5DNFWcdC4\n",
      "[youtube] --5DNFWcdC4: Downloading webpage\n",
      "[youtube] --5DNFWcdC4: Downloading android player API JSON\n"
     ]
    },
    {
     "name": "stderr",
     "output_type": "stream",
     "text": [
      "ERROR: [youtube] --5DNFWcdC4: Private video. Sign in if you've been granted access to this video\n",
      "cp: /Users/cafalena/HOUSE/@Code/Practice/ai_0014_CNN_Urbansound/AudioSet/Dubstep/--5DNFWcdC4_2.0-12.0.wav: No such file or directory\n",
      "cp: /Users/cafalena/HOUSE/@Code/Practice/ai_0014_CNN_Urbansound/AudioSet/Speech/--5DNFWcdC4_2.0-12.0.wav: No such file or directory\n",
      "WARNING: Post-Processor arguments given without specifying name. The arguments will be given to all post-processors\n"
     ]
    },
    {
     "name": "stdout",
     "output_type": "stream",
     "text": [
      "[youtube] Extracting URL: https://www.youtube.com/watch?v=--5OkAjCI7g\n",
      "[youtube] --5OkAjCI7g: Downloading webpage\n",
      "[youtube] --5OkAjCI7g: Downloading android player API JSON\n"
     ]
    },
    {
     "name": "stderr",
     "output_type": "stream",
     "text": [
      "ERROR: [youtube] --5OkAjCI7g: Private video. Sign in if you've been granted access to this video\n",
      "cp: /Users/cafalena/HOUSE/@Code/Practice/ai_0014_CNN_Urbansound/AudioSet/Child speech, kid speaking/--5OkAjCI7g_40.0-50.0.wav: No such file or directory\n",
      "WARNING: Post-Processor arguments given without specifying name. The arguments will be given to all post-processors\n"
     ]
    },
    {
     "name": "stdout",
     "output_type": "stream",
     "text": [
      "[youtube] Extracting URL: https://www.youtube.com/watch?v=--5bgJ6Y5wo\n",
      "[youtube] --5bgJ6Y5wo: Downloading webpage\n",
      "[youtube] --5bgJ6Y5wo: Downloading android player API JSON\n",
      "[info] --5bgJ6Y5wo: Downloading 1 format(s): 251\n",
      "[dashsegments] Total fragments: 1\n",
      "[download] Destination: /Users/cafalena/HOUSE/@Code/Practice/ai_0014_CNN_Urbansound/AudioSet/Speech/--5bgJ6Y5wo_2.0-12.0.webm\n",
      "[download] 100% of  173.93KiB in 00:00:00 at 435.95KiB/s             \n",
      "[ExtractAudio] Destination: /Users/cafalena/HOUSE/@Code/Practice/ai_0014_CNN_Urbansound/AudioSet/Speech/--5bgJ6Y5wo_2.0-12.0.ogg\n"
     ]
    },
    {
     "name": "stderr",
     "output_type": "stream",
     "text": [
      "ERROR: Postprocessing: audio conversion failed: Unknown encoder 'libvorbis'\n",
      "WARNING: Post-Processor arguments given without specifying name. The arguments will be given to all post-processors\n"
     ]
    },
    {
     "name": "stdout",
     "output_type": "stream",
     "text": [
      "[youtube] Extracting URL: https://www.youtube.com/watch?v=--5iz1VjUr4\n",
      "[youtube] --5iz1VjUr4: Downloading webpage\n",
      "[youtube] --5iz1VjUr4: Downloading android player API JSON\n",
      "[info] --5iz1VjUr4: Downloading 1 format(s): 251\n",
      "[dashsegments] Total fragments: 1\n",
      "[download] Destination: /Users/cafalena/HOUSE/@Code/Practice/ai_0014_CNN_Urbansound/AudioSet/Music/--5iz1VjUr4_30.0-40.0.webm\n",
      "[download] 100% of    1.84MiB in 00:00:00 at 2.98MiB/s               \n",
      "[ExtractAudio] Destination: /Users/cafalena/HOUSE/@Code/Practice/ai_0014_CNN_Urbansound/AudioSet/Music/--5iz1VjUr4_30.0-40.0.ogg\n"
     ]
    },
    {
     "name": "stderr",
     "output_type": "stream",
     "text": [
      "ERROR: Postprocessing: audio conversion failed: Unknown encoder 'libvorbis'\n",
      "cp: /Users/cafalena/HOUSE/@Code/Practice/ai_0014_CNN_Urbansound/AudioSet/Speech/--5iz1VjUr4_30.0-40.0.wav: No such file or directory\n",
      "WARNING: Post-Processor arguments given without specifying name. The arguments will be given to all post-processors\n"
     ]
    },
    {
     "name": "stdout",
     "output_type": "stream",
     "text": [
      "[youtube] Extracting URL: https://www.youtube.com/watch?v=--5kRn6Ch3Y\n",
      "[youtube] --5kRn6Ch3Y: Downloading webpage\n",
      "[youtube] --5kRn6Ch3Y: Downloading android player API JSON\n",
      "[info] --5kRn6Ch3Y: Downloading 1 format(s): 251\n",
      "[dashsegments] Total fragments: 2\n",
      "[download] Destination: /Users/cafalena/HOUSE/@Code/Practice/ai_0014_CNN_Urbansound/AudioSet/Music/--5kRn6Ch3Y_30.0-40.0.webm\n",
      "[download] 100% of   13.44MiB in 00:00:02 at 5.49MiB/s                  \n",
      "[ExtractAudio] Destination: /Users/cafalena/HOUSE/@Code/Practice/ai_0014_CNN_Urbansound/AudioSet/Music/--5kRn6Ch3Y_30.0-40.0.ogg\n"
     ]
    },
    {
     "name": "stderr",
     "output_type": "stream",
     "text": [
      "ERROR: Postprocessing: audio conversion failed: Unknown encoder 'libvorbis'\n",
      "cp: /Users/cafalena/HOUSE/@Code/Practice/ai_0014_CNN_Urbansound/AudioSet/Speech/--5kRn6Ch3Y_30.0-40.0.wav: No such file or directory\n",
      "WARNING: Post-Processor arguments given without specifying name. The arguments will be given to all post-processors\n"
     ]
    },
    {
     "name": "stdout",
     "output_type": "stream",
     "text": [
      "[youtube] Extracting URL: https://www.youtube.com/watch?v=--5uHDNDKxs\n",
      "[youtube] --5uHDNDKxs: Downloading webpage\n",
      "[youtube] --5uHDNDKxs: Downloading android player API JSON\n",
      "[info] --5uHDNDKxs: Downloading 1 format(s): 251\n",
      "[dashsegments] Total fragments: 1\n",
      "[download] Destination: /Users/cafalena/HOUSE/@Code/Practice/ai_0014_CNN_Urbansound/AudioSet/Cat/--5uHDNDKxs_30.0-40.0.webm\n",
      "[download] 100% of    1.93MiB in 00:00:00 at 2.71MiB/s               \n",
      "[ExtractAudio] Destination: /Users/cafalena/HOUSE/@Code/Practice/ai_0014_CNN_Urbansound/AudioSet/Cat/--5uHDNDKxs_30.0-40.0.ogg\n"
     ]
    },
    {
     "name": "stderr",
     "output_type": "stream",
     "text": [
      "ERROR: Postprocessing: audio conversion failed: Unknown encoder 'libvorbis'\n",
      "cp: /Users/cafalena/HOUSE/@Code/Practice/ai_0014_CNN_Urbansound/AudioSet/Domestic animals, pets/--5uHDNDKxs_30.0-40.0.wav: No such file or directory\n",
      "cp: /Users/cafalena/HOUSE/@Code/Practice/ai_0014_CNN_Urbansound/AudioSet/Animal/--5uHDNDKxs_30.0-40.0.wav: No such file or directory\n",
      "WARNING: Post-Processor arguments given without specifying name. The arguments will be given to all post-processors\n"
     ]
    },
    {
     "name": "stdout",
     "output_type": "stream",
     "text": [
      "[youtube] Extracting URL: https://www.youtube.com/watch?v=--5zANFBYzQ\n",
      "[youtube] --5zANFBYzQ: Downloading webpage\n",
      "[youtube] --5zANFBYzQ: Downloading android player API JSON\n",
      "[youtube] --5zANFBYzQ: Downloading MPD manifest\n",
      "[info] --5zANFBYzQ: Downloading 1 format(s): 251\n",
      "[dashsegments] Total fragments: 1\n",
      "[download] Destination: /Users/cafalena/HOUSE/@Code/Practice/ai_0014_CNN_Urbansound/AudioSet/Electric guitar/--5zANFBYzQ_30.0-40.0.webm\n",
      "[download] 100% of    5.93MiB in 00:00:01 at 4.92MiB/s               \n",
      "[ExtractAudio] Destination: /Users/cafalena/HOUSE/@Code/Practice/ai_0014_CNN_Urbansound/AudioSet/Electric guitar/--5zANFBYzQ_30.0-40.0.ogg\n"
     ]
    },
    {
     "name": "stderr",
     "output_type": "stream",
     "text": [
      "ERROR: Postprocessing: audio conversion failed: Unknown encoder 'libvorbis'\n",
      "cp: /Users/cafalena/HOUSE/@Code/Practice/ai_0014_CNN_Urbansound/AudioSet/Guitar/--5zANFBYzQ_30.0-40.0.wav: No such file or directory\n",
      "cp: /Users/cafalena/HOUSE/@Code/Practice/ai_0014_CNN_Urbansound/AudioSet/Acoustic guitar/--5zANFBYzQ_30.0-40.0.wav: No such file or directory\n",
      "cp: /Users/cafalena/HOUSE/@Code/Practice/ai_0014_CNN_Urbansound/AudioSet/Music/--5zANFBYzQ_30.0-40.0.wav: No such file or directory\n",
      "cp: /Users/cafalena/HOUSE/@Code/Practice/ai_0014_CNN_Urbansound/AudioSet/Musical instrument/--5zANFBYzQ_30.0-40.0.wav: No such file or directory\n",
      "cp: /Users/cafalena/HOUSE/@Code/Practice/ai_0014_CNN_Urbansound/AudioSet/Strum/--5zANFBYzQ_30.0-40.0.wav: No such file or directory\n",
      "cp: /Users/cafalena/HOUSE/@Code/Practice/ai_0014_CNN_Urbansound/AudioSet/Plucked string instrument/--5zANFBYzQ_30.0-40.0.wav: No such file or directory\n",
      "WARNING: Post-Processor arguments given without specifying name. The arguments will be given to all post-processors\n"
     ]
    },
    {
     "name": "stdout",
     "output_type": "stream",
     "text": [
      "[youtube] Extracting URL: https://www.youtube.com/watch?v=--6-d5gd2W8\n",
      "[youtube] --6-d5gd2W8: Downloading webpage\n",
      "[youtube] --6-d5gd2W8: Downloading android player API JSON\n",
      "[youtube] --6-d5gd2W8: Downloading MPD manifest\n",
      "[info] --6-d5gd2W8: Downloading 1 format(s): 251\n",
      "[dashsegments] Total fragments: 1\n",
      "[download] Destination: /Users/cafalena/HOUSE/@Code/Practice/ai_0014_CNN_Urbansound/AudioSet/Narration, monologue/--6-d5gd2W8_30.0-40.0.webm\n",
      "[download] 100% of    3.67MiB in 00:00:00 at 4.66MiB/s               \n",
      "[ExtractAudio] Destination: /Users/cafalena/HOUSE/@Code/Practice/ai_0014_CNN_Urbansound/AudioSet/Narration, monologue/--6-d5gd2W8_30.0-40.0.ogg\n"
     ]
    },
    {
     "name": "stderr",
     "output_type": "stream",
     "text": [
      "ERROR: Postprocessing: audio conversion failed: Unknown encoder 'libvorbis'\n",
      "cp: /Users/cafalena/HOUSE/@Code/Practice/ai_0014_CNN_Urbansound/AudioSet/Music/--6-d5gd2W8_30.0-40.0.wav: No such file or directory\n",
      "cp: /Users/cafalena/HOUSE/@Code/Practice/ai_0014_CNN_Urbansound/AudioSet/Male speech, man speaking/--6-d5gd2W8_30.0-40.0.wav: No such file or directory\n",
      "cp: /Users/cafalena/HOUSE/@Code/Practice/ai_0014_CNN_Urbansound/AudioSet/Speech/--6-d5gd2W8_30.0-40.0.wav: No such file or directory\n",
      "WARNING: Post-Processor arguments given without specifying name. The arguments will be given to all post-processors\n"
     ]
    },
    {
     "name": "stdout",
     "output_type": "stream",
     "text": [
      "[youtube] Extracting URL: https://www.youtube.com/watch?v=--65x-naOz0\n",
      "[youtube] --65x-naOz0: Downloading webpage\n",
      "[youtube] --65x-naOz0: Downloading android player API JSON\n",
      "[info] --65x-naOz0: Downloading 1 format(s): 251\n",
      "[dashsegments] Total fragments: 1\n",
      "[download] Destination: /Users/cafalena/HOUSE/@Code/Practice/ai_0014_CNN_Urbansound/AudioSet/Medium engine (mid frequency)/--65x-naOz0_30.0-40.0.webm\n",
      "[download] 100% of    5.86MiB in 00:00:02 at 2.30MiB/s                  \n",
      "[ExtractAudio] Destination: /Users/cafalena/HOUSE/@Code/Practice/ai_0014_CNN_Urbansound/AudioSet/Medium engine (mid frequency)/--65x-naOz0_30.0-40.0.ogg\n"
     ]
    },
    {
     "name": "stderr",
     "output_type": "stream",
     "text": [
      "ERROR: Postprocessing: audio conversion failed: Unknown encoder 'libvorbis'\n",
      "WARNING: Post-Processor arguments given without specifying name. The arguments will be given to all post-processors\n"
     ]
    },
    {
     "name": "stdout",
     "output_type": "stream",
     "text": [
      "[youtube] Extracting URL: https://www.youtube.com/watch?v=--67GnHhwjk\n",
      "[youtube] --67GnHhwjk: Downloading webpage\n",
      "[youtube] --67GnHhwjk: Downloading android player API JSON\n",
      "[info] --67GnHhwjk: Downloading 1 format(s): 251\n",
      "[dashsegments] Total fragments: 2\n",
      "[download] Destination: /Users/cafalena/HOUSE/@Code/Practice/ai_0014_CNN_Urbansound/AudioSet/Music/--67GnHhwjk_30.0-40.0.webm\n",
      "[download] 100% of   16.03MiB in 00:00:02 at 6.01MiB/s                  \n",
      "[ExtractAudio] Destination: /Users/cafalena/HOUSE/@Code/Practice/ai_0014_CNN_Urbansound/AudioSet/Music/--67GnHhwjk_30.0-40.0.ogg\n"
     ]
    },
    {
     "name": "stderr",
     "output_type": "stream",
     "text": [
      "ERROR: Postprocessing: audio conversion failed: Unknown encoder 'libvorbis'\n",
      "cp: /Users/cafalena/HOUSE/@Code/Practice/ai_0014_CNN_Urbansound/AudioSet/Speech/--67GnHhwjk_30.0-40.0.wav: No such file or directory\n",
      "WARNING: Post-Processor arguments given without specifying name. The arguments will be given to all post-processors\n"
     ]
    },
    {
     "name": "stdout",
     "output_type": "stream",
     "text": [
      "[youtube] Extracting URL: https://www.youtube.com/watch?v=--6CkUtkLUI\n",
      "[youtube] --6CkUtkLUI: Downloading webpage\n",
      "[youtube] --6CkUtkLUI: Downloading android player API JSON\n",
      "[youtube] --6CkUtkLUI: Downloading MPD manifest\n",
      "[info] --6CkUtkLUI: Downloading 1 format(s): 251\n",
      "[dashsegments] Total fragments: 1\n",
      "[download] Destination: /Users/cafalena/HOUSE/@Code/Practice/ai_0014_CNN_Urbansound/AudioSet/Speech/--6CkUtkLUI_30.0-40.0.webm\n",
      "[download] 100% of    5.62MiB in 00:00:01 at 5.48MiB/s               \n",
      "[ExtractAudio] Destination: /Users/cafalena/HOUSE/@Code/Practice/ai_0014_CNN_Urbansound/AudioSet/Speech/--6CkUtkLUI_30.0-40.0.ogg\n"
     ]
    },
    {
     "name": "stderr",
     "output_type": "stream",
     "text": [
      "ERROR: Postprocessing: audio conversion failed: Unknown encoder 'libvorbis'\n",
      "WARNING: Post-Processor arguments given without specifying name. The arguments will be given to all post-processors\n"
     ]
    },
    {
     "name": "stdout",
     "output_type": "stream",
     "text": [
      "[youtube] Extracting URL: https://www.youtube.com/watch?v=--6CxEMjO78\n",
      "[youtube] --6CxEMjO78: Downloading webpage\n",
      "[youtube] --6CxEMjO78: Downloading android player API JSON\n",
      "[youtube] --6CxEMjO78: Downloading MPD manifest\n",
      "[info] --6CxEMjO78: Downloading 1 format(s): 251\n",
      "[dashsegments] Total fragments: 1\n",
      "[download] Destination: /Users/cafalena/HOUSE/@Code/Practice/ai_0014_CNN_Urbansound/AudioSet/Speech/--6CxEMjO78_30.0-40.0.webm\n",
      "[download] 100% of    1.29MiB in 00:00:00 at 1.93MiB/s               \n",
      "[ExtractAudio] Destination: /Users/cafalena/HOUSE/@Code/Practice/ai_0014_CNN_Urbansound/AudioSet/Speech/--6CxEMjO78_30.0-40.0.ogg\n"
     ]
    },
    {
     "name": "stderr",
     "output_type": "stream",
     "text": [
      "ERROR: Postprocessing: audio conversion failed: Unknown encoder 'libvorbis'\n",
      "WARNING: Post-Processor arguments given without specifying name. The arguments will be given to all post-processors\n"
     ]
    },
    {
     "name": "stdout",
     "output_type": "stream",
     "text": [
      "[youtube] Extracting URL: https://www.youtube.com/watch?v=--6EN4MB7dg\n",
      "[youtube] --6EN4MB7dg: Downloading webpage\n",
      "[youtube] --6EN4MB7dg: Downloading android player API JSON\n"
     ]
    },
    {
     "name": "stderr",
     "output_type": "stream",
     "text": [
      "ERROR: [youtube] --6EN4MB7dg: Video unavailable. This video is no longer available because the YouTube account associated with this video has been terminated.\n",
      "cp: /Users/cafalena/HOUSE/@Code/Practice/ai_0014_CNN_Urbansound/AudioSet/Speech/--6EN4MB7dg_570.0-580.0.wav: No such file or directory\n",
      "cp: /Users/cafalena/HOUSE/@Code/Practice/ai_0014_CNN_Urbansound/AudioSet/Inside, small room/--6EN4MB7dg_570.0-580.0.wav: No such file or directory\n",
      "WARNING: Post-Processor arguments given without specifying name. The arguments will be given to all post-processors\n"
     ]
    },
    {
     "name": "stdout",
     "output_type": "stream",
     "text": [
      "[youtube] Extracting URL: https://www.youtube.com/watch?v=--6EpMm2UDM\n",
      "[youtube] --6EpMm2UDM: Downloading webpage\n",
      "[youtube] --6EpMm2UDM: Downloading android player API JSON\n"
     ]
    },
    {
     "name": "stderr",
     "output_type": "stream",
     "text": [
      "ERROR: [youtube] --6EpMm2UDM: Private video. Sign in if you've been granted access to this video\n",
      "cp: /Users/cafalena/HOUSE/@Code/Practice/ai_0014_CNN_Urbansound/AudioSet/Speech/--6EpMm2UDM_0.0-10.0.wav: No such file or directory\n",
      "WARNING: Post-Processor arguments given without specifying name. The arguments will be given to all post-processors\n"
     ]
    },
    {
     "name": "stdout",
     "output_type": "stream",
     "text": [
      "[youtube] Extracting URL: https://www.youtube.com/watch?v=--6HJzEIsFs\n",
      "[youtube] --6HJzEIsFs: Downloading webpage\n",
      "[youtube] --6HJzEIsFs: Downloading android player API JSON\n",
      "[youtube] --6HJzEIsFs: Downloading MPD manifest\n",
      "[info] --6HJzEIsFs: Downloading 1 format(s): 251\n",
      "[dashsegments] Total fragments: 1\n",
      "[download] Destination: /Users/cafalena/HOUSE/@Code/Practice/ai_0014_CNN_Urbansound/AudioSet/Music/--6HJzEIsFs_30.0-40.0.webm\n",
      "[download] 100% of    2.78MiB in 00:00:00 at 4.17MiB/s               \n",
      "[ExtractAudio] Destination: /Users/cafalena/HOUSE/@Code/Practice/ai_0014_CNN_Urbansound/AudioSet/Music/--6HJzEIsFs_30.0-40.0.ogg\n"
     ]
    },
    {
     "name": "stderr",
     "output_type": "stream",
     "text": [
      "ERROR: Postprocessing: audio conversion failed: Unknown encoder 'libvorbis'\n",
      "cp: /Users/cafalena/HOUSE/@Code/Practice/ai_0014_CNN_Urbansound/AudioSet/Rhythm and blues/--6HJzEIsFs_30.0-40.0.wav: No such file or directory\n",
      "WARNING: Post-Processor arguments given without specifying name. The arguments will be given to all post-processors\n"
     ]
    },
    {
     "name": "stdout",
     "output_type": "stream",
     "text": [
      "[youtube] Extracting URL: https://www.youtube.com/watch?v=--6STvL0FXE\n",
      "[youtube] --6STvL0FXE: Downloading webpage\n",
      "[youtube] --6STvL0FXE: Downloading android player API JSON\n",
      "[youtube] --6STvL0FXE: Downloading MPD manifest\n",
      "[info] --6STvL0FXE: Downloading 1 format(s): 251\n",
      "[dashsegments] Total fragments: 1\n",
      "[download] Destination: /Users/cafalena/HOUSE/@Code/Practice/ai_0014_CNN_Urbansound/AudioSet/Narration, monologue/--6STvL0FXE_30.0-40.0.webm\n",
      "[download] 100% of    7.81MiB in 00:00:02 at 2.61MiB/s               \n",
      "[ExtractAudio] Destination: /Users/cafalena/HOUSE/@Code/Practice/ai_0014_CNN_Urbansound/AudioSet/Narration, monologue/--6STvL0FXE_30.0-40.0.ogg\n"
     ]
    },
    {
     "name": "stderr",
     "output_type": "stream",
     "text": [
      "ERROR: Postprocessing: audio conversion failed: Unknown encoder 'libvorbis'\n",
      "cp: /Users/cafalena/HOUSE/@Code/Practice/ai_0014_CNN_Urbansound/AudioSet/Male speech, man speaking/--6STvL0FXE_30.0-40.0.wav: No such file or directory\n",
      "cp: /Users/cafalena/HOUSE/@Code/Practice/ai_0014_CNN_Urbansound/AudioSet/Speech/--6STvL0FXE_30.0-40.0.wav: No such file or directory\n",
      "WARNING: Post-Processor arguments given without specifying name. The arguments will be given to all post-processors\n"
     ]
    },
    {
     "name": "stdout",
     "output_type": "stream",
     "text": [
      "[youtube] Extracting URL: https://www.youtube.com/watch?v=--6YSADAJ58\n",
      "[youtube] --6YSADAJ58: Downloading webpage\n",
      "[youtube] --6YSADAJ58: Downloading android player API JSON\n",
      "[info] --6YSADAJ58: Downloading 1 format(s): 140\n",
      "[dashsegments] Total fragments: 1\n",
      "[download] Destination: /Users/cafalena/HOUSE/@Code/Practice/ai_0014_CNN_Urbansound/AudioSet/Run/--6YSADAJ58_0.0-7.0.m4a\n",
      "[download] 100% of  107.28KiB in 00:00:00 at 341.11KiB/s             \n",
      "[FixupM4a] Correcting container of \"/Users/cafalena/HOUSE/@Code/Practice/ai_0014_CNN_Urbansound/AudioSet/Run/--6YSADAJ58_0.0-7.0.m4a\"\n",
      "[ExtractAudio] Destination: /Users/cafalena/HOUSE/@Code/Practice/ai_0014_CNN_Urbansound/AudioSet/Run/--6YSADAJ58_0.0-7.0.ogg\n"
     ]
    },
    {
     "name": "stderr",
     "output_type": "stream",
     "text": [
      "ERROR: Postprocessing: audio conversion failed: Unknown encoder 'libvorbis'\n",
      "cp: /Users/cafalena/HOUSE/@Code/Practice/ai_0014_CNN_Urbansound/AudioSet/Speech/--6YSADAJ58_0.0-7.0.wav: No such file or directory\n",
      "WARNING: Post-Processor arguments given without specifying name. The arguments will be given to all post-processors\n"
     ]
    },
    {
     "name": "stdout",
     "output_type": "stream",
     "text": [
      "[youtube] Extracting URL: https://www.youtube.com/watch?v=--6aF5STVP8\n",
      "[youtube] --6aF5STVP8: Downloading webpage\n",
      "[youtube] --6aF5STVP8: Downloading android player API JSON\n",
      "[info] --6aF5STVP8: Downloading 1 format(s): 251\n",
      "[dashsegments] Total fragments: 1\n",
      "[download] Destination: /Users/cafalena/HOUSE/@Code/Practice/ai_0014_CNN_Urbansound/AudioSet/Vehicle/--6aF5STVP8_30.0-40.0.webm\n",
      "[download] 100% of  530.82KiB in 00:00:00 at 1.11MiB/s               \n",
      "[ExtractAudio] Destination: /Users/cafalena/HOUSE/@Code/Practice/ai_0014_CNN_Urbansound/AudioSet/Vehicle/--6aF5STVP8_30.0-40.0.ogg\n"
     ]
    },
    {
     "name": "stderr",
     "output_type": "stream",
     "text": [
      "ERROR: Postprocessing: audio conversion failed: Unknown encoder 'libvorbis'\n",
      "WARNING: Post-Processor arguments given without specifying name. The arguments will be given to all post-processors\n"
     ]
    },
    {
     "name": "stdout",
     "output_type": "stream",
     "text": [
      "[youtube] Extracting URL: https://www.youtube.com/watch?v=--6csf9jojc\n",
      "[youtube] --6csf9jojc: Downloading webpage\n",
      "[youtube] --6csf9jojc: Downloading android player API JSON\n",
      "[youtube] --6csf9jojc: Downloading MPD manifest\n",
      "[info] --6csf9jojc: Downloading 1 format(s): 140\n",
      "[dashsegments] Total fragments: 1\n",
      "[download] Destination: /Users/cafalena/HOUSE/@Code/Practice/ai_0014_CNN_Urbansound/AudioSet/Speech/--6csf9jojc_30.0-40.0.m4a\n",
      "[download] 100% of    9.43MiB in 00:00:01 at 6.44MiB/s               \n",
      "[FixupM4a] Correcting container of \"/Users/cafalena/HOUSE/@Code/Practice/ai_0014_CNN_Urbansound/AudioSet/Speech/--6csf9jojc_30.0-40.0.m4a\"\n",
      "[ExtractAudio] Destination: /Users/cafalena/HOUSE/@Code/Practice/ai_0014_CNN_Urbansound/AudioSet/Speech/--6csf9jojc_30.0-40.0.ogg\n"
     ]
    },
    {
     "name": "stderr",
     "output_type": "stream",
     "text": [
      "ERROR: Postprocessing: audio conversion failed: Unknown encoder 'libvorbis'\n",
      "WARNING: Post-Processor arguments given without specifying name. The arguments will be given to all post-processors\n"
     ]
    },
    {
     "name": "stdout",
     "output_type": "stream",
     "text": [
      "[youtube] Extracting URL: https://www.youtube.com/watch?v=--6m4sccrsw\n",
      "[youtube] --6m4sccrsw: Downloading webpage\n",
      "[youtube] --6m4sccrsw: Downloading android player API JSON\n",
      "[info] --6m4sccrsw: Downloading 1 format(s): 251\n",
      "[dashsegments] Total fragments: 1\n",
      "[download] Destination: /Users/cafalena/HOUSE/@Code/Practice/ai_0014_CNN_Urbansound/AudioSet/Speech/--6m4sccrsw_200.0-210.0.webm\n",
      "[download] 100% of    7.90MiB in 00:00:01 at 4.84MiB/s               \n",
      "[ExtractAudio] Destination: /Users/cafalena/HOUSE/@Code/Practice/ai_0014_CNN_Urbansound/AudioSet/Speech/--6m4sccrsw_200.0-210.0.ogg\n"
     ]
    },
    {
     "name": "stderr",
     "output_type": "stream",
     "text": [
      "ERROR: Postprocessing: audio conversion failed: Unknown encoder 'libvorbis'\n",
      "cp: /Users/cafalena/HOUSE/@Code/Practice/ai_0014_CNN_Urbansound/AudioSet/Outside, rural or natural/--6m4sccrsw_200.0-210.0.wav: No such file or directory\n",
      "WARNING: Post-Processor arguments given without specifying name. The arguments will be given to all post-processors\n"
     ]
    },
    {
     "name": "stdout",
     "output_type": "stream",
     "text": [
      "[youtube] Extracting URL: https://www.youtube.com/watch?v=--6nuNcbMC8\n",
      "[youtube] --6nuNcbMC8: Downloading webpage\n",
      "[youtube] --6nuNcbMC8: Downloading android player API JSON\n",
      "[info] --6nuNcbMC8: Downloading 1 format(s): 251\n",
      "[dashsegments] Total fragments: 1\n",
      "[download] Destination: /Users/cafalena/HOUSE/@Code/Practice/ai_0014_CNN_Urbansound/AudioSet/Speech/--6nuNcbMC8_270.0-280.0.webm\n",
      "[download] 100% of    3.73MiB in 00:00:00 at 3.97MiB/s               \n",
      "[ExtractAudio] Destination: /Users/cafalena/HOUSE/@Code/Practice/ai_0014_CNN_Urbansound/AudioSet/Speech/--6nuNcbMC8_270.0-280.0.ogg\n"
     ]
    },
    {
     "name": "stderr",
     "output_type": "stream",
     "text": [
      "ERROR: Postprocessing: audio conversion failed: Unknown encoder 'libvorbis'\n",
      "WARNING: Post-Processor arguments given without specifying name. The arguments will be given to all post-processors\n"
     ]
    },
    {
     "name": "stdout",
     "output_type": "stream",
     "text": [
      "[youtube] Extracting URL: https://www.youtube.com/watch?v=--6o7MJyV9U\n",
      "[youtube] --6o7MJyV9U: Downloading webpage\n",
      "[youtube] --6o7MJyV9U: Downloading android player API JSON\n",
      "[info] --6o7MJyV9U: Downloading 1 format(s): 140\n",
      "[dashsegments] Total fragments: 1\n",
      "[download] Destination: /Users/cafalena/HOUSE/@Code/Practice/ai_0014_CNN_Urbansound/AudioSet/Music/--6o7MJyV9U_50.0-60.0.m4a\n",
      "[download] 100% of    1.38MiB in 00:00:00 at 2.41MiB/s               \n",
      "[FixupM4a] Correcting container of \"/Users/cafalena/HOUSE/@Code/Practice/ai_0014_CNN_Urbansound/AudioSet/Music/--6o7MJyV9U_50.0-60.0.m4a\"\n",
      "[ExtractAudio] Destination: /Users/cafalena/HOUSE/@Code/Practice/ai_0014_CNN_Urbansound/AudioSet/Music/--6o7MJyV9U_50.0-60.0.ogg\n"
     ]
    },
    {
     "name": "stderr",
     "output_type": "stream",
     "text": [
      "ERROR: Postprocessing: audio conversion failed: Unknown encoder 'libvorbis'\n",
      "cp: /Users/cafalena/HOUSE/@Code/Practice/ai_0014_CNN_Urbansound/AudioSet/Vehicle/--6o7MJyV9U_50.0-60.0.wav: No such file or directory\n",
      "WARNING: Post-Processor arguments given without specifying name. The arguments will be given to all post-processors\n"
     ]
    },
    {
     "name": "stdout",
     "output_type": "stream",
     "text": [
      "[youtube] Extracting URL: https://www.youtube.com/watch?v=--6rpLIX5Uk\n",
      "[youtube] --6rpLIX5Uk: Downloading webpage\n",
      "[youtube] --6rpLIX5Uk: Downloading android player API JSON\n"
     ]
    },
    {
     "name": "stderr",
     "output_type": "stream",
     "text": [
      "ERROR: [youtube] --6rpLIX5Uk: Private video. Sign in if you've been granted access to this video\n",
      "cp: /Users/cafalena/HOUSE/@Code/Practice/ai_0014_CNN_Urbansound/AudioSet/Speech/--6rpLIX5Uk_30.0-40.0.wav: No such file or directory\n",
      "WARNING: Post-Processor arguments given without specifying name. The arguments will be given to all post-processors\n"
     ]
    },
    {
     "name": "stdout",
     "output_type": "stream",
     "text": [
      "[youtube] Extracting URL: https://www.youtube.com/watch?v=--6yruHjCzw\n",
      "[youtube] --6yruHjCzw: Downloading webpage\n",
      "[youtube] --6yruHjCzw: Downloading android player API JSON\n",
      "[info] --6yruHjCzw: Downloading 1 format(s): 251\n",
      "[dashsegments] Total fragments: 1\n",
      "[download] Destination: /Users/cafalena/HOUSE/@Code/Practice/ai_0014_CNN_Urbansound/AudioSet/Speech/--6yruHjCzw_30.0-40.0.webm\n",
      "[download] 100% of    4.08MiB in 00:00:00 at 5.19MiB/s               \n",
      "[ExtractAudio] Destination: /Users/cafalena/HOUSE/@Code/Practice/ai_0014_CNN_Urbansound/AudioSet/Speech/--6yruHjCzw_30.0-40.0.ogg\n"
     ]
    },
    {
     "name": "stderr",
     "output_type": "stream",
     "text": [
      "ERROR: Postprocessing: audio conversion failed: Unknown encoder 'libvorbis'\n",
      "WARNING: Post-Processor arguments given without specifying name. The arguments will be given to all post-processors\n"
     ]
    },
    {
     "name": "stdout",
     "output_type": "stream",
     "text": [
      "[youtube] Extracting URL: https://www.youtube.com/watch?v=--73E04RpiQ\n",
      "[youtube] --73E04RpiQ: Downloading webpage\n",
      "[youtube] --73E04RpiQ: Downloading android player API JSON\n",
      "[info] --73E04RpiQ: Downloading 1 format(s): 140\n",
      "[dashsegments] Total fragments: 1\n",
      "[download] Destination: /Users/cafalena/HOUSE/@Code/Practice/ai_0014_CNN_Urbansound/AudioSet/Truck/--73E04RpiQ_0.0-9.0.m4a\n",
      "[download] 100% of  140.85KiB in 00:00:00 at 1.12MiB/s               \n",
      "[FixupM4a] Correcting container of \"/Users/cafalena/HOUSE/@Code/Practice/ai_0014_CNN_Urbansound/AudioSet/Truck/--73E04RpiQ_0.0-9.0.m4a\"\n",
      "[ExtractAudio] Destination: /Users/cafalena/HOUSE/@Code/Practice/ai_0014_CNN_Urbansound/AudioSet/Truck/--73E04RpiQ_0.0-9.0.ogg\n"
     ]
    },
    {
     "name": "stderr",
     "output_type": "stream",
     "text": [
      "ERROR: Postprocessing: audio conversion failed: Unknown encoder 'libvorbis'\n",
      "cp: /Users/cafalena/HOUSE/@Code/Practice/ai_0014_CNN_Urbansound/AudioSet/Vehicle/--73E04RpiQ_0.0-9.0.wav: No such file or directory\n",
      "WARNING: Post-Processor arguments given without specifying name. The arguments will be given to all post-processors\n"
     ]
    },
    {
     "name": "stdout",
     "output_type": "stream",
     "text": [
      "[youtube] Extracting URL: https://www.youtube.com/watch?v=--79AQ_CZko\n",
      "[youtube] --79AQ_CZko: Downloading webpage\n",
      "[youtube] --79AQ_CZko: Downloading android player API JSON\n"
     ]
    },
    {
     "name": "stderr",
     "output_type": "stream",
     "text": [
      "ERROR: [youtube] --79AQ_CZko: Video unavailable\n",
      "cp: /Users/cafalena/HOUSE/@Code/Practice/ai_0014_CNN_Urbansound/AudioSet/Music/--79AQ_CZko_240.0-250.0.wav: No such file or directory\n",
      "WARNING: Post-Processor arguments given without specifying name. The arguments will be given to all post-processors\n"
     ]
    },
    {
     "name": "stdout",
     "output_type": "stream",
     "text": [
      "[youtube] Extracting URL: https://www.youtube.com/watch?v=--79SFzTl1Y\n",
      "[youtube] --79SFzTl1Y: Downloading webpage\n",
      "[youtube] --79SFzTl1Y: Downloading android player API JSON\n",
      "[info] --79SFzTl1Y: Downloading 1 format(s): 251\n",
      "[dashsegments] Total fragments: 1\n",
      "[download] Destination: /Users/cafalena/HOUSE/@Code/Practice/ai_0014_CNN_Urbansound/AudioSet/Speech/--79SFzTl1Y_30.0-40.0.webm\n",
      "[download] 100% of    3.67MiB in 00:00:00 at 4.95MiB/s               \n",
      "[ExtractAudio] Destination: /Users/cafalena/HOUSE/@Code/Practice/ai_0014_CNN_Urbansound/AudioSet/Speech/--79SFzTl1Y_30.0-40.0.ogg\n"
     ]
    },
    {
     "name": "stderr",
     "output_type": "stream",
     "text": [
      "ERROR: Postprocessing: audio conversion failed: Unknown encoder 'libvorbis'\n",
      "WARNING: Post-Processor arguments given without specifying name. The arguments will be given to all post-processors\n"
     ]
    },
    {
     "name": "stdout",
     "output_type": "stream",
     "text": [
      "[youtube] Extracting URL: https://www.youtube.com/watch?v=--7MeTMkd4s\n",
      "[youtube] --7MeTMkd4s: Downloading webpage\n",
      "[youtube] --7MeTMkd4s: Downloading android player API JSON\n",
      "[info] --7MeTMkd4s: Downloading 1 format(s): 251\n",
      "[dashsegments] Total fragments: 1\n",
      "[download] Destination: /Users/cafalena/HOUSE/@Code/Practice/ai_0014_CNN_Urbansound/AudioSet/Music/--7MeTMkd4s_30.0-40.0.webm\n",
      "[download] 100% of    4.32MiB in 00:00:00 at 5.12MiB/s               \n",
      "[ExtractAudio] Destination: /Users/cafalena/HOUSE/@Code/Practice/ai_0014_CNN_Urbansound/AudioSet/Music/--7MeTMkd4s_30.0-40.0.ogg\n"
     ]
    },
    {
     "name": "stderr",
     "output_type": "stream",
     "text": [
      "ERROR: Postprocessing: audio conversion failed: Unknown encoder 'libvorbis'\n",
      "cp: /Users/cafalena/HOUSE/@Code/Practice/ai_0014_CNN_Urbansound/AudioSet/Independent music/--7MeTMkd4s_30.0-40.0.wav: No such file or directory\n",
      "WARNING: Post-Processor arguments given without specifying name. The arguments will be given to all post-processors\n"
     ]
    },
    {
     "name": "stdout",
     "output_type": "stream",
     "text": [
      "[youtube] Extracting URL: https://www.youtube.com/watch?v=--7RQ59Nsc0\n",
      "[youtube] --7RQ59Nsc0: Downloading webpage\n",
      "[youtube] --7RQ59Nsc0: Downloading android player API JSON\n",
      "[info] --7RQ59Nsc0: Downloading 1 format(s): 251\n",
      "[dashsegments] Total fragments: 1\n",
      "[download] Destination: /Users/cafalena/HOUSE/@Code/Practice/ai_0014_CNN_Urbansound/AudioSet/Speech/--7RQ59Nsc0_30.0-40.0.webm\n",
      "[download] 100% of    5.34MiB in 00:00:00 at 5.85MiB/s               \n",
      "[ExtractAudio] Destination: /Users/cafalena/HOUSE/@Code/Practice/ai_0014_CNN_Urbansound/AudioSet/Speech/--7RQ59Nsc0_30.0-40.0.ogg\n"
     ]
    },
    {
     "name": "stderr",
     "output_type": "stream",
     "text": [
      "ERROR: Postprocessing: audio conversion failed: Unknown encoder 'libvorbis'\n",
      "WARNING: Post-Processor arguments given without specifying name. The arguments will be given to all post-processors\n"
     ]
    },
    {
     "name": "stdout",
     "output_type": "stream",
     "text": [
      "[youtube] Extracting URL: https://www.youtube.com/watch?v=--7T50tAIrg\n",
      "[youtube] --7T50tAIrg: Downloading webpage\n",
      "[youtube] --7T50tAIrg: Downloading android player API JSON\n",
      "[info] --7T50tAIrg: Downloading 1 format(s): 251\n",
      "[dashsegments] Total fragments: 1\n",
      "[download] Destination: /Users/cafalena/HOUSE/@Code/Practice/ai_0014_CNN_Urbansound/AudioSet/Siren/--7T50tAIrg_6.0-16.0.webm\n",
      "[download] 100% of  260.50KiB in 00:00:00 at 645.68KiB/s             \n",
      "[ExtractAudio] Destination: /Users/cafalena/HOUSE/@Code/Practice/ai_0014_CNN_Urbansound/AudioSet/Siren/--7T50tAIrg_6.0-16.0.ogg\n"
     ]
    },
    {
     "name": "stderr",
     "output_type": "stream",
     "text": [
      "ERROR: Postprocessing: audio conversion failed: Unknown encoder 'libvorbis'\n",
      "cp: /Users/cafalena/HOUSE/@Code/Practice/ai_0014_CNN_Urbansound/AudioSet/Speech/--7T50tAIrg_6.0-16.0.wav: No such file or directory\n",
      "WARNING: Post-Processor arguments given without specifying name. The arguments will be given to all post-processors\n"
     ]
    },
    {
     "name": "stdout",
     "output_type": "stream",
     "text": [
      "[youtube] Extracting URL: https://www.youtube.com/watch?v=--7UmfOkRbM\n",
      "[youtube] --7UmfOkRbM: Downloading webpage\n",
      "[youtube] --7UmfOkRbM: Downloading android player API JSON\n",
      "[info] --7UmfOkRbM: Downloading 1 format(s): 251\n",
      "[dashsegments] Total fragments: 1\n",
      "[download] Destination: /Users/cafalena/HOUSE/@Code/Practice/ai_0014_CNN_Urbansound/AudioSet/Narration, monologue/--7UmfOkRbM_30.0-40.0.webm\n",
      "[download] 100% of    1.33MiB in 00:00:00 at 5.83MiB/s               \n",
      "[ExtractAudio] Destination: /Users/cafalena/HOUSE/@Code/Practice/ai_0014_CNN_Urbansound/AudioSet/Narration, monologue/--7UmfOkRbM_30.0-40.0.ogg\n"
     ]
    },
    {
     "name": "stderr",
     "output_type": "stream",
     "text": [
      "ERROR: Postprocessing: audio conversion failed: Unknown encoder 'libvorbis'\n",
      "cp: /Users/cafalena/HOUSE/@Code/Practice/ai_0014_CNN_Urbansound/AudioSet/Male speech, man speaking/--7UmfOkRbM_30.0-40.0.wav: No such file or directory\n",
      "cp: /Users/cafalena/HOUSE/@Code/Practice/ai_0014_CNN_Urbansound/AudioSet/Speech/--7UmfOkRbM_30.0-40.0.wav: No such file or directory\n",
      "WARNING: Post-Processor arguments given without specifying name. The arguments will be given to all post-processors\n"
     ]
    },
    {
     "name": "stdout",
     "output_type": "stream",
     "text": [
      "[youtube] Extracting URL: https://www.youtube.com/watch?v=--7VmHMn_b4\n",
      "[youtube] --7VmHMn_b4: Downloading webpage\n",
      "[youtube] --7VmHMn_b4: Downloading android player API JSON\n"
     ]
    },
    {
     "name": "stderr",
     "output_type": "stream",
     "text": [
      "ERROR: [youtube] --7VmHMn_b4: Private video. Sign in if you've been granted access to this video\n",
      "cp: /Users/cafalena/HOUSE/@Code/Practice/ai_0014_CNN_Urbansound/AudioSet/Speech/--7VmHMn_b4_30.0-40.0.wav: No such file or directory\n",
      "cp: /Users/cafalena/HOUSE/@Code/Practice/ai_0014_CNN_Urbansound/AudioSet/Outside, urban or manmade/--7VmHMn_b4_30.0-40.0.wav: No such file or directory\n",
      "WARNING: Post-Processor arguments given without specifying name. The arguments will be given to all post-processors\n"
     ]
    },
    {
     "name": "stdout",
     "output_type": "stream",
     "text": [
      "[youtube] Extracting URL: https://www.youtube.com/watch?v=--7itbX1F1U\n",
      "[youtube] --7itbX1F1U: Downloading webpage\n",
      "[youtube] --7itbX1F1U: Downloading android player API JSON\n",
      "[info] --7itbX1F1U: Downloading 1 format(s): 251\n",
      "[dashsegments] Total fragments: 2\n",
      "[download] Destination: /Users/cafalena/HOUSE/@Code/Practice/ai_0014_CNN_Urbansound/AudioSet/Speech/--7itbX1F1U_360.0-370.0.webm\n",
      "[download] 100% of   19.06MiB in 00:00:02 at 6.38MiB/s                  \n",
      "[ExtractAudio] Destination: /Users/cafalena/HOUSE/@Code/Practice/ai_0014_CNN_Urbansound/AudioSet/Speech/--7itbX1F1U_360.0-370.0.ogg\n"
     ]
    },
    {
     "name": "stderr",
     "output_type": "stream",
     "text": [
      "ERROR: Postprocessing: audio conversion failed: Unknown encoder 'libvorbis'\n",
      "cp: /Users/cafalena/HOUSE/@Code/Practice/ai_0014_CNN_Urbansound/AudioSet/Inside, small room/--7itbX1F1U_360.0-370.0.wav: No such file or directory\n",
      "WARNING: Post-Processor arguments given without specifying name. The arguments will be given to all post-processors\n"
     ]
    },
    {
     "name": "stdout",
     "output_type": "stream",
     "text": [
      "[youtube] Extracting URL: https://www.youtube.com/watch?v=--7jZxfzemI\n",
      "[youtube] --7jZxfzemI: Downloading webpage\n",
      "[youtube] --7jZxfzemI: Downloading android player API JSON\n",
      "[info] --7jZxfzemI: Downloading 1 format(s): 251\n",
      "[dashsegments] Total fragments: 1\n",
      "[download] Destination: /Users/cafalena/HOUSE/@Code/Practice/ai_0014_CNN_Urbansound/AudioSet/Domestic animals, pets/--7jZxfzemI_13.0-23.0.webm\n",
      "[download] 100% of  380.95KiB in 00:00:00 at 770.60KiB/s             \n",
      "[ExtractAudio] Destination: /Users/cafalena/HOUSE/@Code/Practice/ai_0014_CNN_Urbansound/AudioSet/Domestic animals, pets/--7jZxfzemI_13.0-23.0.ogg\n"
     ]
    },
    {
     "name": "stderr",
     "output_type": "stream",
     "text": [
      "ERROR: Postprocessing: audio conversion failed: Unknown encoder 'libvorbis'\n",
      "cp: /Users/cafalena/HOUSE/@Code/Practice/ai_0014_CNN_Urbansound/AudioSet/Dog/--7jZxfzemI_13.0-23.0.wav: No such file or directory\n",
      "cp: /Users/cafalena/HOUSE/@Code/Practice/ai_0014_CNN_Urbansound/AudioSet/Animal/--7jZxfzemI_13.0-23.0.wav: No such file or directory\n",
      "WARNING: Post-Processor arguments given without specifying name. The arguments will be given to all post-processors\n"
     ]
    },
    {
     "name": "stdout",
     "output_type": "stream",
     "text": [
      "[youtube] Extracting URL: https://www.youtube.com/watch?v=--7kxtfvbc4\n",
      "[youtube] --7kxtfvbc4: Downloading webpage\n",
      "[youtube] --7kxtfvbc4: Downloading android player API JSON\n",
      "[info] --7kxtfvbc4: Downloading 1 format(s): 251\n",
      "[dashsegments] Total fragments: 1\n",
      "[download] Destination: /Users/cafalena/HOUSE/@Code/Practice/ai_0014_CNN_Urbansound/AudioSet/Speech/--7kxtfvbc4_160.0-170.0.webm\n",
      "[download] 100% of    4.14MiB in 00:00:01 at 3.38MiB/s               \n",
      "[ExtractAudio] Destination: /Users/cafalena/HOUSE/@Code/Practice/ai_0014_CNN_Urbansound/AudioSet/Speech/--7kxtfvbc4_160.0-170.0.ogg\n"
     ]
    },
    {
     "name": "stderr",
     "output_type": "stream",
     "text": [
      "ERROR: Postprocessing: audio conversion failed: Unknown encoder 'libvorbis'\n",
      "WARNING: Post-Processor arguments given without specifying name. The arguments will be given to all post-processors\n"
     ]
    },
    {
     "name": "stdout",
     "output_type": "stream",
     "text": [
      "[youtube] Extracting URL: https://www.youtube.com/watch?v=--7m0TsA030\n",
      "[youtube] --7m0TsA030: Downloading webpage\n",
      "[youtube] --7m0TsA030: Downloading android player API JSON\n",
      "[info] --7m0TsA030: Downloading 1 format(s): 251\n",
      "[dashsegments] Total fragments: 1\n",
      "[download] Destination: /Users/cafalena/HOUSE/@Code/Practice/ai_0014_CNN_Urbansound/AudioSet/Electric guitar/--7m0TsA030_30.0-40.0.webm\n",
      "[download] 100% of    1.70MiB in 00:00:00 at 2.14MiB/s               \n",
      "[ExtractAudio] Destination: /Users/cafalena/HOUSE/@Code/Practice/ai_0014_CNN_Urbansound/AudioSet/Electric guitar/--7m0TsA030_30.0-40.0.ogg\n"
     ]
    },
    {
     "name": "stderr",
     "output_type": "stream",
     "text": [
      "ERROR: Postprocessing: audio conversion failed: Unknown encoder 'libvorbis'\n",
      "cp: /Users/cafalena/HOUSE/@Code/Practice/ai_0014_CNN_Urbansound/AudioSet/Guitar/--7m0TsA030_30.0-40.0.wav: No such file or directory\n",
      "cp: /Users/cafalena/HOUSE/@Code/Practice/ai_0014_CNN_Urbansound/AudioSet/Acoustic guitar/--7m0TsA030_30.0-40.0.wav: No such file or directory\n",
      "cp: /Users/cafalena/HOUSE/@Code/Practice/ai_0014_CNN_Urbansound/AudioSet/Music/--7m0TsA030_30.0-40.0.wav: No such file or directory\n",
      "cp: /Users/cafalena/HOUSE/@Code/Practice/ai_0014_CNN_Urbansound/AudioSet/Musical instrument/--7m0TsA030_30.0-40.0.wav: No such file or directory\n",
      "cp: /Users/cafalena/HOUSE/@Code/Practice/ai_0014_CNN_Urbansound/AudioSet/Strum/--7m0TsA030_30.0-40.0.wav: No such file or directory\n",
      "WARNING: Post-Processor arguments given without specifying name. The arguments will be given to all post-processors\n"
     ]
    },
    {
     "name": "stdout",
     "output_type": "stream",
     "text": [
      "[youtube] Extracting URL: https://www.youtube.com/watch?v=--7pVHGDdYI\n",
      "[youtube] --7pVHGDdYI: Downloading webpage\n",
      "[youtube] --7pVHGDdYI: Downloading android player API JSON\n"
     ]
    },
    {
     "name": "stderr",
     "output_type": "stream",
     "text": [
      "ERROR: [youtube] --7pVHGDdYI: Video unavailable. This video is no longer available because the YouTube account associated with this video has been terminated.\n",
      "WARNING: Post-Processor arguments given without specifying name. The arguments will be given to all post-processors\n"
     ]
    },
    {
     "name": "stdout",
     "output_type": "stream",
     "text": [
      "[youtube] Extracting URL: https://www.youtube.com/watch?v=--7srtCMEQQ\n",
      "[youtube] --7srtCMEQQ: Downloading webpage\n",
      "[youtube] --7srtCMEQQ: Downloading android player API JSON\n",
      "[info] --7srtCMEQQ: Downloading 1 format(s): 251\n",
      "[dashsegments] Total fragments: 1\n",
      "[download] Destination: /Users/cafalena/HOUSE/@Code/Practice/ai_0014_CNN_Urbansound/AudioSet/Ship/--7srtCMEQQ_120.0-130.0.webm\n",
      "[download] 100% of    1.90MiB in 00:00:00 at 2.62MiB/s               \n",
      "[ExtractAudio] Destination: /Users/cafalena/HOUSE/@Code/Practice/ai_0014_CNN_Urbansound/AudioSet/Ship/--7srtCMEQQ_120.0-130.0.ogg\n"
     ]
    },
    {
     "name": "stderr",
     "output_type": "stream",
     "text": [
      "ERROR: Postprocessing: audio conversion failed: Unknown encoder 'libvorbis'\n",
      "cp: /Users/cafalena/HOUSE/@Code/Practice/ai_0014_CNN_Urbansound/AudioSet/Vehicle/--7srtCMEQQ_120.0-130.0.wav: No such file or directory\n",
      "WARNING: Post-Processor arguments given without specifying name. The arguments will be given to all post-processors\n"
     ]
    },
    {
     "name": "stdout",
     "output_type": "stream",
     "text": [
      "[youtube] Extracting URL: https://www.youtube.com/watch?v=--86_7_wT90\n",
      "[youtube] --86_7_wT90: Downloading webpage\n",
      "[youtube] --86_7_wT90: Downloading android player API JSON\n"
     ]
    },
    {
     "name": "stderr",
     "output_type": "stream",
     "text": [
      "ERROR: [youtube] --86_7_wT90: Video unavailable\n",
      "WARNING: Post-Processor arguments given without specifying name. The arguments will be given to all post-processors\n"
     ]
    },
    {
     "name": "stdout",
     "output_type": "stream",
     "text": [
      "[youtube] Extracting URL: https://www.youtube.com/watch?v=--8Bq81udbw\n",
      "[youtube] --8Bq81udbw: Downloading webpage\n",
      "[youtube] --8Bq81udbw: Downloading android player API JSON\n",
      "[youtube] --8Bq81udbw: Downloading MPD manifest\n",
      "[info] --8Bq81udbw: Downloading 1 format(s): 251\n",
      "[dashsegments] Total fragments: 1\n",
      "[download] Destination: /Users/cafalena/HOUSE/@Code/Practice/ai_0014_CNN_Urbansound/AudioSet/Outside, rural or natural/--8Bq81udbw_14.0-24.0.webm\n",
      "[download] 100% of  304.57KiB in 00:00:00 at 481.58KiB/s             \n",
      "[ExtractAudio] Destination: /Users/cafalena/HOUSE/@Code/Practice/ai_0014_CNN_Urbansound/AudioSet/Outside, rural or natural/--8Bq81udbw_14.0-24.0.ogg\n"
     ]
    },
    {
     "name": "stderr",
     "output_type": "stream",
     "text": [
      "ERROR: Postprocessing: audio conversion failed: Unknown encoder 'libvorbis'\n",
      "WARNING: Post-Processor arguments given without specifying name. The arguments will be given to all post-processors\n"
     ]
    },
    {
     "name": "stdout",
     "output_type": "stream",
     "text": [
      "[youtube] Extracting URL: https://www.youtube.com/watch?v=--8GzVV9M3w\n",
      "[youtube] --8GzVV9M3w: Downloading webpage\n",
      "[youtube] --8GzVV9M3w: Downloading android player API JSON\n",
      "[info] --8GzVV9M3w: Downloading 1 format(s): 251\n",
      "[dashsegments] Total fragments: 1\n",
      "[download] Destination: /Users/cafalena/HOUSE/@Code/Practice/ai_0014_CNN_Urbansound/AudioSet/Country/--8GzVV9M3w_80.0-90.0.webm\n",
      "[download] 100% of    2.92MiB in 00:00:00 at 6.49MiB/s               \n",
      "[ExtractAudio] Destination: /Users/cafalena/HOUSE/@Code/Practice/ai_0014_CNN_Urbansound/AudioSet/Country/--8GzVV9M3w_80.0-90.0.ogg\n"
     ]
    },
    {
     "name": "stderr",
     "output_type": "stream",
     "text": [
      "ERROR: Postprocessing: audio conversion failed: Unknown encoder 'libvorbis'\n",
      "cp: /Users/cafalena/HOUSE/@Code/Practice/ai_0014_CNN_Urbansound/AudioSet/Guitar/--8GzVV9M3w_80.0-90.0.wav: No such file or directory\n",
      "cp: /Users/cafalena/HOUSE/@Code/Practice/ai_0014_CNN_Urbansound/AudioSet/Music/--8GzVV9M3w_80.0-90.0.wav: No such file or directory\n",
      "cp: /Users/cafalena/HOUSE/@Code/Practice/ai_0014_CNN_Urbansound/AudioSet/Musical instrument/--8GzVV9M3w_80.0-90.0.wav: No such file or directory\n",
      "cp: /Users/cafalena/HOUSE/@Code/Practice/ai_0014_CNN_Urbansound/AudioSet/Plucked string instrument/--8GzVV9M3w_80.0-90.0.wav: No such file or directory\n",
      "WARNING: Post-Processor arguments given without specifying name. The arguments will be given to all post-processors\n"
     ]
    },
    {
     "name": "stdout",
     "output_type": "stream",
     "text": [
      "[youtube] Extracting URL: https://www.youtube.com/watch?v=--8MVXS8Has\n",
      "[youtube] --8MVXS8Has: Downloading webpage\n",
      "[youtube] --8MVXS8Has: Downloading android player API JSON\n",
      "[info] --8MVXS8Has: Downloading 1 format(s): 251\n",
      "[dashsegments] Total fragments: 3\n",
      "[download] Destination: /Users/cafalena/HOUSE/@Code/Practice/ai_0014_CNN_Urbansound/AudioSet/Music/--8MVXS8Has_30.0-40.0.webm\n",
      "[download] 100% of   29.40MiB in 00:00:04 at 7.02MiB/s                  \n",
      "[ExtractAudio] Destination: /Users/cafalena/HOUSE/@Code/Practice/ai_0014_CNN_Urbansound/AudioSet/Music/--8MVXS8Has_30.0-40.0.ogg\n"
     ]
    },
    {
     "name": "stderr",
     "output_type": "stream",
     "text": [
      "ERROR: Postprocessing: audio conversion failed: Unknown encoder 'libvorbis'\n",
      "cp: /Users/cafalena/HOUSE/@Code/Practice/ai_0014_CNN_Urbansound/AudioSet/Speech/--8MVXS8Has_30.0-40.0.wav: No such file or directory\n",
      "WARNING: Post-Processor arguments given without specifying name. The arguments will be given to all post-processors\n"
     ]
    },
    {
     "name": "stdout",
     "output_type": "stream",
     "text": [
      "[youtube] Extracting URL: https://www.youtube.com/watch?v=--8OC7rKwbQ\n",
      "[youtube] --8OC7rKwbQ: Downloading webpage\n",
      "[youtube] --8OC7rKwbQ: Downloading android player API JSON\n",
      "[youtube] --8OC7rKwbQ: Downloading MPD manifest\n",
      "[info] --8OC7rKwbQ: Downloading 1 format(s): 251\n",
      "[dashsegments] Total fragments: 1\n",
      "[download] Destination: /Users/cafalena/HOUSE/@Code/Practice/ai_0014_CNN_Urbansound/AudioSet/Music/--8OC7rKwbQ_30.0-40.0.webm\n",
      "[download] 100% of    1.37MiB in 00:00:00 at 2.27MiB/s               \n",
      "[ExtractAudio] Destination: /Users/cafalena/HOUSE/@Code/Practice/ai_0014_CNN_Urbansound/AudioSet/Music/--8OC7rKwbQ_30.0-40.0.ogg\n"
     ]
    },
    {
     "name": "stderr",
     "output_type": "stream",
     "text": [
      "ERROR: Postprocessing: audio conversion failed: Unknown encoder 'libvorbis'\n",
      "cp: /Users/cafalena/HOUSE/@Code/Practice/ai_0014_CNN_Urbansound/AudioSet/Speech/--8OC7rKwbQ_30.0-40.0.wav: No such file or directory\n",
      "WARNING: Post-Processor arguments given without specifying name. The arguments will be given to all post-processors\n"
     ]
    },
    {
     "name": "stdout",
     "output_type": "stream",
     "text": [
      "[youtube] Extracting URL: https://www.youtube.com/watch?v=--8P9gLvO0Q\n",
      "[youtube] --8P9gLvO0Q: Downloading webpage\n",
      "[youtube] --8P9gLvO0Q: Downloading android player API JSON\n",
      "[info] --8P9gLvO0Q: Downloading 1 format(s): 251\n",
      "[dashsegments] Total fragments: 1\n",
      "[download] Destination: /Users/cafalena/HOUSE/@Code/Practice/ai_0014_CNN_Urbansound/AudioSet/Wood block/--8P9gLvO0Q_30.0-40.0.webm\n",
      "[download] 100% of    2.47MiB in 00:00:02 at 1.01MiB/s               \n",
      "[ExtractAudio] Destination: /Users/cafalena/HOUSE/@Code/Practice/ai_0014_CNN_Urbansound/AudioSet/Wood block/--8P9gLvO0Q_30.0-40.0.ogg\n"
     ]
    },
    {
     "name": "stderr",
     "output_type": "stream",
     "text": [
      "ERROR: Postprocessing: audio conversion failed: Unknown encoder 'libvorbis'\n",
      "cp: /Users/cafalena/HOUSE/@Code/Practice/ai_0014_CNN_Urbansound/AudioSet/Music/--8P9gLvO0Q_30.0-40.0.wav: No such file or directory\n",
      "WARNING: Post-Processor arguments given without specifying name. The arguments will be given to all post-processors\n"
     ]
    },
    {
     "name": "stdout",
     "output_type": "stream",
     "text": [
      "[youtube] Extracting URL: https://www.youtube.com/watch?v=--8QUJRJrZE\n",
      "[youtube] --8QUJRJrZE: Downloading webpage\n",
      "[youtube] --8QUJRJrZE: Downloading android player API JSON\n"
     ]
    },
    {
     "name": "stderr",
     "output_type": "stream",
     "text": [
      "ERROR: [youtube] --8QUJRJrZE: Video unavailable\n",
      "WARNING: Post-Processor arguments given without specifying name. The arguments will be given to all post-processors\n"
     ]
    },
    {
     "name": "stdout",
     "output_type": "stream",
     "text": [
      "[youtube] Extracting URL: https://www.youtube.com/watch?v=--8Tk6qD22g\n",
      "[youtube] --8Tk6qD22g: Downloading webpage\n",
      "[youtube] --8Tk6qD22g: Downloading android player API JSON\n",
      "[info] --8Tk6qD22g: Downloading 1 format(s): 251\n",
      "[dashsegments] Total fragments: 1\n",
      "[download] Destination: /Users/cafalena/HOUSE/@Code/Practice/ai_0014_CNN_Urbansound/AudioSet/Speech/--8Tk6qD22g_18.0-28.0.webm\n",
      "[download] 100% of  550.14KiB in 00:00:00 at 2.40MiB/s               \n",
      "[ExtractAudio] Destination: /Users/cafalena/HOUSE/@Code/Practice/ai_0014_CNN_Urbansound/AudioSet/Speech/--8Tk6qD22g_18.0-28.0.ogg\n"
     ]
    },
    {
     "name": "stderr",
     "output_type": "stream",
     "text": [
      "ERROR: Postprocessing: audio conversion failed: Unknown encoder 'libvorbis'\n",
      "WARNING: Post-Processor arguments given without specifying name. The arguments will be given to all post-processors\n"
     ]
    },
    {
     "name": "stdout",
     "output_type": "stream",
     "text": [
      "[youtube] Extracting URL: https://www.youtube.com/watch?v=--8V-W_I7Ww\n",
      "[youtube] --8V-W_I7Ww: Downloading webpage\n",
      "[youtube] --8V-W_I7Ww: Downloading android player API JSON\n",
      "[info] --8V-W_I7Ww: Downloading 1 format(s): 251\n",
      "[dashsegments] Total fragments: 1\n",
      "[download] Destination: /Users/cafalena/HOUSE/@Code/Practice/ai_0014_CNN_Urbansound/AudioSet/Speech/--8V-W_I7Ww_30.0-40.0.webm\n",
      "[download] 100% of    1.72MiB in 00:00:00 at 2.96MiB/s               \n",
      "[ExtractAudio] Destination: /Users/cafalena/HOUSE/@Code/Practice/ai_0014_CNN_Urbansound/AudioSet/Speech/--8V-W_I7Ww_30.0-40.0.ogg\n"
     ]
    },
    {
     "name": "stderr",
     "output_type": "stream",
     "text": [
      "ERROR: Postprocessing: audio conversion failed: Unknown encoder 'libvorbis'\n",
      "WARNING: Post-Processor arguments given without specifying name. The arguments will be given to all post-processors\n"
     ]
    },
    {
     "name": "stdout",
     "output_type": "stream",
     "text": [
      "[youtube] Extracting URL: https://www.youtube.com/watch?v=--8f5Wel3gs\n",
      "[youtube] --8f5Wel3gs: Downloading webpage\n",
      "[youtube] --8f5Wel3gs: Downloading android player API JSON\n"
     ]
    },
    {
     "name": "stderr",
     "output_type": "stream",
     "text": [
      "ERROR: [youtube] --8f5Wel3gs: Private video. Sign in if you've been granted access to this video\n",
      "cp: /Users/cafalena/HOUSE/@Code/Practice/ai_0014_CNN_Urbansound/AudioSet/Speech/--8f5Wel3gs_30.0-40.0.wav: No such file or directory\n",
      "WARNING: Post-Processor arguments given without specifying name. The arguments will be given to all post-processors\n"
     ]
    },
    {
     "name": "stdout",
     "output_type": "stream",
     "text": [
      "[youtube] Extracting URL: https://www.youtube.com/watch?v=--8hipdKBT4\n",
      "[youtube] --8hipdKBT4: Downloading webpage\n",
      "[youtube] --8hipdKBT4: Downloading android player API JSON\n",
      "[info] --8hipdKBT4: Downloading 1 format(s): 251\n",
      "[dashsegments] Total fragments: 1\n",
      "[download] Destination: /Users/cafalena/HOUSE/@Code/Practice/ai_0014_CNN_Urbansound/AudioSet/Motor vehicle (road)/--8hipdKBT4_10.0-20.0.webm\n",
      "[download] 100% of  320.35KiB in 00:00:00 at 951.29KiB/s             \n",
      "[ExtractAudio] Destination: /Users/cafalena/HOUSE/@Code/Practice/ai_0014_CNN_Urbansound/AudioSet/Motor vehicle (road)/--8hipdKBT4_10.0-20.0.ogg\n"
     ]
    },
    {
     "name": "stderr",
     "output_type": "stream",
     "text": [
      "ERROR: Postprocessing: audio conversion failed: Unknown encoder 'libvorbis'\n",
      "cp: /Users/cafalena/HOUSE/@Code/Practice/ai_0014_CNN_Urbansound/AudioSet/Vehicle/--8hipdKBT4_10.0-20.0.wav: No such file or directory\n",
      "cp: /Users/cafalena/HOUSE/@Code/Practice/ai_0014_CNN_Urbansound/AudioSet/Speech/--8hipdKBT4_10.0-20.0.wav: No such file or directory\n",
      "cp: /Users/cafalena/HOUSE/@Code/Practice/ai_0014_CNN_Urbansound/AudioSet/Car/--8hipdKBT4_10.0-20.0.wav: No such file or directory\n",
      "WARNING: Post-Processor arguments given without specifying name. The arguments will be given to all post-processors\n"
     ]
    },
    {
     "name": "stdout",
     "output_type": "stream",
     "text": [
      "[youtube] Extracting URL: https://www.youtube.com/watch?v=--8l9Vjy7aA\n",
      "[youtube] --8l9Vjy7aA: Downloading webpage\n",
      "[youtube] --8l9Vjy7aA: Downloading android player API JSON\n",
      "[info] --8l9Vjy7aA: Downloading 1 format(s): 251\n",
      "[dashsegments] Total fragments: 1\n",
      "[download] Destination: /Users/cafalena/HOUSE/@Code/Practice/ai_0014_CNN_Urbansound/AudioSet/Speech/--8l9Vjy7aA_30.0-40.0.webm\n",
      "[download] 100% of  784.02KiB in 00:00:00 at 1.80MiB/s               \n",
      "[ExtractAudio] Destination: /Users/cafalena/HOUSE/@Code/Practice/ai_0014_CNN_Urbansound/AudioSet/Speech/--8l9Vjy7aA_30.0-40.0.ogg\n"
     ]
    },
    {
     "name": "stderr",
     "output_type": "stream",
     "text": [
      "ERROR: Postprocessing: audio conversion failed: Unknown encoder 'libvorbis'\n",
      "WARNING: Post-Processor arguments given without specifying name. The arguments will be given to all post-processors\n"
     ]
    },
    {
     "name": "stdout",
     "output_type": "stream",
     "text": [
      "[youtube] Extracting URL: https://www.youtube.com/watch?v=--8naMk20PA\n",
      "[youtube] --8naMk20PA: Downloading webpage\n",
      "[youtube] --8naMk20PA: Downloading android player API JSON\n",
      "[info] --8naMk20PA: Downloading 1 format(s): 251\n",
      "[dashsegments] Total fragments: 1\n",
      "[download] Destination: /Users/cafalena/HOUSE/@Code/Practice/ai_0014_CNN_Urbansound/AudioSet/Music/--8naMk20PA_29.0-39.0.webm\n",
      "[download] 100% of  564.42KiB in 00:00:00 at 997.63KiB/s             \n",
      "[ExtractAudio] Destination: /Users/cafalena/HOUSE/@Code/Practice/ai_0014_CNN_Urbansound/AudioSet/Music/--8naMk20PA_29.0-39.0.ogg\n"
     ]
    },
    {
     "name": "stderr",
     "output_type": "stream",
     "text": [
      "ERROR: Postprocessing: audio conversion failed: Unknown encoder 'libvorbis'\n",
      "WARNING: Post-Processor arguments given without specifying name. The arguments will be given to all post-processors\n"
     ]
    },
    {
     "name": "stdout",
     "output_type": "stream",
     "text": [
      "[youtube] Extracting URL: https://www.youtube.com/watch?v=--8puiAGLhs\n",
      "[youtube] --8puiAGLhs: Downloading webpage\n",
      "[youtube] --8puiAGLhs: Downloading android player API JSON\n",
      "[info] --8puiAGLhs: Downloading 1 format(s): 251\n",
      "[dashsegments] Total fragments: 1\n",
      "[download] Destination: /Users/cafalena/HOUSE/@Code/Practice/ai_0014_CNN_Urbansound/AudioSet/Engine/--8puiAGLhs_30.0-40.0.webm\n",
      "[download] 100% of  807.20KiB in 00:00:00 at 1.45MiB/s               \n",
      "[ExtractAudio] Destination: /Users/cafalena/HOUSE/@Code/Practice/ai_0014_CNN_Urbansound/AudioSet/Engine/--8puiAGLhs_30.0-40.0.ogg\n"
     ]
    },
    {
     "name": "stderr",
     "output_type": "stream",
     "text": [
      "ERROR: Postprocessing: audio conversion failed: Unknown encoder 'libvorbis'\n",
      "cp: /Users/cafalena/HOUSE/@Code/Practice/ai_0014_CNN_Urbansound/AudioSet/Vehicle/--8puiAGLhs_30.0-40.0.wav: No such file or directory\n",
      "cp: /Users/cafalena/HOUSE/@Code/Practice/ai_0014_CNN_Urbansound/AudioSet/Car/--8puiAGLhs_30.0-40.0.wav: No such file or directory\n",
      "cp: /Users/cafalena/HOUSE/@Code/Practice/ai_0014_CNN_Urbansound/AudioSet/Engine starting/--8puiAGLhs_30.0-40.0.wav: No such file or directory\n",
      "WARNING: Post-Processor arguments given without specifying name. The arguments will be given to all post-processors\n"
     ]
    },
    {
     "name": "stdout",
     "output_type": "stream",
     "text": [
      "[youtube] Extracting URL: https://www.youtube.com/watch?v=--99xCPqZPg\n",
      "[youtube] --99xCPqZPg: Downloading webpage\n",
      "[youtube] --99xCPqZPg: Downloading android player API JSON\n",
      "[info] --99xCPqZPg: Downloading 1 format(s): 251\n",
      "[dashsegments] Total fragments: 1\n",
      "[download] Destination: /Users/cafalena/HOUSE/@Code/Practice/ai_0014_CNN_Urbansound/AudioSet/Speech/--99xCPqZPg_30.0-40.0.webm\n",
      "[download] 100% of    2.28MiB in 00:00:00 at 3.93MiB/s               \n",
      "[ExtractAudio] Destination: /Users/cafalena/HOUSE/@Code/Practice/ai_0014_CNN_Urbansound/AudioSet/Speech/--99xCPqZPg_30.0-40.0.ogg\n"
     ]
    },
    {
     "name": "stderr",
     "output_type": "stream",
     "text": [
      "ERROR: Postprocessing: audio conversion failed: Unknown encoder 'libvorbis'\n",
      "WARNING: Post-Processor arguments given without specifying name. The arguments will be given to all post-processors\n"
     ]
    },
    {
     "name": "stdout",
     "output_type": "stream",
     "text": [
      "[youtube] Extracting URL: https://www.youtube.com/watch?v=--9IqGxzNYQ\n",
      "[youtube] --9IqGxzNYQ: Downloading webpage\n",
      "[youtube] --9IqGxzNYQ: Downloading android player API JSON\n"
     ]
    },
    {
     "name": "stderr",
     "output_type": "stream",
     "text": [
      "ERROR: [youtube] --9IqGxzNYQ: Video unavailable\n",
      "WARNING: Post-Processor arguments given without specifying name. The arguments will be given to all post-processors\n"
     ]
    },
    {
     "name": "stdout",
     "output_type": "stream",
     "text": [
      "[youtube] Extracting URL: https://www.youtube.com/watch?v=--9O4XZOge4\n",
      "[youtube] --9O4XZOge4: Downloading webpage\n",
      "[youtube] --9O4XZOge4: Downloading android player API JSON\n",
      "[info] --9O4XZOge4: Downloading 1 format(s): 251\n",
      "[dashsegments] Total fragments: 1\n",
      "[download] Destination: /Users/cafalena/HOUSE/@Code/Practice/ai_0014_CNN_Urbansound/AudioSet/Narration, monologue/--9O4XZOge4_30.0-40.0.webm\n",
      "[download] 100% of    1.89MiB in 00:00:00 at 3.55MiB/s               \n",
      "[ExtractAudio] Destination: /Users/cafalena/HOUSE/@Code/Practice/ai_0014_CNN_Urbansound/AudioSet/Narration, monologue/--9O4XZOge4_30.0-40.0.ogg\n"
     ]
    },
    {
     "name": "stderr",
     "output_type": "stream",
     "text": [
      "ERROR: Postprocessing: audio conversion failed: Unknown encoder 'libvorbis'\n",
      "cp: /Users/cafalena/HOUSE/@Code/Practice/ai_0014_CNN_Urbansound/AudioSet/Female speech, woman speaking/--9O4XZOge4_30.0-40.0.wav: No such file or directory\n",
      "cp: /Users/cafalena/HOUSE/@Code/Practice/ai_0014_CNN_Urbansound/AudioSet/Speech/--9O4XZOge4_30.0-40.0.wav: No such file or directory\n",
      "WARNING: Post-Processor arguments given without specifying name. The arguments will be given to all post-processors\n"
     ]
    },
    {
     "name": "stdout",
     "output_type": "stream",
     "text": [
      "[youtube] Extracting URL: https://www.youtube.com/watch?v=--9QcurJjRg\n",
      "[youtube] --9QcurJjRg: Downloading webpage\n",
      "[youtube] --9QcurJjRg: Downloading android player API JSON\n",
      "[info] --9QcurJjRg: Downloading 1 format(s): 251\n",
      "[dashsegments] Total fragments: 1\n",
      "[download] Destination: /Users/cafalena/HOUSE/@Code/Practice/ai_0014_CNN_Urbansound/AudioSet/Music/--9QcurJjRg_70.0-80.0.webm\n",
      "[download] 100% of    1.66MiB in 00:00:00 at 2.51MiB/s               \n",
      "[ExtractAudio] Destination: /Users/cafalena/HOUSE/@Code/Practice/ai_0014_CNN_Urbansound/AudioSet/Music/--9QcurJjRg_70.0-80.0.ogg\n"
     ]
    },
    {
     "name": "stderr",
     "output_type": "stream",
     "text": [
      "ERROR: Postprocessing: audio conversion failed: Unknown encoder 'libvorbis'\n",
      "WARNING: Post-Processor arguments given without specifying name. The arguments will be given to all post-processors\n"
     ]
    },
    {
     "name": "stdout",
     "output_type": "stream",
     "text": [
      "[youtube] Extracting URL: https://www.youtube.com/watch?v=--9VR_F7CtY\n",
      "[youtube] --9VR_F7CtY: Downloading webpage\n",
      "[youtube] --9VR_F7CtY: Downloading android player API JSON\n",
      "[info] --9VR_F7CtY: Downloading 1 format(s): 251\n",
      "[dashsegments] Total fragments: 1\n",
      "[download] Destination: /Users/cafalena/HOUSE/@Code/Practice/ai_0014_CNN_Urbansound/AudioSet/Motor vehicle (road)/--9VR_F7CtY_30.0-40.0.webm\n",
      "[download] 100% of    2.65MiB in 00:00:00 at 4.27MiB/s               \n",
      "[ExtractAudio] Destination: /Users/cafalena/HOUSE/@Code/Practice/ai_0014_CNN_Urbansound/AudioSet/Motor vehicle (road)/--9VR_F7CtY_30.0-40.0.ogg\n"
     ]
    },
    {
     "name": "stderr",
     "output_type": "stream",
     "text": [
      "ERROR: Postprocessing: audio conversion failed: Unknown encoder 'libvorbis'\n",
      "cp: /Users/cafalena/HOUSE/@Code/Practice/ai_0014_CNN_Urbansound/AudioSet/Skidding/--9VR_F7CtY_30.0-40.0.wav: No such file or directory\n",
      "cp: /Users/cafalena/HOUSE/@Code/Practice/ai_0014_CNN_Urbansound/AudioSet/Vehicle/--9VR_F7CtY_30.0-40.0.wav: No such file or directory\n",
      "cp: /Users/cafalena/HOUSE/@Code/Practice/ai_0014_CNN_Urbansound/AudioSet/Car/--9VR_F7CtY_30.0-40.0.wav: No such file or directory\n",
      "WARNING: Post-Processor arguments given without specifying name. The arguments will be given to all post-processors\n"
     ]
    },
    {
     "name": "stdout",
     "output_type": "stream",
     "text": [
      "[youtube] Extracting URL: https://www.youtube.com/watch?v=--9ckNk0Gyw\n",
      "[youtube] --9ckNk0Gyw: Downloading webpage\n",
      "[youtube] --9ckNk0Gyw: Downloading android player API JSON\n",
      "[info] --9ckNk0Gyw: Downloading 1 format(s): 251\n",
      "[dashsegments] Total fragments: 1\n",
      "[download] Destination: /Users/cafalena/HOUSE/@Code/Practice/ai_0014_CNN_Urbansound/AudioSet/Background music/--9ckNk0Gyw_30.0-40.0.webm\n",
      "[download] 100% of    2.36MiB in 00:00:00 at 4.02MiB/s               \n",
      "[ExtractAudio] Destination: /Users/cafalena/HOUSE/@Code/Practice/ai_0014_CNN_Urbansound/AudioSet/Background music/--9ckNk0Gyw_30.0-40.0.ogg\n"
     ]
    },
    {
     "name": "stderr",
     "output_type": "stream",
     "text": [
      "ERROR: Postprocessing: audio conversion failed: Unknown encoder 'libvorbis'\n",
      "cp: /Users/cafalena/HOUSE/@Code/Practice/ai_0014_CNN_Urbansound/AudioSet/Music/--9ckNk0Gyw_30.0-40.0.wav: No such file or directory\n",
      "WARNING: Post-Processor arguments given without specifying name. The arguments will be given to all post-processors\n"
     ]
    },
    {
     "name": "stdout",
     "output_type": "stream",
     "text": [
      "[youtube] Extracting URL: https://www.youtube.com/watch?v=--9hKb7IkVY\n",
      "[youtube] --9hKb7IkVY: Downloading webpage\n",
      "[youtube] --9hKb7IkVY: Downloading android player API JSON\n",
      "[youtube] --9hKb7IkVY: Downloading MPD manifest\n",
      "[info] --9hKb7IkVY: Downloading 1 format(s): 251\n",
      "[dashsegments] Total fragments: 1\n",
      "[download] Destination: /Users/cafalena/HOUSE/@Code/Practice/ai_0014_CNN_Urbansound/AudioSet/Heavy metal/--9hKb7IkVY_60.0-70.0.webm\n",
      "[download] 100% of    2.17MiB in 00:00:00 at 3.31MiB/s               \n",
      "[ExtractAudio] Destination: /Users/cafalena/HOUSE/@Code/Practice/ai_0014_CNN_Urbansound/AudioSet/Heavy metal/--9hKb7IkVY_60.0-70.0.ogg\n"
     ]
    },
    {
     "name": "stderr",
     "output_type": "stream",
     "text": [
      "ERROR: Postprocessing: audio conversion failed: Unknown encoder 'libvorbis'\n",
      "cp: /Users/cafalena/HOUSE/@Code/Practice/ai_0014_CNN_Urbansound/AudioSet/Music/--9hKb7IkVY_60.0-70.0.wav: No such file or directory\n",
      "WARNING: Post-Processor arguments given without specifying name. The arguments will be given to all post-processors\n"
     ]
    },
    {
     "name": "stdout",
     "output_type": "stream",
     "text": [
      "[youtube] Extracting URL: https://www.youtube.com/watch?v=--9oYufMS_k\n",
      "[youtube] --9oYufMS_k: Downloading webpage\n",
      "[youtube] --9oYufMS_k: Downloading android player API JSON\n",
      "[info] --9oYufMS_k: Downloading 1 format(s): 251\n",
      "[dashsegments] Total fragments: 1\n",
      "[download] Destination: /Users/cafalena/HOUSE/@Code/Practice/ai_0014_CNN_Urbansound/AudioSet/Music/--9oYufMS_k_0.0-2.0.webm\n",
      "[download] 100% of   15.94KiB in 00:00:00 at 64.57KiB/s              \n",
      "[ExtractAudio] Destination: /Users/cafalena/HOUSE/@Code/Practice/ai_0014_CNN_Urbansound/AudioSet/Music/--9oYufMS_k_0.0-2.0.ogg\n"
     ]
    },
    {
     "name": "stderr",
     "output_type": "stream",
     "text": [
      "ERROR: Postprocessing: audio conversion failed: Unknown encoder 'libvorbis'\n",
      "cp: /Users/cafalena/HOUSE/@Code/Practice/ai_0014_CNN_Urbansound/AudioSet/Gasp/--9oYufMS_k_0.0-2.0.wav: No such file or directory\n",
      "WARNING: Post-Processor arguments given without specifying name. The arguments will be given to all post-processors\n"
     ]
    },
    {
     "name": "stdout",
     "output_type": "stream",
     "text": [
      "[youtube] Extracting URL: https://www.youtube.com/watch?v=--9qaflvptM\n",
      "[youtube] --9qaflvptM: Downloading webpage\n",
      "[youtube] --9qaflvptM: Downloading android player API JSON\n",
      "[youtube] --9qaflvptM: Downloading MPD manifest\n",
      "[info] --9qaflvptM: Downloading 1 format(s): 251\n",
      "[dashsegments] Total fragments: 1\n",
      "[download] Destination: /Users/cafalena/HOUSE/@Code/Practice/ai_0014_CNN_Urbansound/AudioSet/Music/--9qaflvptM_30.0-40.0.webm\n",
      "[download] 100% of    1.13MiB in 00:00:00 at 2.13MiB/s               \n",
      "[ExtractAudio] Destination: /Users/cafalena/HOUSE/@Code/Practice/ai_0014_CNN_Urbansound/AudioSet/Music/--9qaflvptM_30.0-40.0.ogg\n"
     ]
    },
    {
     "name": "stderr",
     "output_type": "stream",
     "text": [
      "ERROR: Postprocessing: audio conversion failed: Unknown encoder 'libvorbis'\n",
      "WARNING: Post-Processor arguments given without specifying name. The arguments will be given to all post-processors\n"
     ]
    },
    {
     "name": "stdout",
     "output_type": "stream",
     "text": [
      "[youtube] Extracting URL: https://www.youtube.com/watch?v=--9yPWZVYZw\n",
      "[youtube] --9yPWZVYZw: Downloading webpage\n",
      "[youtube] --9yPWZVYZw: Downloading android player API JSON\n"
     ]
    },
    {
     "name": "stderr",
     "output_type": "stream",
     "text": [
      "ERROR: [youtube] --9yPWZVYZw: Video unavailable\n",
      "cp: /Users/cafalena/HOUSE/@Code/Practice/ai_0014_CNN_Urbansound/AudioSet/Exciting music/--9yPWZVYZw_30.0-40.0.wav: No such file or directory\n",
      "WARNING: Post-Processor arguments given without specifying name. The arguments will be given to all post-processors\n"
     ]
    },
    {
     "name": "stdout",
     "output_type": "stream",
     "text": [
      "[youtube] Extracting URL: https://www.youtube.com/watch?v=--A23VVk-qY\n",
      "[youtube] --A23VVk-qY: Downloading webpage\n",
      "[youtube] --A23VVk-qY: Downloading android player API JSON\n",
      "[info] --A23VVk-qY: Downloading 1 format(s): 251\n",
      "[dashsegments] Total fragments: 1\n",
      "[download] Destination: /Users/cafalena/HOUSE/@Code/Practice/ai_0014_CNN_Urbansound/AudioSet/Music/--A23VVk-qY_11.0-21.0.webm\n",
      "[download] 100% of  322.58KiB in 00:00:00 at 402.92KiB/s             \n",
      "[ExtractAudio] Destination: /Users/cafalena/HOUSE/@Code/Practice/ai_0014_CNN_Urbansound/AudioSet/Music/--A23VVk-qY_11.0-21.0.ogg\n"
     ]
    },
    {
     "name": "stderr",
     "output_type": "stream",
     "text": [
      "ERROR: Postprocessing: audio conversion failed: Unknown encoder 'libvorbis'\n",
      "cp: /Users/cafalena/HOUSE/@Code/Practice/ai_0014_CNN_Urbansound/AudioSet/Speech/--A23VVk-qY_11.0-21.0.wav: No such file or directory\n",
      "WARNING: Post-Processor arguments given without specifying name. The arguments will be given to all post-processors\n"
     ]
    },
    {
     "name": "stdout",
     "output_type": "stream",
     "text": [
      "[youtube] Extracting URL: https://www.youtube.com/watch?v=--A4Xbd8gCw\n",
      "[youtube] --A4Xbd8gCw: Downloading webpage\n",
      "[youtube] --A4Xbd8gCw: Downloading android player API JSON\n",
      "[info] --A4Xbd8gCw: Downloading 1 format(s): 251\n",
      "[dashsegments] Total fragments: 1\n",
      "[download] Destination: /Users/cafalena/HOUSE/@Code/Practice/ai_0014_CNN_Urbansound/AudioSet/Bass guitar/--A4Xbd8gCw_120.0-130.0.webm\n",
      "[download] 100% of    4.58MiB in 00:00:01 at 3.89MiB/s               \n",
      "[ExtractAudio] Destination: /Users/cafalena/HOUSE/@Code/Practice/ai_0014_CNN_Urbansound/AudioSet/Bass guitar/--A4Xbd8gCw_120.0-130.0.ogg\n"
     ]
    },
    {
     "name": "stderr",
     "output_type": "stream",
     "text": [
      "ERROR: Postprocessing: audio conversion failed: Unknown encoder 'libvorbis'\n",
      "cp: /Users/cafalena/HOUSE/@Code/Practice/ai_0014_CNN_Urbansound/AudioSet/Guitar/--A4Xbd8gCw_120.0-130.0.wav: No such file or directory\n",
      "cp: /Users/cafalena/HOUSE/@Code/Practice/ai_0014_CNN_Urbansound/AudioSet/Music/--A4Xbd8gCw_120.0-130.0.wav: No such file or directory\n",
      "cp: /Users/cafalena/HOUSE/@Code/Practice/ai_0014_CNN_Urbansound/AudioSet/Musical instrument/--A4Xbd8gCw_120.0-130.0.wav: No such file or directory\n",
      "cp: /Users/cafalena/HOUSE/@Code/Practice/ai_0014_CNN_Urbansound/AudioSet/Plucked string instrument/--A4Xbd8gCw_120.0-130.0.wav: No such file or directory\n",
      "cp: /Users/cafalena/HOUSE/@Code/Practice/ai_0014_CNN_Urbansound/AudioSet/Salsa music/--A4Xbd8gCw_120.0-130.0.wav: No such file or directory\n",
      "WARNING: Post-Processor arguments given without specifying name. The arguments will be given to all post-processors\n"
     ]
    },
    {
     "name": "stdout",
     "output_type": "stream",
     "text": [
      "[youtube] Extracting URL: https://www.youtube.com/watch?v=--A70BIU4OE\n",
      "[youtube] --A70BIU4OE: Downloading webpage\n",
      "[youtube] --A70BIU4OE: Downloading android player API JSON\n"
     ]
    },
    {
     "name": "stderr",
     "output_type": "stream",
     "text": [
      "ERROR: [youtube] --A70BIU4OE: Video unavailable\n",
      "cp: /Users/cafalena/HOUSE/@Code/Practice/ai_0014_CNN_Urbansound/AudioSet/Music/--A70BIU4OE_30.0-40.0.wav: No such file or directory\n",
      "cp: /Users/cafalena/HOUSE/@Code/Practice/ai_0014_CNN_Urbansound/AudioSet/Dubstep/--A70BIU4OE_30.0-40.0.wav: No such file or directory\n",
      "WARNING: Post-Processor arguments given without specifying name. The arguments will be given to all post-processors\n"
     ]
    },
    {
     "name": "stdout",
     "output_type": "stream",
     "text": [
      "[youtube] Extracting URL: https://www.youtube.com/watch?v=--AErD4Wx6c\n",
      "[youtube] --AErD4Wx6c: Downloading webpage\n",
      "[youtube] --AErD4Wx6c: Downloading android player API JSON\n",
      "[info] --AErD4Wx6c: Downloading 1 format(s): 251\n",
      "[dashsegments] Total fragments: 1\n",
      "[download] Destination: /Users/cafalena/HOUSE/@Code/Practice/ai_0014_CNN_Urbansound/AudioSet/Bird/--AErD4Wx6c_0.0-10.0.webm\n",
      "[download] 100% of  962.79KiB in 00:00:00 at 2.27MiB/s               \n",
      "[ExtractAudio] Destination: /Users/cafalena/HOUSE/@Code/Practice/ai_0014_CNN_Urbansound/AudioSet/Bird/--AErD4Wx6c_0.0-10.0.ogg\n"
     ]
    },
    {
     "name": "stderr",
     "output_type": "stream",
     "text": [
      "ERROR: Postprocessing: audio conversion failed: Unknown encoder 'libvorbis'\n",
      "WARNING: Post-Processor arguments given without specifying name. The arguments will be given to all post-processors\n"
     ]
    },
    {
     "name": "stdout",
     "output_type": "stream",
     "text": [
      "[youtube] Extracting URL: https://www.youtube.com/watch?v=--ALJdZpYoA\n",
      "[youtube] --ALJdZpYoA: Downloading webpage\n",
      "[youtube] --ALJdZpYoA: Downloading android player API JSON\n",
      "[youtube] --ALJdZpYoA: Downloading MPD manifest\n",
      "[info] --ALJdZpYoA: Downloading 1 format(s): 140\n",
      "[dashsegments] Total fragments: 1\n",
      "[download] Destination: /Users/cafalena/HOUSE/@Code/Practice/ai_0014_CNN_Urbansound/AudioSet/Music/--ALJdZpYoA_30.0-40.0.m4a\n",
      "[download] 100% of    3.52MiB in 00:00:00 at 4.26MiB/s               \n",
      "[FixupM4a] Correcting container of \"/Users/cafalena/HOUSE/@Code/Practice/ai_0014_CNN_Urbansound/AudioSet/Music/--ALJdZpYoA_30.0-40.0.m4a\"\n",
      "[ExtractAudio] Destination: /Users/cafalena/HOUSE/@Code/Practice/ai_0014_CNN_Urbansound/AudioSet/Music/--ALJdZpYoA_30.0-40.0.ogg\n"
     ]
    },
    {
     "name": "stderr",
     "output_type": "stream",
     "text": [
      "ERROR: Postprocessing: audio conversion failed: Unknown encoder 'libvorbis'\n",
      "WARNING: Post-Processor arguments given without specifying name. The arguments will be given to all post-processors\n"
     ]
    },
    {
     "name": "stdout",
     "output_type": "stream",
     "text": [
      "[youtube] Extracting URL: https://www.youtube.com/watch?v=--ALMd2UbwA\n",
      "[youtube] --ALMd2UbwA: Downloading webpage\n",
      "[youtube] --ALMd2UbwA: Downloading android player API JSON\n",
      "[info] --ALMd2UbwA: Downloading 1 format(s): 251\n",
      "[dashsegments] Total fragments: 1\n",
      "[download] Destination: /Users/cafalena/HOUSE/@Code/Practice/ai_0014_CNN_Urbansound/AudioSet/Music/--ALMd2UbwA_30.0-40.0.webm\n",
      "[download] 100% of    3.67MiB in 00:00:01 at 3.29MiB/s               \n",
      "[ExtractAudio] Destination: /Users/cafalena/HOUSE/@Code/Practice/ai_0014_CNN_Urbansound/AudioSet/Music/--ALMd2UbwA_30.0-40.0.ogg\n"
     ]
    },
    {
     "name": "stderr",
     "output_type": "stream",
     "text": [
      "ERROR: Postprocessing: audio conversion failed: Unknown encoder 'libvorbis'\n",
      "WARNING: Post-Processor arguments given without specifying name. The arguments will be given to all post-processors\n"
     ]
    },
    {
     "name": "stdout",
     "output_type": "stream",
     "text": [
      "[youtube] Extracting URL: https://www.youtube.com/watch?v=--AMykt23x8\n",
      "[youtube] --AMykt23x8: Downloading webpage\n",
      "[youtube] --AMykt23x8: Downloading android player API JSON\n",
      "[info] --AMykt23x8: Downloading 1 format(s): 251\n",
      "[dashsegments] Total fragments: 2\n",
      "[download] Destination: /Users/cafalena/HOUSE/@Code/Practice/ai_0014_CNN_Urbansound/AudioSet/Music/--AMykt23x8_370.0-380.0.webm\n",
      "[download] 100% of   11.02MiB in 00:00:02 at 5.20MiB/s                  \n",
      "[ExtractAudio] Destination: /Users/cafalena/HOUSE/@Code/Practice/ai_0014_CNN_Urbansound/AudioSet/Music/--AMykt23x8_370.0-380.0.ogg\n"
     ]
    },
    {
     "name": "stderr",
     "output_type": "stream",
     "text": [
      "ERROR: Postprocessing: audio conversion failed: Unknown encoder 'libvorbis'\n",
      "cp: /Users/cafalena/HOUSE/@Code/Practice/ai_0014_CNN_Urbansound/AudioSet/Speech/--AMykt23x8_370.0-380.0.wav: No such file or directory\n",
      "WARNING: Post-Processor arguments given without specifying name. The arguments will be given to all post-processors\n"
     ]
    },
    {
     "name": "stdout",
     "output_type": "stream",
     "text": [
      "[youtube] Extracting URL: https://www.youtube.com/watch?v=--AQ3p3ymeE\n",
      "[youtube] --AQ3p3ymeE: Downloading webpage\n",
      "[youtube] --AQ3p3ymeE: Downloading android player API JSON\n",
      "[info] --AQ3p3ymeE: Downloading 1 format(s): 251\n",
      "[dashsegments] Total fragments: 1\n",
      "[download] Destination: /Users/cafalena/HOUSE/@Code/Practice/ai_0014_CNN_Urbansound/AudioSet/Music/--AQ3p3ymeE_70.0-80.0.webm\n",
      "[download] 100% of    2.53MiB in 00:00:00 at 3.40MiB/s               \n",
      "[ExtractAudio] Destination: /Users/cafalena/HOUSE/@Code/Practice/ai_0014_CNN_Urbansound/AudioSet/Music/--AQ3p3ymeE_70.0-80.0.ogg\n"
     ]
    },
    {
     "name": "stderr",
     "output_type": "stream",
     "text": [
      "ERROR: Postprocessing: audio conversion failed: Unknown encoder 'libvorbis'\n",
      "cp: /Users/cafalena/HOUSE/@Code/Practice/ai_0014_CNN_Urbansound/AudioSet/Rock music/--AQ3p3ymeE_70.0-80.0.wav: No such file or directory\n",
      "WARNING: Post-Processor arguments given without specifying name. The arguments will be given to all post-processors\n"
     ]
    },
    {
     "name": "stdout",
     "output_type": "stream",
     "text": [
      "[youtube] Extracting URL: https://www.youtube.com/watch?v=--AQYzDx57k\n",
      "[youtube] --AQYzDx57k: Downloading webpage\n",
      "[youtube] --AQYzDx57k: Downloading android player API JSON\n",
      "[info] --AQYzDx57k: Downloading 1 format(s): 251\n",
      "[dashsegments] Total fragments: 1\n",
      "[download] Destination: /Users/cafalena/HOUSE/@Code/Practice/ai_0014_CNN_Urbansound/AudioSet/Chuckle, chortle/--AQYzDx57k_0.0-10.0.webm\n",
      "[download] 100% of    4.53MiB in 00:00:00 at 7.91MiB/s               \n",
      "[ExtractAudio] Destination: /Users/cafalena/HOUSE/@Code/Practice/ai_0014_CNN_Urbansound/AudioSet/Chuckle, chortle/--AQYzDx57k_0.0-10.0.ogg\n"
     ]
    },
    {
     "name": "stderr",
     "output_type": "stream",
     "text": [
      "ERROR: Postprocessing: audio conversion failed: Unknown encoder 'libvorbis'\n",
      "cp: /Users/cafalena/HOUSE/@Code/Practice/ai_0014_CNN_Urbansound/AudioSet/Speech/--AQYzDx57k_0.0-10.0.wav: No such file or directory\n",
      "WARNING: Post-Processor arguments given without specifying name. The arguments will be given to all post-processors\n"
     ]
    },
    {
     "name": "stdout",
     "output_type": "stream",
     "text": [
      "[youtube] Extracting URL: https://www.youtube.com/watch?v=--AUTFkUQhM\n",
      "[youtube] --AUTFkUQhM: Downloading webpage\n",
      "[youtube] --AUTFkUQhM: Downloading android player API JSON\n"
     ]
    },
    {
     "name": "stderr",
     "output_type": "stream",
     "text": [
      "ERROR: [youtube] --AUTFkUQhM: Video unavailable\n",
      "WARNING: Post-Processor arguments given without specifying name. The arguments will be given to all post-processors\n"
     ]
    },
    {
     "name": "stdout",
     "output_type": "stream",
     "text": [
      "[youtube] Extracting URL: https://www.youtube.com/watch?v=--Aig9EHjy0\n",
      "[youtube] --Aig9EHjy0: Downloading webpage\n",
      "[youtube] --Aig9EHjy0: Downloading android player API JSON\n",
      "[info] --Aig9EHjy0: Downloading 1 format(s): 251\n",
      "[dashsegments] Total fragments: 1\n",
      "[download] Destination: /Users/cafalena/HOUSE/@Code/Practice/ai_0014_CNN_Urbansound/AudioSet/Wind/--Aig9EHjy0_30.0-40.0.webm\n",
      "[download] 100% of    1.10MiB in 00:00:00 at 4.07MiB/s               \n",
      "[ExtractAudio] Destination: /Users/cafalena/HOUSE/@Code/Practice/ai_0014_CNN_Urbansound/AudioSet/Wind/--Aig9EHjy0_30.0-40.0.ogg\n"
     ]
    },
    {
     "name": "stderr",
     "output_type": "stream",
     "text": [
      "ERROR: Postprocessing: audio conversion failed: Unknown encoder 'libvorbis'\n",
      "cp: /Users/cafalena/HOUSE/@Code/Practice/ai_0014_CNN_Urbansound/AudioSet/Wind noise (microphone)/--Aig9EHjy0_30.0-40.0.wav: No such file or directory\n",
      "WARNING: Post-Processor arguments given without specifying name. The arguments will be given to all post-processors\n"
     ]
    },
    {
     "name": "stdout",
     "output_type": "stream",
     "text": [
      "[youtube] Extracting URL: https://www.youtube.com/watch?v=--AndYr26Ns\n",
      "[youtube] --AndYr26Ns: Downloading webpage\n",
      "[youtube] --AndYr26Ns: Downloading android player API JSON\n",
      "[info] --AndYr26Ns: Downloading 1 format(s): 251\n",
      "[dashsegments] Total fragments: 1\n",
      "[download] Destination: /Users/cafalena/HOUSE/@Code/Practice/ai_0014_CNN_Urbansound/AudioSet/Music/--AndYr26Ns_90.0-100.0.webm\n",
      "[download] 100% of    4.54MiB in 00:00:01 at 4.11MiB/s               \n",
      "[ExtractAudio] Destination: /Users/cafalena/HOUSE/@Code/Practice/ai_0014_CNN_Urbansound/AudioSet/Music/--AndYr26Ns_90.0-100.0.ogg\n"
     ]
    },
    {
     "name": "stderr",
     "output_type": "stream",
     "text": [
      "ERROR: Postprocessing: audio conversion failed: Unknown encoder 'libvorbis'\n",
      "WARNING: Post-Processor arguments given without specifying name. The arguments will be given to all post-processors\n"
     ]
    },
    {
     "name": "stdout",
     "output_type": "stream",
     "text": [
      "[youtube] Extracting URL: https://www.youtube.com/watch?v=--AqfES5q_0\n",
      "[youtube] --AqfES5q_0: Downloading webpage\n",
      "[youtube] --AqfES5q_0: Downloading android player API JSON\n",
      "[info] --AqfES5q_0: Downloading 1 format(s): 251\n",
      "[dashsegments] Total fragments: 2\n",
      "[download] Destination: /Users/cafalena/HOUSE/@Code/Practice/ai_0014_CNN_Urbansound/AudioSet/Speech/--AqfES5q_0_30.0-40.0.webm\n",
      "[download] 100% of   11.16MiB in 00:00:02 at 5.17MiB/s                  \n",
      "[ExtractAudio] Destination: /Users/cafalena/HOUSE/@Code/Practice/ai_0014_CNN_Urbansound/AudioSet/Speech/--AqfES5q_0_30.0-40.0.ogg\n"
     ]
    },
    {
     "name": "stderr",
     "output_type": "stream",
     "text": [
      "ERROR: Postprocessing: audio conversion failed: Unknown encoder 'libvorbis'\n",
      "WARNING: Post-Processor arguments given without specifying name. The arguments will be given to all post-processors\n"
     ]
    },
    {
     "name": "stdout",
     "output_type": "stream",
     "text": [
      "[youtube] Extracting URL: https://www.youtube.com/watch?v=--AuJ3up8Xs\n",
      "[youtube] --AuJ3up8Xs: Downloading webpage\n",
      "[youtube] --AuJ3up8Xs: Downloading android player API JSON\n",
      "[info] --AuJ3up8Xs: Downloading 1 format(s): 251\n",
      "[dashsegments] Total fragments: 1\n",
      "[download] Destination: /Users/cafalena/HOUSE/@Code/Practice/ai_0014_CNN_Urbansound/AudioSet/Speech/--AuJ3up8Xs_30.0-40.0.webm\n",
      "[download] 100% of    2.93MiB in 00:00:00 at 3.15MiB/s               \n",
      "[ExtractAudio] Destination: /Users/cafalena/HOUSE/@Code/Practice/ai_0014_CNN_Urbansound/AudioSet/Speech/--AuJ3up8Xs_30.0-40.0.ogg\n"
     ]
    },
    {
     "name": "stderr",
     "output_type": "stream",
     "text": [
      "ERROR: Postprocessing: audio conversion failed: Unknown encoder 'libvorbis'\n",
      "WARNING: Post-Processor arguments given without specifying name. The arguments will be given to all post-processors\n"
     ]
    },
    {
     "name": "stdout",
     "output_type": "stream",
     "text": [
      "[youtube] Extracting URL: https://www.youtube.com/watch?v=--B-8v8HQ4k\n",
      "[youtube] --B-8v8HQ4k: Downloading webpage\n",
      "[youtube] --B-8v8HQ4k: Downloading android player API JSON\n",
      "[youtube] --B-8v8HQ4k: Downloading MPD manifest\n",
      "[info] --B-8v8HQ4k: Downloading 1 format(s): 251\n",
      "[dashsegments] Total fragments: 1\n",
      "[download] Destination: /Users/cafalena/HOUSE/@Code/Practice/ai_0014_CNN_Urbansound/AudioSet/Speech/--B-8v8HQ4k_0.0-9.0.webm\n",
      "[download] 100% of  136.34KiB in 00:00:00 at 339.89KiB/s             \n",
      "[ExtractAudio] Destination: /Users/cafalena/HOUSE/@Code/Practice/ai_0014_CNN_Urbansound/AudioSet/Speech/--B-8v8HQ4k_0.0-9.0.ogg\n"
     ]
    },
    {
     "name": "stderr",
     "output_type": "stream",
     "text": [
      "ERROR: Postprocessing: audio conversion failed: Unknown encoder 'libvorbis'\n",
      "WARNING: Post-Processor arguments given without specifying name. The arguments will be given to all post-processors\n"
     ]
    },
    {
     "name": "stdout",
     "output_type": "stream",
     "text": [
      "[youtube] Extracting URL: https://www.youtube.com/watch?v=--B7YBAygZU\n",
      "[youtube] --B7YBAygZU: Downloading webpage\n",
      "[youtube] --B7YBAygZU: Downloading android player API JSON\n",
      "[youtube] --B7YBAygZU: Downloading MPD manifest\n",
      "[info] --B7YBAygZU: Downloading 1 format(s): 251\n",
      "[dashsegments] Total fragments: 1\n",
      "[download] Destination: /Users/cafalena/HOUSE/@Code/Practice/ai_0014_CNN_Urbansound/AudioSet/Crowd/--B7YBAygZU_0.0-10.0.webm\n",
      "[download] 100% of    2.00MiB in 00:00:00 at 3.14MiB/s               \n",
      "[ExtractAudio] Destination: /Users/cafalena/HOUSE/@Code/Practice/ai_0014_CNN_Urbansound/AudioSet/Crowd/--B7YBAygZU_0.0-10.0.ogg\n"
     ]
    },
    {
     "name": "stderr",
     "output_type": "stream",
     "text": [
      "ERROR: Postprocessing: audio conversion failed: Unknown encoder 'libvorbis'\n",
      "cp: /Users/cafalena/HOUSE/@Code/Practice/ai_0014_CNN_Urbansound/AudioSet/Music/--B7YBAygZU_0.0-10.0.wav: No such file or directory\n",
      "cp: /Users/cafalena/HOUSE/@Code/Practice/ai_0014_CNN_Urbansound/AudioSet/Speech/--B7YBAygZU_0.0-10.0.wav: No such file or directory\n",
      "WARNING: Post-Processor arguments given without specifying name. The arguments will be given to all post-processors\n"
     ]
    },
    {
     "name": "stdout",
     "output_type": "stream",
     "text": [
      "[youtube] Extracting URL: https://www.youtube.com/watch?v=--BB-7-YoIk\n",
      "[youtube] --BB-7-YoIk: Downloading webpage\n",
      "[youtube] --BB-7-YoIk: Downloading android player API JSON\n",
      "[info] --BB-7-YoIk: Downloading 1 format(s): 251\n",
      "[dashsegments] Total fragments: 1\n",
      "[download] Destination: /Users/cafalena/HOUSE/@Code/Practice/ai_0014_CNN_Urbansound/AudioSet/Singing/--BB-7-YoIk_220.0-230.0.webm\n",
      "[download] 100% of    4.41MiB in 00:00:00 at 4.57MiB/s               \n",
      "[ExtractAudio] Destination: /Users/cafalena/HOUSE/@Code/Practice/ai_0014_CNN_Urbansound/AudioSet/Singing/--BB-7-YoIk_220.0-230.0.ogg\n"
     ]
    },
    {
     "name": "stderr",
     "output_type": "stream",
     "text": [
      "ERROR: Postprocessing: audio conversion failed: Unknown encoder 'libvorbis'\n",
      "cp: /Users/cafalena/HOUSE/@Code/Practice/ai_0014_CNN_Urbansound/AudioSet/Music/--BB-7-YoIk_220.0-230.0.wav: No such file or directory\n",
      "WARNING: Post-Processor arguments given without specifying name. The arguments will be given to all post-processors\n"
     ]
    },
    {
     "name": "stdout",
     "output_type": "stream",
     "text": [
      "[youtube] Extracting URL: https://www.youtube.com/watch?v=--BCZB_m2q0\n",
      "[youtube] --BCZB_m2q0: Downloading webpage\n",
      "[youtube] --BCZB_m2q0: Downloading android player API JSON\n",
      "[info] --BCZB_m2q0: Downloading 1 format(s): 251\n",
      "[dashsegments] Total fragments: 1\n",
      "[download] Destination: /Users/cafalena/HOUSE/@Code/Practice/ai_0014_CNN_Urbansound/AudioSet/Basketball bounce/--BCZB_m2q0_30.0-40.0.webm\n",
      "[download] 100% of    5.00MiB in 00:00:01 at 4.02MiB/s               \n",
      "[ExtractAudio] Destination: /Users/cafalena/HOUSE/@Code/Practice/ai_0014_CNN_Urbansound/AudioSet/Basketball bounce/--BCZB_m2q0_30.0-40.0.ogg\n"
     ]
    },
    {
     "name": "stderr",
     "output_type": "stream",
     "text": [
      "ERROR: Postprocessing: audio conversion failed: Unknown encoder 'libvorbis'\n",
      "cp: /Users/cafalena/HOUSE/@Code/Practice/ai_0014_CNN_Urbansound/AudioSet/Music/--BCZB_m2q0_30.0-40.0.wav: No such file or directory\n",
      "cp: /Users/cafalena/HOUSE/@Code/Practice/ai_0014_CNN_Urbansound/AudioSet/Sound effect/--BCZB_m2q0_30.0-40.0.wav: No such file or directory\n",
      "WARNING: Post-Processor arguments given without specifying name. The arguments will be given to all post-processors\n"
     ]
    },
    {
     "name": "stdout",
     "output_type": "stream",
     "text": [
      "[youtube] Extracting URL: https://www.youtube.com/watch?v=--BEDGAdLFs\n",
      "[youtube] --BEDGAdLFs: Downloading webpage\n",
      "[youtube] --BEDGAdLFs: Downloading android player API JSON\n",
      "[info] --BEDGAdLFs: Downloading 1 format(s): 140\n",
      "[dashsegments] Total fragments: 1\n",
      "[download] Destination: /Users/cafalena/HOUSE/@Code/Practice/ai_0014_CNN_Urbansound/AudioSet/Guitar/--BEDGAdLFs_30.0-40.0.m4a\n",
      "[download] 100% of    5.02MiB in 00:00:01 at 5.00MiB/s               \n",
      "[FixupM4a] Correcting container of \"/Users/cafalena/HOUSE/@Code/Practice/ai_0014_CNN_Urbansound/AudioSet/Guitar/--BEDGAdLFs_30.0-40.0.m4a\"\n",
      "[ExtractAudio] Destination: /Users/cafalena/HOUSE/@Code/Practice/ai_0014_CNN_Urbansound/AudioSet/Guitar/--BEDGAdLFs_30.0-40.0.ogg\n"
     ]
    },
    {
     "name": "stderr",
     "output_type": "stream",
     "text": [
      "ERROR: Postprocessing: audio conversion failed: Unknown encoder 'libvorbis'\n",
      "cp: /Users/cafalena/HOUSE/@Code/Practice/ai_0014_CNN_Urbansound/AudioSet/Acoustic guitar/--BEDGAdLFs_30.0-40.0.wav: No such file or directory\n",
      "cp: /Users/cafalena/HOUSE/@Code/Practice/ai_0014_CNN_Urbansound/AudioSet/Music/--BEDGAdLFs_30.0-40.0.wav: No such file or directory\n",
      "cp: /Users/cafalena/HOUSE/@Code/Practice/ai_0014_CNN_Urbansound/AudioSet/Musical instrument/--BEDGAdLFs_30.0-40.0.wav: No such file or directory\n",
      "WARNING: Post-Processor arguments given without specifying name. The arguments will be given to all post-processors\n"
     ]
    },
    {
     "name": "stdout",
     "output_type": "stream",
     "text": [
      "[youtube] Extracting URL: https://www.youtube.com/watch?v=--BEldtpCaU\n",
      "[youtube] --BEldtpCaU: Downloading webpage\n",
      "[youtube] --BEldtpCaU: Downloading android player API JSON\n",
      "[youtube] --BEldtpCaU: Downloading MPD manifest\n",
      "[info] --BEldtpCaU: Downloading 1 format(s): 251\n",
      "[dashsegments] Total fragments: 1\n",
      "[download] Destination: /Users/cafalena/HOUSE/@Code/Practice/ai_0014_CNN_Urbansound/AudioSet/Guitar/--BEldtpCaU_30.0-40.0.webm\n",
      "[download] 100% of  550.98KiB in 00:00:00 at 1.09MiB/s               \n",
      "[ExtractAudio] Destination: /Users/cafalena/HOUSE/@Code/Practice/ai_0014_CNN_Urbansound/AudioSet/Guitar/--BEldtpCaU_30.0-40.0.ogg\n"
     ]
    },
    {
     "name": "stderr",
     "output_type": "stream",
     "text": [
      "ERROR: Postprocessing: audio conversion failed: Unknown encoder 'libvorbis'\n",
      "cp: /Users/cafalena/HOUSE/@Code/Practice/ai_0014_CNN_Urbansound/AudioSet/Music/--BEldtpCaU_30.0-40.0.wav: No such file or directory\n",
      "cp: /Users/cafalena/HOUSE/@Code/Practice/ai_0014_CNN_Urbansound/AudioSet/Musical instrument/--BEldtpCaU_30.0-40.0.wav: No such file or directory\n",
      "cp: /Users/cafalena/HOUSE/@Code/Practice/ai_0014_CNN_Urbansound/AudioSet/Plucked string instrument/--BEldtpCaU_30.0-40.0.wav: No such file or directory\n",
      "WARNING: Post-Processor arguments given without specifying name. The arguments will be given to all post-processors\n"
     ]
    },
    {
     "name": "stdout",
     "output_type": "stream",
     "text": [
      "[youtube] Extracting URL: https://www.youtube.com/watch?v=--BFPeFaj2o\n",
      "[youtube] --BFPeFaj2o: Downloading webpage\n",
      "[youtube] --BFPeFaj2o: Downloading android player API JSON\n",
      "[info] --BFPeFaj2o: Downloading 1 format(s): 251\n",
      "[dashsegments] Total fragments: 1\n",
      "[download] Destination: /Users/cafalena/HOUSE/@Code/Practice/ai_0014_CNN_Urbansound/AudioSet/Railroad car, train wagon/--BFPeFaj2o_0.0-10.0.webm\n",
      "[download] 100% of  498.94KiB in 00:00:00 at 1.20MiB/s               \n",
      "[ExtractAudio] Destination: /Users/cafalena/HOUSE/@Code/Practice/ai_0014_CNN_Urbansound/AudioSet/Railroad car, train wagon/--BFPeFaj2o_0.0-10.0.ogg\n"
     ]
    },
    {
     "name": "stderr",
     "output_type": "stream",
     "text": [
      "ERROR: Postprocessing: audio conversion failed: Unknown encoder 'libvorbis'\n",
      "cp: /Users/cafalena/HOUSE/@Code/Practice/ai_0014_CNN_Urbansound/AudioSet/Rail transport/--BFPeFaj2o_0.0-10.0.wav: No such file or directory\n",
      "cp: /Users/cafalena/HOUSE/@Code/Practice/ai_0014_CNN_Urbansound/AudioSet/Train/--BFPeFaj2o_0.0-10.0.wav: No such file or directory\n",
      "cp: /Users/cafalena/HOUSE/@Code/Practice/ai_0014_CNN_Urbansound/AudioSet/Vehicle/--BFPeFaj2o_0.0-10.0.wav: No such file or directory\n",
      "cp: /Users/cafalena/HOUSE/@Code/Practice/ai_0014_CNN_Urbansound/AudioSet/Outside, rural or natural/--BFPeFaj2o_0.0-10.0.wav: No such file or directory\n",
      "WARNING: Post-Processor arguments given without specifying name. The arguments will be given to all post-processors\n"
     ]
    },
    {
     "name": "stdout",
     "output_type": "stream",
     "text": [
      "[youtube] Extracting URL: https://www.youtube.com/watch?v=--BIlxKVCYk\n",
      "[youtube] --BIlxKVCYk: Downloading webpage\n",
      "[youtube] --BIlxKVCYk: Downloading android player API JSON\n",
      "[youtube] --BIlxKVCYk: Downloading player e50626d8\n",
      "[info] --BIlxKVCYk: Downloading 1 format(s): 140\n",
      "[dashsegments] Total fragments: 1\n",
      "[download] Destination: /Users/cafalena/HOUSE/@Code/Practice/ai_0014_CNN_Urbansound/AudioSet/Male speech, man speaking/--BIlxKVCYk_30.0-40.0.m4a\n",
      "[download] 100% of  627.22KiB in 00:00:00 at 4.19MiB/s               \n",
      "[FixupM4a] Correcting container of \"/Users/cafalena/HOUSE/@Code/Practice/ai_0014_CNN_Urbansound/AudioSet/Male speech, man speaking/--BIlxKVCYk_30.0-40.0.m4a\"\n",
      "[ExtractAudio] Destination: /Users/cafalena/HOUSE/@Code/Practice/ai_0014_CNN_Urbansound/AudioSet/Male speech, man speaking/--BIlxKVCYk_30.0-40.0.ogg\n"
     ]
    },
    {
     "name": "stderr",
     "output_type": "stream",
     "text": [
      "ERROR: Postprocessing: audio conversion failed: Unknown encoder 'libvorbis'\n",
      "cp: /Users/cafalena/HOUSE/@Code/Practice/ai_0014_CNN_Urbansound/AudioSet/Speech/--BIlxKVCYk_30.0-40.0.wav: No such file or directory\n",
      "WARNING: Post-Processor arguments given without specifying name. The arguments will be given to all post-processors\n"
     ]
    },
    {
     "name": "stdout",
     "output_type": "stream",
     "text": [
      "[youtube] Extracting URL: https://www.youtube.com/watch?v=--BIwg9KRxI\n",
      "[youtube] --BIwg9KRxI: Downloading webpage\n",
      "[youtube] --BIwg9KRxI: Downloading android player API JSON\n",
      "[info] --BIwg9KRxI: Downloading 1 format(s): 251\n",
      "[dashsegments] Total fragments: 1\n",
      "[download] Destination: /Users/cafalena/HOUSE/@Code/Practice/ai_0014_CNN_Urbansound/AudioSet/Radio/--BIwg9KRxI_130.0-140.0.webm\n",
      "[download] 100% of    4.39MiB in 00:00:00 at 5.06MiB/s               \n",
      "[ExtractAudio] Destination: /Users/cafalena/HOUSE/@Code/Practice/ai_0014_CNN_Urbansound/AudioSet/Radio/--BIwg9KRxI_130.0-140.0.ogg\n"
     ]
    },
    {
     "name": "stderr",
     "output_type": "stream",
     "text": [
      "ERROR: Postprocessing: audio conversion failed: Unknown encoder 'libvorbis'\n",
      "cp: /Users/cafalena/HOUSE/@Code/Practice/ai_0014_CNN_Urbansound/AudioSet/Speech/--BIwg9KRxI_130.0-140.0.wav: No such file or directory\n",
      "cp: /Users/cafalena/HOUSE/@Code/Practice/ai_0014_CNN_Urbansound/AudioSet/Electronic tuner/--BIwg9KRxI_130.0-140.0.wav: No such file or directory\n",
      "WARNING: Post-Processor arguments given without specifying name. The arguments will be given to all post-processors\n"
     ]
    },
    {
     "name": "stdout",
     "output_type": "stream",
     "text": [
      "[youtube] Extracting URL: https://www.youtube.com/watch?v=--BMVWju1-w\n",
      "[youtube] --BMVWju1-w: Downloading webpage\n",
      "[youtube] --BMVWju1-w: Downloading android player API JSON\n",
      "[info] --BMVWju1-w: Downloading 1 format(s): 251\n",
      "[dashsegments] Total fragments: 1\n",
      "[download] Destination: /Users/cafalena/HOUSE/@Code/Practice/ai_0014_CNN_Urbansound/AudioSet/Music/--BMVWju1-w_30.0-40.0.webm\n",
      "[download] 100% of    1.89MiB in 00:00:00 at 3.80MiB/s               \n",
      "[ExtractAudio] Destination: /Users/cafalena/HOUSE/@Code/Practice/ai_0014_CNN_Urbansound/AudioSet/Music/--BMVWju1-w_30.0-40.0.ogg\n"
     ]
    },
    {
     "name": "stderr",
     "output_type": "stream",
     "text": [
      "ERROR: Postprocessing: audio conversion failed: Unknown encoder 'libvorbis'\n",
      "cp: /Users/cafalena/HOUSE/@Code/Practice/ai_0014_CNN_Urbansound/AudioSet/Rhythm and blues/--BMVWju1-w_30.0-40.0.wav: No such file or directory\n",
      "WARNING: Post-Processor arguments given without specifying name. The arguments will be given to all post-processors\n"
     ]
    },
    {
     "name": "stdout",
     "output_type": "stream",
     "text": [
      "[youtube] Extracting URL: https://www.youtube.com/watch?v=--BdguqnSjY\n",
      "[youtube] --BdguqnSjY: Downloading webpage\n",
      "[youtube] --BdguqnSjY: Downloading android player API JSON\n",
      "[info] --BdguqnSjY: Downloading 1 format(s): 251\n",
      "[dashsegments] Total fragments: 2\n",
      "[download] Destination: /Users/cafalena/HOUSE/@Code/Practice/ai_0014_CNN_Urbansound/AudioSet/Reverberation/--BdguqnSjY_30.0-40.0.webm\n",
      "[download] 100% of   13.92MiB in 00:00:02 at 6.91MiB/s                  \n",
      "[ExtractAudio] Destination: /Users/cafalena/HOUSE/@Code/Practice/ai_0014_CNN_Urbansound/AudioSet/Reverberation/--BdguqnSjY_30.0-40.0.ogg\n"
     ]
    },
    {
     "name": "stderr",
     "output_type": "stream",
     "text": [
      "ERROR: Postprocessing: audio conversion failed: Unknown encoder 'libvorbis'\n",
      "cp: /Users/cafalena/HOUSE/@Code/Practice/ai_0014_CNN_Urbansound/AudioSet/Music/--BdguqnSjY_30.0-40.0.wav: No such file or directory\n",
      "cp: /Users/cafalena/HOUSE/@Code/Practice/ai_0014_CNN_Urbansound/AudioSet/Speech/--BdguqnSjY_30.0-40.0.wav: No such file or directory\n",
      "WARNING: Post-Processor arguments given without specifying name. The arguments will be given to all post-processors\n"
     ]
    },
    {
     "name": "stdout",
     "output_type": "stream",
     "text": [
      "[youtube] Extracting URL: https://www.youtube.com/watch?v=--Bj994YDQI\n",
      "[youtube] --Bj994YDQI: Downloading webpage\n",
      "[youtube] --Bj994YDQI: Downloading android player API JSON\n",
      "[info] --Bj994YDQI: Downloading 1 format(s): 251\n",
      "[dashsegments] Total fragments: 1\n",
      "[download] Destination: /Users/cafalena/HOUSE/@Code/Practice/ai_0014_CNN_Urbansound/AudioSet/Music/--Bj994YDQI_30.0-40.0.webm\n",
      "[download] 100% of    9.97MiB in 00:00:01 at 6.01MiB/s               \n",
      "[ExtractAudio] Destination: /Users/cafalena/HOUSE/@Code/Practice/ai_0014_CNN_Urbansound/AudioSet/Music/--Bj994YDQI_30.0-40.0.ogg\n"
     ]
    },
    {
     "name": "stderr",
     "output_type": "stream",
     "text": [
      "ERROR: Postprocessing: audio conversion failed: Unknown encoder 'libvorbis'\n",
      "cp: /Users/cafalena/HOUSE/@Code/Practice/ai_0014_CNN_Urbansound/AudioSet/Speech/--Bj994YDQI_30.0-40.0.wav: No such file or directory\n",
      "WARNING: Post-Processor arguments given without specifying name. The arguments will be given to all post-processors\n"
     ]
    },
    {
     "name": "stdout",
     "output_type": "stream",
     "text": [
      "[youtube] Extracting URL: https://www.youtube.com/watch?v=--BnbZUiZ8o\n",
      "[youtube] --BnbZUiZ8o: Downloading webpage\n",
      "[youtube] --BnbZUiZ8o: Downloading android player API JSON\n",
      "[info] --BnbZUiZ8o: Downloading 1 format(s): 251\n",
      "[dashsegments] Total fragments: 1\n",
      "[download] Destination: /Users/cafalena/HOUSE/@Code/Practice/ai_0014_CNN_Urbansound/AudioSet/Music/--BnbZUiZ8o_30.0-40.0.webm\n",
      "[download] 100% of    4.11MiB in 00:00:00 at 4.55MiB/s               \n",
      "[ExtractAudio] Destination: /Users/cafalena/HOUSE/@Code/Practice/ai_0014_CNN_Urbansound/AudioSet/Music/--BnbZUiZ8o_30.0-40.0.ogg\n"
     ]
    },
    {
     "name": "stderr",
     "output_type": "stream",
     "text": [
      "ERROR: Postprocessing: audio conversion failed: Unknown encoder 'libvorbis'\n",
      "WARNING: Post-Processor arguments given without specifying name. The arguments will be given to all post-processors\n"
     ]
    },
    {
     "name": "stdout",
     "output_type": "stream",
     "text": [
      "[youtube] Extracting URL: https://www.youtube.com/watch?v=--BpV0SPLcs\n",
      "[youtube] --BpV0SPLcs: Downloading webpage\n",
      "[youtube] --BpV0SPLcs: Downloading android player API JSON\n",
      "[info] --BpV0SPLcs: Downloading 1 format(s): 251\n",
      "[dashsegments] Total fragments: 1\n",
      "[download] Destination: /Users/cafalena/HOUSE/@Code/Practice/ai_0014_CNN_Urbansound/AudioSet/Guitar/--BpV0SPLcs_30.0-40.0.webm\n",
      "[download] 100% of    4.20MiB in 00:00:00 at 4.24MiB/s               \n",
      "[ExtractAudio] Destination: /Users/cafalena/HOUSE/@Code/Practice/ai_0014_CNN_Urbansound/AudioSet/Guitar/--BpV0SPLcs_30.0-40.0.ogg\n"
     ]
    },
    {
     "name": "stderr",
     "output_type": "stream",
     "text": [
      "ERROR: Postprocessing: audio conversion failed: Unknown encoder 'libvorbis'\n",
      "cp: /Users/cafalena/HOUSE/@Code/Practice/ai_0014_CNN_Urbansound/AudioSet/Acoustic guitar/--BpV0SPLcs_30.0-40.0.wav: No such file or directory\n",
      "cp: /Users/cafalena/HOUSE/@Code/Practice/ai_0014_CNN_Urbansound/AudioSet/Music/--BpV0SPLcs_30.0-40.0.wav: No such file or directory\n",
      "cp: /Users/cafalena/HOUSE/@Code/Practice/ai_0014_CNN_Urbansound/AudioSet/Musical instrument/--BpV0SPLcs_30.0-40.0.wav: No such file or directory\n",
      "cp: /Users/cafalena/HOUSE/@Code/Practice/ai_0014_CNN_Urbansound/AudioSet/Strum/--BpV0SPLcs_30.0-40.0.wav: No such file or directory\n",
      "cp: /Users/cafalena/HOUSE/@Code/Practice/ai_0014_CNN_Urbansound/AudioSet/Plucked string instrument/--BpV0SPLcs_30.0-40.0.wav: No such file or directory\n",
      "WARNING: Post-Processor arguments given without specifying name. The arguments will be given to all post-processors\n"
     ]
    },
    {
     "name": "stdout",
     "output_type": "stream",
     "text": [
      "[youtube] Extracting URL: https://www.youtube.com/watch?v=--BslWBgH3k\n",
      "[youtube] --BslWBgH3k: Downloading webpage\n",
      "[youtube] --BslWBgH3k: Downloading android player API JSON\n",
      "[info] --BslWBgH3k: Downloading 1 format(s): 251\n",
      "[dashsegments] Total fragments: 3\n",
      "[download] Destination: /Users/cafalena/HOUSE/@Code/Practice/ai_0014_CNN_Urbansound/AudioSet/Background music/--BslWBgH3k_30.0-40.0.webm\n",
      "[download] 100% of   24.03MiB in 00:00:04 at 5.86MiB/s                  \n",
      "[ExtractAudio] Destination: /Users/cafalena/HOUSE/@Code/Practice/ai_0014_CNN_Urbansound/AudioSet/Background music/--BslWBgH3k_30.0-40.0.ogg\n"
     ]
    },
    {
     "name": "stderr",
     "output_type": "stream",
     "text": [
      "ERROR: Postprocessing: audio conversion failed: Unknown encoder 'libvorbis'\n",
      "cp: /Users/cafalena/HOUSE/@Code/Practice/ai_0014_CNN_Urbansound/AudioSet/Music/--BslWBgH3k_30.0-40.0.wav: No such file or directory\n",
      "cp: /Users/cafalena/HOUSE/@Code/Practice/ai_0014_CNN_Urbansound/AudioSet/Speech/--BslWBgH3k_30.0-40.0.wav: No such file or directory\n",
      "WARNING: Post-Processor arguments given without specifying name. The arguments will be given to all post-processors\n"
     ]
    },
    {
     "name": "stdout",
     "output_type": "stream",
     "text": [
      "[youtube] Extracting URL: https://www.youtube.com/watch?v=--Bu2xe4OSo\n",
      "[youtube] --Bu2xe4OSo: Downloading webpage\n",
      "[youtube] --Bu2xe4OSo: Downloading android player API JSON\n",
      "[info] --Bu2xe4OSo: Downloading 1 format(s): 251\n",
      "[dashsegments] Total fragments: 1\n",
      "[download] Destination: /Users/cafalena/HOUSE/@Code/Practice/ai_0014_CNN_Urbansound/AudioSet/Boat, Water vehicle/--Bu2xe4OSo_430.0-440.0.webm\n",
      "[download] 100% of    6.75MiB in 00:00:01 at 4.38MiB/s               \n",
      "[ExtractAudio] Destination: /Users/cafalena/HOUSE/@Code/Practice/ai_0014_CNN_Urbansound/AudioSet/Boat, Water vehicle/--Bu2xe4OSo_430.0-440.0.ogg\n"
     ]
    },
    {
     "name": "stderr",
     "output_type": "stream",
     "text": [
      "ERROR: Postprocessing: audio conversion failed: Unknown encoder 'libvorbis'\n",
      "cp: /Users/cafalena/HOUSE/@Code/Practice/ai_0014_CNN_Urbansound/AudioSet/Wind/--Bu2xe4OSo_430.0-440.0.wav: No such file or directory\n",
      "cp: /Users/cafalena/HOUSE/@Code/Practice/ai_0014_CNN_Urbansound/AudioSet/Rustle/--Bu2xe4OSo_430.0-440.0.wav: No such file or directory\n",
      "cp: /Users/cafalena/HOUSE/@Code/Practice/ai_0014_CNN_Urbansound/AudioSet/Vehicle/--Bu2xe4OSo_430.0-440.0.wav: No such file or directory\n",
      "cp: /Users/cafalena/HOUSE/@Code/Practice/ai_0014_CNN_Urbansound/AudioSet/Speech/--Bu2xe4OSo_430.0-440.0.wav: No such file or directory\n",
      "cp: /Users/cafalena/HOUSE/@Code/Practice/ai_0014_CNN_Urbansound/AudioSet/Wind noise (microphone)/--Bu2xe4OSo_430.0-440.0.wav: No such file or directory\n",
      "cp: /Users/cafalena/HOUSE/@Code/Practice/ai_0014_CNN_Urbansound/AudioSet/Outside, rural or natural/--Bu2xe4OSo_430.0-440.0.wav: No such file or directory\n",
      "WARNING: Post-Processor arguments given without specifying name. The arguments will be given to all post-processors\n"
     ]
    },
    {
     "name": "stdout",
     "output_type": "stream",
     "text": [
      "[youtube] Extracting URL: https://www.youtube.com/watch?v=--Bz8sbVdIY\n",
      "[youtube] --Bz8sbVdIY: Downloading webpage\n",
      "[youtube] --Bz8sbVdIY: Downloading android player API JSON\n"
     ]
    },
    {
     "name": "stderr",
     "output_type": "stream",
     "text": [
      "ERROR: [youtube] --Bz8sbVdIY: Video unavailable. This video is no longer available because the YouTube account associated with this video has been terminated.\n",
      "cp: /Users/cafalena/HOUSE/@Code/Practice/ai_0014_CNN_Urbansound/AudioSet/Speech/--Bz8sbVdIY_25.0-35.0.wav: No such file or directory\n",
      "WARNING: Post-Processor arguments given without specifying name. The arguments will be given to all post-processors\n"
     ]
    },
    {
     "name": "stdout",
     "output_type": "stream",
     "text": [
      "[youtube] Extracting URL: https://www.youtube.com/watch?v=--C2fgwf0vg\n",
      "[youtube] --C2fgwf0vg: Downloading webpage\n",
      "[youtube] --C2fgwf0vg: Downloading android player API JSON\n",
      "[info] --C2fgwf0vg: Downloading 1 format(s): 251\n",
      "[dashsegments] Total fragments: 1\n",
      "[download] Destination: /Users/cafalena/HOUSE/@Code/Practice/ai_0014_CNN_Urbansound/AudioSet/Sizzle/--C2fgwf0vg_200.0-210.0.webm\n",
      "[download] 100% of    4.87MiB in 00:00:00 at 5.27MiB/s               \n",
      "[ExtractAudio] Destination: /Users/cafalena/HOUSE/@Code/Practice/ai_0014_CNN_Urbansound/AudioSet/Sizzle/--C2fgwf0vg_200.0-210.0.ogg\n"
     ]
    },
    {
     "name": "stderr",
     "output_type": "stream",
     "text": [
      "ERROR: Postprocessing: audio conversion failed: Unknown encoder 'libvorbis'\n",
      "WARNING: Post-Processor arguments given without specifying name. The arguments will be given to all post-processors\n"
     ]
    },
    {
     "name": "stdout",
     "output_type": "stream",
     "text": [
      "[youtube] Extracting URL: https://www.youtube.com/watch?v=--C43J9zzJ8\n",
      "[youtube] --C43J9zzJ8: Downloading webpage\n",
      "[youtube] --C43J9zzJ8: Downloading android player API JSON\n"
     ]
    },
    {
     "name": "stderr",
     "output_type": "stream",
     "text": [
      "ERROR: [youtube] --C43J9zzJ8: This video has been removed for violating YouTube's Community Guidelines\n",
      "cp: /Users/cafalena/HOUSE/@Code/Practice/ai_0014_CNN_Urbansound/AudioSet/Speech/--C43J9zzJ8_90.0-100.0.wav: No such file or directory\n",
      "cp: /Users/cafalena/HOUSE/@Code/Practice/ai_0014_CNN_Urbansound/AudioSet/Inside, small room/--C43J9zzJ8_90.0-100.0.wav: No such file or directory\n",
      "WARNING: Post-Processor arguments given without specifying name. The arguments will be given to all post-processors\n"
     ]
    },
    {
     "name": "stdout",
     "output_type": "stream",
     "text": [
      "[youtube] Extracting URL: https://www.youtube.com/watch?v=--C4G3JCnPs\n",
      "[youtube] --C4G3JCnPs: Downloading webpage\n",
      "[youtube] --C4G3JCnPs: Downloading android player API JSON\n",
      "[youtube] --C4G3JCnPs: Downloading MPD manifest\n",
      "[info] --C4G3JCnPs: Downloading 1 format(s): 251\n",
      "[dashsegments] Total fragments: 1\n",
      "[download] Destination: /Users/cafalena/HOUSE/@Code/Practice/ai_0014_CNN_Urbansound/AudioSet/Speech/--C4G3JCnPs_30.0-40.0.webm\n",
      "[download] 100% of    3.29MiB in 00:00:00 at 3.37MiB/s               \n",
      "[ExtractAudio] Destination: /Users/cafalena/HOUSE/@Code/Practice/ai_0014_CNN_Urbansound/AudioSet/Speech/--C4G3JCnPs_30.0-40.0.ogg\n"
     ]
    },
    {
     "name": "stderr",
     "output_type": "stream",
     "text": [
      "ERROR: Postprocessing: audio conversion failed: Unknown encoder 'libvorbis'\n",
      "WARNING: Post-Processor arguments given without specifying name. The arguments will be given to all post-processors\n"
     ]
    },
    {
     "name": "stdout",
     "output_type": "stream",
     "text": [
      "[youtube] Extracting URL: https://www.youtube.com/watch?v=--C51aSN1N8\n",
      "[youtube] --C51aSN1N8: Downloading webpage\n",
      "[youtube] --C51aSN1N8: Downloading android player API JSON\n",
      "[info] --C51aSN1N8: Downloading 1 format(s): 251\n",
      "[dashsegments] Total fragments: 1\n",
      "[download] Destination: /Users/cafalena/HOUSE/@Code/Practice/ai_0014_CNN_Urbansound/AudioSet/Dubstep/--C51aSN1N8_30.0-40.0.webm\n",
      "[download] 100% of    2.32MiB in 00:00:00 at 3.49MiB/s               \n",
      "[ExtractAudio] Destination: /Users/cafalena/HOUSE/@Code/Practice/ai_0014_CNN_Urbansound/AudioSet/Dubstep/--C51aSN1N8_30.0-40.0.ogg\n"
     ]
    },
    {
     "name": "stderr",
     "output_type": "stream",
     "text": [
      "ERROR: Postprocessing: audio conversion failed: Unknown encoder 'libvorbis'\n",
      "WARNING: Post-Processor arguments given without specifying name. The arguments will be given to all post-processors\n"
     ]
    },
    {
     "name": "stdout",
     "output_type": "stream",
     "text": [
      "[youtube] Extracting URL: https://www.youtube.com/watch?v=--C6HJ_gBPI\n",
      "[youtube] --C6HJ_gBPI: Downloading webpage\n",
      "[youtube] --C6HJ_gBPI: Downloading android player API JSON\n",
      "[info] --C6HJ_gBPI: Downloading 1 format(s): 251\n",
      "[dashsegments] Total fragments: 1\n",
      "[download] Destination: /Users/cafalena/HOUSE/@Code/Practice/ai_0014_CNN_Urbansound/AudioSet/Music/--C6HJ_gBPI_30.0-40.0.webm\n",
      "[download] 100% of    2.29MiB in 00:00:01 at 1.72MiB/s               \n",
      "[ExtractAudio] Destination: /Users/cafalena/HOUSE/@Code/Practice/ai_0014_CNN_Urbansound/AudioSet/Music/--C6HJ_gBPI_30.0-40.0.ogg\n"
     ]
    },
    {
     "name": "stderr",
     "output_type": "stream",
     "text": [
      "ERROR: Postprocessing: audio conversion failed: Unknown encoder 'libvorbis'\n",
      "WARNING: Post-Processor arguments given without specifying name. The arguments will be given to all post-processors\n"
     ]
    },
    {
     "name": "stdout",
     "output_type": "stream",
     "text": [
      "[youtube] Extracting URL: https://www.youtube.com/watch?v=--C9bI0aqrY\n",
      "[youtube] --C9bI0aqrY: Downloading webpage\n",
      "[youtube] --C9bI0aqrY: Downloading android player API JSON\n",
      "[info] --C9bI0aqrY: Downloading 1 format(s): 251\n",
      "[dashsegments] Total fragments: 1\n",
      "[download] Destination: /Users/cafalena/HOUSE/@Code/Practice/ai_0014_CNN_Urbansound/AudioSet/Speech/--C9bI0aqrY_30.0-40.0.webm\n",
      "[download] 100% of    1.55MiB in 00:00:00 at 2.76MiB/s               \n",
      "[ExtractAudio] Destination: /Users/cafalena/HOUSE/@Code/Practice/ai_0014_CNN_Urbansound/AudioSet/Speech/--C9bI0aqrY_30.0-40.0.ogg\n"
     ]
    },
    {
     "name": "stderr",
     "output_type": "stream",
     "text": [
      "ERROR: Postprocessing: audio conversion failed: Unknown encoder 'libvorbis'\n",
      "WARNING: Post-Processor arguments given without specifying name. The arguments will be given to all post-processors\n"
     ]
    },
    {
     "name": "stdout",
     "output_type": "stream",
     "text": [
      "[youtube] Extracting URL: https://www.youtube.com/watch?v=--CAzrIAnEQ\n",
      "[youtube] --CAzrIAnEQ: Downloading webpage\n",
      "[youtube] --CAzrIAnEQ: Downloading android player API JSON\n",
      "[youtube] --CAzrIAnEQ: Downloading MPD manifest\n",
      "[info] --CAzrIAnEQ: Downloading 1 format(s): 140\n",
      "[dashsegments] Total fragments: 1\n",
      "[download] Destination: /Users/cafalena/HOUSE/@Code/Practice/ai_0014_CNN_Urbansound/AudioSet/Speech/--CAzrIAnEQ_30.0-40.0.m4a\n",
      "[download] 100% of    6.93MiB in 00:00:01 at 4.71MiB/s               \n",
      "[FixupM4a] Correcting container of \"/Users/cafalena/HOUSE/@Code/Practice/ai_0014_CNN_Urbansound/AudioSet/Speech/--CAzrIAnEQ_30.0-40.0.m4a\"\n",
      "[ExtractAudio] Destination: /Users/cafalena/HOUSE/@Code/Practice/ai_0014_CNN_Urbansound/AudioSet/Speech/--CAzrIAnEQ_30.0-40.0.ogg\n"
     ]
    },
    {
     "name": "stderr",
     "output_type": "stream",
     "text": [
      "ERROR: Postprocessing: audio conversion failed: Unknown encoder 'libvorbis'\n",
      "WARNING: Post-Processor arguments given without specifying name. The arguments will be given to all post-processors\n"
     ]
    },
    {
     "name": "stdout",
     "output_type": "stream",
     "text": [
      "[youtube] Extracting URL: https://www.youtube.com/watch?v=--CBtgW6KcU\n",
      "[youtube] --CBtgW6KcU: Downloading webpage\n",
      "[youtube] --CBtgW6KcU: Downloading android player API JSON\n",
      "[info] --CBtgW6KcU: Downloading 1 format(s): 251\n",
      "[dashsegments] Total fragments: 1\n",
      "[download] Destination: /Users/cafalena/HOUSE/@Code/Practice/ai_0014_CNN_Urbansound/AudioSet/Music/--CBtgW6KcU_30.0-40.0.webm\n",
      "[download] 100% of    1.61MiB in 00:00:00 at 2.59MiB/s               \n",
      "[ExtractAudio] Destination: /Users/cafalena/HOUSE/@Code/Practice/ai_0014_CNN_Urbansound/AudioSet/Music/--CBtgW6KcU_30.0-40.0.ogg\n"
     ]
    },
    {
     "name": "stderr",
     "output_type": "stream",
     "text": [
      "ERROR: Postprocessing: audio conversion failed: Unknown encoder 'libvorbis'\n",
      "cp: /Users/cafalena/HOUSE/@Code/Practice/ai_0014_CNN_Urbansound/AudioSet/Speech/--CBtgW6KcU_30.0-40.0.wav: No such file or directory\n",
      "cp: /Users/cafalena/HOUSE/@Code/Practice/ai_0014_CNN_Urbansound/AudioSet/Male singing/--CBtgW6KcU_30.0-40.0.wav: No such file or directory\n",
      "WARNING: Post-Processor arguments given without specifying name. The arguments will be given to all post-processors\n"
     ]
    },
    {
     "name": "stdout",
     "output_type": "stream",
     "text": [
      "[youtube] Extracting URL: https://www.youtube.com/watch?v=--CE2f-ttEQ\n",
      "[youtube] --CE2f-ttEQ: Downloading webpage\n",
      "[youtube] --CE2f-ttEQ: Downloading android player API JSON\n",
      "[info] --CE2f-ttEQ: Downloading 1 format(s): 251\n",
      "[dashsegments] Total fragments: 1\n",
      "[download] Destination: /Users/cafalena/HOUSE/@Code/Practice/ai_0014_CNN_Urbansound/AudioSet/Music/--CE2f-ttEQ_30.0-40.0.webm\n",
      "[download] 100% of  944.52KiB in 00:00:00 at 4.65MiB/s               \n",
      "[ExtractAudio] Destination: /Users/cafalena/HOUSE/@Code/Practice/ai_0014_CNN_Urbansound/AudioSet/Music/--CE2f-ttEQ_30.0-40.0.ogg\n"
     ]
    },
    {
     "name": "stderr",
     "output_type": "stream",
     "text": [
      "ERROR: Postprocessing: audio conversion failed: Unknown encoder 'libvorbis'\n",
      "cp: /Users/cafalena/HOUSE/@Code/Practice/ai_0014_CNN_Urbansound/AudioSet/Dog/--CE2f-ttEQ_30.0-40.0.wav: No such file or directory\n",
      "WARNING: Post-Processor arguments given without specifying name. The arguments will be given to all post-processors\n"
     ]
    },
    {
     "name": "stdout",
     "output_type": "stream",
     "text": [
      "[youtube] Extracting URL: https://www.youtube.com/watch?v=--CHY2qO5zc\n",
      "[youtube] --CHY2qO5zc: Downloading webpage\n",
      "[youtube] --CHY2qO5zc: Downloading android player API JSON\n",
      "[info] --CHY2qO5zc: Downloading 1 format(s): 251\n",
      "[dashsegments] Total fragments: 1\n",
      "[download] Destination: /Users/cafalena/HOUSE/@Code/Practice/ai_0014_CNN_Urbansound/AudioSet/Tick-tock/--CHY2qO5zc_30.0-40.0.webm\n",
      "[download] 100% of 1001.63KiB in 00:00:00 at 2.23MiB/s               \n",
      "[ExtractAudio] Destination: /Users/cafalena/HOUSE/@Code/Practice/ai_0014_CNN_Urbansound/AudioSet/Tick-tock/--CHY2qO5zc_30.0-40.0.ogg\n"
     ]
    },
    {
     "name": "stderr",
     "output_type": "stream",
     "text": [
      "ERROR: Postprocessing: audio conversion failed: Unknown encoder 'libvorbis'\n",
      "cp: /Users/cafalena/HOUSE/@Code/Practice/ai_0014_CNN_Urbansound/AudioSet/Tick/--CHY2qO5zc_30.0-40.0.wav: No such file or directory\n",
      "WARNING: Post-Processor arguments given without specifying name. The arguments will be given to all post-processors\n"
     ]
    },
    {
     "name": "stdout",
     "output_type": "stream",
     "text": [
      "[youtube] Extracting URL: https://www.youtube.com/watch?v=--CIar_Kl4Y\n",
      "[youtube] --CIar_Kl4Y: Downloading webpage\n",
      "[youtube] --CIar_Kl4Y: Downloading android player API JSON\n",
      "[info] --CIar_Kl4Y: Downloading 1 format(s): 251\n",
      "[dashsegments] Total fragments: 1\n",
      "[download] Destination: /Users/cafalena/HOUSE/@Code/Practice/ai_0014_CNN_Urbansound/AudioSet/Music/--CIar_Kl4Y_30.0-40.0.webm\n",
      "[download] 100% of    7.48MiB in 00:00:01 at 4.25MiB/s                  \n",
      "[ExtractAudio] Destination: /Users/cafalena/HOUSE/@Code/Practice/ai_0014_CNN_Urbansound/AudioSet/Music/--CIar_Kl4Y_30.0-40.0.ogg\n"
     ]
    },
    {
     "name": "stderr",
     "output_type": "stream",
     "text": [
      "ERROR: Postprocessing: audio conversion failed: Unknown encoder 'libvorbis'\n",
      "WARNING: Post-Processor arguments given without specifying name. The arguments will be given to all post-processors\n"
     ]
    },
    {
     "name": "stdout",
     "output_type": "stream",
     "text": [
      "[youtube] Extracting URL: https://www.youtube.com/watch?v=--CSLX066J0\n",
      "[youtube] --CSLX066J0: Downloading webpage\n",
      "[youtube] --CSLX066J0: Downloading android player API JSON\n",
      "[info] --CSLX066J0: Downloading 1 format(s): 251\n",
      "[dashsegments] Total fragments: 2\n",
      "[download] Destination: /Users/cafalena/HOUSE/@Code/Practice/ai_0014_CNN_Urbansound/AudioSet/Speech/--CSLX066J0_30.0-40.0.webm\n",
      "[download] 100% of   19.18MiB in 00:00:03 at 4.95MiB/s                  \n",
      "[ExtractAudio] Destination: /Users/cafalena/HOUSE/@Code/Practice/ai_0014_CNN_Urbansound/AudioSet/Speech/--CSLX066J0_30.0-40.0.ogg\n"
     ]
    },
    {
     "name": "stderr",
     "output_type": "stream",
     "text": [
      "ERROR: Postprocessing: audio conversion failed: Unknown encoder 'libvorbis'\n",
      "WARNING: Post-Processor arguments given without specifying name. The arguments will be given to all post-processors\n"
     ]
    },
    {
     "name": "stdout",
     "output_type": "stream",
     "text": [
      "[youtube] Extracting URL: https://www.youtube.com/watch?v=--CWkRb3dEU\n",
      "[youtube] --CWkRb3dEU: Downloading webpage\n",
      "[youtube] --CWkRb3dEU: Downloading android player API JSON\n",
      "[info] --CWkRb3dEU: Downloading 1 format(s): 140\n",
      "[dashsegments] Total fragments: 1\n",
      "[download] Destination: /Users/cafalena/HOUSE/@Code/Practice/ai_0014_CNN_Urbansound/AudioSet/Speech/--CWkRb3dEU_30.0-40.0.m4a\n",
      "[download] 100% of    2.10MiB in 00:00:00 at 3.43MiB/s               \n",
      "[FixupM4a] Correcting container of \"/Users/cafalena/HOUSE/@Code/Practice/ai_0014_CNN_Urbansound/AudioSet/Speech/--CWkRb3dEU_30.0-40.0.m4a\"\n",
      "[ExtractAudio] Destination: /Users/cafalena/HOUSE/@Code/Practice/ai_0014_CNN_Urbansound/AudioSet/Speech/--CWkRb3dEU_30.0-40.0.ogg\n"
     ]
    },
    {
     "name": "stderr",
     "output_type": "stream",
     "text": [
      "ERROR: Postprocessing: audio conversion failed: Unknown encoder 'libvorbis'\n",
      "WARNING: Post-Processor arguments given without specifying name. The arguments will be given to all post-processors\n"
     ]
    },
    {
     "name": "stdout",
     "output_type": "stream",
     "text": [
      "[youtube] Extracting URL: https://www.youtube.com/watch?v=--CZ-8vrQ1g\n",
      "[youtube] --CZ-8vrQ1g: Downloading webpage\n",
      "[youtube] --CZ-8vrQ1g: Downloading android player API JSON\n",
      "[info] --CZ-8vrQ1g: Downloading 1 format(s): 251\n",
      "[dashsegments] Total fragments: 1\n",
      "[download] Destination: /Users/cafalena/HOUSE/@Code/Practice/ai_0014_CNN_Urbansound/AudioSet/Music/--CZ-8vrQ1g_30.0-40.0.webm\n",
      "[download] 100% of    6.60MiB in 00:00:01 at 5.42MiB/s               \n",
      "[ExtractAudio] Destination: /Users/cafalena/HOUSE/@Code/Practice/ai_0014_CNN_Urbansound/AudioSet/Music/--CZ-8vrQ1g_30.0-40.0.ogg\n"
     ]
    },
    {
     "name": "stderr",
     "output_type": "stream",
     "text": [
      "ERROR: Postprocessing: audio conversion failed: Unknown encoder 'libvorbis'\n",
      "cp: /Users/cafalena/HOUSE/@Code/Practice/ai_0014_CNN_Urbansound/AudioSet/Happy music/--CZ-8vrQ1g_30.0-40.0.wav: No such file or directory\n",
      "WARNING: Post-Processor arguments given without specifying name. The arguments will be given to all post-processors\n"
     ]
    },
    {
     "name": "stdout",
     "output_type": "stream",
     "text": [
      "[youtube] Extracting URL: https://www.youtube.com/watch?v=--CZ-HqbveY\n",
      "[youtube] --CZ-HqbveY: Downloading webpage\n",
      "[youtube] --CZ-HqbveY: Downloading android player API JSON\n",
      "[info] --CZ-HqbveY: Downloading 1 format(s): 140\n",
      "[dashsegments] Total fragments: 1\n",
      "[download] Destination: /Users/cafalena/HOUSE/@Code/Practice/ai_0014_CNN_Urbansound/AudioSet/Music/--CZ-HqbveY_30.0-40.0.m4a\n",
      "[download] 100% of  659.11KiB in 00:00:00 at 1.29MiB/s               \n",
      "[FixupM4a] Correcting container of \"/Users/cafalena/HOUSE/@Code/Practice/ai_0014_CNN_Urbansound/AudioSet/Music/--CZ-HqbveY_30.0-40.0.m4a\"\n",
      "[ExtractAudio] Destination: /Users/cafalena/HOUSE/@Code/Practice/ai_0014_CNN_Urbansound/AudioSet/Music/--CZ-HqbveY_30.0-40.0.ogg\n"
     ]
    },
    {
     "name": "stderr",
     "output_type": "stream",
     "text": [
      "ERROR: Postprocessing: audio conversion failed: Unknown encoder 'libvorbis'\n",
      "WARNING: Post-Processor arguments given without specifying name. The arguments will be given to all post-processors\n"
     ]
    },
    {
     "name": "stdout",
     "output_type": "stream",
     "text": [
      "[youtube] Extracting URL: https://www.youtube.com/watch?v=--Cc0ZmStCs\n",
      "[youtube] --Cc0ZmStCs: Downloading webpage\n",
      "[youtube] --Cc0ZmStCs: Downloading android player API JSON\n",
      "[info] --Cc0ZmStCs: Downloading 1 format(s): 140\n",
      "[dashsegments] Total fragments: 1\n",
      "[download] Destination: /Users/cafalena/HOUSE/@Code/Practice/ai_0014_CNN_Urbansound/AudioSet/Music/--Cc0ZmStCs_30.0-40.0.m4a\n",
      "[download] 100% of    3.58MiB in 00:00:00 at 7.50MiB/s               \n",
      "[FixupM4a] Correcting container of \"/Users/cafalena/HOUSE/@Code/Practice/ai_0014_CNN_Urbansound/AudioSet/Music/--Cc0ZmStCs_30.0-40.0.m4a\"\n",
      "[ExtractAudio] Destination: /Users/cafalena/HOUSE/@Code/Practice/ai_0014_CNN_Urbansound/AudioSet/Music/--Cc0ZmStCs_30.0-40.0.ogg\n"
     ]
    },
    {
     "name": "stderr",
     "output_type": "stream",
     "text": [
      "ERROR: Postprocessing: audio conversion failed: Unknown encoder 'libvorbis'\n",
      "cp: /Users/cafalena/HOUSE/@Code/Practice/ai_0014_CNN_Urbansound/AudioSet/Rhythm and blues/--Cc0ZmStCs_30.0-40.0.wav: No such file or directory\n",
      "cp: /Users/cafalena/HOUSE/@Code/Practice/ai_0014_CNN_Urbansound/AudioSet/Dance music/--Cc0ZmStCs_30.0-40.0.wav: No such file or directory\n",
      "WARNING: Post-Processor arguments given without specifying name. The arguments will be given to all post-processors\n"
     ]
    },
    {
     "name": "stdout",
     "output_type": "stream",
     "text": [
      "[youtube] Extracting URL: https://www.youtube.com/watch?v=--Cj78MFKAg\n",
      "[youtube] --Cj78MFKAg: Downloading webpage\n",
      "[youtube] --Cj78MFKAg: Downloading android player API JSON\n",
      "[info] --Cj78MFKAg: Downloading 1 format(s): 251\n",
      "[dashsegments] Total fragments: 1\n",
      "[download] Destination: /Users/cafalena/HOUSE/@Code/Practice/ai_0014_CNN_Urbansound/AudioSet/Speech/--Cj78MFKAg_480.0-490.0.webm\n",
      "[download] 100% of    9.21MiB in 00:00:02 at 3.93MiB/s                  \n",
      "[ExtractAudio] Destination: /Users/cafalena/HOUSE/@Code/Practice/ai_0014_CNN_Urbansound/AudioSet/Speech/--Cj78MFKAg_480.0-490.0.ogg\n"
     ]
    },
    {
     "name": "stderr",
     "output_type": "stream",
     "text": [
      "ERROR: Postprocessing: audio conversion failed: Unknown encoder 'libvorbis'\n",
      "WARNING: Post-Processor arguments given without specifying name. The arguments will be given to all post-processors\n"
     ]
    },
    {
     "name": "stdout",
     "output_type": "stream",
     "text": [
      "[youtube] Extracting URL: https://www.youtube.com/watch?v=--CkM018DLw\n",
      "[youtube] --CkM018DLw: Downloading webpage\n",
      "[youtube] --CkM018DLw: Downloading android player API JSON\n",
      "[youtube] --CkM018DLw: Downloading MPD manifest\n",
      "[info] --CkM018DLw: Downloading 1 format(s): 140\n",
      "[dashsegments] Total fragments: 1\n",
      "[download] Destination: /Users/cafalena/HOUSE/@Code/Practice/ai_0014_CNN_Urbansound/AudioSet/Speech/--CkM018DLw_30.0-40.0.m4a\n",
      "[download] 100% of    7.24MiB in 00:00:01 at 5.61MiB/s               \n",
      "[FixupM4a] Correcting container of \"/Users/cafalena/HOUSE/@Code/Practice/ai_0014_CNN_Urbansound/AudioSet/Speech/--CkM018DLw_30.0-40.0.m4a\"\n",
      "[ExtractAudio] Destination: /Users/cafalena/HOUSE/@Code/Practice/ai_0014_CNN_Urbansound/AudioSet/Speech/--CkM018DLw_30.0-40.0.ogg\n"
     ]
    },
    {
     "name": "stderr",
     "output_type": "stream",
     "text": [
      "ERROR: Postprocessing: audio conversion failed: Unknown encoder 'libvorbis'\n",
      "WARNING: Post-Processor arguments given without specifying name. The arguments will be given to all post-processors\n"
     ]
    },
    {
     "name": "stdout",
     "output_type": "stream",
     "text": [
      "[youtube] Extracting URL: https://www.youtube.com/watch?v=--D0523UywI\n",
      "[youtube] --D0523UywI: Downloading webpage\n",
      "[youtube] --D0523UywI: Downloading android player API JSON\n",
      "[info] --D0523UywI: Downloading 1 format(s): 251\n",
      "[dashsegments] Total fragments: 1\n",
      "[download] Destination: /Users/cafalena/HOUSE/@Code/Practice/ai_0014_CNN_Urbansound/AudioSet/Speech/--D0523UywI_18.0-28.0.webm\n",
      "[download] 100% of  298.05KiB in 00:00:00 at 600.54KiB/s             \n",
      "[ExtractAudio] Destination: /Users/cafalena/HOUSE/@Code/Practice/ai_0014_CNN_Urbansound/AudioSet/Speech/--D0523UywI_18.0-28.0.ogg\n"
     ]
    },
    {
     "name": "stderr",
     "output_type": "stream",
     "text": [
      "ERROR: Postprocessing: audio conversion failed: Unknown encoder 'libvorbis'\n",
      "WARNING: Post-Processor arguments given without specifying name. The arguments will be given to all post-processors\n"
     ]
    },
    {
     "name": "stdout",
     "output_type": "stream",
     "text": [
      "[youtube] Extracting URL: https://www.youtube.com/watch?v=--D32FJUFsA\n",
      "[youtube] --D32FJUFsA: Downloading webpage\n",
      "[youtube] --D32FJUFsA: Downloading android player API JSON\n",
      "[info] --D32FJUFsA: Downloading 1 format(s): 251\n",
      "[dashsegments] Total fragments: 1\n",
      "[download] Destination: /Users/cafalena/HOUSE/@Code/Practice/ai_0014_CNN_Urbansound/AudioSet/Female speech, woman speaking/--D32FJUFsA_250.0-260.0.webm\n",
      "[download] 100% of    4.80MiB in 00:00:00 at 5.53MiB/s               \n",
      "[ExtractAudio] Destination: /Users/cafalena/HOUSE/@Code/Practice/ai_0014_CNN_Urbansound/AudioSet/Female speech, woman speaking/--D32FJUFsA_250.0-260.0.ogg\n"
     ]
    },
    {
     "name": "stderr",
     "output_type": "stream",
     "text": [
      "ERROR: Postprocessing: audio conversion failed: Unknown encoder 'libvorbis'\n",
      "WARNING: Post-Processor arguments given without specifying name. The arguments will be given to all post-processors\n"
     ]
    },
    {
     "name": "stdout",
     "output_type": "stream",
     "text": [
      "[youtube] Extracting URL: https://www.youtube.com/watch?v=--D3mJ0wwrg\n",
      "[youtube] --D3mJ0wwrg: Downloading webpage\n",
      "[youtube] --D3mJ0wwrg: Downloading android player API JSON\n",
      "[info] --D3mJ0wwrg: Downloading 1 format(s): 251\n",
      "[dashsegments] Total fragments: 1\n",
      "[download] Destination: /Users/cafalena/HOUSE/@Code/Practice/ai_0014_CNN_Urbansound/AudioSet/Vehicle/--D3mJ0wwrg_10.0-20.0.webm\n",
      "[download] 100% of  926.90KiB in 00:00:00 at 2.49MiB/s               \n",
      "[ExtractAudio] Destination: /Users/cafalena/HOUSE/@Code/Practice/ai_0014_CNN_Urbansound/AudioSet/Vehicle/--D3mJ0wwrg_10.0-20.0.ogg\n"
     ]
    },
    {
     "name": "stderr",
     "output_type": "stream",
     "text": [
      "ERROR: Postprocessing: audio conversion failed: Unknown encoder 'libvorbis'\n",
      "WARNING: Post-Processor arguments given without specifying name. The arguments will be given to all post-processors\n"
     ]
    },
    {
     "name": "stdout",
     "output_type": "stream",
     "text": [
      "[youtube] Extracting URL: https://www.youtube.com/watch?v=--DLsLQYKk8\n",
      "[youtube] --DLsLQYKk8: Downloading webpage\n",
      "[youtube] --DLsLQYKk8: Downloading android player API JSON\n",
      "[info] --DLsLQYKk8: Downloading 1 format(s): 251\n",
      "[dashsegments] Total fragments: 1\n",
      "[download] Destination: /Users/cafalena/HOUSE/@Code/Practice/ai_0014_CNN_Urbansound/AudioSet/Speech/--DLsLQYKk8_30.0-40.0.webm\n",
      "[download] 100% of    2.27MiB in 00:00:00 at 2.36MiB/s               \n",
      "[ExtractAudio] Destination: /Users/cafalena/HOUSE/@Code/Practice/ai_0014_CNN_Urbansound/AudioSet/Speech/--DLsLQYKk8_30.0-40.0.ogg\n"
     ]
    },
    {
     "name": "stderr",
     "output_type": "stream",
     "text": [
      "ERROR: Postprocessing: audio conversion failed: Unknown encoder 'libvorbis'\n",
      "WARNING: Post-Processor arguments given without specifying name. The arguments will be given to all post-processors\n"
     ]
    },
    {
     "name": "stdout",
     "output_type": "stream",
     "text": [
      "[youtube] Extracting URL: https://www.youtube.com/watch?v=--DPrkc66qI\n",
      "[youtube] --DPrkc66qI: Downloading webpage\n",
      "[youtube] --DPrkc66qI: Downloading android player API JSON\n"
     ]
    },
    {
     "name": "stderr",
     "output_type": "stream",
     "text": [
      "ERROR: [youtube] --DPrkc66qI: Private video. Sign in if you've been granted access to this video\n",
      "WARNING: Post-Processor arguments given without specifying name. The arguments will be given to all post-processors\n"
     ]
    },
    {
     "name": "stdout",
     "output_type": "stream",
     "text": [
      "[youtube] Extracting URL: https://www.youtube.com/watch?v=--DSvxkEeEk\n",
      "[youtube] --DSvxkEeEk: Downloading webpage\n",
      "[youtube] --DSvxkEeEk: Downloading android player API JSON\n",
      "[youtube] --DSvxkEeEk: Downloading MPD manifest\n",
      "[info] --DSvxkEeEk: Downloading 1 format(s): 251\n",
      "[dashsegments] Total fragments: 1\n",
      "[download] Destination: /Users/cafalena/HOUSE/@Code/Practice/ai_0014_CNN_Urbansound/AudioSet/Music/--DSvxkEeEk_6.0-16.0.webm\n",
      "[download] 100% of  281.11KiB in 00:00:00 at 407.38KiB/s             \n",
      "[ExtractAudio] Destination: /Users/cafalena/HOUSE/@Code/Practice/ai_0014_CNN_Urbansound/AudioSet/Music/--DSvxkEeEk_6.0-16.0.ogg\n"
     ]
    },
    {
     "name": "stderr",
     "output_type": "stream",
     "text": [
      "ERROR: Postprocessing: audio conversion failed: Unknown encoder 'libvorbis'\n",
      "cp: /Users/cafalena/HOUSE/@Code/Practice/ai_0014_CNN_Urbansound/AudioSet/Speech/--DSvxkEeEk_6.0-16.0.wav: No such file or directory\n",
      "WARNING: Post-Processor arguments given without specifying name. The arguments will be given to all post-processors\n"
     ]
    },
    {
     "name": "stdout",
     "output_type": "stream",
     "text": [
      "[youtube] Extracting URL: https://www.youtube.com/watch?v=--DazeFXg9g\n",
      "[youtube] --DazeFXg9g: Downloading webpage\n",
      "[youtube] --DazeFXg9g: Downloading android player API JSON\n",
      "[info] --DazeFXg9g: Downloading 1 format(s): 251\n",
      "[dashsegments] Total fragments: 1\n",
      "[download] Destination: /Users/cafalena/HOUSE/@Code/Practice/ai_0014_CNN_Urbansound/AudioSet/Speech/--DazeFXg9g_30.0-40.0.webm\n",
      "[download] 100% of    5.34MiB in 00:00:01 at 4.87MiB/s               \n",
      "[ExtractAudio] Destination: /Users/cafalena/HOUSE/@Code/Practice/ai_0014_CNN_Urbansound/AudioSet/Speech/--DazeFXg9g_30.0-40.0.ogg\n"
     ]
    },
    {
     "name": "stderr",
     "output_type": "stream",
     "text": [
      "ERROR: Postprocessing: audio conversion failed: Unknown encoder 'libvorbis'\n",
      "WARNING: Post-Processor arguments given without specifying name. The arguments will be given to all post-processors\n"
     ]
    },
    {
     "name": "stdout",
     "output_type": "stream",
     "text": [
      "[youtube] Extracting URL: https://www.youtube.com/watch?v=--DbgPXwLlM\n",
      "[youtube] --DbgPXwLlM: Downloading webpage\n",
      "[youtube] --DbgPXwLlM: Downloading android player API JSON\n"
     ]
    },
    {
     "name": "stderr",
     "output_type": "stream",
     "text": [
      "ERROR: [youtube] --DbgPXwLlM: Video unavailable. This video is no longer available because the YouTube account associated with this video has been terminated.\n",
      "WARNING: Post-Processor arguments given without specifying name. The arguments will be given to all post-processors\n"
     ]
    },
    {
     "name": "stdout",
     "output_type": "stream",
     "text": [
      "[youtube] Extracting URL: https://www.youtube.com/watch?v=--DeqbRVR8M\n",
      "[youtube] --DeqbRVR8M: Downloading webpage\n",
      "[youtube] --DeqbRVR8M: Downloading android player API JSON\n",
      "[info] --DeqbRVR8M: Downloading 1 format(s): 251\n",
      "[dashsegments] Total fragments: 1\n",
      "[download] Destination: /Users/cafalena/HOUSE/@Code/Practice/ai_0014_CNN_Urbansound/AudioSet/Speech/--DeqbRVR8M_30.0-40.0.webm\n",
      "[download] 100% of    1.21MiB in 00:00:00 at 2.74MiB/s               \n",
      "[ExtractAudio] Destination: /Users/cafalena/HOUSE/@Code/Practice/ai_0014_CNN_Urbansound/AudioSet/Speech/--DeqbRVR8M_30.0-40.0.ogg\n"
     ]
    },
    {
     "name": "stderr",
     "output_type": "stream",
     "text": [
      "ERROR: Postprocessing: audio conversion failed: Unknown encoder 'libvorbis'\n",
      "WARNING: Post-Processor arguments given without specifying name. The arguments will be given to all post-processors\n"
     ]
    },
    {
     "name": "stdout",
     "output_type": "stream",
     "text": [
      "[youtube] Extracting URL: https://www.youtube.com/watch?v=--DjxHgINk0\n",
      "[youtube] --DjxHgINk0: Downloading webpage\n",
      "[youtube] --DjxHgINk0: Downloading android player API JSON\n",
      "[info] --DjxHgINk0: Downloading 1 format(s): 251\n",
      "[dashsegments] Total fragments: 1\n",
      "[download] Destination: /Users/cafalena/HOUSE/@Code/Practice/ai_0014_CNN_Urbansound/AudioSet/Music/--DjxHgINk0_30.0-40.0.webm\n",
      "[download] 100% of  768.74KiB in 00:00:00 at 3.80MiB/s               \n",
      "[ExtractAudio] Destination: /Users/cafalena/HOUSE/@Code/Practice/ai_0014_CNN_Urbansound/AudioSet/Music/--DjxHgINk0_30.0-40.0.ogg\n"
     ]
    },
    {
     "name": "stderr",
     "output_type": "stream",
     "text": [
      "ERROR: Postprocessing: audio conversion failed: Unknown encoder 'libvorbis'\n",
      "cp: /Users/cafalena/HOUSE/@Code/Practice/ai_0014_CNN_Urbansound/AudioSet/Speech/--DjxHgINk0_30.0-40.0.wav: No such file or directory\n",
      "WARNING: Post-Processor arguments given without specifying name. The arguments will be given to all post-processors\n"
     ]
    },
    {
     "name": "stdout",
     "output_type": "stream",
     "text": [
      "[youtube] Extracting URL: https://www.youtube.com/watch?v=--DpfB2gIlM\n",
      "[youtube] --DpfB2gIlM: Downloading webpage\n",
      "[youtube] --DpfB2gIlM: Downloading android player API JSON\n"
     ]
    },
    {
     "name": "stderr",
     "output_type": "stream",
     "text": [
      "ERROR: [youtube] --DpfB2gIlM: Video unavailable\n",
      "WARNING: Post-Processor arguments given without specifying name. The arguments will be given to all post-processors\n"
     ]
    },
    {
     "name": "stdout",
     "output_type": "stream",
     "text": [
      "[youtube] Extracting URL: https://www.youtube.com/watch?v=--Dqm421zY0\n",
      "[youtube] --Dqm421zY0: Downloading webpage\n",
      "[youtube] --Dqm421zY0: Downloading android player API JSON\n",
      "[info] --Dqm421zY0: Downloading 1 format(s): 251\n",
      "[dashsegments] Total fragments: 1\n",
      "[download] Destination: /Users/cafalena/HOUSE/@Code/Practice/ai_0014_CNN_Urbansound/AudioSet/Music/--Dqm421zY0_30.0-40.0.webm\n",
      "[download] 100% of    3.65MiB in 00:00:00 at 4.95MiB/s               \n",
      "[ExtractAudio] Destination: /Users/cafalena/HOUSE/@Code/Practice/ai_0014_CNN_Urbansound/AudioSet/Music/--Dqm421zY0_30.0-40.0.ogg\n"
     ]
    },
    {
     "name": "stderr",
     "output_type": "stream",
     "text": [
      "ERROR: Postprocessing: audio conversion failed: Unknown encoder 'libvorbis'\n",
      "WARNING: Post-Processor arguments given without specifying name. The arguments will be given to all post-processors\n"
     ]
    },
    {
     "name": "stdout",
     "output_type": "stream",
     "text": [
      "[youtube] Extracting URL: https://www.youtube.com/watch?v=--Dxk606LRQ\n",
      "[youtube] --Dxk606LRQ: Downloading webpage\n",
      "[youtube] --Dxk606LRQ: Downloading android player API JSON\n",
      "[youtube] --Dxk606LRQ: Downloading MPD manifest\n",
      "[info] --Dxk606LRQ: Downloading 1 format(s): 140\n",
      "[dashsegments] Total fragments: 1\n",
      "[download] Destination: /Users/cafalena/HOUSE/@Code/Practice/ai_0014_CNN_Urbansound/AudioSet/Engine/--Dxk606LRQ_30.0-40.0.m4a\n",
      "[download] 100% of  749.69KiB in 00:00:01 at 600.16KiB/s             \n",
      "[FixupM4a] Correcting container of \"/Users/cafalena/HOUSE/@Code/Practice/ai_0014_CNN_Urbansound/AudioSet/Engine/--Dxk606LRQ_30.0-40.0.m4a\"\n",
      "[ExtractAudio] Destination: /Users/cafalena/HOUSE/@Code/Practice/ai_0014_CNN_Urbansound/AudioSet/Engine/--Dxk606LRQ_30.0-40.0.ogg\n"
     ]
    },
    {
     "name": "stderr",
     "output_type": "stream",
     "text": [
      "ERROR: Postprocessing: audio conversion failed: Unknown encoder 'libvorbis'\n",
      "WARNING: Post-Processor arguments given without specifying name. The arguments will be given to all post-processors\n"
     ]
    },
    {
     "name": "stdout",
     "output_type": "stream",
     "text": [
      "[youtube] Extracting URL: https://www.youtube.com/watch?v=--E2LEGr0LA\n",
      "[youtube] --E2LEGr0LA: Downloading webpage\n",
      "[youtube] --E2LEGr0LA: Downloading android player API JSON\n",
      "[info] --E2LEGr0LA: Downloading 1 format(s): 251\n",
      "[dashsegments] Total fragments: 1\n",
      "[download] Destination: /Users/cafalena/HOUSE/@Code/Practice/ai_0014_CNN_Urbansound/AudioSet/Speech/--E2LEGr0LA_230.0-240.0.webm\n",
      "[download] 100% of    5.75MiB in 00:00:01 at 5.53MiB/s               \n",
      "[ExtractAudio] Destination: /Users/cafalena/HOUSE/@Code/Practice/ai_0014_CNN_Urbansound/AudioSet/Speech/--E2LEGr0LA_230.0-240.0.ogg\n"
     ]
    },
    {
     "name": "stderr",
     "output_type": "stream",
     "text": [
      "ERROR: Postprocessing: audio conversion failed: Unknown encoder 'libvorbis'\n",
      "WARNING: Post-Processor arguments given without specifying name. The arguments will be given to all post-processors\n"
     ]
    },
    {
     "name": "stdout",
     "output_type": "stream",
     "text": [
      "[youtube] Extracting URL: https://www.youtube.com/watch?v=--E3k28veVc\n",
      "[youtube] --E3k28veVc: Downloading webpage\n",
      "[youtube] --E3k28veVc: Downloading android player API JSON\n",
      "[info] --E3k28veVc: Downloading 1 format(s): 251\n",
      "[dashsegments] Total fragments: 2\n",
      "[download] Destination: /Users/cafalena/HOUSE/@Code/Practice/ai_0014_CNN_Urbansound/AudioSet/Music/--E3k28veVc_30.0-40.0.webm\n",
      "[download] 100% of   14.52MiB in 00:00:02 at 5.78MiB/s                  \n",
      "[ExtractAudio] Destination: /Users/cafalena/HOUSE/@Code/Practice/ai_0014_CNN_Urbansound/AudioSet/Music/--E3k28veVc_30.0-40.0.ogg\n"
     ]
    },
    {
     "name": "stderr",
     "output_type": "stream",
     "text": [
      "ERROR: Postprocessing: audio conversion failed: Unknown encoder 'libvorbis'\n",
      "cp: /Users/cafalena/HOUSE/@Code/Practice/ai_0014_CNN_Urbansound/AudioSet/Classical music/--E3k28veVc_30.0-40.0.wav: No such file or directory\n",
      "WARNING: Post-Processor arguments given without specifying name. The arguments will be given to all post-processors\n"
     ]
    },
    {
     "name": "stdout",
     "output_type": "stream",
     "text": [
      "[youtube] Extracting URL: https://www.youtube.com/watch?v=--E8kQc4oeE\n",
      "[youtube] --E8kQc4oeE: Downloading webpage\n",
      "[youtube] --E8kQc4oeE: Downloading android player API JSON\n"
     ]
    },
    {
     "name": "stderr",
     "output_type": "stream",
     "text": [
      "ERROR: [youtube] --E8kQc4oeE: Video unavailable\n",
      "WARNING: Post-Processor arguments given without specifying name. The arguments will be given to all post-processors\n"
     ]
    },
    {
     "name": "stdout",
     "output_type": "stream",
     "text": [
      "[youtube] Extracting URL: https://www.youtube.com/watch?v=--EC5ZkYQNQ\n",
      "[youtube] --EC5ZkYQNQ: Downloading webpage\n",
      "[youtube] --EC5ZkYQNQ: Downloading android player API JSON\n",
      "[info] --EC5ZkYQNQ: Downloading 1 format(s): 140\n",
      "[dashsegments] Total fragments: 1\n",
      "[download] Destination: /Users/cafalena/HOUSE/@Code/Practice/ai_0014_CNN_Urbansound/AudioSet/Music/--EC5ZkYQNQ_12.0-22.0.m4a\n",
      "[download] 100% of  340.94KiB in 00:00:00 at 901.51KiB/s             \n",
      "[FixupM4a] Correcting container of \"/Users/cafalena/HOUSE/@Code/Practice/ai_0014_CNN_Urbansound/AudioSet/Music/--EC5ZkYQNQ_12.0-22.0.m4a\"\n",
      "[ExtractAudio] Destination: /Users/cafalena/HOUSE/@Code/Practice/ai_0014_CNN_Urbansound/AudioSet/Music/--EC5ZkYQNQ_12.0-22.0.ogg\n"
     ]
    },
    {
     "name": "stderr",
     "output_type": "stream",
     "text": [
      "ERROR: Postprocessing: audio conversion failed: Unknown encoder 'libvorbis'\n",
      "cp: /Users/cafalena/HOUSE/@Code/Practice/ai_0014_CNN_Urbansound/AudioSet/Speech/--EC5ZkYQNQ_12.0-22.0.wav: No such file or directory\n",
      "WARNING: Post-Processor arguments given without specifying name. The arguments will be given to all post-processors\n"
     ]
    },
    {
     "name": "stdout",
     "output_type": "stream",
     "text": [
      "[youtube] Extracting URL: https://www.youtube.com/watch?v=--EDyuvG9oo\n",
      "[youtube] --EDyuvG9oo: Downloading webpage\n",
      "[youtube] --EDyuvG9oo: Downloading android player API JSON\n"
     ]
    },
    {
     "name": "stderr",
     "output_type": "stream",
     "text": [
      "ERROR: [youtube] --EDyuvG9oo: Private video. Sign in if you've been granted access to this video\n",
      "cp: /Users/cafalena/HOUSE/@Code/Practice/ai_0014_CNN_Urbansound/AudioSet/Speech/--EDyuvG9oo_19.0-29.0.wav: No such file or directory\n",
      "WARNING: Post-Processor arguments given without specifying name. The arguments will be given to all post-processors\n"
     ]
    },
    {
     "name": "stdout",
     "output_type": "stream",
     "text": [
      "[youtube] Extracting URL: https://www.youtube.com/watch?v=--EFQ_UskqI\n",
      "[youtube] --EFQ_UskqI: Downloading webpage\n",
      "[youtube] --EFQ_UskqI: Downloading android player API JSON\n",
      "[info] --EFQ_UskqI: Downloading 1 format(s): 251\n",
      "[dashsegments] Total fragments: 1\n",
      "[download] Destination: /Users/cafalena/HOUSE/@Code/Practice/ai_0014_CNN_Urbansound/AudioSet/Speech/--EFQ_UskqI_140.0-150.0.webm\n",
      "[download] 100% of    4.07MiB in 00:00:00 at 4.27MiB/s               \n",
      "[ExtractAudio] Destination: /Users/cafalena/HOUSE/@Code/Practice/ai_0014_CNN_Urbansound/AudioSet/Speech/--EFQ_UskqI_140.0-150.0.ogg\n"
     ]
    },
    {
     "name": "stderr",
     "output_type": "stream",
     "text": [
      "ERROR: Postprocessing: audio conversion failed: Unknown encoder 'libvorbis'\n",
      "WARNING: Post-Processor arguments given without specifying name. The arguments will be given to all post-processors\n"
     ]
    },
    {
     "name": "stdout",
     "output_type": "stream",
     "text": [
      "[youtube] Extracting URL: https://www.youtube.com/watch?v=--EG-JqO4S0\n",
      "[youtube] --EG-JqO4S0: Downloading webpage\n",
      "[youtube] --EG-JqO4S0: Downloading android player API JSON\n",
      "[info] --EG-JqO4S0: Downloading 1 format(s): 251\n",
      "[dashsegments] Total fragments: 1\n",
      "[download] Destination: /Users/cafalena/HOUSE/@Code/Practice/ai_0014_CNN_Urbansound/AudioSet/Engine/--EG-JqO4S0_30.0-40.0.webm\n",
      "[download] 100% of    1.48MiB in 00:00:00 at 2.95MiB/s               \n",
      "[ExtractAudio] Destination: /Users/cafalena/HOUSE/@Code/Practice/ai_0014_CNN_Urbansound/AudioSet/Engine/--EG-JqO4S0_30.0-40.0.ogg\n"
     ]
    },
    {
     "name": "stderr",
     "output_type": "stream",
     "text": [
      "ERROR: Postprocessing: audio conversion failed: Unknown encoder 'libvorbis'\n",
      "cp: /Users/cafalena/HOUSE/@Code/Practice/ai_0014_CNN_Urbansound/AudioSet/Idling/--EG-JqO4S0_30.0-40.0.wav: No such file or directory\n",
      "cp: /Users/cafalena/HOUSE/@Code/Practice/ai_0014_CNN_Urbansound/AudioSet/Accelerating, revving, vroom/--EG-JqO4S0_30.0-40.0.wav: No such file or directory\n",
      "cp: /Users/cafalena/HOUSE/@Code/Practice/ai_0014_CNN_Urbansound/AudioSet/Speech/--EG-JqO4S0_30.0-40.0.wav: No such file or directory\n",
      "cp: /Users/cafalena/HOUSE/@Code/Practice/ai_0014_CNN_Urbansound/AudioSet/Engine starting/--EG-JqO4S0_30.0-40.0.wav: No such file or directory\n",
      "WARNING: Post-Processor arguments given without specifying name. The arguments will be given to all post-processors\n"
     ]
    },
    {
     "name": "stdout",
     "output_type": "stream",
     "text": [
      "[youtube] Extracting URL: https://www.youtube.com/watch?v=--ENdhk8DH4\n",
      "[youtube] --ENdhk8DH4: Downloading webpage\n",
      "[youtube] --ENdhk8DH4: Downloading android player API JSON\n",
      "[info] --ENdhk8DH4: Downloading 1 format(s): 251\n",
      "[dashsegments] Total fragments: 1\n",
      "[download] Destination: /Users/cafalena/HOUSE/@Code/Practice/ai_0014_CNN_Urbansound/AudioSet/Speech/--ENdhk8DH4_30.0-40.0.webm\n",
      "[download] 100% of    2.87MiB in 00:00:00 at 3.50MiB/s               \n",
      "[ExtractAudio] Destination: /Users/cafalena/HOUSE/@Code/Practice/ai_0014_CNN_Urbansound/AudioSet/Speech/--ENdhk8DH4_30.0-40.0.ogg\n"
     ]
    },
    {
     "name": "stderr",
     "output_type": "stream",
     "text": [
      "ERROR: Postprocessing: audio conversion failed: Unknown encoder 'libvorbis'\n",
      "WARNING: Post-Processor arguments given without specifying name. The arguments will be given to all post-processors\n"
     ]
    },
    {
     "name": "stdout",
     "output_type": "stream",
     "text": [
      "[youtube] Extracting URL: https://www.youtube.com/watch?v=--EQQVMYe50\n",
      "[youtube] --EQQVMYe50: Downloading webpage\n",
      "[youtube] --EQQVMYe50: Downloading android player API JSON\n"
     ]
    },
    {
     "name": "stderr",
     "output_type": "stream",
     "text": [
      "ERROR: [youtube] --EQQVMYe50: Video unavailable\n",
      "cp: /Users/cafalena/HOUSE/@Code/Practice/ai_0014_CNN_Urbansound/AudioSet/Speech/--EQQVMYe50_30.0-40.0.wav: No such file or directory\n",
      "WARNING: Post-Processor arguments given without specifying name. The arguments will be given to all post-processors\n"
     ]
    },
    {
     "name": "stdout",
     "output_type": "stream",
     "text": [
      "[youtube] Extracting URL: https://www.youtube.com/watch?v=--EQegXxPiI\n",
      "[youtube] --EQegXxPiI: Downloading webpage\n",
      "[youtube] --EQegXxPiI: Downloading android player API JSON\n",
      "[info] --EQegXxPiI: Downloading 1 format(s): 251\n",
      "[dashsegments] Total fragments: 1\n",
      "[download] Destination: /Users/cafalena/HOUSE/@Code/Practice/ai_0014_CNN_Urbansound/AudioSet/Music/--EQegXxPiI_50.0-60.0.webm\n",
      "[download] 100% of    4.40MiB in 00:00:00 at 5.30MiB/s               \n",
      "[ExtractAudio] Destination: /Users/cafalena/HOUSE/@Code/Practice/ai_0014_CNN_Urbansound/AudioSet/Music/--EQegXxPiI_50.0-60.0.ogg\n"
     ]
    },
    {
     "name": "stderr",
     "output_type": "stream",
     "text": [
      "ERROR: Postprocessing: audio conversion failed: Unknown encoder 'libvorbis'\n",
      "cp: /Users/cafalena/HOUSE/@Code/Practice/ai_0014_CNN_Urbansound/AudioSet/Orchestra/--EQegXxPiI_50.0-60.0.wav: No such file or directory\n",
      "cp: /Users/cafalena/HOUSE/@Code/Practice/ai_0014_CNN_Urbansound/AudioSet/Classical music/--EQegXxPiI_50.0-60.0.wav: No such file or directory\n",
      "WARNING: Post-Processor arguments given without specifying name. The arguments will be given to all post-processors\n"
     ]
    },
    {
     "name": "stdout",
     "output_type": "stream",
     "text": [
      "[youtube] Extracting URL: https://www.youtube.com/watch?v=--ERHDSdxGQ\n",
      "[youtube] --ERHDSdxGQ: Downloading webpage\n",
      "[youtube] --ERHDSdxGQ: Downloading android player API JSON\n",
      "[youtube] --ERHDSdxGQ: Downloading MPD manifest\n",
      "[info] --ERHDSdxGQ: Downloading 1 format(s): 251\n",
      "[dashsegments] Total fragments: 1\n",
      "[download] Destination: /Users/cafalena/HOUSE/@Code/Practice/ai_0014_CNN_Urbansound/AudioSet/Music/--ERHDSdxGQ_30.0-40.0.webm\n",
      "[download] 100% of    2.20MiB in 00:00:00 at 3.34MiB/s               \n",
      "[ExtractAudio] Destination: /Users/cafalena/HOUSE/@Code/Practice/ai_0014_CNN_Urbansound/AudioSet/Music/--ERHDSdxGQ_30.0-40.0.ogg\n"
     ]
    },
    {
     "name": "stderr",
     "output_type": "stream",
     "text": [
      "ERROR: Postprocessing: audio conversion failed: Unknown encoder 'libvorbis'\n",
      "cp: /Users/cafalena/HOUSE/@Code/Practice/ai_0014_CNN_Urbansound/AudioSet/Domestic animals, pets/--ERHDSdxGQ_30.0-40.0.wav: No such file or directory\n",
      "cp: /Users/cafalena/HOUSE/@Code/Practice/ai_0014_CNN_Urbansound/AudioSet/Bow-wow/--ERHDSdxGQ_30.0-40.0.wav: No such file or directory\n",
      "cp: /Users/cafalena/HOUSE/@Code/Practice/ai_0014_CNN_Urbansound/AudioSet/Speech/--ERHDSdxGQ_30.0-40.0.wav: No such file or directory\n",
      "cp: /Users/cafalena/HOUSE/@Code/Practice/ai_0014_CNN_Urbansound/AudioSet/Dog/--ERHDSdxGQ_30.0-40.0.wav: No such file or directory\n",
      "cp: /Users/cafalena/HOUSE/@Code/Practice/ai_0014_CNN_Urbansound/AudioSet/Animal/--ERHDSdxGQ_30.0-40.0.wav: No such file or directory\n",
      "WARNING: Post-Processor arguments given without specifying name. The arguments will be given to all post-processors\n"
     ]
    },
    {
     "name": "stdout",
     "output_type": "stream",
     "text": [
      "[youtube] Extracting URL: https://www.youtube.com/watch?v=--ERXu9VVGE\n",
      "[youtube] --ERXu9VVGE: Downloading webpage\n",
      "[youtube] --ERXu9VVGE: Downloading android player API JSON\n",
      "[info] --ERXu9VVGE: Downloading 1 format(s): 251\n",
      "[dashsegments] Total fragments: 1\n",
      "[download] Destination: /Users/cafalena/HOUSE/@Code/Practice/ai_0014_CNN_Urbansound/AudioSet/Video game music/--ERXu9VVGE_30.0-40.0.webm\n",
      "[download] 100% of    2.83MiB in 00:00:00 at 4.32MiB/s               \n",
      "[ExtractAudio] Destination: /Users/cafalena/HOUSE/@Code/Practice/ai_0014_CNN_Urbansound/AudioSet/Video game music/--ERXu9VVGE_30.0-40.0.ogg\n"
     ]
    },
    {
     "name": "stderr",
     "output_type": "stream",
     "text": [
      "ERROR: Postprocessing: audio conversion failed: Unknown encoder 'libvorbis'\n",
      "cp: /Users/cafalena/HOUSE/@Code/Practice/ai_0014_CNN_Urbansound/AudioSet/Music/--ERXu9VVGE_30.0-40.0.wav: No such file or directory\n",
      "WARNING: Post-Processor arguments given without specifying name. The arguments will be given to all post-processors\n"
     ]
    },
    {
     "name": "stdout",
     "output_type": "stream",
     "text": [
      "[youtube] Extracting URL: https://www.youtube.com/watch?v=--Eb56f4mR8\n",
      "[youtube] --Eb56f4mR8: Downloading webpage\n",
      "[youtube] --Eb56f4mR8: Downloading android player API JSON\n",
      "[youtube] --Eb56f4mR8: Downloading MPD manifest\n",
      "[info] --Eb56f4mR8: Downloading 1 format(s): 140\n",
      "[dashsegments] Total fragments: 1\n",
      "[download] Destination: /Users/cafalena/HOUSE/@Code/Practice/ai_0014_CNN_Urbansound/AudioSet/Music/--Eb56f4mR8_22.0-32.0.m4a\n",
      "[download] 100% of  495.80KiB in 00:00:00 at 1.05MiB/s               \n",
      "[FixupM4a] Correcting container of \"/Users/cafalena/HOUSE/@Code/Practice/ai_0014_CNN_Urbansound/AudioSet/Music/--Eb56f4mR8_22.0-32.0.m4a\"\n",
      "[ExtractAudio] Destination: /Users/cafalena/HOUSE/@Code/Practice/ai_0014_CNN_Urbansound/AudioSet/Music/--Eb56f4mR8_22.0-32.0.ogg\n"
     ]
    },
    {
     "name": "stderr",
     "output_type": "stream",
     "text": [
      "ERROR: Postprocessing: audio conversion failed: Unknown encoder 'libvorbis'\n",
      "cp: /Users/cafalena/HOUSE/@Code/Practice/ai_0014_CNN_Urbansound/AudioSet/Speech/--Eb56f4mR8_22.0-32.0.wav: No such file or directory\n",
      "WARNING: Post-Processor arguments given without specifying name. The arguments will be given to all post-processors\n"
     ]
    },
    {
     "name": "stdout",
     "output_type": "stream",
     "text": [
      "[youtube] Extracting URL: https://www.youtube.com/watch?v=--Ee0H3owXo\n",
      "[youtube] --Ee0H3owXo: Downloading webpage\n",
      "[youtube] --Ee0H3owXo: Downloading android player API JSON\n",
      "[info] --Ee0H3owXo: Downloading 1 format(s): 251\n",
      "[dashsegments] Total fragments: 1\n",
      "[download] Destination: /Users/cafalena/HOUSE/@Code/Practice/ai_0014_CNN_Urbansound/AudioSet/Guitar/--Ee0H3owXo_30.0-40.0.webm\n",
      "[download] 100% of  857.67KiB in 00:00:00 at 1.74MiB/s               \n",
      "[ExtractAudio] Destination: /Users/cafalena/HOUSE/@Code/Practice/ai_0014_CNN_Urbansound/AudioSet/Guitar/--Ee0H3owXo_30.0-40.0.ogg\n"
     ]
    },
    {
     "name": "stderr",
     "output_type": "stream",
     "text": [
      "ERROR: Postprocessing: audio conversion failed: Unknown encoder 'libvorbis'\n",
      "cp: /Users/cafalena/HOUSE/@Code/Practice/ai_0014_CNN_Urbansound/AudioSet/Music/--Ee0H3owXo_30.0-40.0.wav: No such file or directory\n",
      "cp: /Users/cafalena/HOUSE/@Code/Practice/ai_0014_CNN_Urbansound/AudioSet/Musical instrument/--Ee0H3owXo_30.0-40.0.wav: No such file or directory\n",
      "cp: /Users/cafalena/HOUSE/@Code/Practice/ai_0014_CNN_Urbansound/AudioSet/Strum/--Ee0H3owXo_30.0-40.0.wav: No such file or directory\n",
      "cp: /Users/cafalena/HOUSE/@Code/Practice/ai_0014_CNN_Urbansound/AudioSet/Plucked string instrument/--Ee0H3owXo_30.0-40.0.wav: No such file or directory\n",
      "WARNING: Post-Processor arguments given without specifying name. The arguments will be given to all post-processors\n"
     ]
    },
    {
     "name": "stdout",
     "output_type": "stream",
     "text": [
      "[youtube] Extracting URL: https://www.youtube.com/watch?v=--Efpk4ciwU\n",
      "[youtube] --Efpk4ciwU: Downloading webpage\n",
      "[youtube] --Efpk4ciwU: Downloading android player API JSON\n",
      "[info] --Efpk4ciwU: Downloading 1 format(s): 251\n",
      "[dashsegments] Total fragments: 1\n",
      "[download] Destination: /Users/cafalena/HOUSE/@Code/Practice/ai_0014_CNN_Urbansound/AudioSet/Music/--Efpk4ciwU_30.0-40.0.webm\n",
      "[download] 100% of    1.73MiB in 00:00:00 at 2.61MiB/s               \n",
      "[ExtractAudio] Destination: /Users/cafalena/HOUSE/@Code/Practice/ai_0014_CNN_Urbansound/AudioSet/Music/--Efpk4ciwU_30.0-40.0.ogg\n"
     ]
    },
    {
     "name": "stderr",
     "output_type": "stream",
     "text": [
      "ERROR: Postprocessing: audio conversion failed: Unknown encoder 'libvorbis'\n",
      "cp: /Users/cafalena/HOUSE/@Code/Practice/ai_0014_CNN_Urbansound/AudioSet/Speech/--Efpk4ciwU_30.0-40.0.wav: No such file or directory\n",
      "WARNING: Post-Processor arguments given without specifying name. The arguments will be given to all post-processors\n"
     ]
    },
    {
     "name": "stdout",
     "output_type": "stream",
     "text": [
      "[youtube] Extracting URL: https://www.youtube.com/watch?v=--EjZvjjv4k\n",
      "[youtube] --EjZvjjv4k: Downloading webpage\n",
      "[youtube] --EjZvjjv4k: Downloading android player API JSON\n",
      "[info] --EjZvjjv4k: Downloading 1 format(s): 251\n",
      "[dashsegments] Total fragments: 1\n",
      "[download] Destination: /Users/cafalena/HOUSE/@Code/Practice/ai_0014_CNN_Urbansound/AudioSet/Boat, Water vehicle/--EjZvjjv4k_50.0-60.0.webm\n",
      "[download] 100% of    2.42MiB in 00:00:00 at 3.93MiB/s               \n",
      "[ExtractAudio] Destination: /Users/cafalena/HOUSE/@Code/Practice/ai_0014_CNN_Urbansound/AudioSet/Boat, Water vehicle/--EjZvjjv4k_50.0-60.0.ogg\n"
     ]
    },
    {
     "name": "stderr",
     "output_type": "stream",
     "text": [
      "ERROR: Postprocessing: audio conversion failed: Unknown encoder 'libvorbis'\n",
      "cp: /Users/cafalena/HOUSE/@Code/Practice/ai_0014_CNN_Urbansound/AudioSet/Motorboat, speedboat/--EjZvjjv4k_50.0-60.0.wav: No such file or directory\n",
      "cp: /Users/cafalena/HOUSE/@Code/Practice/ai_0014_CNN_Urbansound/AudioSet/Vehicle/--EjZvjjv4k_50.0-60.0.wav: No such file or directory\n",
      "cp: /Users/cafalena/HOUSE/@Code/Practice/ai_0014_CNN_Urbansound/AudioSet/Speech/--EjZvjjv4k_50.0-60.0.wav: No such file or directory\n",
      "WARNING: Post-Processor arguments given without specifying name. The arguments will be given to all post-processors\n"
     ]
    },
    {
     "name": "stdout",
     "output_type": "stream",
     "text": [
      "[youtube] Extracting URL: https://www.youtube.com/watch?v=--EnKcYsPas\n",
      "[youtube] --EnKcYsPas: Downloading webpage\n",
      "[youtube] --EnKcYsPas: Downloading android player API JSON\n",
      "[youtube] --EnKcYsPas: Downloading MPD manifest\n",
      "[info] --EnKcYsPas: Downloading 1 format(s): 251\n",
      "[dashsegments] Total fragments: 1\n",
      "[download] Destination: /Users/cafalena/HOUSE/@Code/Practice/ai_0014_CNN_Urbansound/AudioSet/Babbling/--EnKcYsPas_210.0-220.0.webm\n",
      "[download] 100% of    6.77MiB in 00:00:01 at 5.06MiB/s               \n",
      "[ExtractAudio] Destination: /Users/cafalena/HOUSE/@Code/Practice/ai_0014_CNN_Urbansound/AudioSet/Babbling/--EnKcYsPas_210.0-220.0.ogg\n"
     ]
    },
    {
     "name": "stderr",
     "output_type": "stream",
     "text": [
      "ERROR: Postprocessing: audio conversion failed: Unknown encoder 'libvorbis'\n",
      "WARNING: Post-Processor arguments given without specifying name. The arguments will be given to all post-processors\n"
     ]
    },
    {
     "name": "stdout",
     "output_type": "stream",
     "text": [
      "[youtube] Extracting URL: https://www.youtube.com/watch?v=--EvlvpRU7I\n",
      "[youtube] --EvlvpRU7I: Downloading webpage\n",
      "[youtube] --EvlvpRU7I: Downloading android player API JSON\n",
      "[info] --EvlvpRU7I: Downloading 1 format(s): 251\n",
      "[dashsegments] Total fragments: 1\n",
      "[download] Destination: /Users/cafalena/HOUSE/@Code/Practice/ai_0014_CNN_Urbansound/AudioSet/Effects unit/--EvlvpRU7I_340.0-350.0.webm\n",
      "[download] 100% of    6.13MiB in 00:00:01 at 4.78MiB/s               \n",
      "[ExtractAudio] Destination: /Users/cafalena/HOUSE/@Code/Practice/ai_0014_CNN_Urbansound/AudioSet/Effects unit/--EvlvpRU7I_340.0-350.0.ogg\n"
     ]
    },
    {
     "name": "stderr",
     "output_type": "stream",
     "text": [
      "ERROR: Postprocessing: audio conversion failed: Unknown encoder 'libvorbis'\n",
      "WARNING: Post-Processor arguments given without specifying name. The arguments will be given to all post-processors\n"
     ]
    },
    {
     "name": "stdout",
     "output_type": "stream",
     "text": [
      "[youtube] Extracting URL: https://www.youtube.com/watch?v=--Evvi58CcI\n",
      "[youtube] --Evvi58CcI: Downloading webpage\n",
      "[youtube] --Evvi58CcI: Downloading android player API JSON\n",
      "[info] --Evvi58CcI: Downloading 1 format(s): 140\n",
      "[dashsegments] Total fragments: 1\n",
      "[download] Destination: /Users/cafalena/HOUSE/@Code/Practice/ai_0014_CNN_Urbansound/AudioSet/Traditional music/--Evvi58CcI_22.0-32.0.m4a\n",
      "[download] 100% of  494.99KiB in 00:00:00 at 1.09MiB/s               \n",
      "[FixupM4a] Correcting container of \"/Users/cafalena/HOUSE/@Code/Practice/ai_0014_CNN_Urbansound/AudioSet/Traditional music/--Evvi58CcI_22.0-32.0.m4a\"\n",
      "[ExtractAudio] Destination: /Users/cafalena/HOUSE/@Code/Practice/ai_0014_CNN_Urbansound/AudioSet/Traditional music/--Evvi58CcI_22.0-32.0.ogg\n"
     ]
    },
    {
     "name": "stderr",
     "output_type": "stream",
     "text": [
      "ERROR: Postprocessing: audio conversion failed: Unknown encoder 'libvorbis'\n",
      "cp: /Users/cafalena/HOUSE/@Code/Practice/ai_0014_CNN_Urbansound/AudioSet/Music/--Evvi58CcI_22.0-32.0.wav: No such file or directory\n",
      "WARNING: Post-Processor arguments given without specifying name. The arguments will be given to all post-processors\n"
     ]
    },
    {
     "name": "stdout",
     "output_type": "stream",
     "text": [
      "[youtube] Extracting URL: https://www.youtube.com/watch?v=--F4laYscYE\n",
      "[youtube] --F4laYscYE: Downloading webpage\n",
      "[youtube] --F4laYscYE: Downloading android player API JSON\n",
      "[info] --F4laYscYE: Downloading 1 format(s): 251\n",
      "[dashsegments] Total fragments: 1\n",
      "[download] Destination: /Users/cafalena/HOUSE/@Code/Practice/ai_0014_CNN_Urbansound/AudioSet/Music/--F4laYscYE_30.0-40.0.webm\n",
      "[download] 100% of    1.01MiB in 00:00:00 at 2.50MiB/s               \n",
      "[ExtractAudio] Destination: /Users/cafalena/HOUSE/@Code/Practice/ai_0014_CNN_Urbansound/AudioSet/Music/--F4laYscYE_30.0-40.0.ogg\n"
     ]
    },
    {
     "name": "stderr",
     "output_type": "stream",
     "text": [
      "ERROR: Postprocessing: audio conversion failed: Unknown encoder 'libvorbis'\n",
      "WARNING: Post-Processor arguments given without specifying name. The arguments will be given to all post-processors\n"
     ]
    },
    {
     "name": "stdout",
     "output_type": "stream",
     "text": [
      "[youtube] Extracting URL: https://www.youtube.com/watch?v=--F6xCVmhuU\n",
      "[youtube] --F6xCVmhuU: Downloading webpage\n",
      "[youtube] --F6xCVmhuU: Downloading android player API JSON\n"
     ]
    },
    {
     "name": "stderr",
     "output_type": "stream",
     "text": [
      "ERROR: [youtube] --F6xCVmhuU: Video unavailable\n",
      "WARNING: Post-Processor arguments given without specifying name. The arguments will be given to all post-processors\n"
     ]
    },
    {
     "name": "stdout",
     "output_type": "stream",
     "text": [
      "[youtube] Extracting URL: https://www.youtube.com/watch?v=--F70LWypIg\n",
      "[youtube] --F70LWypIg: Downloading webpage\n",
      "[youtube] --F70LWypIg: Downloading android player API JSON\n",
      "[info] --F70LWypIg: Downloading 1 format(s): 251\n",
      "[dashsegments] Total fragments: 1\n",
      "[download] Destination: /Users/cafalena/HOUSE/@Code/Practice/ai_0014_CNN_Urbansound/AudioSet/Music/--F70LWypIg_30.0-40.0.webm\n",
      "[download] 100% of    1.58MiB in 00:00:00 at 2.67MiB/s               \n",
      "[ExtractAudio] Destination: /Users/cafalena/HOUSE/@Code/Practice/ai_0014_CNN_Urbansound/AudioSet/Music/--F70LWypIg_30.0-40.0.ogg\n"
     ]
    },
    {
     "name": "stderr",
     "output_type": "stream",
     "text": [
      "ERROR: Postprocessing: audio conversion failed: Unknown encoder 'libvorbis'\n",
      "cp: /Users/cafalena/HOUSE/@Code/Practice/ai_0014_CNN_Urbansound/AudioSet/Accelerating, revving, vroom/--F70LWypIg_30.0-40.0.wav: No such file or directory\n",
      "cp: /Users/cafalena/HOUSE/@Code/Practice/ai_0014_CNN_Urbansound/AudioSet/Vehicle/--F70LWypIg_30.0-40.0.wav: No such file or directory\n",
      "cp: /Users/cafalena/HOUSE/@Code/Practice/ai_0014_CNN_Urbansound/AudioSet/Car/--F70LWypIg_30.0-40.0.wav: No such file or directory\n",
      "WARNING: Post-Processor arguments given without specifying name. The arguments will be given to all post-processors\n"
     ]
    },
    {
     "name": "stdout",
     "output_type": "stream",
     "text": [
      "[youtube] Extracting URL: https://www.youtube.com/watch?v=--F7pocClyA\n",
      "[youtube] --F7pocClyA: Downloading webpage\n",
      "[youtube] --F7pocClyA: Downloading android player API JSON\n",
      "[info] --F7pocClyA: Downloading 1 format(s): 251\n",
      "[dashsegments] Total fragments: 1\n",
      "[download] Destination: /Users/cafalena/HOUSE/@Code/Practice/ai_0014_CNN_Urbansound/AudioSet/Music/--F7pocClyA_30.0-40.0.webm\n",
      "[download] 100% of    2.96MiB in 00:00:00 at 4.04MiB/s               \n",
      "[ExtractAudio] Destination: /Users/cafalena/HOUSE/@Code/Practice/ai_0014_CNN_Urbansound/AudioSet/Music/--F7pocClyA_30.0-40.0.ogg\n"
     ]
    },
    {
     "name": "stderr",
     "output_type": "stream",
     "text": [
      "ERROR: Postprocessing: audio conversion failed: Unknown encoder 'libvorbis'\n",
      "WARNING: Post-Processor arguments given without specifying name. The arguments will be given to all post-processors\n"
     ]
    },
    {
     "name": "stdout",
     "output_type": "stream",
     "text": [
      "[youtube] Extracting URL: https://www.youtube.com/watch?v=--FAnSucpZY\n",
      "[youtube] --FAnSucpZY: Downloading webpage\n",
      "[youtube] --FAnSucpZY: Downloading android player API JSON\n",
      "[youtube] --FAnSucpZY: Downloading MPD manifest\n",
      "[info] --FAnSucpZY: Downloading 1 format(s): 140\n",
      "[dashsegments] Total fragments: 1\n",
      "[download] Destination: /Users/cafalena/HOUSE/@Code/Practice/ai_0014_CNN_Urbansound/AudioSet/Music/--FAnSucpZY_30.0-40.0.m4a\n",
      "[download] 100% of  976.66KiB in 00:00:00 at 2.05MiB/s               \n",
      "[FixupM4a] Correcting container of \"/Users/cafalena/HOUSE/@Code/Practice/ai_0014_CNN_Urbansound/AudioSet/Music/--FAnSucpZY_30.0-40.0.m4a\"\n",
      "[ExtractAudio] Destination: /Users/cafalena/HOUSE/@Code/Practice/ai_0014_CNN_Urbansound/AudioSet/Music/--FAnSucpZY_30.0-40.0.ogg\n"
     ]
    },
    {
     "name": "stderr",
     "output_type": "stream",
     "text": [
      "ERROR: Postprocessing: audio conversion failed: Unknown encoder 'libvorbis'\n",
      "cp: /Users/cafalena/HOUSE/@Code/Practice/ai_0014_CNN_Urbansound/AudioSet/Speech/--FAnSucpZY_30.0-40.0.wav: No such file or directory\n",
      "WARNING: Post-Processor arguments given without specifying name. The arguments will be given to all post-processors\n"
     ]
    },
    {
     "name": "stdout",
     "output_type": "stream",
     "text": [
      "[youtube] Extracting URL: https://www.youtube.com/watch?v=--FF-68rDus\n",
      "[youtube] --FF-68rDus: Downloading webpage\n",
      "[youtube] --FF-68rDus: Downloading android player API JSON\n",
      "[info] --FF-68rDus: Downloading 1 format(s): 251\n",
      "[dashsegments] Total fragments: 1\n",
      "[download] Destination: /Users/cafalena/HOUSE/@Code/Practice/ai_0014_CNN_Urbansound/AudioSet/Music/--FF-68rDus_30.0-40.0.webm\n",
      "[download] 100% of    9.86MiB in 00:00:01 at 6.57MiB/s               \n",
      "[ExtractAudio] Destination: /Users/cafalena/HOUSE/@Code/Practice/ai_0014_CNN_Urbansound/AudioSet/Music/--FF-68rDus_30.0-40.0.ogg\n"
     ]
    },
    {
     "name": "stderr",
     "output_type": "stream",
     "text": [
      "ERROR: Postprocessing: audio conversion failed: Unknown encoder 'libvorbis'\n",
      "cp: /Users/cafalena/HOUSE/@Code/Practice/ai_0014_CNN_Urbansound/AudioSet/Speech/--FF-68rDus_30.0-40.0.wav: No such file or directory\n",
      "WARNING: Post-Processor arguments given without specifying name. The arguments will be given to all post-processors\n"
     ]
    },
    {
     "name": "stdout",
     "output_type": "stream",
     "text": [
      "[youtube] Extracting URL: https://www.youtube.com/watch?v=--FFKHDWrl8\n",
      "[youtube] --FFKHDWrl8: Downloading webpage\n",
      "[youtube] --FFKHDWrl8: Downloading android player API JSON\n",
      "[youtube] --FFKHDWrl8: Downloading MPD manifest\n",
      "[info] --FFKHDWrl8: Downloading 1 format(s): 140\n",
      "[dashsegments] Total fragments: 1\n",
      "[download] Destination: /Users/cafalena/HOUSE/@Code/Practice/ai_0014_CNN_Urbansound/AudioSet/Speech/--FFKHDWrl8_30.0-40.0.m4a\n",
      "[download] 100% of  764.04KiB in 00:00:00 at 1.47MiB/s               \n",
      "[FixupM4a] Correcting container of \"/Users/cafalena/HOUSE/@Code/Practice/ai_0014_CNN_Urbansound/AudioSet/Speech/--FFKHDWrl8_30.0-40.0.m4a\"\n",
      "[ExtractAudio] Destination: /Users/cafalena/HOUSE/@Code/Practice/ai_0014_CNN_Urbansound/AudioSet/Speech/--FFKHDWrl8_30.0-40.0.ogg\n"
     ]
    },
    {
     "name": "stderr",
     "output_type": "stream",
     "text": [
      "ERROR: Postprocessing: audio conversion failed: Unknown encoder 'libvorbis'\n",
      "WARNING: Post-Processor arguments given without specifying name. The arguments will be given to all post-processors\n"
     ]
    },
    {
     "name": "stdout",
     "output_type": "stream",
     "text": [
      "[youtube] Extracting URL: https://www.youtube.com/watch?v=--FFNHexBPI\n",
      "[youtube] --FFNHexBPI: Downloading webpage\n",
      "[youtube] --FFNHexBPI: Downloading android player API JSON\n",
      "[youtube] --FFNHexBPI: Downloading MPD manifest\n",
      "[info] --FFNHexBPI: Downloading 1 format(s): 251\n",
      "[dashsegments] Total fragments: 1\n",
      "[download] Destination: /Users/cafalena/HOUSE/@Code/Practice/ai_0014_CNN_Urbansound/AudioSet/Speech/--FFNHexBPI_30.0-40.0.webm\n",
      "[download] 100% of    6.62MiB in 00:00:01 at 6.31MiB/s               \n",
      "[ExtractAudio] Destination: /Users/cafalena/HOUSE/@Code/Practice/ai_0014_CNN_Urbansound/AudioSet/Speech/--FFNHexBPI_30.0-40.0.ogg\n"
     ]
    },
    {
     "name": "stderr",
     "output_type": "stream",
     "text": [
      "ERROR: Postprocessing: audio conversion failed: Unknown encoder 'libvorbis'\n",
      "WARNING: Post-Processor arguments given without specifying name. The arguments will be given to all post-processors\n"
     ]
    },
    {
     "name": "stdout",
     "output_type": "stream",
     "text": [
      "[youtube] Extracting URL: https://www.youtube.com/watch?v=--FGZJSouKc\n",
      "[youtube] --FGZJSouKc: Downloading webpage\n",
      "[youtube] --FGZJSouKc: Downloading android player API JSON\n"
     ]
    },
    {
     "name": "stderr",
     "output_type": "stream",
     "text": [
      "ERROR: [youtube] --FGZJSouKc: Video unavailable\n",
      "WARNING: Post-Processor arguments given without specifying name. The arguments will be given to all post-processors\n"
     ]
    },
    {
     "name": "stdout",
     "output_type": "stream",
     "text": [
      "[youtube] Extracting URL: https://www.youtube.com/watch?v=--FJhcfXeow\n",
      "[youtube] --FJhcfXeow: Downloading webpage\n",
      "[youtube] --FJhcfXeow: Downloading android player API JSON\n"
     ]
    },
    {
     "name": "stderr",
     "output_type": "stream",
     "text": [
      "ERROR: [youtube] --FJhcfXeow: Video unavailable. This video is no longer available because the YouTube account associated with this video has been terminated.\n",
      "cp: /Users/cafalena/HOUSE/@Code/Practice/ai_0014_CNN_Urbansound/AudioSet/Acoustic guitar/--FJhcfXeow_30.0-40.0.wav: No such file or directory\n",
      "cp: /Users/cafalena/HOUSE/@Code/Practice/ai_0014_CNN_Urbansound/AudioSet/Music/--FJhcfXeow_30.0-40.0.wav: No such file or directory\n",
      "cp: /Users/cafalena/HOUSE/@Code/Practice/ai_0014_CNN_Urbansound/AudioSet/Musical instrument/--FJhcfXeow_30.0-40.0.wav: No such file or directory\n",
      "cp: /Users/cafalena/HOUSE/@Code/Practice/ai_0014_CNN_Urbansound/AudioSet/Plucked string instrument/--FJhcfXeow_30.0-40.0.wav: No such file or directory\n",
      "WARNING: Post-Processor arguments given without specifying name. The arguments will be given to all post-processors\n"
     ]
    },
    {
     "name": "stdout",
     "output_type": "stream",
     "text": [
      "[youtube] Extracting URL: https://www.youtube.com/watch?v=--FMnzXQLik\n",
      "[youtube] --FMnzXQLik: Downloading webpage\n",
      "[youtube] --FMnzXQLik: Downloading android player API JSON\n",
      "[info] --FMnzXQLik: Downloading 1 format(s): 251\n",
      "[dashsegments] Total fragments: 1\n",
      "[download] Destination: /Users/cafalena/HOUSE/@Code/Practice/ai_0014_CNN_Urbansound/AudioSet/Music/--FMnzXQLik_30.0-40.0.webm\n",
      "[download] 100% of    4.31MiB in 00:00:00 at 5.65MiB/s               \n",
      "[ExtractAudio] Destination: /Users/cafalena/HOUSE/@Code/Practice/ai_0014_CNN_Urbansound/AudioSet/Music/--FMnzXQLik_30.0-40.0.ogg\n"
     ]
    },
    {
     "name": "stderr",
     "output_type": "stream",
     "text": [
      "ERROR: Postprocessing: audio conversion failed: Unknown encoder 'libvorbis'\n",
      "WARNING: Post-Processor arguments given without specifying name. The arguments will be given to all post-processors\n"
     ]
    },
    {
     "name": "stdout",
     "output_type": "stream",
     "text": [
      "[youtube] Extracting URL: https://www.youtube.com/watch?v=--FNPPU2uzQ\n",
      "[youtube] --FNPPU2uzQ: Downloading webpage\n",
      "[youtube] --FNPPU2uzQ: Downloading android player API JSON\n"
     ]
    },
    {
     "name": "stderr",
     "output_type": "stream",
     "text": [
      "ERROR: [youtube] --FNPPU2uzQ: Private video. Sign in if you've been granted access to this video\n",
      "WARNING: Post-Processor arguments given without specifying name. The arguments will be given to all post-processors\n"
     ]
    },
    {
     "name": "stdout",
     "output_type": "stream",
     "text": [
      "[youtube] Extracting URL: https://www.youtube.com/watch?v=--FTU73CoUk\n",
      "[youtube] --FTU73CoUk: Downloading webpage\n",
      "[youtube] --FTU73CoUk: Downloading android player API JSON\n",
      "[info] --FTU73CoUk: Downloading 1 format(s): 251\n",
      "[dashsegments] Total fragments: 1\n",
      "[download] Destination: /Users/cafalena/HOUSE/@Code/Practice/ai_0014_CNN_Urbansound/AudioSet/Music/--FTU73CoUk_30.0-40.0.webm\n",
      "[download] 100% of    1.18MiB in 00:00:00 at 2.55MiB/s               \n",
      "[ExtractAudio] Destination: /Users/cafalena/HOUSE/@Code/Practice/ai_0014_CNN_Urbansound/AudioSet/Music/--FTU73CoUk_30.0-40.0.ogg\n"
     ]
    },
    {
     "name": "stderr",
     "output_type": "stream",
     "text": [
      "ERROR: Postprocessing: audio conversion failed: Unknown encoder 'libvorbis'\n",
      "cp: /Users/cafalena/HOUSE/@Code/Practice/ai_0014_CNN_Urbansound/AudioSet/Speech/--FTU73CoUk_30.0-40.0.wav: No such file or directory\n",
      "WARNING: Post-Processor arguments given without specifying name. The arguments will be given to all post-processors\n"
     ]
    },
    {
     "name": "stdout",
     "output_type": "stream",
     "text": [
      "[youtube] Extracting URL: https://www.youtube.com/watch?v=--FenyW2i_4\n",
      "[youtube] --FenyW2i_4: Downloading webpage\n",
      "[youtube] --FenyW2i_4: Downloading android player API JSON\n",
      "[info] --FenyW2i_4: Downloading 1 format(s): 140\n",
      "[dashsegments] Total fragments: 1\n",
      "[download] Destination: /Users/cafalena/HOUSE/@Code/Practice/ai_0014_CNN_Urbansound/AudioSet/Music/--FenyW2i_4_30.0-40.0.m4a\n",
      "[download] 100% of    3.43MiB in 00:00:01 at 2.98MiB/s               \n",
      "[FixupM4a] Correcting container of \"/Users/cafalena/HOUSE/@Code/Practice/ai_0014_CNN_Urbansound/AudioSet/Music/--FenyW2i_4_30.0-40.0.m4a\"\n",
      "[ExtractAudio] Destination: /Users/cafalena/HOUSE/@Code/Practice/ai_0014_CNN_Urbansound/AudioSet/Music/--FenyW2i_4_30.0-40.0.ogg\n"
     ]
    },
    {
     "name": "stderr",
     "output_type": "stream",
     "text": [
      "ERROR: Postprocessing: audio conversion failed: Unknown encoder 'libvorbis'\n",
      "cp: /Users/cafalena/HOUSE/@Code/Practice/ai_0014_CNN_Urbansound/AudioSet/Female singing/--FenyW2i_4_30.0-40.0.wav: No such file or directory\n",
      "WARNING: Post-Processor arguments given without specifying name. The arguments will be given to all post-processors\n"
     ]
    },
    {
     "name": "stdout",
     "output_type": "stream",
     "text": [
      "[youtube] Extracting URL: https://www.youtube.com/watch?v=--FidOvUmIc\n",
      "[youtube] --FidOvUmIc: Downloading webpage\n",
      "[youtube] --FidOvUmIc: Downloading android player API JSON\n"
     ]
    },
    {
     "name": "stderr",
     "output_type": "stream",
     "text": [
      "ERROR: [youtube] --FidOvUmIc: Video unavailable. This video is no longer available because the YouTube account associated with this video has been terminated.\n",
      "WARNING: Post-Processor arguments given without specifying name. The arguments will be given to all post-processors\n"
     ]
    },
    {
     "name": "stdout",
     "output_type": "stream",
     "text": [
      "[youtube] Extracting URL: https://www.youtube.com/watch?v=--FobqZvbgI\n",
      "[youtube] --FobqZvbgI: Downloading webpage\n",
      "[youtube] --FobqZvbgI: Downloading android player API JSON\n",
      "[info] --FobqZvbgI: Downloading 1 format(s): 251\n",
      "[dashsegments] Total fragments: 1\n",
      "[download] Destination: /Users/cafalena/HOUSE/@Code/Practice/ai_0014_CNN_Urbansound/AudioSet/Male speech, man speaking/--FobqZvbgI_30.0-40.0.webm\n",
      "[download] 100% of    4.37MiB in 00:00:00 at 4.67MiB/s               \n",
      "[ExtractAudio] Destination: /Users/cafalena/HOUSE/@Code/Practice/ai_0014_CNN_Urbansound/AudioSet/Male speech, man speaking/--FobqZvbgI_30.0-40.0.ogg\n"
     ]
    },
    {
     "name": "stderr",
     "output_type": "stream",
     "text": [
      "ERROR: Postprocessing: audio conversion failed: Unknown encoder 'libvorbis'\n",
      "cp: /Users/cafalena/HOUSE/@Code/Practice/ai_0014_CNN_Urbansound/AudioSet/Speech/--FobqZvbgI_30.0-40.0.wav: No such file or directory\n",
      "WARNING: Post-Processor arguments given without specifying name. The arguments will be given to all post-processors\n"
     ]
    },
    {
     "name": "stdout",
     "output_type": "stream",
     "text": [
      "[youtube] Extracting URL: https://www.youtube.com/watch?v=--Fti-jdXEI\n",
      "[youtube] --Fti-jdXEI: Downloading webpage\n",
      "[youtube] --Fti-jdXEI: Downloading android player API JSON\n",
      "[info] --Fti-jdXEI: Downloading 1 format(s): 251\n",
      "[dashsegments] Total fragments: 1\n",
      "[download] Destination: /Users/cafalena/HOUSE/@Code/Practice/ai_0014_CNN_Urbansound/AudioSet/Music/--Fti-jdXEI_240.0-250.0.webm\n",
      "[download] 100% of    3.96MiB in 00:00:00 at 4.46MiB/s               \n",
      "[ExtractAudio] Destination: /Users/cafalena/HOUSE/@Code/Practice/ai_0014_CNN_Urbansound/AudioSet/Music/--Fti-jdXEI_240.0-250.0.ogg\n"
     ]
    },
    {
     "name": "stderr",
     "output_type": "stream",
     "text": [
      "ERROR: Postprocessing: audio conversion failed: Unknown encoder 'libvorbis'\n",
      "cp: /Users/cafalena/HOUSE/@Code/Practice/ai_0014_CNN_Urbansound/AudioSet/Vocal music/--Fti-jdXEI_240.0-250.0.wav: No such file or directory\n",
      "WARNING: Post-Processor arguments given without specifying name. The arguments will be given to all post-processors\n"
     ]
    },
    {
     "name": "stdout",
     "output_type": "stream",
     "text": [
      "[youtube] Extracting URL: https://www.youtube.com/watch?v=--G-wKyj6JQ\n",
      "[youtube] --G-wKyj6JQ: Downloading webpage\n",
      "[youtube] --G-wKyj6JQ: Downloading android player API JSON\n",
      "[youtube] --G-wKyj6JQ: Downloading MPD manifest\n",
      "[info] --G-wKyj6JQ: Downloading 1 format(s): 251\n",
      "[dashsegments] Total fragments: 2\n",
      "[download] Destination: /Users/cafalena/HOUSE/@Code/Practice/ai_0014_CNN_Urbansound/AudioSet/Harpsichord/--G-wKyj6JQ_30.0-40.0.webm\n",
      "[download] 100% of   10.41MiB in 00:00:01 at 5.37MiB/s                  \n",
      "[ExtractAudio] Destination: /Users/cafalena/HOUSE/@Code/Practice/ai_0014_CNN_Urbansound/AudioSet/Harpsichord/--G-wKyj6JQ_30.0-40.0.ogg\n"
     ]
    },
    {
     "name": "stderr",
     "output_type": "stream",
     "text": [
      "ERROR: Postprocessing: audio conversion failed: Unknown encoder 'libvorbis'\n",
      "cp: /Users/cafalena/HOUSE/@Code/Practice/ai_0014_CNN_Urbansound/AudioSet/Music/--G-wKyj6JQ_30.0-40.0.wav: No such file or directory\n",
      "WARNING: Post-Processor arguments given without specifying name. The arguments will be given to all post-processors\n"
     ]
    },
    {
     "name": "stdout",
     "output_type": "stream",
     "text": [
      "[youtube] Extracting URL: https://www.youtube.com/watch?v=--G3Nkp8kbY\n",
      "[youtube] --G3Nkp8kbY: Downloading webpage\n",
      "[youtube] --G3Nkp8kbY: Downloading android player API JSON\n",
      "[info] --G3Nkp8kbY: Downloading 1 format(s): 140\n",
      "[dashsegments] Total fragments: 1\n",
      "[download] Destination: /Users/cafalena/HOUSE/@Code/Practice/ai_0014_CNN_Urbansound/AudioSet/Music/--G3Nkp8kbY_30.0-40.0.m4a\n",
      "[download] 100% of    4.24MiB in 00:00:00 at 6.96MiB/s               \n",
      "[FixupM4a] Correcting container of \"/Users/cafalena/HOUSE/@Code/Practice/ai_0014_CNN_Urbansound/AudioSet/Music/--G3Nkp8kbY_30.0-40.0.m4a\"\n",
      "[ExtractAudio] Destination: /Users/cafalena/HOUSE/@Code/Practice/ai_0014_CNN_Urbansound/AudioSet/Music/--G3Nkp8kbY_30.0-40.0.ogg\n"
     ]
    },
    {
     "name": "stderr",
     "output_type": "stream",
     "text": [
      "ERROR: Postprocessing: audio conversion failed: Unknown encoder 'libvorbis'\n",
      "WARNING: Post-Processor arguments given without specifying name. The arguments will be given to all post-processors\n"
     ]
    },
    {
     "name": "stdout",
     "output_type": "stream",
     "text": [
      "[youtube] Extracting URL: https://www.youtube.com/watch?v=--G9OFlSImU\n",
      "[youtube] --G9OFlSImU: Downloading webpage\n",
      "[youtube] --G9OFlSImU: Downloading android player API JSON\n"
     ]
    },
    {
     "name": "stderr",
     "output_type": "stream",
     "text": [
      "ERROR: [youtube] --G9OFlSImU: Private video. Sign in if you've been granted access to this video\n",
      "cp: /Users/cafalena/HOUSE/@Code/Practice/ai_0014_CNN_Urbansound/AudioSet/Speech/--G9OFlSImU_30.0-40.0.wav: No such file or directory\n",
      "WARNING: Post-Processor arguments given without specifying name. The arguments will be given to all post-processors\n"
     ]
    },
    {
     "name": "stdout",
     "output_type": "stream",
     "text": [
      "[youtube] Extracting URL: https://www.youtube.com/watch?v=--GD_YsX6-U\n",
      "[youtube] --GD_YsX6-U: Downloading webpage\n",
      "[youtube] --GD_YsX6-U: Downloading android player API JSON\n",
      "[info] --GD_YsX6-U: Downloading 1 format(s): 251\n",
      "[dashsegments] Total fragments: 1\n",
      "[download] Destination: /Users/cafalena/HOUSE/@Code/Practice/ai_0014_CNN_Urbansound/AudioSet/Speech/--GD_YsX6-U_21.0-31.0.webm\n",
      "[download] 100% of  357.73KiB in 00:00:00 at 836.80KiB/s             \n",
      "[ExtractAudio] Destination: /Users/cafalena/HOUSE/@Code/Practice/ai_0014_CNN_Urbansound/AudioSet/Speech/--GD_YsX6-U_21.0-31.0.ogg\n"
     ]
    },
    {
     "name": "stderr",
     "output_type": "stream",
     "text": [
      "ERROR: Postprocessing: audio conversion failed: Unknown encoder 'libvorbis'\n",
      "WARNING: Post-Processor arguments given without specifying name. The arguments will be given to all post-processors\n"
     ]
    },
    {
     "name": "stdout",
     "output_type": "stream",
     "text": [
      "[youtube] Extracting URL: https://www.youtube.com/watch?v=--GF746y6UM\n",
      "[youtube] --GF746y6UM: Downloading webpage\n",
      "[youtube] --GF746y6UM: Downloading android player API JSON\n",
      "[info] --GF746y6UM: Downloading 1 format(s): 251\n",
      "[dashsegments] Total fragments: 1\n",
      "[download] Destination: /Users/cafalena/HOUSE/@Code/Practice/ai_0014_CNN_Urbansound/AudioSet/Bass guitar/--GF746y6UM_510.0-520.0.webm\n",
      "[download] 100% of    7.58MiB in 00:00:01 at 6.69MiB/s               \n",
      "[ExtractAudio] Destination: /Users/cafalena/HOUSE/@Code/Practice/ai_0014_CNN_Urbansound/AudioSet/Bass guitar/--GF746y6UM_510.0-520.0.ogg\n"
     ]
    },
    {
     "name": "stderr",
     "output_type": "stream",
     "text": [
      "ERROR: Postprocessing: audio conversion failed: Unknown encoder 'libvorbis'\n",
      "cp: /Users/cafalena/HOUSE/@Code/Practice/ai_0014_CNN_Urbansound/AudioSet/Guitar/--GF746y6UM_510.0-520.0.wav: No such file or directory\n",
      "cp: /Users/cafalena/HOUSE/@Code/Practice/ai_0014_CNN_Urbansound/AudioSet/Music/--GF746y6UM_510.0-520.0.wav: No such file or directory\n",
      "cp: /Users/cafalena/HOUSE/@Code/Practice/ai_0014_CNN_Urbansound/AudioSet/Musical instrument/--GF746y6UM_510.0-520.0.wav: No such file or directory\n",
      "cp: /Users/cafalena/HOUSE/@Code/Practice/ai_0014_CNN_Urbansound/AudioSet/Plucked string instrument/--GF746y6UM_510.0-520.0.wav: No such file or directory\n",
      "WARNING: Post-Processor arguments given without specifying name. The arguments will be given to all post-processors\n"
     ]
    },
    {
     "name": "stdout",
     "output_type": "stream",
     "text": [
      "[youtube] Extracting URL: https://www.youtube.com/watch?v=--GGkCqBhsI\n",
      "[youtube] --GGkCqBhsI: Downloading webpage\n",
      "[youtube] --GGkCqBhsI: Downloading android player API JSON\n"
     ]
    },
    {
     "name": "stderr",
     "output_type": "stream",
     "text": [
      "ERROR: [youtube] --GGkCqBhsI: Private video. Sign in if you've been granted access to this video\n",
      "cp: /Users/cafalena/HOUSE/@Code/Practice/ai_0014_CNN_Urbansound/AudioSet/Speech/--GGkCqBhsI_8.0-18.0.wav: No such file or directory\n",
      "WARNING: Post-Processor arguments given without specifying name. The arguments will be given to all post-processors\n"
     ]
    },
    {
     "name": "stdout",
     "output_type": "stream",
     "text": [
      "[youtube] Extracting URL: https://www.youtube.com/watch?v=--GO4mUUJrE\n",
      "[youtube] --GO4mUUJrE: Downloading webpage\n",
      "[youtube] --GO4mUUJrE: Downloading android player API JSON\n",
      "[info] --GO4mUUJrE: Downloading 1 format(s): 251\n",
      "[dashsegments] Total fragments: 1\n",
      "[download] Destination: /Users/cafalena/HOUSE/@Code/Practice/ai_0014_CNN_Urbansound/AudioSet/Music/--GO4mUUJrE_21.0-31.0.webm\n",
      "[download] 100% of  428.65KiB in 00:00:00 at 896.25KiB/s             \n",
      "[ExtractAudio] Destination: /Users/cafalena/HOUSE/@Code/Practice/ai_0014_CNN_Urbansound/AudioSet/Music/--GO4mUUJrE_21.0-31.0.ogg\n"
     ]
    },
    {
     "name": "stderr",
     "output_type": "stream",
     "text": [
      "ERROR: Postprocessing: audio conversion failed: Unknown encoder 'libvorbis'\n",
      "WARNING: Post-Processor arguments given without specifying name. The arguments will be given to all post-processors\n"
     ]
    },
    {
     "name": "stdout",
     "output_type": "stream",
     "text": [
      "[youtube] Extracting URL: https://www.youtube.com/watch?v=--GV991-tmA\n",
      "[youtube] --GV991-tmA: Downloading webpage\n",
      "[youtube] --GV991-tmA: Downloading android player API JSON\n",
      "[info] --GV991-tmA: Downloading 1 format(s): 140\n",
      "[dashsegments] Total fragments: 1\n",
      "[download] Destination: /Users/cafalena/HOUSE/@Code/Practice/ai_0014_CNN_Urbansound/AudioSet/Music/--GV991-tmA_30.0-40.0.m4a\n",
      "[download] 100% of    3.55MiB in 00:00:00 at 5.01MiB/s               \n",
      "[FixupM4a] Correcting container of \"/Users/cafalena/HOUSE/@Code/Practice/ai_0014_CNN_Urbansound/AudioSet/Music/--GV991-tmA_30.0-40.0.m4a\"\n",
      "[ExtractAudio] Destination: /Users/cafalena/HOUSE/@Code/Practice/ai_0014_CNN_Urbansound/AudioSet/Music/--GV991-tmA_30.0-40.0.ogg\n"
     ]
    },
    {
     "name": "stderr",
     "output_type": "stream",
     "text": [
      "ERROR: Postprocessing: audio conversion failed: Unknown encoder 'libvorbis'\n",
      "WARNING: Post-Processor arguments given without specifying name. The arguments will be given to all post-processors\n"
     ]
    },
    {
     "name": "stdout",
     "output_type": "stream",
     "text": [
      "[youtube] Extracting URL: https://www.youtube.com/watch?v=--GVX9ZWZl4\n",
      "[youtube] --GVX9ZWZl4: Downloading webpage\n",
      "[youtube] --GVX9ZWZl4: Downloading android player API JSON\n"
     ]
    },
    {
     "name": "stderr",
     "output_type": "stream",
     "text": [
      "ERROR: [youtube] --GVX9ZWZl4: Video unavailable. This video is no longer available because the YouTube account associated with this video has been terminated.\n",
      "WARNING: Post-Processor arguments given without specifying name. The arguments will be given to all post-processors\n"
     ]
    },
    {
     "name": "stdout",
     "output_type": "stream",
     "text": [
      "[youtube] Extracting URL: https://www.youtube.com/watch?v=--GWNMlbJ3s\n",
      "[youtube] --GWNMlbJ3s: Downloading webpage\n",
      "[youtube] --GWNMlbJ3s: Downloading android player API JSON\n",
      "[youtube] --GWNMlbJ3s: Downloading MPD manifest\n",
      "[info] --GWNMlbJ3s: Downloading 1 format(s): 251\n",
      "[dashsegments] Total fragments: 1\n",
      "[download] Destination: /Users/cafalena/HOUSE/@Code/Practice/ai_0014_CNN_Urbansound/AudioSet/Heavy metal/--GWNMlbJ3s_0.0-10.0.webm\n",
      "[download] 100% of    5.19MiB in 00:00:01 at 3.69MiB/s               \n",
      "[ExtractAudio] Destination: /Users/cafalena/HOUSE/@Code/Practice/ai_0014_CNN_Urbansound/AudioSet/Heavy metal/--GWNMlbJ3s_0.0-10.0.ogg\n"
     ]
    },
    {
     "name": "stderr",
     "output_type": "stream",
     "text": [
      "ERROR: Postprocessing: audio conversion failed: Unknown encoder 'libvorbis'\n",
      "cp: /Users/cafalena/HOUSE/@Code/Practice/ai_0014_CNN_Urbansound/AudioSet/Music/--GWNMlbJ3s_0.0-10.0.wav: No such file or directory\n",
      "WARNING: Post-Processor arguments given without specifying name. The arguments will be given to all post-processors\n"
     ]
    },
    {
     "name": "stdout",
     "output_type": "stream",
     "text": [
      "[youtube] Extracting URL: https://www.youtube.com/watch?v=--GXulx19TI\n",
      "[youtube] --GXulx19TI: Downloading webpage\n",
      "[youtube] --GXulx19TI: Downloading android player API JSON\n",
      "[youtube] --GXulx19TI: Downloading MPD manifest\n",
      "[info] --GXulx19TI: Downloading 1 format(s): 251\n",
      "[dashsegments] Total fragments: 1\n",
      "[download] Destination: /Users/cafalena/HOUSE/@Code/Practice/ai_0014_CNN_Urbansound/AudioSet/Music/--GXulx19TI_80.0-90.0.webm\n",
      "[download] 100% of    3.76MiB in 00:00:00 at 4.81MiB/s               \n",
      "[ExtractAudio] Destination: /Users/cafalena/HOUSE/@Code/Practice/ai_0014_CNN_Urbansound/AudioSet/Music/--GXulx19TI_80.0-90.0.ogg\n"
     ]
    },
    {
     "name": "stderr",
     "output_type": "stream",
     "text": [
      "ERROR: Postprocessing: audio conversion failed: Unknown encoder 'libvorbis'\n",
      "cp: /Users/cafalena/HOUSE/@Code/Practice/ai_0014_CNN_Urbansound/AudioSet/Pop music/--GXulx19TI_80.0-90.0.wav: No such file or directory\n",
      "WARNING: Post-Processor arguments given without specifying name. The arguments will be given to all post-processors\n"
     ]
    },
    {
     "name": "stdout",
     "output_type": "stream",
     "text": [
      "[youtube] Extracting URL: https://www.youtube.com/watch?v=--GY4nqPqOI\n",
      "[youtube] --GY4nqPqOI: Downloading webpage\n",
      "[youtube] --GY4nqPqOI: Downloading android player API JSON\n",
      "[info] --GY4nqPqOI: Downloading 1 format(s): 251\n",
      "[dashsegments] Total fragments: 1\n",
      "[download] Destination: /Users/cafalena/HOUSE/@Code/Practice/ai_0014_CNN_Urbansound/AudioSet/Writing/--GY4nqPqOI_30.0-40.0.webm\n",
      "[download] 100% of    6.16MiB in 00:00:01 at 5.60MiB/s               \n",
      "[ExtractAudio] Destination: /Users/cafalena/HOUSE/@Code/Practice/ai_0014_CNN_Urbansound/AudioSet/Writing/--GY4nqPqOI_30.0-40.0.ogg\n"
     ]
    },
    {
     "name": "stderr",
     "output_type": "stream",
     "text": [
      "ERROR: Postprocessing: audio conversion failed: Unknown encoder 'libvorbis'\n",
      "WARNING: Post-Processor arguments given without specifying name. The arguments will be given to all post-processors\n"
     ]
    },
    {
     "name": "stdout",
     "output_type": "stream",
     "text": [
      "[youtube] Extracting URL: https://www.youtube.com/watch?v=--G_b6y5PNA\n",
      "[youtube] --G_b6y5PNA: Downloading webpage\n",
      "[youtube] --G_b6y5PNA: Downloading android player API JSON\n"
     ]
    },
    {
     "name": "stderr",
     "output_type": "stream",
     "text": [
      "ERROR: [youtube] --G_b6y5PNA: Video unavailable\n",
      "WARNING: Post-Processor arguments given without specifying name. The arguments will be given to all post-processors\n"
     ]
    },
    {
     "name": "stdout",
     "output_type": "stream",
     "text": [
      "[youtube] Extracting URL: https://www.youtube.com/watch?v=--GcThRqfjM\n",
      "[youtube] --GcThRqfjM: Downloading webpage\n",
      "[youtube] --GcThRqfjM: Downloading android player API JSON\n",
      "[youtube] --GcThRqfjM: Downloading MPD manifest\n",
      "[info] --GcThRqfjM: Downloading 1 format(s): 140\n",
      "[dashsegments] Total fragments: 1\n",
      "[download] Destination: /Users/cafalena/HOUSE/@Code/Practice/ai_0014_CNN_Urbansound/AudioSet/Music/--GcThRqfjM_30.0-40.0.m4a\n",
      "[download] 100% of    5.12MiB in 00:00:00 at 5.16MiB/s               \n",
      "[FixupM4a] Correcting container of \"/Users/cafalena/HOUSE/@Code/Practice/ai_0014_CNN_Urbansound/AudioSet/Music/--GcThRqfjM_30.0-40.0.m4a\"\n",
      "[ExtractAudio] Destination: /Users/cafalena/HOUSE/@Code/Practice/ai_0014_CNN_Urbansound/AudioSet/Music/--GcThRqfjM_30.0-40.0.ogg\n"
     ]
    },
    {
     "name": "stderr",
     "output_type": "stream",
     "text": [
      "ERROR: Postprocessing: audio conversion failed: Unknown encoder 'libvorbis'\n",
      "cp: /Users/cafalena/HOUSE/@Code/Practice/ai_0014_CNN_Urbansound/AudioSet/Female singing/--GcThRqfjM_30.0-40.0.wav: No such file or directory\n",
      "WARNING: Post-Processor arguments given without specifying name. The arguments will be given to all post-processors\n"
     ]
    },
    {
     "name": "stdout",
     "output_type": "stream",
     "text": [
      "[youtube] Extracting URL: https://www.youtube.com/watch?v=--Gh6Pr7VMM\n",
      "[youtube] --Gh6Pr7VMM: Downloading webpage\n",
      "[youtube] --Gh6Pr7VMM: Downloading android player API JSON\n",
      "[youtube] --Gh6Pr7VMM: Downloading MPD manifest\n",
      "[info] --Gh6Pr7VMM: Downloading 1 format(s): 251\n",
      "[dashsegments] Total fragments: 1\n",
      "[download] Destination: /Users/cafalena/HOUSE/@Code/Practice/ai_0014_CNN_Urbansound/AudioSet/Music/--Gh6Pr7VMM_4.0-14.0.webm\n",
      "[download] 100% of  215.81KiB in 00:00:00 at 654.52KiB/s             \n",
      "[ExtractAudio] Destination: /Users/cafalena/HOUSE/@Code/Practice/ai_0014_CNN_Urbansound/AudioSet/Music/--Gh6Pr7VMM_4.0-14.0.ogg\n"
     ]
    },
    {
     "name": "stderr",
     "output_type": "stream",
     "text": [
      "ERROR: Postprocessing: audio conversion failed: Unknown encoder 'libvorbis'\n",
      "cp: /Users/cafalena/HOUSE/@Code/Practice/ai_0014_CNN_Urbansound/AudioSet/Speech/--Gh6Pr7VMM_4.0-14.0.wav: No such file or directory\n",
      "WARNING: Post-Processor arguments given without specifying name. The arguments will be given to all post-processors\n"
     ]
    },
    {
     "name": "stdout",
     "output_type": "stream",
     "text": [
      "[youtube] Extracting URL: https://www.youtube.com/watch?v=--GhscMUci4\n",
      "[youtube] --GhscMUci4: Downloading webpage\n",
      "[youtube] --GhscMUci4: Downloading android player API JSON\n",
      "[info] --GhscMUci4: Downloading 1 format(s): 140\n",
      "[dashsegments] Total fragments: 1\n",
      "[download] Destination: /Users/cafalena/HOUSE/@Code/Practice/ai_0014_CNN_Urbansound/AudioSet/Music/--GhscMUci4_30.0-40.0.m4a\n",
      "[download] 100% of    2.22MiB in 00:00:00 at 2.93MiB/s               \n",
      "[FixupM4a] Correcting container of \"/Users/cafalena/HOUSE/@Code/Practice/ai_0014_CNN_Urbansound/AudioSet/Music/--GhscMUci4_30.0-40.0.m4a\"\n",
      "[ExtractAudio] Destination: /Users/cafalena/HOUSE/@Code/Practice/ai_0014_CNN_Urbansound/AudioSet/Music/--GhscMUci4_30.0-40.0.ogg\n"
     ]
    },
    {
     "name": "stderr",
     "output_type": "stream",
     "text": [
      "ERROR: Postprocessing: audio conversion failed: Unknown encoder 'libvorbis'\n",
      "cp: /Users/cafalena/HOUSE/@Code/Practice/ai_0014_CNN_Urbansound/AudioSet/Female singing/--GhscMUci4_30.0-40.0.wav: No such file or directory\n",
      "WARNING: Post-Processor arguments given without specifying name. The arguments will be given to all post-processors\n"
     ]
    },
    {
     "name": "stdout",
     "output_type": "stream",
     "text": [
      "[youtube] Extracting URL: https://www.youtube.com/watch?v=--GreAs6Iow\n",
      "[youtube] --GreAs6Iow: Downloading webpage\n",
      "[youtube] --GreAs6Iow: Downloading android player API JSON\n"
     ]
    },
    {
     "name": "stderr",
     "output_type": "stream",
     "text": [
      "ERROR: [youtube] --GreAs6Iow: Video unavailable\n",
      "WARNING: Post-Processor arguments given without specifying name. The arguments will be given to all post-processors\n"
     ]
    },
    {
     "name": "stdout",
     "output_type": "stream",
     "text": [
      "[youtube] Extracting URL: https://www.youtube.com/watch?v=--Gv2EI2a-U\n",
      "[youtube] --Gv2EI2a-U: Downloading webpage\n",
      "[youtube] --Gv2EI2a-U: Downloading android player API JSON\n",
      "[info] --Gv2EI2a-U: Downloading 1 format(s): 251\n",
      "[dashsegments] Total fragments: 1\n",
      "[download] Destination: /Users/cafalena/HOUSE/@Code/Practice/ai_0014_CNN_Urbansound/AudioSet/Speech/--Gv2EI2a-U_30.0-40.0.webm\n",
      "[download] 100% of  806.77KiB in 00:00:00 at 1.86MiB/s               \n",
      "[ExtractAudio] Destination: /Users/cafalena/HOUSE/@Code/Practice/ai_0014_CNN_Urbansound/AudioSet/Speech/--Gv2EI2a-U_30.0-40.0.ogg\n"
     ]
    },
    {
     "name": "stderr",
     "output_type": "stream",
     "text": [
      "ERROR: Postprocessing: audio conversion failed: Unknown encoder 'libvorbis'\n",
      "WARNING: Post-Processor arguments given without specifying name. The arguments will be given to all post-processors\n"
     ]
    },
    {
     "name": "stdout",
     "output_type": "stream",
     "text": [
      "[youtube] Extracting URL: https://www.youtube.com/watch?v=--GvdHSAsBs\n",
      "[youtube] --GvdHSAsBs: Downloading webpage\n",
      "[youtube] --GvdHSAsBs: Downloading android player API JSON\n"
     ]
    },
    {
     "name": "stderr",
     "output_type": "stream",
     "text": [
      "ERROR: [youtube] --GvdHSAsBs: Video unavailable\n",
      "WARNING: Post-Processor arguments given without specifying name. The arguments will be given to all post-processors\n"
     ]
    },
    {
     "name": "stdout",
     "output_type": "stream",
     "text": [
      "[youtube] Extracting URL: https://www.youtube.com/watch?v=--GvhCexa_E\n",
      "[youtube] --GvhCexa_E: Downloading webpage\n",
      "[youtube] --GvhCexa_E: Downloading android player API JSON\n"
     ]
    },
    {
     "name": "stderr",
     "output_type": "stream",
     "text": [
      "ERROR: [youtube] --GvhCexa_E: Video unavailable\n",
      "cp: /Users/cafalena/HOUSE/@Code/Practice/ai_0014_CNN_Urbansound/AudioSet/Acoustic guitar/--GvhCexa_E_30.0-40.0.wav: No such file or directory\n",
      "cp: /Users/cafalena/HOUSE/@Code/Practice/ai_0014_CNN_Urbansound/AudioSet/Music/--GvhCexa_E_30.0-40.0.wav: No such file or directory\n",
      "cp: /Users/cafalena/HOUSE/@Code/Practice/ai_0014_CNN_Urbansound/AudioSet/Musical instrument/--GvhCexa_E_30.0-40.0.wav: No such file or directory\n",
      "cp: /Users/cafalena/HOUSE/@Code/Practice/ai_0014_CNN_Urbansound/AudioSet/Strum/--GvhCexa_E_30.0-40.0.wav: No such file or directory\n",
      "cp: /Users/cafalena/HOUSE/@Code/Practice/ai_0014_CNN_Urbansound/AudioSet/Speech/--GvhCexa_E_30.0-40.0.wav: No such file or directory\n",
      "cp: /Users/cafalena/HOUSE/@Code/Practice/ai_0014_CNN_Urbansound/AudioSet/Plucked string instrument/--GvhCexa_E_30.0-40.0.wav: No such file or directory\n",
      "WARNING: Post-Processor arguments given without specifying name. The arguments will be given to all post-processors\n"
     ]
    },
    {
     "name": "stdout",
     "output_type": "stream",
     "text": [
      "[youtube] Extracting URL: https://www.youtube.com/watch?v=--GxVxOTDrg\n",
      "[youtube] --GxVxOTDrg: Downloading webpage\n",
      "[youtube] --GxVxOTDrg: Downloading android player API JSON\n",
      "[info] --GxVxOTDrg: Downloading 1 format(s): 251\n",
      "[dashsegments] Total fragments: 1\n",
      "[download] Destination: /Users/cafalena/HOUSE/@Code/Practice/ai_0014_CNN_Urbansound/AudioSet/Speech/--GxVxOTDrg_30.0-40.0.webm\n",
      "[download] 100% of    1.48MiB in 00:00:00 at 2.09MiB/s               \n",
      "[ExtractAudio] Destination: /Users/cafalena/HOUSE/@Code/Practice/ai_0014_CNN_Urbansound/AudioSet/Speech/--GxVxOTDrg_30.0-40.0.ogg\n"
     ]
    },
    {
     "name": "stderr",
     "output_type": "stream",
     "text": [
      "ERROR: Postprocessing: audio conversion failed: Unknown encoder 'libvorbis'\n",
      "WARNING: Post-Processor arguments given without specifying name. The arguments will be given to all post-processors\n"
     ]
    },
    {
     "name": "stdout",
     "output_type": "stream",
     "text": [
      "[youtube] Extracting URL: https://www.youtube.com/watch?v=--Gy6Dsgf1A\n",
      "[youtube] --Gy6Dsgf1A: Downloading webpage\n",
      "[youtube] --Gy6Dsgf1A: Downloading android player API JSON\n",
      "[info] --Gy6Dsgf1A: Downloading 1 format(s): 251\n",
      "[dashsegments] Total fragments: 1\n",
      "[download] Destination: /Users/cafalena/HOUSE/@Code/Practice/ai_0014_CNN_Urbansound/AudioSet/Speech/--Gy6Dsgf1A_30.0-40.0.webm\n",
      "[download] 100% of  604.60KiB in 00:00:00 at 1.67MiB/s               \n",
      "[ExtractAudio] Destination: /Users/cafalena/HOUSE/@Code/Practice/ai_0014_CNN_Urbansound/AudioSet/Speech/--Gy6Dsgf1A_30.0-40.0.ogg\n"
     ]
    },
    {
     "name": "stderr",
     "output_type": "stream",
     "text": [
      "ERROR: Postprocessing: audio conversion failed: Unknown encoder 'libvorbis'\n",
      "cp: /Users/cafalena/HOUSE/@Code/Practice/ai_0014_CNN_Urbansound/AudioSet/Stream/--Gy6Dsgf1A_30.0-40.0.wav: No such file or directory\n",
      "WARNING: Post-Processor arguments given without specifying name. The arguments will be given to all post-processors\n"
     ]
    },
    {
     "name": "stdout",
     "output_type": "stream",
     "text": [
      "[youtube] Extracting URL: https://www.youtube.com/watch?v=--GyJoJ02e0\n",
      "[youtube] --GyJoJ02e0: Downloading webpage\n",
      "[youtube] --GyJoJ02e0: Downloading android player API JSON\n",
      "[info] --GyJoJ02e0: Downloading 1 format(s): 251\n",
      "[dashsegments] Total fragments: 1\n",
      "[download] Destination: /Users/cafalena/HOUSE/@Code/Practice/ai_0014_CNN_Urbansound/AudioSet/Music/--GyJoJ02e0_30.0-40.0.webm\n",
      "[download] 100% of    3.97MiB in 00:00:00 at 4.84MiB/s               \n",
      "[ExtractAudio] Destination: /Users/cafalena/HOUSE/@Code/Practice/ai_0014_CNN_Urbansound/AudioSet/Music/--GyJoJ02e0_30.0-40.0.ogg\n"
     ]
    },
    {
     "name": "stderr",
     "output_type": "stream",
     "text": [
      "ERROR: Postprocessing: audio conversion failed: Unknown encoder 'libvorbis'\n",
      "WARNING: Post-Processor arguments given without specifying name. The arguments will be given to all post-processors\n"
     ]
    },
    {
     "name": "stdout",
     "output_type": "stream",
     "text": [
      "[youtube] Extracting URL: https://www.youtube.com/watch?v=--H-b04fBAQ\n",
      "[youtube] --H-b04fBAQ: Downloading webpage\n",
      "[youtube] --H-b04fBAQ: Downloading android player API JSON\n",
      "[info] --H-b04fBAQ: Downloading 1 format(s): 251\n",
      "[dashsegments] Total fragments: 1\n",
      "[download] Destination: /Users/cafalena/HOUSE/@Code/Practice/ai_0014_CNN_Urbansound/AudioSet/Guitar/--H-b04fBAQ_30.0-40.0.webm\n",
      "[download] 100% of    1.78MiB in 00:00:00 at 3.10MiB/s               \n",
      "[ExtractAudio] Destination: /Users/cafalena/HOUSE/@Code/Practice/ai_0014_CNN_Urbansound/AudioSet/Guitar/--H-b04fBAQ_30.0-40.0.ogg\n"
     ]
    },
    {
     "name": "stderr",
     "output_type": "stream",
     "text": [
      "ERROR: Postprocessing: audio conversion failed: Unknown encoder 'libvorbis'\n",
      "cp: /Users/cafalena/HOUSE/@Code/Practice/ai_0014_CNN_Urbansound/AudioSet/Acoustic guitar/--H-b04fBAQ_30.0-40.0.wav: No such file or directory\n",
      "cp: /Users/cafalena/HOUSE/@Code/Practice/ai_0014_CNN_Urbansound/AudioSet/Music/--H-b04fBAQ_30.0-40.0.wav: No such file or directory\n",
      "cp: /Users/cafalena/HOUSE/@Code/Practice/ai_0014_CNN_Urbansound/AudioSet/Musical instrument/--H-b04fBAQ_30.0-40.0.wav: No such file or directory\n",
      "cp: /Users/cafalena/HOUSE/@Code/Practice/ai_0014_CNN_Urbansound/AudioSet/Plucked string instrument/--H-b04fBAQ_30.0-40.0.wav: No such file or directory\n",
      "WARNING: Post-Processor arguments given without specifying name. The arguments will be given to all post-processors\n"
     ]
    },
    {
     "name": "stdout",
     "output_type": "stream",
     "text": [
      "[youtube] Extracting URL: https://www.youtube.com/watch?v=--HG_OhVeV4\n",
      "[youtube] --HG_OhVeV4: Downloading webpage\n",
      "[youtube] --HG_OhVeV4: Downloading android player API JSON\n",
      "[info] --HG_OhVeV4: Downloading 1 format(s): 251\n",
      "[dashsegments] Total fragments: 1\n",
      "[download] Destination: /Users/cafalena/HOUSE/@Code/Practice/ai_0014_CNN_Urbansound/AudioSet/Bird/--HG_OhVeV4_30.0-40.0.webm\n",
      "[download] 100% of  812.49KiB in 00:00:00 at 1.87MiB/s               \n",
      "[ExtractAudio] Destination: /Users/cafalena/HOUSE/@Code/Practice/ai_0014_CNN_Urbansound/AudioSet/Bird/--HG_OhVeV4_30.0-40.0.ogg\n"
     ]
    },
    {
     "name": "stderr",
     "output_type": "stream",
     "text": [
      "ERROR: Postprocessing: audio conversion failed: Unknown encoder 'libvorbis'\n",
      "cp: /Users/cafalena/HOUSE/@Code/Practice/ai_0014_CNN_Urbansound/AudioSet/Speech/--HG_OhVeV4_30.0-40.0.wav: No such file or directory\n",
      "WARNING: Post-Processor arguments given without specifying name. The arguments will be given to all post-processors\n"
     ]
    },
    {
     "name": "stdout",
     "output_type": "stream",
     "text": [
      "[youtube] Extracting URL: https://www.youtube.com/watch?v=--HP_b6NfZ4\n",
      "[youtube] --HP_b6NfZ4: Downloading webpage\n",
      "[youtube] --HP_b6NfZ4: Downloading android player API JSON\n",
      "[info] --HP_b6NfZ4: Downloading 1 format(s): 251\n",
      "[dashsegments] Total fragments: 1\n",
      "[download] Destination: /Users/cafalena/HOUSE/@Code/Practice/ai_0014_CNN_Urbansound/AudioSet/Music/--HP_b6NfZ4_30.0-40.0.webm\n",
      "[download] 100% of  649.02KiB in 00:00:00 at 1.43MiB/s               \n",
      "[ExtractAudio] Destination: /Users/cafalena/HOUSE/@Code/Practice/ai_0014_CNN_Urbansound/AudioSet/Music/--HP_b6NfZ4_30.0-40.0.ogg\n"
     ]
    },
    {
     "name": "stderr",
     "output_type": "stream",
     "text": [
      "ERROR: Postprocessing: audio conversion failed: Unknown encoder 'libvorbis'\n",
      "cp: /Users/cafalena/HOUSE/@Code/Practice/ai_0014_CNN_Urbansound/AudioSet/Sound effect/--HP_b6NfZ4_30.0-40.0.wav: No such file or directory\n",
      "WARNING: Post-Processor arguments given without specifying name. The arguments will be given to all post-processors\n"
     ]
    },
    {
     "name": "stdout",
     "output_type": "stream",
     "text": [
      "[youtube] Extracting URL: https://www.youtube.com/watch?v=--HSUhku6tM\n",
      "[youtube] --HSUhku6tM: Downloading webpage\n",
      "[youtube] --HSUhku6tM: Downloading android player API JSON\n",
      "[info] --HSUhku6tM: Downloading 1 format(s): 251\n",
      "[dashsegments] Total fragments: 1\n",
      "[download] Destination: /Users/cafalena/HOUSE/@Code/Practice/ai_0014_CNN_Urbansound/AudioSet/Speech/--HSUhku6tM_30.0-40.0.webm\n",
      "[download] 100% of    2.42MiB in 00:00:00 at 3.11MiB/s               \n",
      "[ExtractAudio] Destination: /Users/cafalena/HOUSE/@Code/Practice/ai_0014_CNN_Urbansound/AudioSet/Speech/--HSUhku6tM_30.0-40.0.ogg\n"
     ]
    },
    {
     "name": "stderr",
     "output_type": "stream",
     "text": [
      "ERROR: Postprocessing: audio conversion failed: Unknown encoder 'libvorbis'\n",
      "WARNING: Post-Processor arguments given without specifying name. The arguments will be given to all post-processors\n"
     ]
    },
    {
     "name": "stdout",
     "output_type": "stream",
     "text": [
      "[youtube] Extracting URL: https://www.youtube.com/watch?v=--HShRCbTJI\n",
      "[youtube] --HShRCbTJI: Downloading webpage\n",
      "[youtube] --HShRCbTJI: Downloading android player API JSON\n",
      "[info] --HShRCbTJI: Downloading 1 format(s): 251\n",
      "[dashsegments] Total fragments: 1\n",
      "[download] Destination: /Users/cafalena/HOUSE/@Code/Practice/ai_0014_CNN_Urbansound/AudioSet/Music/--HShRCbTJI_30.0-40.0.webm\n",
      "[download] 100% of    1.56MiB in 00:00:00 at 2.11MiB/s               \n",
      "[ExtractAudio] Destination: /Users/cafalena/HOUSE/@Code/Practice/ai_0014_CNN_Urbansound/AudioSet/Music/--HShRCbTJI_30.0-40.0.ogg\n"
     ]
    },
    {
     "name": "stderr",
     "output_type": "stream",
     "text": [
      "ERROR: Postprocessing: audio conversion failed: Unknown encoder 'libvorbis'\n",
      "WARNING: Post-Processor arguments given without specifying name. The arguments will be given to all post-processors\n"
     ]
    },
    {
     "name": "stdout",
     "output_type": "stream",
     "text": [
      "[youtube] Extracting URL: https://www.youtube.com/watch?v=--HXYSM3ydo\n",
      "[youtube] --HXYSM3ydo: Downloading webpage\n",
      "[youtube] --HXYSM3ydo: Downloading android player API JSON\n",
      "[info] --HXYSM3ydo: Downloading 1 format(s): 251\n",
      "[dashsegments] Total fragments: 1\n",
      "[download] Destination: /Users/cafalena/HOUSE/@Code/Practice/ai_0014_CNN_Urbansound/AudioSet/Vehicle horn, car horn, honking/--HXYSM3ydo_2.0-12.0.webm\n",
      "[download] 100% of  148.89KiB in 00:00:00 at 215.39KiB/s             \n",
      "[ExtractAudio] Destination: /Users/cafalena/HOUSE/@Code/Practice/ai_0014_CNN_Urbansound/AudioSet/Vehicle horn, car horn, honking/--HXYSM3ydo_2.0-12.0.ogg\n"
     ]
    },
    {
     "name": "stderr",
     "output_type": "stream",
     "text": [
      "ERROR: Postprocessing: audio conversion failed: Unknown encoder 'libvorbis'\n",
      "cp: /Users/cafalena/HOUSE/@Code/Practice/ai_0014_CNN_Urbansound/AudioSet/Speech/--HXYSM3ydo_2.0-12.0.wav: No such file or directory\n",
      "WARNING: Post-Processor arguments given without specifying name. The arguments will be given to all post-processors\n"
     ]
    },
    {
     "name": "stdout",
     "output_type": "stream",
     "text": [
      "[youtube] Extracting URL: https://www.youtube.com/watch?v=--HZ0BhNg4Y\n",
      "[youtube] --HZ0BhNg4Y: Downloading webpage\n",
      "[youtube] --HZ0BhNg4Y: Downloading android player API JSON\n",
      "[info] --HZ0BhNg4Y: Downloading 1 format(s): 251\n",
      "[dashsegments] Total fragments: 1\n",
      "[download] Destination: /Users/cafalena/HOUSE/@Code/Practice/ai_0014_CNN_Urbansound/AudioSet/Speech/--HZ0BhNg4Y_30.0-40.0.webm\n",
      "[download] 100% of    2.16MiB in 00:00:00 at 3.13MiB/s               \n",
      "[ExtractAudio] Destination: /Users/cafalena/HOUSE/@Code/Practice/ai_0014_CNN_Urbansound/AudioSet/Speech/--HZ0BhNg4Y_30.0-40.0.ogg\n"
     ]
    },
    {
     "name": "stderr",
     "output_type": "stream",
     "text": [
      "ERROR: Postprocessing: audio conversion failed: Unknown encoder 'libvorbis'\n",
      "WARNING: Post-Processor arguments given without specifying name. The arguments will be given to all post-processors\n"
     ]
    },
    {
     "name": "stdout",
     "output_type": "stream",
     "text": [
      "[youtube] Extracting URL: https://www.youtube.com/watch?v=--H_-CEB2wA\n",
      "[youtube] --H_-CEB2wA: Downloading webpage\n",
      "[youtube] --H_-CEB2wA: Downloading android player API JSON\n"
     ]
    },
    {
     "name": "stderr",
     "output_type": "stream",
     "text": [
      "ERROR: [youtube] --H_-CEB2wA: Video unavailable\n",
      "cp: /Users/cafalena/HOUSE/@Code/Practice/ai_0014_CNN_Urbansound/AudioSet/Rail transport/--H_-CEB2wA_30.0-40.0.wav: No such file or directory\n",
      "cp: /Users/cafalena/HOUSE/@Code/Practice/ai_0014_CNN_Urbansound/AudioSet/Train/--H_-CEB2wA_30.0-40.0.wav: No such file or directory\n",
      "cp: /Users/cafalena/HOUSE/@Code/Practice/ai_0014_CNN_Urbansound/AudioSet/Clickety-clack/--H_-CEB2wA_30.0-40.0.wav: No such file or directory\n",
      "WARNING: Post-Processor arguments given without specifying name. The arguments will be given to all post-processors\n"
     ]
    },
    {
     "name": "stdout",
     "output_type": "stream",
     "text": [
      "[youtube] Extracting URL: https://www.youtube.com/watch?v=--HiqZbHZUE\n",
      "[youtube] --HiqZbHZUE: Downloading webpage\n",
      "[youtube] --HiqZbHZUE: Downloading android player API JSON\n",
      "[info] --HiqZbHZUE: Downloading 1 format(s): 251\n",
      "[dashsegments] Total fragments: 4\n",
      "[download] Destination: /Users/cafalena/HOUSE/@Code/Practice/ai_0014_CNN_Urbansound/AudioSet/Run/--HiqZbHZUE_30.0-40.0.webm\n",
      "[download] 100% of   39.95MiB in 00:00:06 at 5.77MiB/s                  \n",
      "[ExtractAudio] Destination: /Users/cafalena/HOUSE/@Code/Practice/ai_0014_CNN_Urbansound/AudioSet/Run/--HiqZbHZUE_30.0-40.0.ogg\n"
     ]
    },
    {
     "name": "stderr",
     "output_type": "stream",
     "text": [
      "ERROR: Postprocessing: audio conversion failed: Unknown encoder 'libvorbis'\n",
      "WARNING: Post-Processor arguments given without specifying name. The arguments will be given to all post-processors\n"
     ]
    },
    {
     "name": "stdout",
     "output_type": "stream",
     "text": [
      "[youtube] Extracting URL: https://www.youtube.com/watch?v=--HkAwoDQlg\n",
      "[youtube] --HkAwoDQlg: Downloading webpage\n"
     ]
    }
   ],
   "source": [
    "from audioset_download import Downloader\n",
    "\n",
    "d = Downloader(root_path='/Users/cafalena/HOUSE/@Code/Practice/ai_0014_CNN_Urbansound/AudioSet')\n",
    "d.download()\n"
   ]
  }
 ],
 "metadata": {
  "kernelspec": {
   "display_name": "torchenv",
   "language": "python",
   "name": "python3"
  },
  "language_info": {
   "codemirror_mode": {
    "name": "ipython",
    "version": 3
   },
   "file_extension": ".py",
   "mimetype": "text/x-python",
   "name": "python",
   "nbconvert_exporter": "python",
   "pygments_lexer": "ipython3",
   "version": "3.8.16"
  },
  "orig_nbformat": 4
 },
 "nbformat": 4,
 "nbformat_minor": 2
}
