{
 "cells": [
  {
   "cell_type": "code",
   "execution_count": 3,
   "metadata": {},
   "outputs": [
    {
     "data": {
      "text/plain": [
       "['Bell Ring.gif',\n",
       " 'Car Horn.gif',\n",
       " 'Dog Bark.gif',\n",
       " 'Door Nock.gif',\n",
       " 'drilling.gif',\n",
       " 'Glass Shatter.gif',\n",
       " 'siren.gif']"
      ]
     },
     "execution_count": 3,
     "metadata": {},
     "output_type": "execute_result"
    }
   ],
   "source": [
    "from PIL import Image, ImageSequence\n",
    "import os\n",
    "\n",
    "# Define path for resized images\n",
    "resized_path = \"re\"\n",
    "image_path = 'GIF'\n",
    "extracted_files = os.listdir(image_path)\n",
    "\n",
    "# Filter out AppleDouble files and any other unwanted files\n",
    "extracted_files = [file for file in extracted_files if not file.startswith('._') and file.endswith('.gif')]\n",
    "\n",
    "os.makedirs(resized_path, exist_ok=True)\n",
    "\n",
    "# Resize gif images\n",
    "for file in extracted_files:\n",
    "    with Image.open(os.path.join(image_path, file)) as img:\n",
    "        frames = [frame.copy() for frame in ImageSequence.Iterator(img)]\n",
    "        # Resize each frame\n",
    "        resized_frames = [frame.resize((480, 300)) for frame in frames]\n",
    "        # Save the resized frames as a new gif\n",
    "        resized_frames[0].save(os.path.join(resized_path, file), save_all=True, append_images=resized_frames[1:], loop=img.info['loop'], duration=img.info['duration'])\n",
    "\n",
    "# List the resized images\n",
    "resized_files = os.listdir(resized_path)\n",
    "resized_files\n"
   ]
  }
 ],
 "metadata": {
  "kernelspec": {
   "display_name": "torchenv",
   "language": "python",
   "name": "python3"
  },
  "language_info": {
   "codemirror_mode": {
    "name": "ipython",
    "version": 3
   },
   "file_extension": ".py",
   "mimetype": "text/x-python",
   "name": "python",
   "nbconvert_exporter": "python",
   "pygments_lexer": "ipython3",
   "version": "3.8.17"
  },
  "orig_nbformat": 4
 },
 "nbformat": 4,
 "nbformat_minor": 2
}
